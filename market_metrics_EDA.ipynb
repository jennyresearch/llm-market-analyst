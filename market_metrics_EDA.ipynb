{
 "cells": [
  {
   "cell_type": "markdown",
   "id": "369adf1d",
   "metadata": {},
   "source": [
    "## Finance Data EDA"
   ]
  },
  {
   "cell_type": "code",
   "execution_count": 1,
   "id": "b600f1c8",
   "metadata": {},
   "outputs": [],
   "source": [
    "import yfinance as yf\n",
    "import pandas as pd\n",
    "from datetime import date, timedelta\n",
    "import pandas as pd\n",
    "import matplotlib.pyplot as plt\n",
    "from datetime import date, timedelta\n",
    "import numpy as np\n",
    "import plotly.express as px\n"
   ]
  },
  {
   "cell_type": "code",
   "execution_count": 40,
   "id": "29555d70",
   "metadata": {},
   "outputs": [],
   "source": [
    "def get_stock_price(ticker: str):\n",
    "    ticker_obj = yf.Ticker(ticker)\n",
    "    info = ticker_obj.info\n",
    "    price = info.get(\"currentPrice\") or info.get(\"regularMarketPrice\")\n",
    "    currency = info.get(\"currency\", \"\")\n",
    "    return price, currency\n",
    "\n",
    "def historical_prices(ticker: str):\n",
    "    df = yf.download(ticker, period=\"2y\", interval=\"1d\")\n",
    "    df.reset_index(inplace=True)\n",
    "    # convert from multi-index to single index\n",
    "    df.columns = [' '.join(col).strip() for col in df.columns.values]\n",
    "    # round float values to 2 digits\n",
    "    df = df.round(2)\n",
    "    \n",
    "\n",
    "    return df"
   ]
  },
  {
   "cell_type": "code",
   "execution_count": null,
   "id": "3787d4c5",
   "metadata": {},
   "outputs": [],
   "source": []
  },
  {
   "cell_type": "code",
   "execution_count": 41,
   "id": "cc1d6865",
   "metadata": {},
   "outputs": [
    {
     "name": "stderr",
     "output_type": "stream",
     "text": [
      "/var/folders/vw/g3z5zv0x57j2tvdkn1nrdrxr0000gn/T/ipykernel_1921/2352154978.py:9: FutureWarning:\n",
      "\n",
      "YF.download() has changed argument auto_adjust default to True\n",
      "\n",
      "[*********************100%***********************]  1 of 1 completed\n"
     ]
    }
   ],
   "source": [
    "ticker = \"AAPL\"\n",
    "curent_price, currency = get_stock_price(ticker)\n",
    "price_history = historical_prices(ticker)"
   ]
  },
  {
   "cell_type": "code",
   "execution_count": 42,
   "id": "0e6c3ff7",
   "metadata": {},
   "outputs": [
    {
     "data": {
      "text/html": [
       "<div>\n",
       "<style scoped>\n",
       "    .dataframe tbody tr th:only-of-type {\n",
       "        vertical-align: middle;\n",
       "    }\n",
       "\n",
       "    .dataframe tbody tr th {\n",
       "        vertical-align: top;\n",
       "    }\n",
       "\n",
       "    .dataframe thead th {\n",
       "        text-align: right;\n",
       "    }\n",
       "</style>\n",
       "<table border=\"1\" class=\"dataframe\">\n",
       "  <thead>\n",
       "    <tr style=\"text-align: right;\">\n",
       "      <th></th>\n",
       "      <th>Date</th>\n",
       "      <th>Close AAPL</th>\n",
       "      <th>High AAPL</th>\n",
       "      <th>Low AAPL</th>\n",
       "      <th>Open AAPL</th>\n",
       "      <th>Volume AAPL</th>\n",
       "    </tr>\n",
       "  </thead>\n",
       "  <tbody>\n",
       "    <tr>\n",
       "      <th>500</th>\n",
       "      <td>2025-07-22</td>\n",
       "      <td>214.40</td>\n",
       "      <td>214.65</td>\n",
       "      <td>212.23</td>\n",
       "      <td>213.24</td>\n",
       "      <td>44917713</td>\n",
       "    </tr>\n",
       "    <tr>\n",
       "      <th>499</th>\n",
       "      <td>2025-07-21</td>\n",
       "      <td>212.48</td>\n",
       "      <td>215.78</td>\n",
       "      <td>211.63</td>\n",
       "      <td>212.10</td>\n",
       "      <td>51377400</td>\n",
       "    </tr>\n",
       "    <tr>\n",
       "      <th>498</th>\n",
       "      <td>2025-07-18</td>\n",
       "      <td>211.18</td>\n",
       "      <td>211.79</td>\n",
       "      <td>209.70</td>\n",
       "      <td>210.87</td>\n",
       "      <td>48974600</td>\n",
       "    </tr>\n",
       "    <tr>\n",
       "      <th>497</th>\n",
       "      <td>2025-07-17</td>\n",
       "      <td>210.02</td>\n",
       "      <td>211.80</td>\n",
       "      <td>209.59</td>\n",
       "      <td>210.57</td>\n",
       "      <td>48068100</td>\n",
       "    </tr>\n",
       "    <tr>\n",
       "      <th>496</th>\n",
       "      <td>2025-07-16</td>\n",
       "      <td>210.16</td>\n",
       "      <td>212.40</td>\n",
       "      <td>208.64</td>\n",
       "      <td>210.30</td>\n",
       "      <td>47490500</td>\n",
       "    </tr>\n",
       "    <tr>\n",
       "      <th>...</th>\n",
       "      <td>...</td>\n",
       "      <td>...</td>\n",
       "      <td>...</td>\n",
       "      <td>...</td>\n",
       "      <td>...</td>\n",
       "      <td>...</td>\n",
       "    </tr>\n",
       "    <tr>\n",
       "      <th>4</th>\n",
       "      <td>2023-07-28</td>\n",
       "      <td>193.89</td>\n",
       "      <td>194.68</td>\n",
       "      <td>192.22</td>\n",
       "      <td>192.74</td>\n",
       "      <td>48291400</td>\n",
       "    </tr>\n",
       "    <tr>\n",
       "      <th>3</th>\n",
       "      <td>2023-07-27</td>\n",
       "      <td>191.30</td>\n",
       "      <td>195.25</td>\n",
       "      <td>190.64</td>\n",
       "      <td>194.08</td>\n",
       "      <td>47460200</td>\n",
       "    </tr>\n",
       "    <tr>\n",
       "      <th>2</th>\n",
       "      <td>2023-07-26</td>\n",
       "      <td>192.57</td>\n",
       "      <td>193.70</td>\n",
       "      <td>191.40</td>\n",
       "      <td>191.75</td>\n",
       "      <td>47471900</td>\n",
       "    </tr>\n",
       "    <tr>\n",
       "      <th>1</th>\n",
       "      <td>2023-07-25</td>\n",
       "      <td>191.70</td>\n",
       "      <td>192.51</td>\n",
       "      <td>191.01</td>\n",
       "      <td>191.41</td>\n",
       "      <td>37283200</td>\n",
       "    </tr>\n",
       "    <tr>\n",
       "      <th>0</th>\n",
       "      <td>2023-07-24</td>\n",
       "      <td>190.84</td>\n",
       "      <td>192.98</td>\n",
       "      <td>190.34</td>\n",
       "      <td>191.49</td>\n",
       "      <td>45377800</td>\n",
       "    </tr>\n",
       "  </tbody>\n",
       "</table>\n",
       "<p>501 rows × 6 columns</p>\n",
       "</div>"
      ],
      "text/plain": [
       "          Date  Close AAPL  High AAPL  Low AAPL  Open AAPL  Volume AAPL\n",
       "500 2025-07-22      214.40     214.65    212.23     213.24     44917713\n",
       "499 2025-07-21      212.48     215.78    211.63     212.10     51377400\n",
       "498 2025-07-18      211.18     211.79    209.70     210.87     48974600\n",
       "497 2025-07-17      210.02     211.80    209.59     210.57     48068100\n",
       "496 2025-07-16      210.16     212.40    208.64     210.30     47490500\n",
       "..         ...         ...        ...       ...        ...          ...\n",
       "4   2023-07-28      193.89     194.68    192.22     192.74     48291400\n",
       "3   2023-07-27      191.30     195.25    190.64     194.08     47460200\n",
       "2   2023-07-26      192.57     193.70    191.40     191.75     47471900\n",
       "1   2023-07-25      191.70     192.51    191.01     191.41     37283200\n",
       "0   2023-07-24      190.84     192.98    190.34     191.49     45377800\n",
       "\n",
       "[501 rows x 6 columns]"
      ]
     },
     "execution_count": 42,
     "metadata": {},
     "output_type": "execute_result"
    }
   ],
   "source": [
    "# Date descending order \n",
    "price_history = price_history.sort_values(by='Date', ascending=False)\n",
    "price_history"
   ]
  },
  {
   "cell_type": "markdown",
   "id": "d42014ae",
   "metadata": {},
   "source": []
  },
  {
   "cell_type": "code",
   "execution_count": 64,
   "id": "1f667962",
   "metadata": {},
   "outputs": [
    {
     "data": {
      "application/vnd.plotly.v1+json": {
       "config": {
        "plotlyServerURL": "https://plot.ly"
       },
       "data": [
        {
         "hovertemplate": "Date=%{x}<br>Close AAPL=%{y}<extra></extra>",
         "legendgroup": "",
         "line": {
          "color": "#636efa",
          "dash": "solid"
         },
         "marker": {
          "symbol": "circle"
         },
         "mode": "lines",
         "name": "",
         "orientation": "v",
         "showlegend": false,
         "type": "scatter",
         "x": [
          "2025-07-22T00:00:00",
          "2025-07-21T00:00:00",
          "2025-07-18T00:00:00",
          "2025-07-17T00:00:00",
          "2025-07-16T00:00:00",
          "2025-07-15T00:00:00",
          "2025-07-14T00:00:00",
          "2025-07-11T00:00:00",
          "2025-07-10T00:00:00",
          "2025-07-09T00:00:00",
          "2025-07-08T00:00:00",
          "2025-07-07T00:00:00",
          "2025-07-03T00:00:00",
          "2025-07-02T00:00:00",
          "2025-07-01T00:00:00",
          "2025-06-30T00:00:00",
          "2025-06-27T00:00:00",
          "2025-06-26T00:00:00",
          "2025-06-25T00:00:00",
          "2025-06-24T00:00:00",
          "2025-06-23T00:00:00",
          "2025-06-20T00:00:00",
          "2025-06-18T00:00:00",
          "2025-06-17T00:00:00",
          "2025-06-16T00:00:00",
          "2025-06-13T00:00:00",
          "2025-06-12T00:00:00",
          "2025-06-11T00:00:00",
          "2025-06-10T00:00:00",
          "2025-06-09T00:00:00",
          "2025-06-06T00:00:00",
          "2025-06-05T00:00:00",
          "2025-06-04T00:00:00",
          "2025-06-03T00:00:00",
          "2025-06-02T00:00:00",
          "2025-05-30T00:00:00",
          "2025-05-29T00:00:00",
          "2025-05-28T00:00:00",
          "2025-05-27T00:00:00",
          "2025-05-23T00:00:00",
          "2025-05-22T00:00:00",
          "2025-05-21T00:00:00",
          "2025-05-20T00:00:00",
          "2025-05-19T00:00:00",
          "2025-05-16T00:00:00",
          "2025-05-15T00:00:00",
          "2025-05-14T00:00:00",
          "2025-05-13T00:00:00",
          "2025-05-12T00:00:00",
          "2025-05-09T00:00:00",
          "2025-05-08T00:00:00",
          "2025-05-07T00:00:00",
          "2025-05-06T00:00:00",
          "2025-05-05T00:00:00",
          "2025-05-02T00:00:00",
          "2025-05-01T00:00:00",
          "2025-04-30T00:00:00",
          "2025-04-29T00:00:00",
          "2025-04-28T00:00:00",
          "2025-04-25T00:00:00",
          "2025-04-24T00:00:00",
          "2025-04-23T00:00:00",
          "2025-04-22T00:00:00",
          "2025-04-21T00:00:00",
          "2025-04-17T00:00:00",
          "2025-04-16T00:00:00",
          "2025-04-15T00:00:00",
          "2025-04-14T00:00:00",
          "2025-04-11T00:00:00",
          "2025-04-10T00:00:00",
          "2025-04-09T00:00:00",
          "2025-04-08T00:00:00",
          "2025-04-07T00:00:00",
          "2025-04-04T00:00:00",
          "2025-04-03T00:00:00",
          "2025-04-02T00:00:00",
          "2025-04-01T00:00:00",
          "2025-03-31T00:00:00",
          "2025-03-28T00:00:00",
          "2025-03-27T00:00:00",
          "2025-03-26T00:00:00",
          "2025-03-25T00:00:00",
          "2025-03-24T00:00:00",
          "2025-03-21T00:00:00",
          "2025-03-20T00:00:00",
          "2025-03-19T00:00:00",
          "2025-03-18T00:00:00",
          "2025-03-17T00:00:00",
          "2025-03-14T00:00:00",
          "2025-03-13T00:00:00",
          "2025-03-12T00:00:00",
          "2025-03-11T00:00:00",
          "2025-03-10T00:00:00",
          "2025-03-07T00:00:00",
          "2025-03-06T00:00:00",
          "2025-03-05T00:00:00",
          "2025-03-04T00:00:00",
          "2025-03-03T00:00:00",
          "2025-02-28T00:00:00",
          "2025-02-27T00:00:00",
          "2025-02-26T00:00:00",
          "2025-02-25T00:00:00",
          "2025-02-24T00:00:00",
          "2025-02-21T00:00:00",
          "2025-02-20T00:00:00",
          "2025-02-19T00:00:00",
          "2025-02-18T00:00:00",
          "2025-02-14T00:00:00",
          "2025-02-13T00:00:00",
          "2025-02-12T00:00:00",
          "2025-02-11T00:00:00",
          "2025-02-10T00:00:00",
          "2025-02-07T00:00:00",
          "2025-02-06T00:00:00",
          "2025-02-05T00:00:00",
          "2025-02-04T00:00:00",
          "2025-02-03T00:00:00",
          "2025-01-31T00:00:00",
          "2025-01-30T00:00:00",
          "2025-01-29T00:00:00",
          "2025-01-28T00:00:00",
          "2025-01-27T00:00:00",
          "2025-01-24T00:00:00",
          "2025-01-23T00:00:00",
          "2025-01-22T00:00:00",
          "2025-01-21T00:00:00",
          "2025-01-17T00:00:00",
          "2025-01-16T00:00:00",
          "2025-01-15T00:00:00",
          "2025-01-14T00:00:00",
          "2025-01-13T00:00:00",
          "2025-01-10T00:00:00",
          "2025-01-08T00:00:00",
          "2025-01-07T00:00:00",
          "2025-01-06T00:00:00",
          "2025-01-03T00:00:00",
          "2025-01-02T00:00:00",
          "2024-12-31T00:00:00",
          "2024-12-30T00:00:00",
          "2024-12-27T00:00:00",
          "2024-12-26T00:00:00",
          "2024-12-24T00:00:00",
          "2024-12-23T00:00:00",
          "2024-12-20T00:00:00",
          "2024-12-19T00:00:00",
          "2024-12-18T00:00:00",
          "2024-12-17T00:00:00",
          "2024-12-16T00:00:00",
          "2024-12-13T00:00:00",
          "2024-12-12T00:00:00",
          "2024-12-11T00:00:00",
          "2024-12-10T00:00:00",
          "2024-12-09T00:00:00",
          "2024-12-06T00:00:00",
          "2024-12-05T00:00:00",
          "2024-12-04T00:00:00",
          "2024-12-03T00:00:00",
          "2024-12-02T00:00:00",
          "2024-11-29T00:00:00",
          "2024-11-27T00:00:00",
          "2024-11-26T00:00:00",
          "2024-11-25T00:00:00",
          "2024-11-22T00:00:00",
          "2024-11-21T00:00:00",
          "2024-11-20T00:00:00",
          "2024-11-19T00:00:00",
          "2024-11-18T00:00:00",
          "2024-11-15T00:00:00",
          "2024-11-14T00:00:00",
          "2024-11-13T00:00:00",
          "2024-11-12T00:00:00",
          "2024-11-11T00:00:00",
          "2024-11-08T00:00:00",
          "2024-11-07T00:00:00",
          "2024-11-06T00:00:00",
          "2024-11-05T00:00:00",
          "2024-11-04T00:00:00",
          "2024-11-01T00:00:00",
          "2024-10-31T00:00:00",
          "2024-10-30T00:00:00",
          "2024-10-29T00:00:00",
          "2024-10-28T00:00:00",
          "2024-10-25T00:00:00",
          "2024-10-24T00:00:00",
          "2024-10-23T00:00:00",
          "2024-10-22T00:00:00",
          "2024-10-21T00:00:00",
          "2024-10-18T00:00:00",
          "2024-10-17T00:00:00",
          "2024-10-16T00:00:00",
          "2024-10-15T00:00:00",
          "2024-10-14T00:00:00",
          "2024-10-11T00:00:00",
          "2024-10-10T00:00:00",
          "2024-10-09T00:00:00",
          "2024-10-08T00:00:00",
          "2024-10-07T00:00:00",
          "2024-10-04T00:00:00",
          "2024-10-03T00:00:00",
          "2024-10-02T00:00:00",
          "2024-10-01T00:00:00",
          "2024-09-30T00:00:00",
          "2024-09-27T00:00:00",
          "2024-09-26T00:00:00",
          "2024-09-25T00:00:00",
          "2024-09-24T00:00:00",
          "2024-09-23T00:00:00",
          "2024-09-20T00:00:00",
          "2024-09-19T00:00:00",
          "2024-09-18T00:00:00",
          "2024-09-17T00:00:00",
          "2024-09-16T00:00:00",
          "2024-09-13T00:00:00",
          "2024-09-12T00:00:00",
          "2024-09-11T00:00:00",
          "2024-09-10T00:00:00",
          "2024-09-09T00:00:00",
          "2024-09-06T00:00:00",
          "2024-09-05T00:00:00",
          "2024-09-04T00:00:00",
          "2024-09-03T00:00:00",
          "2024-08-30T00:00:00",
          "2024-08-29T00:00:00",
          "2024-08-28T00:00:00",
          "2024-08-27T00:00:00",
          "2024-08-26T00:00:00",
          "2024-08-23T00:00:00",
          "2024-08-22T00:00:00",
          "2024-08-21T00:00:00",
          "2024-08-20T00:00:00",
          "2024-08-19T00:00:00",
          "2024-08-16T00:00:00",
          "2024-08-15T00:00:00",
          "2024-08-14T00:00:00",
          "2024-08-13T00:00:00",
          "2024-08-12T00:00:00",
          "2024-08-09T00:00:00",
          "2024-08-08T00:00:00",
          "2024-08-07T00:00:00",
          "2024-08-06T00:00:00",
          "2024-08-05T00:00:00",
          "2024-08-02T00:00:00",
          "2024-08-01T00:00:00",
          "2024-07-31T00:00:00",
          "2024-07-30T00:00:00",
          "2024-07-29T00:00:00",
          "2024-07-26T00:00:00",
          "2024-07-25T00:00:00",
          "2024-07-24T00:00:00",
          "2024-07-23T00:00:00",
          "2024-07-22T00:00:00",
          "2024-07-19T00:00:00",
          "2024-07-18T00:00:00",
          "2024-07-17T00:00:00",
          "2024-07-16T00:00:00",
          "2024-07-15T00:00:00",
          "2024-07-12T00:00:00",
          "2024-07-11T00:00:00",
          "2024-07-10T00:00:00",
          "2024-07-09T00:00:00",
          "2024-07-08T00:00:00",
          "2024-07-05T00:00:00",
          "2024-07-03T00:00:00",
          "2024-07-02T00:00:00",
          "2024-07-01T00:00:00",
          "2024-06-28T00:00:00",
          "2024-06-27T00:00:00",
          "2024-06-26T00:00:00",
          "2024-06-25T00:00:00",
          "2024-06-24T00:00:00",
          "2024-06-21T00:00:00",
          "2024-06-20T00:00:00",
          "2024-06-18T00:00:00",
          "2024-06-17T00:00:00",
          "2024-06-14T00:00:00",
          "2024-06-13T00:00:00",
          "2024-06-12T00:00:00",
          "2024-06-11T00:00:00",
          "2024-06-10T00:00:00",
          "2024-06-07T00:00:00",
          "2024-06-06T00:00:00",
          "2024-06-05T00:00:00",
          "2024-06-04T00:00:00",
          "2024-06-03T00:00:00",
          "2024-05-31T00:00:00",
          "2024-05-30T00:00:00",
          "2024-05-29T00:00:00",
          "2024-05-28T00:00:00",
          "2024-05-24T00:00:00",
          "2024-05-23T00:00:00",
          "2024-05-22T00:00:00",
          "2024-05-21T00:00:00",
          "2024-05-20T00:00:00",
          "2024-05-17T00:00:00",
          "2024-05-16T00:00:00",
          "2024-05-15T00:00:00",
          "2024-05-14T00:00:00",
          "2024-05-13T00:00:00",
          "2024-05-10T00:00:00",
          "2024-05-09T00:00:00",
          "2024-05-08T00:00:00",
          "2024-05-07T00:00:00",
          "2024-05-06T00:00:00",
          "2024-05-03T00:00:00",
          "2024-05-02T00:00:00",
          "2024-05-01T00:00:00",
          "2024-04-30T00:00:00",
          "2024-04-29T00:00:00",
          "2024-04-26T00:00:00",
          "2024-04-25T00:00:00",
          "2024-04-24T00:00:00",
          "2024-04-23T00:00:00",
          "2024-04-22T00:00:00",
          "2024-04-19T00:00:00",
          "2024-04-18T00:00:00",
          "2024-04-17T00:00:00",
          "2024-04-16T00:00:00",
          "2024-04-15T00:00:00",
          "2024-04-12T00:00:00",
          "2024-04-11T00:00:00",
          "2024-04-10T00:00:00",
          "2024-04-09T00:00:00",
          "2024-04-08T00:00:00",
          "2024-04-05T00:00:00",
          "2024-04-04T00:00:00",
          "2024-04-03T00:00:00",
          "2024-04-02T00:00:00",
          "2024-04-01T00:00:00",
          "2024-03-28T00:00:00",
          "2024-03-27T00:00:00",
          "2024-03-26T00:00:00",
          "2024-03-25T00:00:00",
          "2024-03-22T00:00:00",
          "2024-03-21T00:00:00",
          "2024-03-20T00:00:00",
          "2024-03-19T00:00:00",
          "2024-03-18T00:00:00",
          "2024-03-15T00:00:00",
          "2024-03-14T00:00:00",
          "2024-03-13T00:00:00",
          "2024-03-12T00:00:00",
          "2024-03-11T00:00:00",
          "2024-03-08T00:00:00",
          "2024-03-07T00:00:00",
          "2024-03-06T00:00:00",
          "2024-03-05T00:00:00",
          "2024-03-04T00:00:00",
          "2024-03-01T00:00:00",
          "2024-02-29T00:00:00",
          "2024-02-28T00:00:00",
          "2024-02-27T00:00:00",
          "2024-02-26T00:00:00",
          "2024-02-23T00:00:00",
          "2024-02-22T00:00:00",
          "2024-02-21T00:00:00",
          "2024-02-20T00:00:00",
          "2024-02-16T00:00:00",
          "2024-02-15T00:00:00",
          "2024-02-14T00:00:00",
          "2024-02-13T00:00:00",
          "2024-02-12T00:00:00",
          "2024-02-09T00:00:00",
          "2024-02-08T00:00:00",
          "2024-02-07T00:00:00",
          "2024-02-06T00:00:00",
          "2024-02-05T00:00:00",
          "2024-02-02T00:00:00",
          "2024-02-01T00:00:00",
          "2024-01-31T00:00:00",
          "2024-01-30T00:00:00",
          "2024-01-29T00:00:00",
          "2024-01-26T00:00:00",
          "2024-01-25T00:00:00",
          "2024-01-24T00:00:00",
          "2024-01-23T00:00:00",
          "2024-01-22T00:00:00",
          "2024-01-19T00:00:00",
          "2024-01-18T00:00:00",
          "2024-01-17T00:00:00",
          "2024-01-16T00:00:00",
          "2024-01-12T00:00:00",
          "2024-01-11T00:00:00",
          "2024-01-10T00:00:00",
          "2024-01-09T00:00:00",
          "2024-01-08T00:00:00",
          "2024-01-05T00:00:00",
          "2024-01-04T00:00:00",
          "2024-01-03T00:00:00",
          "2024-01-02T00:00:00",
          "2023-12-29T00:00:00",
          "2023-12-28T00:00:00",
          "2023-12-27T00:00:00",
          "2023-12-26T00:00:00",
          "2023-12-22T00:00:00",
          "2023-12-21T00:00:00",
          "2023-12-20T00:00:00",
          "2023-12-19T00:00:00",
          "2023-12-18T00:00:00",
          "2023-12-15T00:00:00",
          "2023-12-14T00:00:00",
          "2023-12-13T00:00:00",
          "2023-12-12T00:00:00",
          "2023-12-11T00:00:00",
          "2023-12-08T00:00:00",
          "2023-12-07T00:00:00",
          "2023-12-06T00:00:00",
          "2023-12-05T00:00:00",
          "2023-12-04T00:00:00",
          "2023-12-01T00:00:00",
          "2023-11-30T00:00:00",
          "2023-11-29T00:00:00",
          "2023-11-28T00:00:00",
          "2023-11-27T00:00:00",
          "2023-11-24T00:00:00",
          "2023-11-22T00:00:00",
          "2023-11-21T00:00:00",
          "2023-11-20T00:00:00",
          "2023-11-17T00:00:00",
          "2023-11-16T00:00:00",
          "2023-11-15T00:00:00",
          "2023-11-14T00:00:00",
          "2023-11-13T00:00:00",
          "2023-11-10T00:00:00",
          "2023-11-09T00:00:00",
          "2023-11-08T00:00:00",
          "2023-11-07T00:00:00",
          "2023-11-06T00:00:00",
          "2023-11-03T00:00:00",
          "2023-11-02T00:00:00",
          "2023-11-01T00:00:00",
          "2023-10-31T00:00:00",
          "2023-10-30T00:00:00",
          "2023-10-27T00:00:00",
          "2023-10-26T00:00:00",
          "2023-10-25T00:00:00",
          "2023-10-24T00:00:00",
          "2023-10-23T00:00:00",
          "2023-10-20T00:00:00",
          "2023-10-19T00:00:00",
          "2023-10-18T00:00:00",
          "2023-10-17T00:00:00",
          "2023-10-16T00:00:00",
          "2023-10-13T00:00:00",
          "2023-10-12T00:00:00",
          "2023-10-11T00:00:00",
          "2023-10-10T00:00:00",
          "2023-10-09T00:00:00",
          "2023-10-06T00:00:00",
          "2023-10-05T00:00:00",
          "2023-10-04T00:00:00",
          "2023-10-03T00:00:00",
          "2023-10-02T00:00:00",
          "2023-09-29T00:00:00",
          "2023-09-28T00:00:00",
          "2023-09-27T00:00:00",
          "2023-09-26T00:00:00",
          "2023-09-25T00:00:00",
          "2023-09-22T00:00:00",
          "2023-09-21T00:00:00",
          "2023-09-20T00:00:00",
          "2023-09-19T00:00:00",
          "2023-09-18T00:00:00",
          "2023-09-15T00:00:00",
          "2023-09-14T00:00:00",
          "2023-09-13T00:00:00",
          "2023-09-12T00:00:00",
          "2023-09-11T00:00:00",
          "2023-09-08T00:00:00",
          "2023-09-07T00:00:00",
          "2023-09-06T00:00:00",
          "2023-09-05T00:00:00",
          "2023-09-01T00:00:00",
          "2023-08-31T00:00:00",
          "2023-08-30T00:00:00",
          "2023-08-29T00:00:00",
          "2023-08-28T00:00:00",
          "2023-08-25T00:00:00",
          "2023-08-24T00:00:00",
          "2023-08-23T00:00:00",
          "2023-08-22T00:00:00",
          "2023-08-21T00:00:00",
          "2023-08-18T00:00:00",
          "2023-08-17T00:00:00",
          "2023-08-16T00:00:00",
          "2023-08-15T00:00:00",
          "2023-08-14T00:00:00",
          "2023-08-11T00:00:00",
          "2023-08-10T00:00:00",
          "2023-08-09T00:00:00",
          "2023-08-08T00:00:00",
          "2023-08-07T00:00:00",
          "2023-08-04T00:00:00",
          "2023-08-03T00:00:00",
          "2023-08-02T00:00:00",
          "2023-08-01T00:00:00",
          "2023-07-31T00:00:00",
          "2023-07-28T00:00:00",
          "2023-07-27T00:00:00",
          "2023-07-26T00:00:00",
          "2023-07-25T00:00:00",
          "2023-07-24T00:00:00"
         ],
         "xaxis": "x",
         "y": {
          "bdata": "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",
          "dtype": "f8"
         },
         "yaxis": "y"
        }
       ],
       "layout": {
        "legend": {
         "tracegroupgap": 0
        },
        "template": {
         "data": {
          "bar": [
           {
            "error_x": {
             "color": "#2a3f5f"
            },
            "error_y": {
             "color": "#2a3f5f"
            },
            "marker": {
             "line": {
              "color": "#E5ECF6",
              "width": 0.5
             },
             "pattern": {
              "fillmode": "overlay",
              "size": 10,
              "solidity": 0.2
             }
            },
            "type": "bar"
           }
          ],
          "barpolar": [
           {
            "marker": {
             "line": {
              "color": "#E5ECF6",
              "width": 0.5
             },
             "pattern": {
              "fillmode": "overlay",
              "size": 10,
              "solidity": 0.2
             }
            },
            "type": "barpolar"
           }
          ],
          "carpet": [
           {
            "aaxis": {
             "endlinecolor": "#2a3f5f",
             "gridcolor": "white",
             "linecolor": "white",
             "minorgridcolor": "white",
             "startlinecolor": "#2a3f5f"
            },
            "baxis": {
             "endlinecolor": "#2a3f5f",
             "gridcolor": "white",
             "linecolor": "white",
             "minorgridcolor": "white",
             "startlinecolor": "#2a3f5f"
            },
            "type": "carpet"
           }
          ],
          "choropleth": [
           {
            "colorbar": {
             "outlinewidth": 0,
             "ticks": ""
            },
            "type": "choropleth"
           }
          ],
          "contour": [
           {
            "colorbar": {
             "outlinewidth": 0,
             "ticks": ""
            },
            "colorscale": [
             [
              0,
              "#0d0887"
             ],
             [
              0.1111111111111111,
              "#46039f"
             ],
             [
              0.2222222222222222,
              "#7201a8"
             ],
             [
              0.3333333333333333,
              "#9c179e"
             ],
             [
              0.4444444444444444,
              "#bd3786"
             ],
             [
              0.5555555555555556,
              "#d8576b"
             ],
             [
              0.6666666666666666,
              "#ed7953"
             ],
             [
              0.7777777777777778,
              "#fb9f3a"
             ],
             [
              0.8888888888888888,
              "#fdca26"
             ],
             [
              1,
              "#f0f921"
             ]
            ],
            "type": "contour"
           }
          ],
          "contourcarpet": [
           {
            "colorbar": {
             "outlinewidth": 0,
             "ticks": ""
            },
            "type": "contourcarpet"
           }
          ],
          "heatmap": [
           {
            "colorbar": {
             "outlinewidth": 0,
             "ticks": ""
            },
            "colorscale": [
             [
              0,
              "#0d0887"
             ],
             [
              0.1111111111111111,
              "#46039f"
             ],
             [
              0.2222222222222222,
              "#7201a8"
             ],
             [
              0.3333333333333333,
              "#9c179e"
             ],
             [
              0.4444444444444444,
              "#bd3786"
             ],
             [
              0.5555555555555556,
              "#d8576b"
             ],
             [
              0.6666666666666666,
              "#ed7953"
             ],
             [
              0.7777777777777778,
              "#fb9f3a"
             ],
             [
              0.8888888888888888,
              "#fdca26"
             ],
             [
              1,
              "#f0f921"
             ]
            ],
            "type": "heatmap"
           }
          ],
          "histogram": [
           {
            "marker": {
             "pattern": {
              "fillmode": "overlay",
              "size": 10,
              "solidity": 0.2
             }
            },
            "type": "histogram"
           }
          ],
          "histogram2d": [
           {
            "colorbar": {
             "outlinewidth": 0,
             "ticks": ""
            },
            "colorscale": [
             [
              0,
              "#0d0887"
             ],
             [
              0.1111111111111111,
              "#46039f"
             ],
             [
              0.2222222222222222,
              "#7201a8"
             ],
             [
              0.3333333333333333,
              "#9c179e"
             ],
             [
              0.4444444444444444,
              "#bd3786"
             ],
             [
              0.5555555555555556,
              "#d8576b"
             ],
             [
              0.6666666666666666,
              "#ed7953"
             ],
             [
              0.7777777777777778,
              "#fb9f3a"
             ],
             [
              0.8888888888888888,
              "#fdca26"
             ],
             [
              1,
              "#f0f921"
             ]
            ],
            "type": "histogram2d"
           }
          ],
          "histogram2dcontour": [
           {
            "colorbar": {
             "outlinewidth": 0,
             "ticks": ""
            },
            "colorscale": [
             [
              0,
              "#0d0887"
             ],
             [
              0.1111111111111111,
              "#46039f"
             ],
             [
              0.2222222222222222,
              "#7201a8"
             ],
             [
              0.3333333333333333,
              "#9c179e"
             ],
             [
              0.4444444444444444,
              "#bd3786"
             ],
             [
              0.5555555555555556,
              "#d8576b"
             ],
             [
              0.6666666666666666,
              "#ed7953"
             ],
             [
              0.7777777777777778,
              "#fb9f3a"
             ],
             [
              0.8888888888888888,
              "#fdca26"
             ],
             [
              1,
              "#f0f921"
             ]
            ],
            "type": "histogram2dcontour"
           }
          ],
          "mesh3d": [
           {
            "colorbar": {
             "outlinewidth": 0,
             "ticks": ""
            },
            "type": "mesh3d"
           }
          ],
          "parcoords": [
           {
            "line": {
             "colorbar": {
              "outlinewidth": 0,
              "ticks": ""
             }
            },
            "type": "parcoords"
           }
          ],
          "pie": [
           {
            "automargin": true,
            "type": "pie"
           }
          ],
          "scatter": [
           {
            "fillpattern": {
             "fillmode": "overlay",
             "size": 10,
             "solidity": 0.2
            },
            "type": "scatter"
           }
          ],
          "scatter3d": [
           {
            "line": {
             "colorbar": {
              "outlinewidth": 0,
              "ticks": ""
             }
            },
            "marker": {
             "colorbar": {
              "outlinewidth": 0,
              "ticks": ""
             }
            },
            "type": "scatter3d"
           }
          ],
          "scattercarpet": [
           {
            "marker": {
             "colorbar": {
              "outlinewidth": 0,
              "ticks": ""
             }
            },
            "type": "scattercarpet"
           }
          ],
          "scattergeo": [
           {
            "marker": {
             "colorbar": {
              "outlinewidth": 0,
              "ticks": ""
             }
            },
            "type": "scattergeo"
           }
          ],
          "scattergl": [
           {
            "marker": {
             "colorbar": {
              "outlinewidth": 0,
              "ticks": ""
             }
            },
            "type": "scattergl"
           }
          ],
          "scattermap": [
           {
            "marker": {
             "colorbar": {
              "outlinewidth": 0,
              "ticks": ""
             }
            },
            "type": "scattermap"
           }
          ],
          "scattermapbox": [
           {
            "marker": {
             "colorbar": {
              "outlinewidth": 0,
              "ticks": ""
             }
            },
            "type": "scattermapbox"
           }
          ],
          "scatterpolar": [
           {
            "marker": {
             "colorbar": {
              "outlinewidth": 0,
              "ticks": ""
             }
            },
            "type": "scatterpolar"
           }
          ],
          "scatterpolargl": [
           {
            "marker": {
             "colorbar": {
              "outlinewidth": 0,
              "ticks": ""
             }
            },
            "type": "scatterpolargl"
           }
          ],
          "scatterternary": [
           {
            "marker": {
             "colorbar": {
              "outlinewidth": 0,
              "ticks": ""
             }
            },
            "type": "scatterternary"
           }
          ],
          "surface": [
           {
            "colorbar": {
             "outlinewidth": 0,
             "ticks": ""
            },
            "colorscale": [
             [
              0,
              "#0d0887"
             ],
             [
              0.1111111111111111,
              "#46039f"
             ],
             [
              0.2222222222222222,
              "#7201a8"
             ],
             [
              0.3333333333333333,
              "#9c179e"
             ],
             [
              0.4444444444444444,
              "#bd3786"
             ],
             [
              0.5555555555555556,
              "#d8576b"
             ],
             [
              0.6666666666666666,
              "#ed7953"
             ],
             [
              0.7777777777777778,
              "#fb9f3a"
             ],
             [
              0.8888888888888888,
              "#fdca26"
             ],
             [
              1,
              "#f0f921"
             ]
            ],
            "type": "surface"
           }
          ],
          "table": [
           {
            "cells": {
             "fill": {
              "color": "#EBF0F8"
             },
             "line": {
              "color": "white"
             }
            },
            "header": {
             "fill": {
              "color": "#C8D4E3"
             },
             "line": {
              "color": "white"
             }
            },
            "type": "table"
           }
          ]
         },
         "layout": {
          "annotationdefaults": {
           "arrowcolor": "#2a3f5f",
           "arrowhead": 0,
           "arrowwidth": 1
          },
          "autotypenumbers": "strict",
          "coloraxis": {
           "colorbar": {
            "outlinewidth": 0,
            "ticks": ""
           }
          },
          "colorscale": {
           "diverging": [
            [
             0,
             "#8e0152"
            ],
            [
             0.1,
             "#c51b7d"
            ],
            [
             0.2,
             "#de77ae"
            ],
            [
             0.3,
             "#f1b6da"
            ],
            [
             0.4,
             "#fde0ef"
            ],
            [
             0.5,
             "#f7f7f7"
            ],
            [
             0.6,
             "#e6f5d0"
            ],
            [
             0.7,
             "#b8e186"
            ],
            [
             0.8,
             "#7fbc41"
            ],
            [
             0.9,
             "#4d9221"
            ],
            [
             1,
             "#276419"
            ]
           ],
           "sequential": [
            [
             0,
             "#0d0887"
            ],
            [
             0.1111111111111111,
             "#46039f"
            ],
            [
             0.2222222222222222,
             "#7201a8"
            ],
            [
             0.3333333333333333,
             "#9c179e"
            ],
            [
             0.4444444444444444,
             "#bd3786"
            ],
            [
             0.5555555555555556,
             "#d8576b"
            ],
            [
             0.6666666666666666,
             "#ed7953"
            ],
            [
             0.7777777777777778,
             "#fb9f3a"
            ],
            [
             0.8888888888888888,
             "#fdca26"
            ],
            [
             1,
             "#f0f921"
            ]
           ],
           "sequentialminus": [
            [
             0,
             "#0d0887"
            ],
            [
             0.1111111111111111,
             "#46039f"
            ],
            [
             0.2222222222222222,
             "#7201a8"
            ],
            [
             0.3333333333333333,
             "#9c179e"
            ],
            [
             0.4444444444444444,
             "#bd3786"
            ],
            [
             0.5555555555555556,
             "#d8576b"
            ],
            [
             0.6666666666666666,
             "#ed7953"
            ],
            [
             0.7777777777777778,
             "#fb9f3a"
            ],
            [
             0.8888888888888888,
             "#fdca26"
            ],
            [
             1,
             "#f0f921"
            ]
           ]
          },
          "colorway": [
           "#636efa",
           "#EF553B",
           "#00cc96",
           "#ab63fa",
           "#FFA15A",
           "#19d3f3",
           "#FF6692",
           "#B6E880",
           "#FF97FF",
           "#FECB52"
          ],
          "font": {
           "color": "#2a3f5f"
          },
          "geo": {
           "bgcolor": "white",
           "lakecolor": "white",
           "landcolor": "#E5ECF6",
           "showlakes": true,
           "showland": true,
           "subunitcolor": "white"
          },
          "hoverlabel": {
           "align": "left"
          },
          "hovermode": "closest",
          "mapbox": {
           "style": "light"
          },
          "paper_bgcolor": "white",
          "plot_bgcolor": "#E5ECF6",
          "polar": {
           "angularaxis": {
            "gridcolor": "white",
            "linecolor": "white",
            "ticks": ""
           },
           "bgcolor": "#E5ECF6",
           "radialaxis": {
            "gridcolor": "white",
            "linecolor": "white",
            "ticks": ""
           }
          },
          "scene": {
           "xaxis": {
            "backgroundcolor": "#E5ECF6",
            "gridcolor": "white",
            "gridwidth": 2,
            "linecolor": "white",
            "showbackground": true,
            "ticks": "",
            "zerolinecolor": "white"
           },
           "yaxis": {
            "backgroundcolor": "#E5ECF6",
            "gridcolor": "white",
            "gridwidth": 2,
            "linecolor": "white",
            "showbackground": true,
            "ticks": "",
            "zerolinecolor": "white"
           },
           "zaxis": {
            "backgroundcolor": "#E5ECF6",
            "gridcolor": "white",
            "gridwidth": 2,
            "linecolor": "white",
            "showbackground": true,
            "ticks": "",
            "zerolinecolor": "white"
           }
          },
          "shapedefaults": {
           "line": {
            "color": "#2a3f5f"
           }
          },
          "ternary": {
           "aaxis": {
            "gridcolor": "white",
            "linecolor": "white",
            "ticks": ""
           },
           "baxis": {
            "gridcolor": "white",
            "linecolor": "white",
            "ticks": ""
           },
           "bgcolor": "#E5ECF6",
           "caxis": {
            "gridcolor": "white",
            "linecolor": "white",
            "ticks": ""
           }
          },
          "title": {
           "x": 0.05
          },
          "xaxis": {
           "automargin": true,
           "gridcolor": "white",
           "linecolor": "white",
           "ticks": "",
           "title": {
            "standoff": 15
           },
           "zerolinecolor": "white",
           "zerolinewidth": 2
          },
          "yaxis": {
           "automargin": true,
           "gridcolor": "white",
           "linecolor": "white",
           "ticks": "",
           "title": {
            "standoff": 15
           },
           "zerolinecolor": "white",
           "zerolinewidth": 2
          }
         }
        },
        "title": {
         "text": "AAPL Price History"
        },
        "xaxis": {
         "anchor": "y",
         "domain": [
          0,
          1
         ],
         "title": {
          "text": "Date"
         }
        },
        "yaxis": {
         "anchor": "x",
         "domain": [
          0,
          1
         ],
         "title": {
          "text": "Close AAPL"
         }
        }
       }
      }
     },
     "metadata": {},
     "output_type": "display_data"
    }
   ],
   "source": [
    "\n",
    "fig = px.line(price_history, x=\"Date\", y=f\"Close {ticker}\", title=f\"{ticker} Price History\")\n",
    "fig.show()"
   ]
  },
  {
   "cell_type": "code",
   "execution_count": 67,
   "id": "d38bd654",
   "metadata": {},
   "outputs": [
    {
     "data": {
      "application/vnd.plotly.v1+json": {
       "config": {
        "plotlyServerURL": "https://plot.ly"
       },
       "data": [
        {
         "close": {
          "bdata": "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",
          "dtype": "f8"
         },
         "high": {
          "bdata": "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",
          "dtype": "f8"
         },
         "low": {
          "bdata": "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",
          "dtype": "f8"
         },
         "open": {
          "bdata": "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",
          "dtype": "f8"
         },
         "type": "candlestick",
         "x": [
          "2025-07-22T00:00:00",
          "2025-07-21T00:00:00",
          "2025-07-18T00:00:00",
          "2025-07-17T00:00:00",
          "2025-07-16T00:00:00",
          "2025-07-15T00:00:00",
          "2025-07-14T00:00:00",
          "2025-07-11T00:00:00",
          "2025-07-10T00:00:00",
          "2025-07-09T00:00:00",
          "2025-07-08T00:00:00",
          "2025-07-07T00:00:00",
          "2025-07-03T00:00:00",
          "2025-07-02T00:00:00",
          "2025-07-01T00:00:00",
          "2025-06-30T00:00:00",
          "2025-06-27T00:00:00",
          "2025-06-26T00:00:00",
          "2025-06-25T00:00:00",
          "2025-06-24T00:00:00",
          "2025-06-23T00:00:00",
          "2025-06-20T00:00:00",
          "2025-06-18T00:00:00",
          "2025-06-17T00:00:00",
          "2025-06-16T00:00:00",
          "2025-06-13T00:00:00",
          "2025-06-12T00:00:00",
          "2025-06-11T00:00:00",
          "2025-06-10T00:00:00",
          "2025-06-09T00:00:00",
          "2025-06-06T00:00:00",
          "2025-06-05T00:00:00",
          "2025-06-04T00:00:00",
          "2025-06-03T00:00:00",
          "2025-06-02T00:00:00",
          "2025-05-30T00:00:00",
          "2025-05-29T00:00:00",
          "2025-05-28T00:00:00",
          "2025-05-27T00:00:00",
          "2025-05-23T00:00:00",
          "2025-05-22T00:00:00",
          "2025-05-21T00:00:00",
          "2025-05-20T00:00:00",
          "2025-05-19T00:00:00",
          "2025-05-16T00:00:00",
          "2025-05-15T00:00:00",
          "2025-05-14T00:00:00",
          "2025-05-13T00:00:00",
          "2025-05-12T00:00:00",
          "2025-05-09T00:00:00",
          "2025-05-08T00:00:00",
          "2025-05-07T00:00:00",
          "2025-05-06T00:00:00",
          "2025-05-05T00:00:00",
          "2025-05-02T00:00:00",
          "2025-05-01T00:00:00",
          "2025-04-30T00:00:00",
          "2025-04-29T00:00:00",
          "2025-04-28T00:00:00",
          "2025-04-25T00:00:00",
          "2025-04-24T00:00:00",
          "2025-04-23T00:00:00",
          "2025-04-22T00:00:00",
          "2025-04-21T00:00:00",
          "2025-04-17T00:00:00",
          "2025-04-16T00:00:00",
          "2025-04-15T00:00:00",
          "2025-04-14T00:00:00",
          "2025-04-11T00:00:00",
          "2025-04-10T00:00:00",
          "2025-04-09T00:00:00",
          "2025-04-08T00:00:00",
          "2025-04-07T00:00:00",
          "2025-04-04T00:00:00",
          "2025-04-03T00:00:00",
          "2025-04-02T00:00:00",
          "2025-04-01T00:00:00",
          "2025-03-31T00:00:00",
          "2025-03-28T00:00:00",
          "2025-03-27T00:00:00",
          "2025-03-26T00:00:00",
          "2025-03-25T00:00:00",
          "2025-03-24T00:00:00",
          "2025-03-21T00:00:00",
          "2025-03-20T00:00:00",
          "2025-03-19T00:00:00",
          "2025-03-18T00:00:00",
          "2025-03-17T00:00:00",
          "2025-03-14T00:00:00",
          "2025-03-13T00:00:00",
          "2025-03-12T00:00:00",
          "2025-03-11T00:00:00",
          "2025-03-10T00:00:00",
          "2025-03-07T00:00:00",
          "2025-03-06T00:00:00",
          "2025-03-05T00:00:00",
          "2025-03-04T00:00:00",
          "2025-03-03T00:00:00",
          "2025-02-28T00:00:00",
          "2025-02-27T00:00:00",
          "2025-02-26T00:00:00",
          "2025-02-25T00:00:00",
          "2025-02-24T00:00:00",
          "2025-02-21T00:00:00",
          "2025-02-20T00:00:00",
          "2025-02-19T00:00:00",
          "2025-02-18T00:00:00",
          "2025-02-14T00:00:00",
          "2025-02-13T00:00:00",
          "2025-02-12T00:00:00",
          "2025-02-11T00:00:00",
          "2025-02-10T00:00:00",
          "2025-02-07T00:00:00",
          "2025-02-06T00:00:00",
          "2025-02-05T00:00:00",
          "2025-02-04T00:00:00",
          "2025-02-03T00:00:00",
          "2025-01-31T00:00:00",
          "2025-01-30T00:00:00",
          "2025-01-29T00:00:00",
          "2025-01-28T00:00:00",
          "2025-01-27T00:00:00",
          "2025-01-24T00:00:00",
          "2025-01-23T00:00:00",
          "2025-01-22T00:00:00",
          "2025-01-21T00:00:00",
          "2025-01-17T00:00:00",
          "2025-01-16T00:00:00",
          "2025-01-15T00:00:00",
          "2025-01-14T00:00:00",
          "2025-01-13T00:00:00",
          "2025-01-10T00:00:00",
          "2025-01-08T00:00:00",
          "2025-01-07T00:00:00",
          "2025-01-06T00:00:00",
          "2025-01-03T00:00:00",
          "2025-01-02T00:00:00",
          "2024-12-31T00:00:00",
          "2024-12-30T00:00:00",
          "2024-12-27T00:00:00",
          "2024-12-26T00:00:00",
          "2024-12-24T00:00:00",
          "2024-12-23T00:00:00",
          "2024-12-20T00:00:00",
          "2024-12-19T00:00:00",
          "2024-12-18T00:00:00",
          "2024-12-17T00:00:00",
          "2024-12-16T00:00:00",
          "2024-12-13T00:00:00",
          "2024-12-12T00:00:00",
          "2024-12-11T00:00:00",
          "2024-12-10T00:00:00",
          "2024-12-09T00:00:00",
          "2024-12-06T00:00:00",
          "2024-12-05T00:00:00",
          "2024-12-04T00:00:00",
          "2024-12-03T00:00:00",
          "2024-12-02T00:00:00",
          "2024-11-29T00:00:00",
          "2024-11-27T00:00:00",
          "2024-11-26T00:00:00",
          "2024-11-25T00:00:00",
          "2024-11-22T00:00:00",
          "2024-11-21T00:00:00",
          "2024-11-20T00:00:00",
          "2024-11-19T00:00:00",
          "2024-11-18T00:00:00",
          "2024-11-15T00:00:00",
          "2024-11-14T00:00:00",
          "2024-11-13T00:00:00",
          "2024-11-12T00:00:00",
          "2024-11-11T00:00:00",
          "2024-11-08T00:00:00",
          "2024-11-07T00:00:00",
          "2024-11-06T00:00:00",
          "2024-11-05T00:00:00",
          "2024-11-04T00:00:00",
          "2024-11-01T00:00:00",
          "2024-10-31T00:00:00",
          "2024-10-30T00:00:00",
          "2024-10-29T00:00:00",
          "2024-10-28T00:00:00",
          "2024-10-25T00:00:00",
          "2024-10-24T00:00:00",
          "2024-10-23T00:00:00",
          "2024-10-22T00:00:00",
          "2024-10-21T00:00:00",
          "2024-10-18T00:00:00",
          "2024-10-17T00:00:00",
          "2024-10-16T00:00:00",
          "2024-10-15T00:00:00",
          "2024-10-14T00:00:00",
          "2024-10-11T00:00:00",
          "2024-10-10T00:00:00",
          "2024-10-09T00:00:00",
          "2024-10-08T00:00:00",
          "2024-10-07T00:00:00",
          "2024-10-04T00:00:00",
          "2024-10-03T00:00:00",
          "2024-10-02T00:00:00",
          "2024-10-01T00:00:00",
          "2024-09-30T00:00:00",
          "2024-09-27T00:00:00",
          "2024-09-26T00:00:00",
          "2024-09-25T00:00:00",
          "2024-09-24T00:00:00",
          "2024-09-23T00:00:00",
          "2024-09-20T00:00:00",
          "2024-09-19T00:00:00",
          "2024-09-18T00:00:00",
          "2024-09-17T00:00:00",
          "2024-09-16T00:00:00",
          "2024-09-13T00:00:00",
          "2024-09-12T00:00:00",
          "2024-09-11T00:00:00",
          "2024-09-10T00:00:00",
          "2024-09-09T00:00:00",
          "2024-09-06T00:00:00",
          "2024-09-05T00:00:00",
          "2024-09-04T00:00:00",
          "2024-09-03T00:00:00",
          "2024-08-30T00:00:00",
          "2024-08-29T00:00:00",
          "2024-08-28T00:00:00",
          "2024-08-27T00:00:00",
          "2024-08-26T00:00:00",
          "2024-08-23T00:00:00",
          "2024-08-22T00:00:00",
          "2024-08-21T00:00:00",
          "2024-08-20T00:00:00",
          "2024-08-19T00:00:00",
          "2024-08-16T00:00:00",
          "2024-08-15T00:00:00",
          "2024-08-14T00:00:00",
          "2024-08-13T00:00:00",
          "2024-08-12T00:00:00",
          "2024-08-09T00:00:00",
          "2024-08-08T00:00:00",
          "2024-08-07T00:00:00",
          "2024-08-06T00:00:00",
          "2024-08-05T00:00:00",
          "2024-08-02T00:00:00",
          "2024-08-01T00:00:00",
          "2024-07-31T00:00:00",
          "2024-07-30T00:00:00",
          "2024-07-29T00:00:00",
          "2024-07-26T00:00:00",
          "2024-07-25T00:00:00",
          "2024-07-24T00:00:00",
          "2024-07-23T00:00:00",
          "2024-07-22T00:00:00",
          "2024-07-19T00:00:00",
          "2024-07-18T00:00:00",
          "2024-07-17T00:00:00",
          "2024-07-16T00:00:00",
          "2024-07-15T00:00:00",
          "2024-07-12T00:00:00",
          "2024-07-11T00:00:00",
          "2024-07-10T00:00:00",
          "2024-07-09T00:00:00",
          "2024-07-08T00:00:00",
          "2024-07-05T00:00:00",
          "2024-07-03T00:00:00",
          "2024-07-02T00:00:00",
          "2024-07-01T00:00:00",
          "2024-06-28T00:00:00",
          "2024-06-27T00:00:00",
          "2024-06-26T00:00:00",
          "2024-06-25T00:00:00",
          "2024-06-24T00:00:00",
          "2024-06-21T00:00:00",
          "2024-06-20T00:00:00",
          "2024-06-18T00:00:00",
          "2024-06-17T00:00:00",
          "2024-06-14T00:00:00",
          "2024-06-13T00:00:00",
          "2024-06-12T00:00:00",
          "2024-06-11T00:00:00",
          "2024-06-10T00:00:00",
          "2024-06-07T00:00:00",
          "2024-06-06T00:00:00",
          "2024-06-05T00:00:00",
          "2024-06-04T00:00:00",
          "2024-06-03T00:00:00",
          "2024-05-31T00:00:00",
          "2024-05-30T00:00:00",
          "2024-05-29T00:00:00",
          "2024-05-28T00:00:00",
          "2024-05-24T00:00:00",
          "2024-05-23T00:00:00",
          "2024-05-22T00:00:00",
          "2024-05-21T00:00:00",
          "2024-05-20T00:00:00",
          "2024-05-17T00:00:00",
          "2024-05-16T00:00:00",
          "2024-05-15T00:00:00",
          "2024-05-14T00:00:00",
          "2024-05-13T00:00:00",
          "2024-05-10T00:00:00",
          "2024-05-09T00:00:00",
          "2024-05-08T00:00:00",
          "2024-05-07T00:00:00",
          "2024-05-06T00:00:00",
          "2024-05-03T00:00:00",
          "2024-05-02T00:00:00",
          "2024-05-01T00:00:00",
          "2024-04-30T00:00:00",
          "2024-04-29T00:00:00",
          "2024-04-26T00:00:00",
          "2024-04-25T00:00:00",
          "2024-04-24T00:00:00",
          "2024-04-23T00:00:00",
          "2024-04-22T00:00:00",
          "2024-04-19T00:00:00",
          "2024-04-18T00:00:00",
          "2024-04-17T00:00:00",
          "2024-04-16T00:00:00",
          "2024-04-15T00:00:00",
          "2024-04-12T00:00:00",
          "2024-04-11T00:00:00",
          "2024-04-10T00:00:00",
          "2024-04-09T00:00:00",
          "2024-04-08T00:00:00",
          "2024-04-05T00:00:00",
          "2024-04-04T00:00:00",
          "2024-04-03T00:00:00",
          "2024-04-02T00:00:00",
          "2024-04-01T00:00:00",
          "2024-03-28T00:00:00",
          "2024-03-27T00:00:00",
          "2024-03-26T00:00:00",
          "2024-03-25T00:00:00",
          "2024-03-22T00:00:00",
          "2024-03-21T00:00:00",
          "2024-03-20T00:00:00",
          "2024-03-19T00:00:00",
          "2024-03-18T00:00:00",
          "2024-03-15T00:00:00",
          "2024-03-14T00:00:00",
          "2024-03-13T00:00:00",
          "2024-03-12T00:00:00",
          "2024-03-11T00:00:00",
          "2024-03-08T00:00:00",
          "2024-03-07T00:00:00",
          "2024-03-06T00:00:00",
          "2024-03-05T00:00:00",
          "2024-03-04T00:00:00",
          "2024-03-01T00:00:00",
          "2024-02-29T00:00:00",
          "2024-02-28T00:00:00",
          "2024-02-27T00:00:00",
          "2024-02-26T00:00:00",
          "2024-02-23T00:00:00",
          "2024-02-22T00:00:00",
          "2024-02-21T00:00:00",
          "2024-02-20T00:00:00",
          "2024-02-16T00:00:00",
          "2024-02-15T00:00:00",
          "2024-02-14T00:00:00",
          "2024-02-13T00:00:00",
          "2024-02-12T00:00:00",
          "2024-02-09T00:00:00",
          "2024-02-08T00:00:00",
          "2024-02-07T00:00:00",
          "2024-02-06T00:00:00",
          "2024-02-05T00:00:00",
          "2024-02-02T00:00:00",
          "2024-02-01T00:00:00",
          "2024-01-31T00:00:00",
          "2024-01-30T00:00:00",
          "2024-01-29T00:00:00",
          "2024-01-26T00:00:00",
          "2024-01-25T00:00:00",
          "2024-01-24T00:00:00",
          "2024-01-23T00:00:00",
          "2024-01-22T00:00:00",
          "2024-01-19T00:00:00",
          "2024-01-18T00:00:00",
          "2024-01-17T00:00:00",
          "2024-01-16T00:00:00",
          "2024-01-12T00:00:00",
          "2024-01-11T00:00:00",
          "2024-01-10T00:00:00",
          "2024-01-09T00:00:00",
          "2024-01-08T00:00:00",
          "2024-01-05T00:00:00",
          "2024-01-04T00:00:00",
          "2024-01-03T00:00:00",
          "2024-01-02T00:00:00",
          "2023-12-29T00:00:00",
          "2023-12-28T00:00:00",
          "2023-12-27T00:00:00",
          "2023-12-26T00:00:00",
          "2023-12-22T00:00:00",
          "2023-12-21T00:00:00",
          "2023-12-20T00:00:00",
          "2023-12-19T00:00:00",
          "2023-12-18T00:00:00",
          "2023-12-15T00:00:00",
          "2023-12-14T00:00:00",
          "2023-12-13T00:00:00",
          "2023-12-12T00:00:00",
          "2023-12-11T00:00:00",
          "2023-12-08T00:00:00",
          "2023-12-07T00:00:00",
          "2023-12-06T00:00:00",
          "2023-12-05T00:00:00",
          "2023-12-04T00:00:00",
          "2023-12-01T00:00:00",
          "2023-11-30T00:00:00",
          "2023-11-29T00:00:00",
          "2023-11-28T00:00:00",
          "2023-11-27T00:00:00",
          "2023-11-24T00:00:00",
          "2023-11-22T00:00:00",
          "2023-11-21T00:00:00",
          "2023-11-20T00:00:00",
          "2023-11-17T00:00:00",
          "2023-11-16T00:00:00",
          "2023-11-15T00:00:00",
          "2023-11-14T00:00:00",
          "2023-11-13T00:00:00",
          "2023-11-10T00:00:00",
          "2023-11-09T00:00:00",
          "2023-11-08T00:00:00",
          "2023-11-07T00:00:00",
          "2023-11-06T00:00:00",
          "2023-11-03T00:00:00",
          "2023-11-02T00:00:00",
          "2023-11-01T00:00:00",
          "2023-10-31T00:00:00",
          "2023-10-30T00:00:00",
          "2023-10-27T00:00:00",
          "2023-10-26T00:00:00",
          "2023-10-25T00:00:00",
          "2023-10-24T00:00:00",
          "2023-10-23T00:00:00",
          "2023-10-20T00:00:00",
          "2023-10-19T00:00:00",
          "2023-10-18T00:00:00",
          "2023-10-17T00:00:00",
          "2023-10-16T00:00:00",
          "2023-10-13T00:00:00",
          "2023-10-12T00:00:00",
          "2023-10-11T00:00:00",
          "2023-10-10T00:00:00",
          "2023-10-09T00:00:00",
          "2023-10-06T00:00:00",
          "2023-10-05T00:00:00",
          "2023-10-04T00:00:00",
          "2023-10-03T00:00:00",
          "2023-10-02T00:00:00",
          "2023-09-29T00:00:00",
          "2023-09-28T00:00:00",
          "2023-09-27T00:00:00",
          "2023-09-26T00:00:00",
          "2023-09-25T00:00:00",
          "2023-09-22T00:00:00",
          "2023-09-21T00:00:00",
          "2023-09-20T00:00:00",
          "2023-09-19T00:00:00",
          "2023-09-18T00:00:00",
          "2023-09-15T00:00:00",
          "2023-09-14T00:00:00",
          "2023-09-13T00:00:00",
          "2023-09-12T00:00:00",
          "2023-09-11T00:00:00",
          "2023-09-08T00:00:00",
          "2023-09-07T00:00:00",
          "2023-09-06T00:00:00",
          "2023-09-05T00:00:00",
          "2023-09-01T00:00:00",
          "2023-08-31T00:00:00",
          "2023-08-30T00:00:00",
          "2023-08-29T00:00:00",
          "2023-08-28T00:00:00",
          "2023-08-25T00:00:00",
          "2023-08-24T00:00:00",
          "2023-08-23T00:00:00",
          "2023-08-22T00:00:00",
          "2023-08-21T00:00:00",
          "2023-08-18T00:00:00",
          "2023-08-17T00:00:00",
          "2023-08-16T00:00:00",
          "2023-08-15T00:00:00",
          "2023-08-14T00:00:00",
          "2023-08-11T00:00:00",
          "2023-08-10T00:00:00",
          "2023-08-09T00:00:00",
          "2023-08-08T00:00:00",
          "2023-08-07T00:00:00",
          "2023-08-04T00:00:00",
          "2023-08-03T00:00:00",
          "2023-08-02T00:00:00",
          "2023-08-01T00:00:00",
          "2023-07-31T00:00:00",
          "2023-07-28T00:00:00",
          "2023-07-27T00:00:00",
          "2023-07-26T00:00:00",
          "2023-07-25T00:00:00",
          "2023-07-24T00:00:00"
         ]
        }
       ],
       "layout": {
        "template": {
         "data": {
          "bar": [
           {
            "error_x": {
             "color": "#2a3f5f"
            },
            "error_y": {
             "color": "#2a3f5f"
            },
            "marker": {
             "line": {
              "color": "#E5ECF6",
              "width": 0.5
             },
             "pattern": {
              "fillmode": "overlay",
              "size": 10,
              "solidity": 0.2
             }
            },
            "type": "bar"
           }
          ],
          "barpolar": [
           {
            "marker": {
             "line": {
              "color": "#E5ECF6",
              "width": 0.5
             },
             "pattern": {
              "fillmode": "overlay",
              "size": 10,
              "solidity": 0.2
             }
            },
            "type": "barpolar"
           }
          ],
          "carpet": [
           {
            "aaxis": {
             "endlinecolor": "#2a3f5f",
             "gridcolor": "white",
             "linecolor": "white",
             "minorgridcolor": "white",
             "startlinecolor": "#2a3f5f"
            },
            "baxis": {
             "endlinecolor": "#2a3f5f",
             "gridcolor": "white",
             "linecolor": "white",
             "minorgridcolor": "white",
             "startlinecolor": "#2a3f5f"
            },
            "type": "carpet"
           }
          ],
          "choropleth": [
           {
            "colorbar": {
             "outlinewidth": 0,
             "ticks": ""
            },
            "type": "choropleth"
           }
          ],
          "contour": [
           {
            "colorbar": {
             "outlinewidth": 0,
             "ticks": ""
            },
            "colorscale": [
             [
              0,
              "#0d0887"
             ],
             [
              0.1111111111111111,
              "#46039f"
             ],
             [
              0.2222222222222222,
              "#7201a8"
             ],
             [
              0.3333333333333333,
              "#9c179e"
             ],
             [
              0.4444444444444444,
              "#bd3786"
             ],
             [
              0.5555555555555556,
              "#d8576b"
             ],
             [
              0.6666666666666666,
              "#ed7953"
             ],
             [
              0.7777777777777778,
              "#fb9f3a"
             ],
             [
              0.8888888888888888,
              "#fdca26"
             ],
             [
              1,
              "#f0f921"
             ]
            ],
            "type": "contour"
           }
          ],
          "contourcarpet": [
           {
            "colorbar": {
             "outlinewidth": 0,
             "ticks": ""
            },
            "type": "contourcarpet"
           }
          ],
          "heatmap": [
           {
            "colorbar": {
             "outlinewidth": 0,
             "ticks": ""
            },
            "colorscale": [
             [
              0,
              "#0d0887"
             ],
             [
              0.1111111111111111,
              "#46039f"
             ],
             [
              0.2222222222222222,
              "#7201a8"
             ],
             [
              0.3333333333333333,
              "#9c179e"
             ],
             [
              0.4444444444444444,
              "#bd3786"
             ],
             [
              0.5555555555555556,
              "#d8576b"
             ],
             [
              0.6666666666666666,
              "#ed7953"
             ],
             [
              0.7777777777777778,
              "#fb9f3a"
             ],
             [
              0.8888888888888888,
              "#fdca26"
             ],
             [
              1,
              "#f0f921"
             ]
            ],
            "type": "heatmap"
           }
          ],
          "histogram": [
           {
            "marker": {
             "pattern": {
              "fillmode": "overlay",
              "size": 10,
              "solidity": 0.2
             }
            },
            "type": "histogram"
           }
          ],
          "histogram2d": [
           {
            "colorbar": {
             "outlinewidth": 0,
             "ticks": ""
            },
            "colorscale": [
             [
              0,
              "#0d0887"
             ],
             [
              0.1111111111111111,
              "#46039f"
             ],
             [
              0.2222222222222222,
              "#7201a8"
             ],
             [
              0.3333333333333333,
              "#9c179e"
             ],
             [
              0.4444444444444444,
              "#bd3786"
             ],
             [
              0.5555555555555556,
              "#d8576b"
             ],
             [
              0.6666666666666666,
              "#ed7953"
             ],
             [
              0.7777777777777778,
              "#fb9f3a"
             ],
             [
              0.8888888888888888,
              "#fdca26"
             ],
             [
              1,
              "#f0f921"
             ]
            ],
            "type": "histogram2d"
           }
          ],
          "histogram2dcontour": [
           {
            "colorbar": {
             "outlinewidth": 0,
             "ticks": ""
            },
            "colorscale": [
             [
              0,
              "#0d0887"
             ],
             [
              0.1111111111111111,
              "#46039f"
             ],
             [
              0.2222222222222222,
              "#7201a8"
             ],
             [
              0.3333333333333333,
              "#9c179e"
             ],
             [
              0.4444444444444444,
              "#bd3786"
             ],
             [
              0.5555555555555556,
              "#d8576b"
             ],
             [
              0.6666666666666666,
              "#ed7953"
             ],
             [
              0.7777777777777778,
              "#fb9f3a"
             ],
             [
              0.8888888888888888,
              "#fdca26"
             ],
             [
              1,
              "#f0f921"
             ]
            ],
            "type": "histogram2dcontour"
           }
          ],
          "mesh3d": [
           {
            "colorbar": {
             "outlinewidth": 0,
             "ticks": ""
            },
            "type": "mesh3d"
           }
          ],
          "parcoords": [
           {
            "line": {
             "colorbar": {
              "outlinewidth": 0,
              "ticks": ""
             }
            },
            "type": "parcoords"
           }
          ],
          "pie": [
           {
            "automargin": true,
            "type": "pie"
           }
          ],
          "scatter": [
           {
            "fillpattern": {
             "fillmode": "overlay",
             "size": 10,
             "solidity": 0.2
            },
            "type": "scatter"
           }
          ],
          "scatter3d": [
           {
            "line": {
             "colorbar": {
              "outlinewidth": 0,
              "ticks": ""
             }
            },
            "marker": {
             "colorbar": {
              "outlinewidth": 0,
              "ticks": ""
             }
            },
            "type": "scatter3d"
           }
          ],
          "scattercarpet": [
           {
            "marker": {
             "colorbar": {
              "outlinewidth": 0,
              "ticks": ""
             }
            },
            "type": "scattercarpet"
           }
          ],
          "scattergeo": [
           {
            "marker": {
             "colorbar": {
              "outlinewidth": 0,
              "ticks": ""
             }
            },
            "type": "scattergeo"
           }
          ],
          "scattergl": [
           {
            "marker": {
             "colorbar": {
              "outlinewidth": 0,
              "ticks": ""
             }
            },
            "type": "scattergl"
           }
          ],
          "scattermap": [
           {
            "marker": {
             "colorbar": {
              "outlinewidth": 0,
              "ticks": ""
             }
            },
            "type": "scattermap"
           }
          ],
          "scattermapbox": [
           {
            "marker": {
             "colorbar": {
              "outlinewidth": 0,
              "ticks": ""
             }
            },
            "type": "scattermapbox"
           }
          ],
          "scatterpolar": [
           {
            "marker": {
             "colorbar": {
              "outlinewidth": 0,
              "ticks": ""
             }
            },
            "type": "scatterpolar"
           }
          ],
          "scatterpolargl": [
           {
            "marker": {
             "colorbar": {
              "outlinewidth": 0,
              "ticks": ""
             }
            },
            "type": "scatterpolargl"
           }
          ],
          "scatterternary": [
           {
            "marker": {
             "colorbar": {
              "outlinewidth": 0,
              "ticks": ""
             }
            },
            "type": "scatterternary"
           }
          ],
          "surface": [
           {
            "colorbar": {
             "outlinewidth": 0,
             "ticks": ""
            },
            "colorscale": [
             [
              0,
              "#0d0887"
             ],
             [
              0.1111111111111111,
              "#46039f"
             ],
             [
              0.2222222222222222,
              "#7201a8"
             ],
             [
              0.3333333333333333,
              "#9c179e"
             ],
             [
              0.4444444444444444,
              "#bd3786"
             ],
             [
              0.5555555555555556,
              "#d8576b"
             ],
             [
              0.6666666666666666,
              "#ed7953"
             ],
             [
              0.7777777777777778,
              "#fb9f3a"
             ],
             [
              0.8888888888888888,
              "#fdca26"
             ],
             [
              1,
              "#f0f921"
             ]
            ],
            "type": "surface"
           }
          ],
          "table": [
           {
            "cells": {
             "fill": {
              "color": "#EBF0F8"
             },
             "line": {
              "color": "white"
             }
            },
            "header": {
             "fill": {
              "color": "#C8D4E3"
             },
             "line": {
              "color": "white"
             }
            },
            "type": "table"
           }
          ]
         },
         "layout": {
          "annotationdefaults": {
           "arrowcolor": "#2a3f5f",
           "arrowhead": 0,
           "arrowwidth": 1
          },
          "autotypenumbers": "strict",
          "coloraxis": {
           "colorbar": {
            "outlinewidth": 0,
            "ticks": ""
           }
          },
          "colorscale": {
           "diverging": [
            [
             0,
             "#8e0152"
            ],
            [
             0.1,
             "#c51b7d"
            ],
            [
             0.2,
             "#de77ae"
            ],
            [
             0.3,
             "#f1b6da"
            ],
            [
             0.4,
             "#fde0ef"
            ],
            [
             0.5,
             "#f7f7f7"
            ],
            [
             0.6,
             "#e6f5d0"
            ],
            [
             0.7,
             "#b8e186"
            ],
            [
             0.8,
             "#7fbc41"
            ],
            [
             0.9,
             "#4d9221"
            ],
            [
             1,
             "#276419"
            ]
           ],
           "sequential": [
            [
             0,
             "#0d0887"
            ],
            [
             0.1111111111111111,
             "#46039f"
            ],
            [
             0.2222222222222222,
             "#7201a8"
            ],
            [
             0.3333333333333333,
             "#9c179e"
            ],
            [
             0.4444444444444444,
             "#bd3786"
            ],
            [
             0.5555555555555556,
             "#d8576b"
            ],
            [
             0.6666666666666666,
             "#ed7953"
            ],
            [
             0.7777777777777778,
             "#fb9f3a"
            ],
            [
             0.8888888888888888,
             "#fdca26"
            ],
            [
             1,
             "#f0f921"
            ]
           ],
           "sequentialminus": [
            [
             0,
             "#0d0887"
            ],
            [
             0.1111111111111111,
             "#46039f"
            ],
            [
             0.2222222222222222,
             "#7201a8"
            ],
            [
             0.3333333333333333,
             "#9c179e"
            ],
            [
             0.4444444444444444,
             "#bd3786"
            ],
            [
             0.5555555555555556,
             "#d8576b"
            ],
            [
             0.6666666666666666,
             "#ed7953"
            ],
            [
             0.7777777777777778,
             "#fb9f3a"
            ],
            [
             0.8888888888888888,
             "#fdca26"
            ],
            [
             1,
             "#f0f921"
            ]
           ]
          },
          "colorway": [
           "#636efa",
           "#EF553B",
           "#00cc96",
           "#ab63fa",
           "#FFA15A",
           "#19d3f3",
           "#FF6692",
           "#B6E880",
           "#FF97FF",
           "#FECB52"
          ],
          "font": {
           "color": "#2a3f5f"
          },
          "geo": {
           "bgcolor": "white",
           "lakecolor": "white",
           "landcolor": "#E5ECF6",
           "showlakes": true,
           "showland": true,
           "subunitcolor": "white"
          },
          "hoverlabel": {
           "align": "left"
          },
          "hovermode": "closest",
          "mapbox": {
           "style": "light"
          },
          "paper_bgcolor": "white",
          "plot_bgcolor": "#E5ECF6",
          "polar": {
           "angularaxis": {
            "gridcolor": "white",
            "linecolor": "white",
            "ticks": ""
           },
           "bgcolor": "#E5ECF6",
           "radialaxis": {
            "gridcolor": "white",
            "linecolor": "white",
            "ticks": ""
           }
          },
          "scene": {
           "xaxis": {
            "backgroundcolor": "#E5ECF6",
            "gridcolor": "white",
            "gridwidth": 2,
            "linecolor": "white",
            "showbackground": true,
            "ticks": "",
            "zerolinecolor": "white"
           },
           "yaxis": {
            "backgroundcolor": "#E5ECF6",
            "gridcolor": "white",
            "gridwidth": 2,
            "linecolor": "white",
            "showbackground": true,
            "ticks": "",
            "zerolinecolor": "white"
           },
           "zaxis": {
            "backgroundcolor": "#E5ECF6",
            "gridcolor": "white",
            "gridwidth": 2,
            "linecolor": "white",
            "showbackground": true,
            "ticks": "",
            "zerolinecolor": "white"
           }
          },
          "shapedefaults": {
           "line": {
            "color": "#2a3f5f"
           }
          },
          "ternary": {
           "aaxis": {
            "gridcolor": "white",
            "linecolor": "white",
            "ticks": ""
           },
           "baxis": {
            "gridcolor": "white",
            "linecolor": "white",
            "ticks": ""
           },
           "bgcolor": "#E5ECF6",
           "caxis": {
            "gridcolor": "white",
            "linecolor": "white",
            "ticks": ""
           }
          },
          "title": {
           "x": 0.05
          },
          "xaxis": {
           "automargin": true,
           "gridcolor": "white",
           "linecolor": "white",
           "ticks": "",
           "title": {
            "standoff": 15
           },
           "zerolinecolor": "white",
           "zerolinewidth": 2
          },
          "yaxis": {
           "automargin": true,
           "gridcolor": "white",
           "linecolor": "white",
           "ticks": "",
           "title": {
            "standoff": 15
           },
           "zerolinecolor": "white",
           "zerolinewidth": 2
          }
         }
        },
        "title": {
         "text": "AAPL Stock Price History (Candlestick Chart)"
        },
        "xaxis": {
         "rangeslider": {
          "visible": true
         },
         "title": {
          "text": "Date"
         }
        },
        "yaxis": {
         "title": {
          "text": "Price (USD)"
         }
        }
       }
      }
     },
     "metadata": {},
     "output_type": "display_data"
    }
   ],
   "source": [
    "import plotly.graph_objects as go\n",
    "fig = go.Figure(data=[go.Candlestick(x=price_history['Date'],\n",
    "                                     open=price_history[f'Open {ticker}'],\n",
    "                                     high=price_history[f'High {ticker}'],\n",
    "                                     low=price_history[f'Low {ticker}'],\n",
    "                                     close=price_history[f'Close {ticker}'])])\n",
    "fig.update_layout(title=f\"{ticker} Stock Price History (Candlestick Chart)\",\n",
    "                  xaxis_title=\"Date\",\n",
    "                  yaxis_title=f\"Price ({currency})\",\n",
    "                  xaxis_rangeslider_visible=True)\n",
    "fig.show()\n",
    "#st.plotly_chart(fig, use_container_width=True)"
   ]
  },
  {
   "cell_type": "code",
   "execution_count": 48,
   "id": "3dfbf1de",
   "metadata": {},
   "outputs": [
    {
     "data": {
      "text/plain": [
       "Index(['Date', 'Close AAPL', 'High AAPL', 'Low AAPL', 'Open AAPL',\n",
       "       'Volume AAPL'],\n",
       "      dtype='object')"
      ]
     },
     "execution_count": 48,
     "metadata": {},
     "output_type": "execute_result"
    }
   ],
   "source": [
    "price_history.columns"
   ]
  },
  {
   "cell_type": "code",
   "execution_count": null,
   "id": "1cd7b18e",
   "metadata": {},
   "outputs": [],
   "source": []
  },
  {
   "cell_type": "code",
   "execution_count": 53,
   "id": "1b9db4ae",
   "metadata": {},
   "outputs": [],
   "source": [
    "# --- 2. Calculate Moving Averages (20‑day & 50‑day) ---\n",
    "price_history[\"SMA_20\"] = price_history[f\"Close {ticker}\"].rolling(window=20).mean()\n",
    "price_history[\"SMA_50\"] = price_history[f\"Close {ticker}\"].rolling(window=50).mean()\n",
    "\n",
    "# --- 3. Calculate RSI (14‑period) ---\n",
    "delta = price_history[f\"Close {ticker}\"].diff()\n",
    "gain = delta.clip(lower=0)\n",
    "loss = -delta.clip(upper=0)\n",
    "\n",
    "avg_gain = gain.rolling(window=14).mean()\n",
    "avg_loss = loss.rolling(window=14).mean()\n",
    "\n",
    "rs = avg_gain / avg_loss\n",
    "price_history[\"RSI_14\"] = 100 - (100 / (1 + rs))\n",
    "\n",
    "# --- 4. Calculate MACD (12,26,9) ---\n",
    "ema12 = price_history[f\"Close {ticker}\"].ewm(span=12, adjust=False).mean()\n",
    "ema26 = price_history[f\"Close {ticker}\"].ewm(span=26, adjust=False).mean()\n",
    "price_history[\"MACD\"] = ema12 - ema26\n",
    "price_history[\"MACD_Signal\"] = price_history[\"MACD\"].ewm(span=9, adjust=False).mean()\n",
    "price_history[\"MACD_Hist\"] = price_history[\"MACD\"] - price_history[\"MACD_Signal\"]\n",
    "price_history = price_history.round(2)\n",
    "# --- 5. Fetch the latest real‑time price ---\n",
    "latest_price = yf.Ticker(ticker).fast_info[\"lastPrice\"]\n",
    "\n",
    "# # Display last 5 rows with indicators + latest price for context\n",
    "# display_columns = [\"Date\", \"Adj Close\", \"SMA_20\", \"SMA_50\", \"RSI_14\", \"MACD\", \"MACD_Signal\", \"MACD_Hist\"]\n",
    "# tools.display_dataframe_to_user(\"TSLA_Indicators_Last5\", df[display_columns].tail())\n",
    "\n",
    "# print(f\"Latest TSLA price (real‑time): ${latest_price:.2f}\")\n"
   ]
  },
  {
   "cell_type": "code",
   "execution_count": 54,
   "id": "8d8ec019",
   "metadata": {},
   "outputs": [
    {
     "data": {
      "text/html": [
       "<div>\n",
       "<style scoped>\n",
       "    .dataframe tbody tr th:only-of-type {\n",
       "        vertical-align: middle;\n",
       "    }\n",
       "\n",
       "    .dataframe tbody tr th {\n",
       "        vertical-align: top;\n",
       "    }\n",
       "\n",
       "    .dataframe thead th {\n",
       "        text-align: right;\n",
       "    }\n",
       "</style>\n",
       "<table border=\"1\" class=\"dataframe\">\n",
       "  <thead>\n",
       "    <tr style=\"text-align: right;\">\n",
       "      <th></th>\n",
       "      <th>Date</th>\n",
       "      <th>Close AAPL</th>\n",
       "      <th>High AAPL</th>\n",
       "      <th>Low AAPL</th>\n",
       "      <th>Open AAPL</th>\n",
       "      <th>Volume AAPL</th>\n",
       "      <th>SMA_20</th>\n",
       "      <th>SMA_50</th>\n",
       "      <th>RSI_14</th>\n",
       "      <th>MACD</th>\n",
       "      <th>MACD_Signal</th>\n",
       "      <th>MACD_Hist</th>\n",
       "    </tr>\n",
       "  </thead>\n",
       "  <tbody>\n",
       "    <tr>\n",
       "      <th>500</th>\n",
       "      <td>2025-07-22</td>\n",
       "      <td>214.40</td>\n",
       "      <td>214.65</td>\n",
       "      <td>212.23</td>\n",
       "      <td>213.24</td>\n",
       "      <td>44917713</td>\n",
       "      <td>NaN</td>\n",
       "      <td>NaN</td>\n",
       "      <td>NaN</td>\n",
       "      <td>0.00</td>\n",
       "      <td>0.00</td>\n",
       "      <td>0.00</td>\n",
       "    </tr>\n",
       "    <tr>\n",
       "      <th>499</th>\n",
       "      <td>2025-07-21</td>\n",
       "      <td>212.48</td>\n",
       "      <td>215.78</td>\n",
       "      <td>211.63</td>\n",
       "      <td>212.10</td>\n",
       "      <td>51377400</td>\n",
       "      <td>NaN</td>\n",
       "      <td>NaN</td>\n",
       "      <td>NaN</td>\n",
       "      <td>-0.15</td>\n",
       "      <td>-0.03</td>\n",
       "      <td>-0.12</td>\n",
       "    </tr>\n",
       "    <tr>\n",
       "      <th>498</th>\n",
       "      <td>2025-07-18</td>\n",
       "      <td>211.18</td>\n",
       "      <td>211.79</td>\n",
       "      <td>209.70</td>\n",
       "      <td>210.87</td>\n",
       "      <td>48974600</td>\n",
       "      <td>NaN</td>\n",
       "      <td>NaN</td>\n",
       "      <td>NaN</td>\n",
       "      <td>-0.38</td>\n",
       "      <td>-0.10</td>\n",
       "      <td>-0.28</td>\n",
       "    </tr>\n",
       "    <tr>\n",
       "      <th>497</th>\n",
       "      <td>2025-07-17</td>\n",
       "      <td>210.02</td>\n",
       "      <td>211.80</td>\n",
       "      <td>209.59</td>\n",
       "      <td>210.57</td>\n",
       "      <td>48068100</td>\n",
       "      <td>NaN</td>\n",
       "      <td>NaN</td>\n",
       "      <td>NaN</td>\n",
       "      <td>-0.64</td>\n",
       "      <td>-0.21</td>\n",
       "      <td>-0.43</td>\n",
       "    </tr>\n",
       "    <tr>\n",
       "      <th>496</th>\n",
       "      <td>2025-07-16</td>\n",
       "      <td>210.16</td>\n",
       "      <td>212.40</td>\n",
       "      <td>208.64</td>\n",
       "      <td>210.30</td>\n",
       "      <td>47490500</td>\n",
       "      <td>NaN</td>\n",
       "      <td>NaN</td>\n",
       "      <td>NaN</td>\n",
       "      <td>-0.82</td>\n",
       "      <td>-0.33</td>\n",
       "      <td>-0.49</td>\n",
       "    </tr>\n",
       "    <tr>\n",
       "      <th>...</th>\n",
       "      <td>...</td>\n",
       "      <td>...</td>\n",
       "      <td>...</td>\n",
       "      <td>...</td>\n",
       "      <td>...</td>\n",
       "      <td>...</td>\n",
       "      <td>...</td>\n",
       "      <td>...</td>\n",
       "      <td>...</td>\n",
       "      <td>...</td>\n",
       "      <td>...</td>\n",
       "      <td>...</td>\n",
       "    </tr>\n",
       "    <tr>\n",
       "      <th>4</th>\n",
       "      <td>2023-07-28</td>\n",
       "      <td>193.89</td>\n",
       "      <td>194.68</td>\n",
       "      <td>192.22</td>\n",
       "      <td>192.74</td>\n",
       "      <td>48291400</td>\n",
       "      <td>180.25</td>\n",
       "      <td>177.80</td>\n",
       "      <td>88.32</td>\n",
       "      <td>3.97</td>\n",
       "      <td>1.96</td>\n",
       "      <td>2.01</td>\n",
       "    </tr>\n",
       "    <tr>\n",
       "      <th>3</th>\n",
       "      <td>2023-07-27</td>\n",
       "      <td>191.30</td>\n",
       "      <td>195.25</td>\n",
       "      <td>190.64</td>\n",
       "      <td>194.08</td>\n",
       "      <td>47460200</td>\n",
       "      <td>181.08</td>\n",
       "      <td>178.11</td>\n",
       "      <td>79.06</td>\n",
       "      <td>4.10</td>\n",
       "      <td>2.39</td>\n",
       "      <td>1.71</td>\n",
       "    </tr>\n",
       "    <tr>\n",
       "      <th>2</th>\n",
       "      <td>2023-07-26</td>\n",
       "      <td>192.57</td>\n",
       "      <td>193.70</td>\n",
       "      <td>191.40</td>\n",
       "      <td>191.75</td>\n",
       "      <td>47471900</td>\n",
       "      <td>181.73</td>\n",
       "      <td>178.49</td>\n",
       "      <td>79.36</td>\n",
       "      <td>4.25</td>\n",
       "      <td>2.76</td>\n",
       "      <td>1.49</td>\n",
       "    </tr>\n",
       "    <tr>\n",
       "      <th>1</th>\n",
       "      <td>2023-07-25</td>\n",
       "      <td>191.70</td>\n",
       "      <td>192.51</td>\n",
       "      <td>191.01</td>\n",
       "      <td>191.41</td>\n",
       "      <td>37283200</td>\n",
       "      <td>182.52</td>\n",
       "      <td>178.88</td>\n",
       "      <td>75.31</td>\n",
       "      <td>4.25</td>\n",
       "      <td>3.06</td>\n",
       "      <td>1.19</td>\n",
       "    </tr>\n",
       "    <tr>\n",
       "      <th>0</th>\n",
       "      <td>2023-07-24</td>\n",
       "      <td>190.84</td>\n",
       "      <td>192.98</td>\n",
       "      <td>190.34</td>\n",
       "      <td>191.49</td>\n",
       "      <td>45377800</td>\n",
       "      <td>183.35</td>\n",
       "      <td>179.28</td>\n",
       "      <td>77.56</td>\n",
       "      <td>4.13</td>\n",
       "      <td>3.27</td>\n",
       "      <td>0.86</td>\n",
       "    </tr>\n",
       "  </tbody>\n",
       "</table>\n",
       "<p>501 rows × 12 columns</p>\n",
       "</div>"
      ],
      "text/plain": [
       "          Date  Close AAPL  High AAPL  Low AAPL  Open AAPL  Volume AAPL  \\\n",
       "500 2025-07-22      214.40     214.65    212.23     213.24     44917713   \n",
       "499 2025-07-21      212.48     215.78    211.63     212.10     51377400   \n",
       "498 2025-07-18      211.18     211.79    209.70     210.87     48974600   \n",
       "497 2025-07-17      210.02     211.80    209.59     210.57     48068100   \n",
       "496 2025-07-16      210.16     212.40    208.64     210.30     47490500   \n",
       "..         ...         ...        ...       ...        ...          ...   \n",
       "4   2023-07-28      193.89     194.68    192.22     192.74     48291400   \n",
       "3   2023-07-27      191.30     195.25    190.64     194.08     47460200   \n",
       "2   2023-07-26      192.57     193.70    191.40     191.75     47471900   \n",
       "1   2023-07-25      191.70     192.51    191.01     191.41     37283200   \n",
       "0   2023-07-24      190.84     192.98    190.34     191.49     45377800   \n",
       "\n",
       "     SMA_20  SMA_50  RSI_14  MACD  MACD_Signal  MACD_Hist  \n",
       "500     NaN     NaN     NaN  0.00         0.00       0.00  \n",
       "499     NaN     NaN     NaN -0.15        -0.03      -0.12  \n",
       "498     NaN     NaN     NaN -0.38        -0.10      -0.28  \n",
       "497     NaN     NaN     NaN -0.64        -0.21      -0.43  \n",
       "496     NaN     NaN     NaN -0.82        -0.33      -0.49  \n",
       "..      ...     ...     ...   ...          ...        ...  \n",
       "4    180.25  177.80   88.32  3.97         1.96       2.01  \n",
       "3    181.08  178.11   79.06  4.10         2.39       1.71  \n",
       "2    181.73  178.49   79.36  4.25         2.76       1.49  \n",
       "1    182.52  178.88   75.31  4.25         3.06       1.19  \n",
       "0    183.35  179.28   77.56  4.13         3.27       0.86  \n",
       "\n",
       "[501 rows x 12 columns]"
      ]
     },
     "execution_count": 54,
     "metadata": {},
     "output_type": "execute_result"
    }
   ],
   "source": [
    "price_history"
   ]
  },
  {
   "cell_type": "code",
   "execution_count": null,
   "id": "765a70af",
   "metadata": {},
   "outputs": [
    {
     "data": {
      "application/vnd.plotly.v1+json": {
       "config": {
        "plotlyServerURL": "https://plot.ly"
       },
       "data": [
        {
         "mode": "lines",
         "name": "Close AAPL",
         "type": "scatter",
         "x": [
          "2023-07-24T00:00:00",
          "2023-07-25T00:00:00",
          "2023-07-26T00:00:00",
          "2023-07-27T00:00:00",
          "2023-07-28T00:00:00",
          "2023-07-31T00:00:00",
          "2023-08-01T00:00:00",
          "2023-08-02T00:00:00",
          "2023-08-03T00:00:00",
          "2023-08-04T00:00:00",
          "2023-08-07T00:00:00",
          "2023-08-08T00:00:00",
          "2023-08-09T00:00:00",
          "2023-08-10T00:00:00",
          "2023-08-11T00:00:00",
          "2023-08-14T00:00:00",
          "2023-08-15T00:00:00",
          "2023-08-16T00:00:00",
          "2023-08-17T00:00:00",
          "2023-08-18T00:00:00",
          "2023-08-21T00:00:00",
          "2023-08-22T00:00:00",
          "2023-08-23T00:00:00",
          "2023-08-24T00:00:00",
          "2023-08-25T00:00:00",
          "2023-08-28T00:00:00",
          "2023-08-29T00:00:00",
          "2023-08-30T00:00:00",
          "2023-08-31T00:00:00",
          "2023-09-01T00:00:00",
          "2023-09-05T00:00:00",
          "2023-09-06T00:00:00",
          "2023-09-07T00:00:00",
          "2023-09-08T00:00:00",
          "2023-09-11T00:00:00",
          "2023-09-12T00:00:00",
          "2023-09-13T00:00:00",
          "2023-09-14T00:00:00",
          "2023-09-15T00:00:00",
          "2023-09-18T00:00:00",
          "2023-09-19T00:00:00",
          "2023-09-20T00:00:00",
          "2023-09-21T00:00:00",
          "2023-09-22T00:00:00",
          "2023-09-25T00:00:00",
          "2023-09-26T00:00:00",
          "2023-09-27T00:00:00",
          "2023-09-28T00:00:00",
          "2023-09-29T00:00:00",
          "2023-10-02T00:00:00",
          "2023-10-03T00:00:00",
          "2023-10-04T00:00:00",
          "2023-10-05T00:00:00",
          "2023-10-06T00:00:00",
          "2023-10-09T00:00:00",
          "2023-10-10T00:00:00",
          "2023-10-11T00:00:00",
          "2023-10-12T00:00:00",
          "2023-10-13T00:00:00",
          "2023-10-16T00:00:00",
          "2023-10-17T00:00:00",
          "2023-10-18T00:00:00",
          "2023-10-19T00:00:00",
          "2023-10-20T00:00:00",
          "2023-10-23T00:00:00",
          "2023-10-24T00:00:00",
          "2023-10-25T00:00:00",
          "2023-10-26T00:00:00",
          "2023-10-27T00:00:00",
          "2023-10-30T00:00:00",
          "2023-10-31T00:00:00",
          "2023-11-01T00:00:00",
          "2023-11-02T00:00:00",
          "2023-11-03T00:00:00",
          "2023-11-06T00:00:00",
          "2023-11-07T00:00:00",
          "2023-11-08T00:00:00",
          "2023-11-09T00:00:00",
          "2023-11-10T00:00:00",
          "2023-11-13T00:00:00",
          "2023-11-14T00:00:00",
          "2023-11-15T00:00:00",
          "2023-11-16T00:00:00",
          "2023-11-17T00:00:00",
          "2023-11-20T00:00:00",
          "2023-11-21T00:00:00",
          "2023-11-22T00:00:00",
          "2023-11-24T00:00:00",
          "2023-11-27T00:00:00",
          "2023-11-28T00:00:00",
          "2023-11-29T00:00:00",
          "2023-11-30T00:00:00",
          "2023-12-01T00:00:00",
          "2023-12-04T00:00:00",
          "2023-12-05T00:00:00",
          "2023-12-06T00:00:00",
          "2023-12-07T00:00:00",
          "2023-12-08T00:00:00",
          "2023-12-11T00:00:00",
          "2023-12-12T00:00:00",
          "2023-12-13T00:00:00",
          "2023-12-14T00:00:00",
          "2023-12-15T00:00:00",
          "2023-12-18T00:00:00",
          "2023-12-19T00:00:00",
          "2023-12-20T00:00:00",
          "2023-12-21T00:00:00",
          "2023-12-22T00:00:00",
          "2023-12-26T00:00:00",
          "2023-12-27T00:00:00",
          "2023-12-28T00:00:00",
          "2023-12-29T00:00:00",
          "2024-01-02T00:00:00",
          "2024-01-03T00:00:00",
          "2024-01-04T00:00:00",
          "2024-01-05T00:00:00",
          "2024-01-08T00:00:00",
          "2024-01-09T00:00:00",
          "2024-01-10T00:00:00",
          "2024-01-11T00:00:00",
          "2024-01-12T00:00:00",
          "2024-01-16T00:00:00",
          "2024-01-17T00:00:00",
          "2024-01-18T00:00:00",
          "2024-01-19T00:00:00",
          "2024-01-22T00:00:00",
          "2024-01-23T00:00:00",
          "2024-01-24T00:00:00",
          "2024-01-25T00:00:00",
          "2024-01-26T00:00:00",
          "2024-01-29T00:00:00",
          "2024-01-30T00:00:00",
          "2024-01-31T00:00:00",
          "2024-02-01T00:00:00",
          "2024-02-02T00:00:00",
          "2024-02-05T00:00:00",
          "2024-02-06T00:00:00",
          "2024-02-07T00:00:00",
          "2024-02-08T00:00:00",
          "2024-02-09T00:00:00",
          "2024-02-12T00:00:00",
          "2024-02-13T00:00:00",
          "2024-02-14T00:00:00",
          "2024-02-15T00:00:00",
          "2024-02-16T00:00:00",
          "2024-02-20T00:00:00",
          "2024-02-21T00:00:00",
          "2024-02-22T00:00:00",
          "2024-02-23T00:00:00",
          "2024-02-26T00:00:00",
          "2024-02-27T00:00:00",
          "2024-02-28T00:00:00",
          "2024-02-29T00:00:00",
          "2024-03-01T00:00:00",
          "2024-03-04T00:00:00",
          "2024-03-05T00:00:00",
          "2024-03-06T00:00:00",
          "2024-03-07T00:00:00",
          "2024-03-08T00:00:00",
          "2024-03-11T00:00:00",
          "2024-03-12T00:00:00",
          "2024-03-13T00:00:00",
          "2024-03-14T00:00:00",
          "2024-03-15T00:00:00",
          "2024-03-18T00:00:00",
          "2024-03-19T00:00:00",
          "2024-03-20T00:00:00",
          "2024-03-21T00:00:00",
          "2024-03-22T00:00:00",
          "2024-03-25T00:00:00",
          "2024-03-26T00:00:00",
          "2024-03-27T00:00:00",
          "2024-03-28T00:00:00",
          "2024-04-01T00:00:00",
          "2024-04-02T00:00:00",
          "2024-04-03T00:00:00",
          "2024-04-04T00:00:00",
          "2024-04-05T00:00:00",
          "2024-04-08T00:00:00",
          "2024-04-09T00:00:00",
          "2024-04-10T00:00:00",
          "2024-04-11T00:00:00",
          "2024-04-12T00:00:00",
          "2024-04-15T00:00:00",
          "2024-04-16T00:00:00",
          "2024-04-17T00:00:00",
          "2024-04-18T00:00:00",
          "2024-04-19T00:00:00",
          "2024-04-22T00:00:00",
          "2024-04-23T00:00:00",
          "2024-04-24T00:00:00",
          "2024-04-25T00:00:00",
          "2024-04-26T00:00:00",
          "2024-04-29T00:00:00",
          "2024-04-30T00:00:00",
          "2024-05-01T00:00:00",
          "2024-05-02T00:00:00",
          "2024-05-03T00:00:00",
          "2024-05-06T00:00:00",
          "2024-05-07T00:00:00",
          "2024-05-08T00:00:00",
          "2024-05-09T00:00:00",
          "2024-05-10T00:00:00",
          "2024-05-13T00:00:00",
          "2024-05-14T00:00:00",
          "2024-05-15T00:00:00",
          "2024-05-16T00:00:00",
          "2024-05-17T00:00:00",
          "2024-05-20T00:00:00",
          "2024-05-21T00:00:00",
          "2024-05-22T00:00:00",
          "2024-05-23T00:00:00",
          "2024-05-24T00:00:00",
          "2024-05-28T00:00:00",
          "2024-05-29T00:00:00",
          "2024-05-30T00:00:00",
          "2024-05-31T00:00:00",
          "2024-06-03T00:00:00",
          "2024-06-04T00:00:00",
          "2024-06-05T00:00:00",
          "2024-06-06T00:00:00",
          "2024-06-07T00:00:00",
          "2024-06-10T00:00:00",
          "2024-06-11T00:00:00",
          "2024-06-12T00:00:00",
          "2024-06-13T00:00:00",
          "2024-06-14T00:00:00",
          "2024-06-17T00:00:00",
          "2024-06-18T00:00:00",
          "2024-06-20T00:00:00",
          "2024-06-21T00:00:00",
          "2024-06-24T00:00:00",
          "2024-06-25T00:00:00",
          "2024-06-26T00:00:00",
          "2024-06-27T00:00:00",
          "2024-06-28T00:00:00",
          "2024-07-01T00:00:00",
          "2024-07-02T00:00:00",
          "2024-07-03T00:00:00",
          "2024-07-05T00:00:00",
          "2024-07-08T00:00:00",
          "2024-07-09T00:00:00",
          "2024-07-10T00:00:00",
          "2024-07-11T00:00:00",
          "2024-07-12T00:00:00",
          "2024-07-15T00:00:00",
          "2024-07-16T00:00:00",
          "2024-07-17T00:00:00",
          "2024-07-18T00:00:00",
          "2024-07-19T00:00:00",
          "2024-07-22T00:00:00",
          "2024-07-23T00:00:00",
          "2024-07-24T00:00:00",
          "2024-07-25T00:00:00",
          "2024-07-26T00:00:00",
          "2024-07-29T00:00:00",
          "2024-07-30T00:00:00",
          "2024-07-31T00:00:00",
          "2024-08-01T00:00:00",
          "2024-08-02T00:00:00",
          "2024-08-05T00:00:00",
          "2024-08-06T00:00:00",
          "2024-08-07T00:00:00",
          "2024-08-08T00:00:00",
          "2024-08-09T00:00:00",
          "2024-08-12T00:00:00",
          "2024-08-13T00:00:00",
          "2024-08-14T00:00:00",
          "2024-08-15T00:00:00",
          "2024-08-16T00:00:00",
          "2024-08-19T00:00:00",
          "2024-08-20T00:00:00",
          "2024-08-21T00:00:00",
          "2024-08-22T00:00:00",
          "2024-08-23T00:00:00",
          "2024-08-26T00:00:00",
          "2024-08-27T00:00:00",
          "2024-08-28T00:00:00",
          "2024-08-29T00:00:00",
          "2024-08-30T00:00:00",
          "2024-09-03T00:00:00",
          "2024-09-04T00:00:00",
          "2024-09-05T00:00:00",
          "2024-09-06T00:00:00",
          "2024-09-09T00:00:00",
          "2024-09-10T00:00:00",
          "2024-09-11T00:00:00",
          "2024-09-12T00:00:00",
          "2024-09-13T00:00:00",
          "2024-09-16T00:00:00",
          "2024-09-17T00:00:00",
          "2024-09-18T00:00:00",
          "2024-09-19T00:00:00",
          "2024-09-20T00:00:00",
          "2024-09-23T00:00:00",
          "2024-09-24T00:00:00",
          "2024-09-25T00:00:00",
          "2024-09-26T00:00:00",
          "2024-09-27T00:00:00",
          "2024-09-30T00:00:00",
          "2024-10-01T00:00:00",
          "2024-10-02T00:00:00",
          "2024-10-03T00:00:00",
          "2024-10-04T00:00:00",
          "2024-10-07T00:00:00",
          "2024-10-08T00:00:00",
          "2024-10-09T00:00:00",
          "2024-10-10T00:00:00",
          "2024-10-11T00:00:00",
          "2024-10-14T00:00:00",
          "2024-10-15T00:00:00",
          "2024-10-16T00:00:00",
          "2024-10-17T00:00:00",
          "2024-10-18T00:00:00",
          "2024-10-21T00:00:00",
          "2024-10-22T00:00:00",
          "2024-10-23T00:00:00",
          "2024-10-24T00:00:00",
          "2024-10-25T00:00:00",
          "2024-10-28T00:00:00",
          "2024-10-29T00:00:00",
          "2024-10-30T00:00:00",
          "2024-10-31T00:00:00",
          "2024-11-01T00:00:00",
          "2024-11-04T00:00:00",
          "2024-11-05T00:00:00",
          "2024-11-06T00:00:00",
          "2024-11-07T00:00:00",
          "2024-11-08T00:00:00",
          "2024-11-11T00:00:00",
          "2024-11-12T00:00:00",
          "2024-11-13T00:00:00",
          "2024-11-14T00:00:00",
          "2024-11-15T00:00:00",
          "2024-11-18T00:00:00",
          "2024-11-19T00:00:00",
          "2024-11-20T00:00:00",
          "2024-11-21T00:00:00",
          "2024-11-22T00:00:00",
          "2024-11-25T00:00:00",
          "2024-11-26T00:00:00",
          "2024-11-27T00:00:00",
          "2024-11-29T00:00:00",
          "2024-12-02T00:00:00",
          "2024-12-03T00:00:00",
          "2024-12-04T00:00:00",
          "2024-12-05T00:00:00",
          "2024-12-06T00:00:00",
          "2024-12-09T00:00:00",
          "2024-12-10T00:00:00",
          "2024-12-11T00:00:00",
          "2024-12-12T00:00:00",
          "2024-12-13T00:00:00",
          "2024-12-16T00:00:00",
          "2024-12-17T00:00:00",
          "2024-12-18T00:00:00",
          "2024-12-19T00:00:00",
          "2024-12-20T00:00:00",
          "2024-12-23T00:00:00",
          "2024-12-24T00:00:00",
          "2024-12-26T00:00:00",
          "2024-12-27T00:00:00",
          "2024-12-30T00:00:00",
          "2024-12-31T00:00:00",
          "2025-01-02T00:00:00",
          "2025-01-03T00:00:00",
          "2025-01-06T00:00:00",
          "2025-01-07T00:00:00",
          "2025-01-08T00:00:00",
          "2025-01-10T00:00:00",
          "2025-01-13T00:00:00",
          "2025-01-14T00:00:00",
          "2025-01-15T00:00:00",
          "2025-01-16T00:00:00",
          "2025-01-17T00:00:00",
          "2025-01-21T00:00:00",
          "2025-01-22T00:00:00",
          "2025-01-23T00:00:00",
          "2025-01-24T00:00:00",
          "2025-01-27T00:00:00",
          "2025-01-28T00:00:00",
          "2025-01-29T00:00:00",
          "2025-01-30T00:00:00",
          "2025-01-31T00:00:00",
          "2025-02-03T00:00:00",
          "2025-02-04T00:00:00",
          "2025-02-05T00:00:00",
          "2025-02-06T00:00:00",
          "2025-02-07T00:00:00",
          "2025-02-10T00:00:00",
          "2025-02-11T00:00:00",
          "2025-02-12T00:00:00",
          "2025-02-13T00:00:00",
          "2025-02-14T00:00:00",
          "2025-02-18T00:00:00",
          "2025-02-19T00:00:00",
          "2025-02-20T00:00:00",
          "2025-02-21T00:00:00",
          "2025-02-24T00:00:00",
          "2025-02-25T00:00:00",
          "2025-02-26T00:00:00",
          "2025-02-27T00:00:00",
          "2025-02-28T00:00:00",
          "2025-03-03T00:00:00",
          "2025-03-04T00:00:00",
          "2025-03-05T00:00:00",
          "2025-03-06T00:00:00",
          "2025-03-07T00:00:00",
          "2025-03-10T00:00:00",
          "2025-03-11T00:00:00",
          "2025-03-12T00:00:00",
          "2025-03-13T00:00:00",
          "2025-03-14T00:00:00",
          "2025-03-17T00:00:00",
          "2025-03-18T00:00:00",
          "2025-03-19T00:00:00",
          "2025-03-20T00:00:00",
          "2025-03-21T00:00:00",
          "2025-03-24T00:00:00",
          "2025-03-25T00:00:00",
          "2025-03-26T00:00:00",
          "2025-03-27T00:00:00",
          "2025-03-28T00:00:00",
          "2025-03-31T00:00:00",
          "2025-04-01T00:00:00",
          "2025-04-02T00:00:00",
          "2025-04-03T00:00:00",
          "2025-04-04T00:00:00",
          "2025-04-07T00:00:00",
          "2025-04-08T00:00:00",
          "2025-04-09T00:00:00",
          "2025-04-10T00:00:00",
          "2025-04-11T00:00:00",
          "2025-04-14T00:00:00",
          "2025-04-15T00:00:00",
          "2025-04-16T00:00:00",
          "2025-04-17T00:00:00",
          "2025-04-21T00:00:00",
          "2025-04-22T00:00:00",
          "2025-04-23T00:00:00",
          "2025-04-24T00:00:00",
          "2025-04-25T00:00:00",
          "2025-04-28T00:00:00",
          "2025-04-29T00:00:00",
          "2025-04-30T00:00:00",
          "2025-05-01T00:00:00",
          "2025-05-02T00:00:00",
          "2025-05-05T00:00:00",
          "2025-05-06T00:00:00",
          "2025-05-07T00:00:00",
          "2025-05-08T00:00:00",
          "2025-05-09T00:00:00",
          "2025-05-12T00:00:00",
          "2025-05-13T00:00:00",
          "2025-05-14T00:00:00",
          "2025-05-15T00:00:00",
          "2025-05-16T00:00:00",
          "2025-05-19T00:00:00",
          "2025-05-20T00:00:00",
          "2025-05-21T00:00:00",
          "2025-05-22T00:00:00",
          "2025-05-23T00:00:00",
          "2025-05-27T00:00:00",
          "2025-05-28T00:00:00",
          "2025-05-29T00:00:00",
          "2025-05-30T00:00:00",
          "2025-06-02T00:00:00",
          "2025-06-03T00:00:00",
          "2025-06-04T00:00:00",
          "2025-06-05T00:00:00",
          "2025-06-06T00:00:00",
          "2025-06-09T00:00:00",
          "2025-06-10T00:00:00",
          "2025-06-11T00:00:00",
          "2025-06-12T00:00:00",
          "2025-06-13T00:00:00",
          "2025-06-16T00:00:00",
          "2025-06-17T00:00:00",
          "2025-06-18T00:00:00",
          "2025-06-20T00:00:00",
          "2025-06-23T00:00:00",
          "2025-06-24T00:00:00",
          "2025-06-25T00:00:00",
          "2025-06-26T00:00:00",
          "2025-06-27T00:00:00",
          "2025-06-30T00:00:00",
          "2025-07-01T00:00:00",
          "2025-07-02T00:00:00",
          "2025-07-03T00:00:00",
          "2025-07-07T00:00:00",
          "2025-07-08T00:00:00",
          "2025-07-09T00:00:00",
          "2025-07-10T00:00:00",
          "2025-07-11T00:00:00",
          "2025-07-14T00:00:00",
          "2025-07-15T00:00:00",
          "2025-07-16T00:00:00",
          "2025-07-17T00:00:00",
          "2025-07-18T00:00:00",
          "2025-07-21T00:00:00",
          "2025-07-22T00:00:00"
         ],
         "y": {
          "bdata": "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",
          "dtype": "f8"
         }
        },
        {
         "mode": "lines",
         "name": "20‑day SMA",
         "type": "scatter",
         "x": [
          "2023-07-24T00:00:00",
          "2023-07-25T00:00:00",
          "2023-07-26T00:00:00",
          "2023-07-27T00:00:00",
          "2023-07-28T00:00:00",
          "2023-07-31T00:00:00",
          "2023-08-01T00:00:00",
          "2023-08-02T00:00:00",
          "2023-08-03T00:00:00",
          "2023-08-04T00:00:00",
          "2023-08-07T00:00:00",
          "2023-08-08T00:00:00",
          "2023-08-09T00:00:00",
          "2023-08-10T00:00:00",
          "2023-08-11T00:00:00",
          "2023-08-14T00:00:00",
          "2023-08-15T00:00:00",
          "2023-08-16T00:00:00",
          "2023-08-17T00:00:00",
          "2023-08-18T00:00:00",
          "2023-08-21T00:00:00",
          "2023-08-22T00:00:00",
          "2023-08-23T00:00:00",
          "2023-08-24T00:00:00",
          "2023-08-25T00:00:00",
          "2023-08-28T00:00:00",
          "2023-08-29T00:00:00",
          "2023-08-30T00:00:00",
          "2023-08-31T00:00:00",
          "2023-09-01T00:00:00",
          "2023-09-05T00:00:00",
          "2023-09-06T00:00:00",
          "2023-09-07T00:00:00",
          "2023-09-08T00:00:00",
          "2023-09-11T00:00:00",
          "2023-09-12T00:00:00",
          "2023-09-13T00:00:00",
          "2023-09-14T00:00:00",
          "2023-09-15T00:00:00",
          "2023-09-18T00:00:00",
          "2023-09-19T00:00:00",
          "2023-09-20T00:00:00",
          "2023-09-21T00:00:00",
          "2023-09-22T00:00:00",
          "2023-09-25T00:00:00",
          "2023-09-26T00:00:00",
          "2023-09-27T00:00:00",
          "2023-09-28T00:00:00",
          "2023-09-29T00:00:00",
          "2023-10-02T00:00:00",
          "2023-10-03T00:00:00",
          "2023-10-04T00:00:00",
          "2023-10-05T00:00:00",
          "2023-10-06T00:00:00",
          "2023-10-09T00:00:00",
          "2023-10-10T00:00:00",
          "2023-10-11T00:00:00",
          "2023-10-12T00:00:00",
          "2023-10-13T00:00:00",
          "2023-10-16T00:00:00",
          "2023-10-17T00:00:00",
          "2023-10-18T00:00:00",
          "2023-10-19T00:00:00",
          "2023-10-20T00:00:00",
          "2023-10-23T00:00:00",
          "2023-10-24T00:00:00",
          "2023-10-25T00:00:00",
          "2023-10-26T00:00:00",
          "2023-10-27T00:00:00",
          "2023-10-30T00:00:00",
          "2023-10-31T00:00:00",
          "2023-11-01T00:00:00",
          "2023-11-02T00:00:00",
          "2023-11-03T00:00:00",
          "2023-11-06T00:00:00",
          "2023-11-07T00:00:00",
          "2023-11-08T00:00:00",
          "2023-11-09T00:00:00",
          "2023-11-10T00:00:00",
          "2023-11-13T00:00:00",
          "2023-11-14T00:00:00",
          "2023-11-15T00:00:00",
          "2023-11-16T00:00:00",
          "2023-11-17T00:00:00",
          "2023-11-20T00:00:00",
          "2023-11-21T00:00:00",
          "2023-11-22T00:00:00",
          "2023-11-24T00:00:00",
          "2023-11-27T00:00:00",
          "2023-11-28T00:00:00",
          "2023-11-29T00:00:00",
          "2023-11-30T00:00:00",
          "2023-12-01T00:00:00",
          "2023-12-04T00:00:00",
          "2023-12-05T00:00:00",
          "2023-12-06T00:00:00",
          "2023-12-07T00:00:00",
          "2023-12-08T00:00:00",
          "2023-12-11T00:00:00",
          "2023-12-12T00:00:00",
          "2023-12-13T00:00:00",
          "2023-12-14T00:00:00",
          "2023-12-15T00:00:00",
          "2023-12-18T00:00:00",
          "2023-12-19T00:00:00",
          "2023-12-20T00:00:00",
          "2023-12-21T00:00:00",
          "2023-12-22T00:00:00",
          "2023-12-26T00:00:00",
          "2023-12-27T00:00:00",
          "2023-12-28T00:00:00",
          "2023-12-29T00:00:00",
          "2024-01-02T00:00:00",
          "2024-01-03T00:00:00",
          "2024-01-04T00:00:00",
          "2024-01-05T00:00:00",
          "2024-01-08T00:00:00",
          "2024-01-09T00:00:00",
          "2024-01-10T00:00:00",
          "2024-01-11T00:00:00",
          "2024-01-12T00:00:00",
          "2024-01-16T00:00:00",
          "2024-01-17T00:00:00",
          "2024-01-18T00:00:00",
          "2024-01-19T00:00:00",
          "2024-01-22T00:00:00",
          "2024-01-23T00:00:00",
          "2024-01-24T00:00:00",
          "2024-01-25T00:00:00",
          "2024-01-26T00:00:00",
          "2024-01-29T00:00:00",
          "2024-01-30T00:00:00",
          "2024-01-31T00:00:00",
          "2024-02-01T00:00:00",
          "2024-02-02T00:00:00",
          "2024-02-05T00:00:00",
          "2024-02-06T00:00:00",
          "2024-02-07T00:00:00",
          "2024-02-08T00:00:00",
          "2024-02-09T00:00:00",
          "2024-02-12T00:00:00",
          "2024-02-13T00:00:00",
          "2024-02-14T00:00:00",
          "2024-02-15T00:00:00",
          "2024-02-16T00:00:00",
          "2024-02-20T00:00:00",
          "2024-02-21T00:00:00",
          "2024-02-22T00:00:00",
          "2024-02-23T00:00:00",
          "2024-02-26T00:00:00",
          "2024-02-27T00:00:00",
          "2024-02-28T00:00:00",
          "2024-02-29T00:00:00",
          "2024-03-01T00:00:00",
          "2024-03-04T00:00:00",
          "2024-03-05T00:00:00",
          "2024-03-06T00:00:00",
          "2024-03-07T00:00:00",
          "2024-03-08T00:00:00",
          "2024-03-11T00:00:00",
          "2024-03-12T00:00:00",
          "2024-03-13T00:00:00",
          "2024-03-14T00:00:00",
          "2024-03-15T00:00:00",
          "2024-03-18T00:00:00",
          "2024-03-19T00:00:00",
          "2024-03-20T00:00:00",
          "2024-03-21T00:00:00",
          "2024-03-22T00:00:00",
          "2024-03-25T00:00:00",
          "2024-03-26T00:00:00",
          "2024-03-27T00:00:00",
          "2024-03-28T00:00:00",
          "2024-04-01T00:00:00",
          "2024-04-02T00:00:00",
          "2024-04-03T00:00:00",
          "2024-04-04T00:00:00",
          "2024-04-05T00:00:00",
          "2024-04-08T00:00:00",
          "2024-04-09T00:00:00",
          "2024-04-10T00:00:00",
          "2024-04-11T00:00:00",
          "2024-04-12T00:00:00",
          "2024-04-15T00:00:00",
          "2024-04-16T00:00:00",
          "2024-04-17T00:00:00",
          "2024-04-18T00:00:00",
          "2024-04-19T00:00:00",
          "2024-04-22T00:00:00",
          "2024-04-23T00:00:00",
          "2024-04-24T00:00:00",
          "2024-04-25T00:00:00",
          "2024-04-26T00:00:00",
          "2024-04-29T00:00:00",
          "2024-04-30T00:00:00",
          "2024-05-01T00:00:00",
          "2024-05-02T00:00:00",
          "2024-05-03T00:00:00",
          "2024-05-06T00:00:00",
          "2024-05-07T00:00:00",
          "2024-05-08T00:00:00",
          "2024-05-09T00:00:00",
          "2024-05-10T00:00:00",
          "2024-05-13T00:00:00",
          "2024-05-14T00:00:00",
          "2024-05-15T00:00:00",
          "2024-05-16T00:00:00",
          "2024-05-17T00:00:00",
          "2024-05-20T00:00:00",
          "2024-05-21T00:00:00",
          "2024-05-22T00:00:00",
          "2024-05-23T00:00:00",
          "2024-05-24T00:00:00",
          "2024-05-28T00:00:00",
          "2024-05-29T00:00:00",
          "2024-05-30T00:00:00",
          "2024-05-31T00:00:00",
          "2024-06-03T00:00:00",
          "2024-06-04T00:00:00",
          "2024-06-05T00:00:00",
          "2024-06-06T00:00:00",
          "2024-06-07T00:00:00",
          "2024-06-10T00:00:00",
          "2024-06-11T00:00:00",
          "2024-06-12T00:00:00",
          "2024-06-13T00:00:00",
          "2024-06-14T00:00:00",
          "2024-06-17T00:00:00",
          "2024-06-18T00:00:00",
          "2024-06-20T00:00:00",
          "2024-06-21T00:00:00",
          "2024-06-24T00:00:00",
          "2024-06-25T00:00:00",
          "2024-06-26T00:00:00",
          "2024-06-27T00:00:00",
          "2024-06-28T00:00:00",
          "2024-07-01T00:00:00",
          "2024-07-02T00:00:00",
          "2024-07-03T00:00:00",
          "2024-07-05T00:00:00",
          "2024-07-08T00:00:00",
          "2024-07-09T00:00:00",
          "2024-07-10T00:00:00",
          "2024-07-11T00:00:00",
          "2024-07-12T00:00:00",
          "2024-07-15T00:00:00",
          "2024-07-16T00:00:00",
          "2024-07-17T00:00:00",
          "2024-07-18T00:00:00",
          "2024-07-19T00:00:00",
          "2024-07-22T00:00:00",
          "2024-07-23T00:00:00",
          "2024-07-24T00:00:00",
          "2024-07-25T00:00:00",
          "2024-07-26T00:00:00",
          "2024-07-29T00:00:00",
          "2024-07-30T00:00:00",
          "2024-07-31T00:00:00",
          "2024-08-01T00:00:00",
          "2024-08-02T00:00:00",
          "2024-08-05T00:00:00",
          "2024-08-06T00:00:00",
          "2024-08-07T00:00:00",
          "2024-08-08T00:00:00",
          "2024-08-09T00:00:00",
          "2024-08-12T00:00:00",
          "2024-08-13T00:00:00",
          "2024-08-14T00:00:00",
          "2024-08-15T00:00:00",
          "2024-08-16T00:00:00",
          "2024-08-19T00:00:00",
          "2024-08-20T00:00:00",
          "2024-08-21T00:00:00",
          "2024-08-22T00:00:00",
          "2024-08-23T00:00:00",
          "2024-08-26T00:00:00",
          "2024-08-27T00:00:00",
          "2024-08-28T00:00:00",
          "2024-08-29T00:00:00",
          "2024-08-30T00:00:00",
          "2024-09-03T00:00:00",
          "2024-09-04T00:00:00",
          "2024-09-05T00:00:00",
          "2024-09-06T00:00:00",
          "2024-09-09T00:00:00",
          "2024-09-10T00:00:00",
          "2024-09-11T00:00:00",
          "2024-09-12T00:00:00",
          "2024-09-13T00:00:00",
          "2024-09-16T00:00:00",
          "2024-09-17T00:00:00",
          "2024-09-18T00:00:00",
          "2024-09-19T00:00:00",
          "2024-09-20T00:00:00",
          "2024-09-23T00:00:00",
          "2024-09-24T00:00:00",
          "2024-09-25T00:00:00",
          "2024-09-26T00:00:00",
          "2024-09-27T00:00:00",
          "2024-09-30T00:00:00",
          "2024-10-01T00:00:00",
          "2024-10-02T00:00:00",
          "2024-10-03T00:00:00",
          "2024-10-04T00:00:00",
          "2024-10-07T00:00:00",
          "2024-10-08T00:00:00",
          "2024-10-09T00:00:00",
          "2024-10-10T00:00:00",
          "2024-10-11T00:00:00",
          "2024-10-14T00:00:00",
          "2024-10-15T00:00:00",
          "2024-10-16T00:00:00",
          "2024-10-17T00:00:00",
          "2024-10-18T00:00:00",
          "2024-10-21T00:00:00",
          "2024-10-22T00:00:00",
          "2024-10-23T00:00:00",
          "2024-10-24T00:00:00",
          "2024-10-25T00:00:00",
          "2024-10-28T00:00:00",
          "2024-10-29T00:00:00",
          "2024-10-30T00:00:00",
          "2024-10-31T00:00:00",
          "2024-11-01T00:00:00",
          "2024-11-04T00:00:00",
          "2024-11-05T00:00:00",
          "2024-11-06T00:00:00",
          "2024-11-07T00:00:00",
          "2024-11-08T00:00:00",
          "2024-11-11T00:00:00",
          "2024-11-12T00:00:00",
          "2024-11-13T00:00:00",
          "2024-11-14T00:00:00",
          "2024-11-15T00:00:00",
          "2024-11-18T00:00:00",
          "2024-11-19T00:00:00",
          "2024-11-20T00:00:00",
          "2024-11-21T00:00:00",
          "2024-11-22T00:00:00",
          "2024-11-25T00:00:00",
          "2024-11-26T00:00:00",
          "2024-11-27T00:00:00",
          "2024-11-29T00:00:00",
          "2024-12-02T00:00:00",
          "2024-12-03T00:00:00",
          "2024-12-04T00:00:00",
          "2024-12-05T00:00:00",
          "2024-12-06T00:00:00",
          "2024-12-09T00:00:00",
          "2024-12-10T00:00:00",
          "2024-12-11T00:00:00",
          "2024-12-12T00:00:00",
          "2024-12-13T00:00:00",
          "2024-12-16T00:00:00",
          "2024-12-17T00:00:00",
          "2024-12-18T00:00:00",
          "2024-12-19T00:00:00",
          "2024-12-20T00:00:00",
          "2024-12-23T00:00:00",
          "2024-12-24T00:00:00",
          "2024-12-26T00:00:00",
          "2024-12-27T00:00:00",
          "2024-12-30T00:00:00",
          "2024-12-31T00:00:00",
          "2025-01-02T00:00:00",
          "2025-01-03T00:00:00",
          "2025-01-06T00:00:00",
          "2025-01-07T00:00:00",
          "2025-01-08T00:00:00",
          "2025-01-10T00:00:00",
          "2025-01-13T00:00:00",
          "2025-01-14T00:00:00",
          "2025-01-15T00:00:00",
          "2025-01-16T00:00:00",
          "2025-01-17T00:00:00",
          "2025-01-21T00:00:00",
          "2025-01-22T00:00:00",
          "2025-01-23T00:00:00",
          "2025-01-24T00:00:00",
          "2025-01-27T00:00:00",
          "2025-01-28T00:00:00",
          "2025-01-29T00:00:00",
          "2025-01-30T00:00:00",
          "2025-01-31T00:00:00",
          "2025-02-03T00:00:00",
          "2025-02-04T00:00:00",
          "2025-02-05T00:00:00",
          "2025-02-06T00:00:00",
          "2025-02-07T00:00:00",
          "2025-02-10T00:00:00",
          "2025-02-11T00:00:00",
          "2025-02-12T00:00:00",
          "2025-02-13T00:00:00",
          "2025-02-14T00:00:00",
          "2025-02-18T00:00:00",
          "2025-02-19T00:00:00",
          "2025-02-20T00:00:00",
          "2025-02-21T00:00:00",
          "2025-02-24T00:00:00",
          "2025-02-25T00:00:00",
          "2025-02-26T00:00:00",
          "2025-02-27T00:00:00",
          "2025-02-28T00:00:00",
          "2025-03-03T00:00:00",
          "2025-03-04T00:00:00",
          "2025-03-05T00:00:00",
          "2025-03-06T00:00:00",
          "2025-03-07T00:00:00",
          "2025-03-10T00:00:00",
          "2025-03-11T00:00:00",
          "2025-03-12T00:00:00",
          "2025-03-13T00:00:00",
          "2025-03-14T00:00:00",
          "2025-03-17T00:00:00",
          "2025-03-18T00:00:00",
          "2025-03-19T00:00:00",
          "2025-03-20T00:00:00",
          "2025-03-21T00:00:00",
          "2025-03-24T00:00:00",
          "2025-03-25T00:00:00",
          "2025-03-26T00:00:00",
          "2025-03-27T00:00:00",
          "2025-03-28T00:00:00",
          "2025-03-31T00:00:00",
          "2025-04-01T00:00:00",
          "2025-04-02T00:00:00",
          "2025-04-03T00:00:00",
          "2025-04-04T00:00:00",
          "2025-04-07T00:00:00",
          "2025-04-08T00:00:00",
          "2025-04-09T00:00:00",
          "2025-04-10T00:00:00",
          "2025-04-11T00:00:00",
          "2025-04-14T00:00:00",
          "2025-04-15T00:00:00",
          "2025-04-16T00:00:00",
          "2025-04-17T00:00:00",
          "2025-04-21T00:00:00",
          "2025-04-22T00:00:00",
          "2025-04-23T00:00:00",
          "2025-04-24T00:00:00",
          "2025-04-25T00:00:00",
          "2025-04-28T00:00:00",
          "2025-04-29T00:00:00",
          "2025-04-30T00:00:00",
          "2025-05-01T00:00:00",
          "2025-05-02T00:00:00",
          "2025-05-05T00:00:00",
          "2025-05-06T00:00:00",
          "2025-05-07T00:00:00",
          "2025-05-08T00:00:00",
          "2025-05-09T00:00:00",
          "2025-05-12T00:00:00",
          "2025-05-13T00:00:00",
          "2025-05-14T00:00:00",
          "2025-05-15T00:00:00",
          "2025-05-16T00:00:00",
          "2025-05-19T00:00:00",
          "2025-05-20T00:00:00",
          "2025-05-21T00:00:00",
          "2025-05-22T00:00:00",
          "2025-05-23T00:00:00",
          "2025-05-27T00:00:00",
          "2025-05-28T00:00:00",
          "2025-05-29T00:00:00",
          "2025-05-30T00:00:00",
          "2025-06-02T00:00:00",
          "2025-06-03T00:00:00",
          "2025-06-04T00:00:00",
          "2025-06-05T00:00:00",
          "2025-06-06T00:00:00",
          "2025-06-09T00:00:00",
          "2025-06-10T00:00:00",
          "2025-06-11T00:00:00",
          "2025-06-12T00:00:00",
          "2025-06-13T00:00:00",
          "2025-06-16T00:00:00",
          "2025-06-17T00:00:00",
          "2025-06-18T00:00:00",
          "2025-06-20T00:00:00",
          "2025-06-23T00:00:00",
          "2025-06-24T00:00:00",
          "2025-06-25T00:00:00",
          "2025-06-26T00:00:00",
          "2025-06-27T00:00:00",
          "2025-06-30T00:00:00",
          "2025-07-01T00:00:00",
          "2025-07-02T00:00:00",
          "2025-07-03T00:00:00",
          "2025-07-07T00:00:00",
          "2025-07-08T00:00:00",
          "2025-07-09T00:00:00",
          "2025-07-10T00:00:00",
          "2025-07-11T00:00:00",
          "2025-07-14T00:00:00",
          "2025-07-15T00:00:00",
          "2025-07-16T00:00:00",
          "2025-07-17T00:00:00",
          "2025-07-18T00:00:00",
          "2025-07-21T00:00:00",
          "2025-07-22T00:00:00"
         ],
         "y": {
          "bdata": "MzMzMzPrZkBxPQrXo9BmQI/C9Shct2ZAw/UoXI+iZkAAAAAAAIhmQIXrUbgebWZApHA9CtdTZkBSuB6F60FmQMP1KFyPOmZA9ihcj8I1ZkBSuB6F60FmQOxRuB6FU2ZAKVyPwvVYZkC4HoXrUVhmQClcj8L1WGZA7FG4HoVbZkBmZmZmZlZmQOF6FK5HUWZAAAAAAABQZkCamZmZmVFmQNejcD0KV2ZAXI/C9ShcZkCamZmZmVlmQK5H4XoUTmZA7FG4HoVLZkBI4XoUrkdmQMP1KFyPOmZAzczMzMwkZkBSuB6F6wlmQI/C9Shc72VAH4XrUbjWZUAzMzMzM7tlQBSuR+F6rGVAuB6F61GoZUDXo3A9CqdlQB+F61G4pmVAUrgeheupZUB7FK5H4bJlQMP1KFyPumVAcT0K16PAZUBSuB6F68FlQNejcD0Kv2VAj8L1KFy/ZUBSuB6F68FlQB+F61G4vmVAUrgeheu5ZUBcj8L1KLxlQD0K16NwvWVAj8L1KFy3ZUDD9Shcj7JlQIXrUbgerWVAw/UoXI+qZUB7FK5H4aplQI/C9Shcr2VArkfhehSuZUBmZmZmZq5lQKRwPQrXs2VAcT0K16O4ZUDsUbgehbtlQEjhehSux2VAmpmZmZnRZUDD9Shcj+JlQK5H4XoU9mVAhetRuB4NZkC4HoXrUShmQPYoXI/CRWZAmpmZmZlhZkBSuB6F64FmQNejcD0Kp2ZAmpmZmZnJZkBSuB6F6+lmQEjhehSuB2dAmpmZmZkhZ0BI4XoUrjdnQFyPwvUoTGdAMzMzMzNjZ0Bcj8L1KHRnQB+F61G4hmdAXI/C9SicZ0DXo3A9CqdnQB+F61G4tmdAj8L1KFzHZ0CPwvUoXNdnQKRwPQrX42dA9ihcj8LtZ0BmZmZmZvZnQIXrUbge/WdAw/UoXI8CaEC4HoXrUQhoQD0K16NwDWhAUrgehesRaEBxPQrXoxhoQM3MzMzMHGhApHA9CtcTaEDsUbgehQtoQOF6FK5H+WdASOF6FK7nZ0CamZmZmdlnQClcj8L1yGdA9ihcj8K9Z0CPwvUoXK9nQFyPwvUonGdAhetRuB6FZ0A9CtejcG1nQFK4HoXrYWdAmpmZmZlZZ0AAAAAAAFhnQClcj8L1WGdACtejcD1aZ0Bcj8L1KFxnQHsUrkfhWmdAAAAAAABYZ0BxPQrXo1BnQB+F61G4TmdAexSuR+FSZ0DhehSuR1lnQOxRuB6FY2dAmpmZmZlpZ0C4HoXrUXBnQOxRuB6Fc2dA4XoUrkd5Z0DsUbgehXtnQK5H4XoUfmdAKVyPwvWAZ0CamZmZmXlnQOxRuB6Fa2dAAAAAAABYZ0Bcj8L1KERnQBSuR+F6NGdACtejcD0iZ0BxPQrXoxBnQMP1KFyPAmdAuB6F61H4ZkB7FK5H4fJmQAAAAAAA6GZAj8L1KFzXZkDsUbgehbtmQKRwPQrXm2ZApHA9Ctd7ZkC4HoXrUWBmQB+F61G4RmZAcT0K16MwZkDD9ShcjxpmQHE9CtejCGZAH4XrUbj2ZUDhehSuR+llQLgehetR4GVAw/UoXI/aZUCuR+F6FMZlQPYoXI/CtWVAPQrXo3ClZUBxPQrXo5BlQKRwPQrXg2VAhetRuB51ZUD2KFyPwmVlQKRwPQrXW2VAMzMzMzNbZUDD9Shcj1plQOxRuB6FW2VAAAAAAABYZUB7FK5H4VJlQArXo3A9SmVAcT0K16NQZUCuR+F6FFZlQGZmZmZmVmVAj8L1KFxPZUDD9Shcj0JlQAAAAAAAMGVArkfhehQmZUDsUbgehRtlQD0K16NwFWVAFK5H4XoUZUAfhetRuA5lQOxRuB6FC2VAKVyPwvUQZUAzMzMzMxNlQHsUrkfhEmVA4XoUrkcZZUCPwvUoXC9lQBSuR+F6RGVAcT0K16NYZUBxPQrXo3BlQEjhehSuf2VACtejcD2KZUC4HoXrUaBlQD0K16NwvWVAcT0K16PgZUCF61G4HgVmQIXrUbgeLWZA9ihcj8JVZkBmZmZmZn5mQJqZmZmZoWZAhetRuB69ZkBmZmZmZt5mQClcj8L1+GZA4XoUrkcZZ0AUrkfhejxnQOxRuB6FW2dAhetRuB5tZ0CamZmZmYFnQI/C9Shcl2dAw/UoXI+qZ0BmZmZmZr5nQGZmZmZmzmdASOF6FK7vZ0BxPQrXoxhoQEjhehSuP2hA7FG4HoVjaEBmZmZmZo5oQDMzMzMzs2hA16NwPQrPaEDhehSuR+loQDMzMzMzC2lAmpmZmZkpaUAfhetRuE5pQBSuR+F6dGlA7FG4HoWTaUAK16NwPbppQFyPwvUo5GlAj8L1KFwPakAAAAAAAEBqQIXrUbgedWpASOF6FK6nakCPwvUoXOdqQEjhehSuB2tA7FG4HoUja0CkcD0K10NrQI/C9ShcZ2tAw/UoXI96a0DD9Shcj4prQJqZmZmZoWtAXI/C9Si8a0AfhetRuNZrQK5H4XoU5mtAzczMzMzsa0B7FK5H4fJrQNejcD0K/2tACtejcD0CbECF61G4HgVsQAAAAAAAAGxA9ihcj8L1a0C4HoXrUdhrQK5H4XoUtmtA4XoUrkeRa0DD9Shcj3prQOxRuB6FY2tA4XoUrkdJa0CkcD0K1zNrQClcj8L1KGtACtejcD0qa0A9CtejcC1rQClcj8L1MGtApHA9Ctcza0BxPQrXo0BrQFyPwvUoTGtAexSuR+Faa0CamZmZmWlrQHE9CtejeGtAAAAAAACAa0B7FK5H4ZJrQJqZmZmZoWtASOF6FK63a0D2KFyPws1rQArXo3A94mtAZmZmZmbua0BmZmZmZvZrQMP1KFyP+mtAzczMzMz8a0BmZmZmZv5rQHsUrkfh+mtAMzMzMzPra0DNzMzMzNxrQOxRuB6F02tAj8L1KFzXa0A9CtejcN1rQM3MzMzM3GtAhetRuB7da0AK16NwPdprQFyPwvUo3GtAKVyPwvXYa0DXo3A9Ct9rQM3MzMzM5GtArkfhehTua0DsUbgehfNrQM3MzMzM/GtArkfhehT+a0DXo3A9CgdsQArXo3A9EmxAXI/C9SgcbEBcj8L1KCRsQFyPwvUoPGxAj8L1KFxXbEApXI/C9WhsQK5H4XoUbmxAKVyPwvV4bEApXI/C9YhsQGZmZmZmlmxAPQrXo3CdbEAK16NwPaJsQAAAAAAAqGxAKVyPwvWobEDNzMzMzLRsQFK4HoXruWxACtejcD26bEBcj8L1KLRsQM3MzMzMtGxAKVyPwvWwbECuR+F6FKZsQOxRuB6Fo2xAMzMzMzOjbEAAAAAAAJhsQOF6FK5HiWxA16NwPQp/bEApXI/C9XhsQJqZmZmZaWxAFK5H4XpcbEBxPQrXo1BsQGZmZmZmTmxA7FG4HoVLbECamZmZmUlsQClcj8L1SGxA7FG4HoVLbECkcD0K11NsQGZmZmZmZmxA4XoUrkeBbEB7FK5H4aJsQArXo3A9wmxAMzMzMzPjbEBcj8L1KPxsQKRwPQrXG21A4XoUrkdBbUDNzMzMzGRtQOF6FK5HiW1AKVyPwvWobUDD9Shcj9JtQDMzMzMz+21AexSuR+EabkBcj8L1KDxuQD0K16NwZW5ArkfhehSObkBmZmZmZrZuQM3MzMzM3G5A9ihcj8L9bkA9CtejcBVvQB+F61G4Jm9AcT0K16Mob0DhehSuRylvQFyPwvUoLG9AMzMzMzMrb0DNzMzMzCRvQOxRuB6FE29AAAAAAAAAb0BxPQrXo+huQLgehetR2G5ApHA9CtezbkBmZmZmZo5uQPYoXI/CZW5AFK5H4Xo8bkAzMzMzMwtuQI/C9Shc121ACtejcD2qbUApXI/C9YhtQNejcD0Kb21ASOF6FK5XbUBxPQrXo0BtQI/C9ShcJ21AH4XrUbgWbUDD9ShcjwJtQFyPwvUo9GxAXI/C9SjcbED2KFyPws1sQOxRuB6Fy2xAmpmZmZnRbEAAAAAAANhsQArXo3A98mxAUrgehesJbUD2KFyPwi1tQOF6FK5HUW1AzczMzMx0bUBcj8L1KJxtQAAAAAAAuG1A7FG4HoW7bUApXI/C9bhtQAAAAAAAwG1A7FG4HoXDbUBxPQrXo9BtQPYoXI/C1W1AexSuR+HabUAUrkfheuRtQM3MzMzM5G1AUrgehevZbUApXI/C9cBtQD0K16NwlW1AcT0K16NobUBI4XoUrjdtQM3MzMzMBG1APQrXo3DVbEB7FK5H4aJsQI/C9Shcd2xAhetRuB5NbEAAAAAAAChsQFK4HoXrCWxAFK5H4Xr0a0CuR+F6FM5rQM3MzMzMtGtAuB6F61Gga0A9CtejcI1rQFK4HoXrWWtAKVyPwvUIa0CPwvUoXL9qQArXo3A9cmpAhetRuB5VakBmZmZmZjZqQPYoXI/CHWpA7FG4HoULakDD9Shcj/ppQOF6FK5H2WlA9ihcj8K9aUD2KFyPwpVpQFyPwvUodGlAPQrXo3BVaUBxPQrXo0BpQOF6FK5HKWlAzczMzMwcaUDsUbgehQtpQArXo3A9+mhA4XoUrkfpaEDNzMzMzOxoQPYoXI/C/WhAKVyPwvUYaUDXo3A9Cj9pQM3MzMzMPGlAmpmZmZlJaUBmZmZmZl5pQI/C9Shcb2lAuB6F61GAaUBcj8L1KJxpQDMzMzMzs2lAzczMzMzMaUBxPQrXo9hpQM3MzMzM1GlACtejcD3KaUBcj8L1KLRpQM3MzMzMpGlApHA9CteTaUC4HoXrUYBpQM3MzMzMbGlAj8L1KFxnaUAfhetRuG5pQK5H4XoUdmlAPQrXo3B9aUC4HoXrUYhpQD0K16NwjWlAuB6F61GAaUCamZmZmWlpQM3MzMzMVGlAzczMzMw8aUC4HoXrUShpQDMzMzMzE2lAw/UoXI8CaUApXI/C9QBpQOF6FK5HAWlA4XoUrkcJaUDsUbgehQtpQFyPwvUoDGlArkfhehQOaUCF61G4HhVpQB+F61G4HmlAPQrXo3AtaUAfhetRuD5pQD0K16NwTWlAj8L1KFxXaUAfhetRuGZpQGZmZmZmdmlACtejcD2KaUDhehSuR5lpQD0K16NwrWlAuB6F61HAaUCPwvUoXNdpQB+F61G47mlAKVyPwvUAakD2KFyPwhVqQAAAAAAAAPh/AAAAAAAA+H8AAAAAAAD4fwAAAAAAAPh/AAAAAAAA+H8AAAAAAAD4fwAAAAAAAPh/AAAAAAAA+H8AAAAAAAD4fwAAAAAAAPh/AAAAAAAA+H8AAAAAAAD4fwAAAAAAAPh/AAAAAAAA+H8AAAAAAAD4fwAAAAAAAPh/AAAAAAAA+H8AAAAAAAD4fwAAAAAAAPh/",
          "dtype": "f8"
         }
        },
        {
         "mode": "lines",
         "name": "50‑day SMA",
         "type": "scatter",
         "x": [
          "2023-07-24T00:00:00",
          "2023-07-25T00:00:00",
          "2023-07-26T00:00:00",
          "2023-07-27T00:00:00",
          "2023-07-28T00:00:00",
          "2023-07-31T00:00:00",
          "2023-08-01T00:00:00",
          "2023-08-02T00:00:00",
          "2023-08-03T00:00:00",
          "2023-08-04T00:00:00",
          "2023-08-07T00:00:00",
          "2023-08-08T00:00:00",
          "2023-08-09T00:00:00",
          "2023-08-10T00:00:00",
          "2023-08-11T00:00:00",
          "2023-08-14T00:00:00",
          "2023-08-15T00:00:00",
          "2023-08-16T00:00:00",
          "2023-08-17T00:00:00",
          "2023-08-18T00:00:00",
          "2023-08-21T00:00:00",
          "2023-08-22T00:00:00",
          "2023-08-23T00:00:00",
          "2023-08-24T00:00:00",
          "2023-08-25T00:00:00",
          "2023-08-28T00:00:00",
          "2023-08-29T00:00:00",
          "2023-08-30T00:00:00",
          "2023-08-31T00:00:00",
          "2023-09-01T00:00:00",
          "2023-09-05T00:00:00",
          "2023-09-06T00:00:00",
          "2023-09-07T00:00:00",
          "2023-09-08T00:00:00",
          "2023-09-11T00:00:00",
          "2023-09-12T00:00:00",
          "2023-09-13T00:00:00",
          "2023-09-14T00:00:00",
          "2023-09-15T00:00:00",
          "2023-09-18T00:00:00",
          "2023-09-19T00:00:00",
          "2023-09-20T00:00:00",
          "2023-09-21T00:00:00",
          "2023-09-22T00:00:00",
          "2023-09-25T00:00:00",
          "2023-09-26T00:00:00",
          "2023-09-27T00:00:00",
          "2023-09-28T00:00:00",
          "2023-09-29T00:00:00",
          "2023-10-02T00:00:00",
          "2023-10-03T00:00:00",
          "2023-10-04T00:00:00",
          "2023-10-05T00:00:00",
          "2023-10-06T00:00:00",
          "2023-10-09T00:00:00",
          "2023-10-10T00:00:00",
          "2023-10-11T00:00:00",
          "2023-10-12T00:00:00",
          "2023-10-13T00:00:00",
          "2023-10-16T00:00:00",
          "2023-10-17T00:00:00",
          "2023-10-18T00:00:00",
          "2023-10-19T00:00:00",
          "2023-10-20T00:00:00",
          "2023-10-23T00:00:00",
          "2023-10-24T00:00:00",
          "2023-10-25T00:00:00",
          "2023-10-26T00:00:00",
          "2023-10-27T00:00:00",
          "2023-10-30T00:00:00",
          "2023-10-31T00:00:00",
          "2023-11-01T00:00:00",
          "2023-11-02T00:00:00",
          "2023-11-03T00:00:00",
          "2023-11-06T00:00:00",
          "2023-11-07T00:00:00",
          "2023-11-08T00:00:00",
          "2023-11-09T00:00:00",
          "2023-11-10T00:00:00",
          "2023-11-13T00:00:00",
          "2023-11-14T00:00:00",
          "2023-11-15T00:00:00",
          "2023-11-16T00:00:00",
          "2023-11-17T00:00:00",
          "2023-11-20T00:00:00",
          "2023-11-21T00:00:00",
          "2023-11-22T00:00:00",
          "2023-11-24T00:00:00",
          "2023-11-27T00:00:00",
          "2023-11-28T00:00:00",
          "2023-11-29T00:00:00",
          "2023-11-30T00:00:00",
          "2023-12-01T00:00:00",
          "2023-12-04T00:00:00",
          "2023-12-05T00:00:00",
          "2023-12-06T00:00:00",
          "2023-12-07T00:00:00",
          "2023-12-08T00:00:00",
          "2023-12-11T00:00:00",
          "2023-12-12T00:00:00",
          "2023-12-13T00:00:00",
          "2023-12-14T00:00:00",
          "2023-12-15T00:00:00",
          "2023-12-18T00:00:00",
          "2023-12-19T00:00:00",
          "2023-12-20T00:00:00",
          "2023-12-21T00:00:00",
          "2023-12-22T00:00:00",
          "2023-12-26T00:00:00",
          "2023-12-27T00:00:00",
          "2023-12-28T00:00:00",
          "2023-12-29T00:00:00",
          "2024-01-02T00:00:00",
          "2024-01-03T00:00:00",
          "2024-01-04T00:00:00",
          "2024-01-05T00:00:00",
          "2024-01-08T00:00:00",
          "2024-01-09T00:00:00",
          "2024-01-10T00:00:00",
          "2024-01-11T00:00:00",
          "2024-01-12T00:00:00",
          "2024-01-16T00:00:00",
          "2024-01-17T00:00:00",
          "2024-01-18T00:00:00",
          "2024-01-19T00:00:00",
          "2024-01-22T00:00:00",
          "2024-01-23T00:00:00",
          "2024-01-24T00:00:00",
          "2024-01-25T00:00:00",
          "2024-01-26T00:00:00",
          "2024-01-29T00:00:00",
          "2024-01-30T00:00:00",
          "2024-01-31T00:00:00",
          "2024-02-01T00:00:00",
          "2024-02-02T00:00:00",
          "2024-02-05T00:00:00",
          "2024-02-06T00:00:00",
          "2024-02-07T00:00:00",
          "2024-02-08T00:00:00",
          "2024-02-09T00:00:00",
          "2024-02-12T00:00:00",
          "2024-02-13T00:00:00",
          "2024-02-14T00:00:00",
          "2024-02-15T00:00:00",
          "2024-02-16T00:00:00",
          "2024-02-20T00:00:00",
          "2024-02-21T00:00:00",
          "2024-02-22T00:00:00",
          "2024-02-23T00:00:00",
          "2024-02-26T00:00:00",
          "2024-02-27T00:00:00",
          "2024-02-28T00:00:00",
          "2024-02-29T00:00:00",
          "2024-03-01T00:00:00",
          "2024-03-04T00:00:00",
          "2024-03-05T00:00:00",
          "2024-03-06T00:00:00",
          "2024-03-07T00:00:00",
          "2024-03-08T00:00:00",
          "2024-03-11T00:00:00",
          "2024-03-12T00:00:00",
          "2024-03-13T00:00:00",
          "2024-03-14T00:00:00",
          "2024-03-15T00:00:00",
          "2024-03-18T00:00:00",
          "2024-03-19T00:00:00",
          "2024-03-20T00:00:00",
          "2024-03-21T00:00:00",
          "2024-03-22T00:00:00",
          "2024-03-25T00:00:00",
          "2024-03-26T00:00:00",
          "2024-03-27T00:00:00",
          "2024-03-28T00:00:00",
          "2024-04-01T00:00:00",
          "2024-04-02T00:00:00",
          "2024-04-03T00:00:00",
          "2024-04-04T00:00:00",
          "2024-04-05T00:00:00",
          "2024-04-08T00:00:00",
          "2024-04-09T00:00:00",
          "2024-04-10T00:00:00",
          "2024-04-11T00:00:00",
          "2024-04-12T00:00:00",
          "2024-04-15T00:00:00",
          "2024-04-16T00:00:00",
          "2024-04-17T00:00:00",
          "2024-04-18T00:00:00",
          "2024-04-19T00:00:00",
          "2024-04-22T00:00:00",
          "2024-04-23T00:00:00",
          "2024-04-24T00:00:00",
          "2024-04-25T00:00:00",
          "2024-04-26T00:00:00",
          "2024-04-29T00:00:00",
          "2024-04-30T00:00:00",
          "2024-05-01T00:00:00",
          "2024-05-02T00:00:00",
          "2024-05-03T00:00:00",
          "2024-05-06T00:00:00",
          "2024-05-07T00:00:00",
          "2024-05-08T00:00:00",
          "2024-05-09T00:00:00",
          "2024-05-10T00:00:00",
          "2024-05-13T00:00:00",
          "2024-05-14T00:00:00",
          "2024-05-15T00:00:00",
          "2024-05-16T00:00:00",
          "2024-05-17T00:00:00",
          "2024-05-20T00:00:00",
          "2024-05-21T00:00:00",
          "2024-05-22T00:00:00",
          "2024-05-23T00:00:00",
          "2024-05-24T00:00:00",
          "2024-05-28T00:00:00",
          "2024-05-29T00:00:00",
          "2024-05-30T00:00:00",
          "2024-05-31T00:00:00",
          "2024-06-03T00:00:00",
          "2024-06-04T00:00:00",
          "2024-06-05T00:00:00",
          "2024-06-06T00:00:00",
          "2024-06-07T00:00:00",
          "2024-06-10T00:00:00",
          "2024-06-11T00:00:00",
          "2024-06-12T00:00:00",
          "2024-06-13T00:00:00",
          "2024-06-14T00:00:00",
          "2024-06-17T00:00:00",
          "2024-06-18T00:00:00",
          "2024-06-20T00:00:00",
          "2024-06-21T00:00:00",
          "2024-06-24T00:00:00",
          "2024-06-25T00:00:00",
          "2024-06-26T00:00:00",
          "2024-06-27T00:00:00",
          "2024-06-28T00:00:00",
          "2024-07-01T00:00:00",
          "2024-07-02T00:00:00",
          "2024-07-03T00:00:00",
          "2024-07-05T00:00:00",
          "2024-07-08T00:00:00",
          "2024-07-09T00:00:00",
          "2024-07-10T00:00:00",
          "2024-07-11T00:00:00",
          "2024-07-12T00:00:00",
          "2024-07-15T00:00:00",
          "2024-07-16T00:00:00",
          "2024-07-17T00:00:00",
          "2024-07-18T00:00:00",
          "2024-07-19T00:00:00",
          "2024-07-22T00:00:00",
          "2024-07-23T00:00:00",
          "2024-07-24T00:00:00",
          "2024-07-25T00:00:00",
          "2024-07-26T00:00:00",
          "2024-07-29T00:00:00",
          "2024-07-30T00:00:00",
          "2024-07-31T00:00:00",
          "2024-08-01T00:00:00",
          "2024-08-02T00:00:00",
          "2024-08-05T00:00:00",
          "2024-08-06T00:00:00",
          "2024-08-07T00:00:00",
          "2024-08-08T00:00:00",
          "2024-08-09T00:00:00",
          "2024-08-12T00:00:00",
          "2024-08-13T00:00:00",
          "2024-08-14T00:00:00",
          "2024-08-15T00:00:00",
          "2024-08-16T00:00:00",
          "2024-08-19T00:00:00",
          "2024-08-20T00:00:00",
          "2024-08-21T00:00:00",
          "2024-08-22T00:00:00",
          "2024-08-23T00:00:00",
          "2024-08-26T00:00:00",
          "2024-08-27T00:00:00",
          "2024-08-28T00:00:00",
          "2024-08-29T00:00:00",
          "2024-08-30T00:00:00",
          "2024-09-03T00:00:00",
          "2024-09-04T00:00:00",
          "2024-09-05T00:00:00",
          "2024-09-06T00:00:00",
          "2024-09-09T00:00:00",
          "2024-09-10T00:00:00",
          "2024-09-11T00:00:00",
          "2024-09-12T00:00:00",
          "2024-09-13T00:00:00",
          "2024-09-16T00:00:00",
          "2024-09-17T00:00:00",
          "2024-09-18T00:00:00",
          "2024-09-19T00:00:00",
          "2024-09-20T00:00:00",
          "2024-09-23T00:00:00",
          "2024-09-24T00:00:00",
          "2024-09-25T00:00:00",
          "2024-09-26T00:00:00",
          "2024-09-27T00:00:00",
          "2024-09-30T00:00:00",
          "2024-10-01T00:00:00",
          "2024-10-02T00:00:00",
          "2024-10-03T00:00:00",
          "2024-10-04T00:00:00",
          "2024-10-07T00:00:00",
          "2024-10-08T00:00:00",
          "2024-10-09T00:00:00",
          "2024-10-10T00:00:00",
          "2024-10-11T00:00:00",
          "2024-10-14T00:00:00",
          "2024-10-15T00:00:00",
          "2024-10-16T00:00:00",
          "2024-10-17T00:00:00",
          "2024-10-18T00:00:00",
          "2024-10-21T00:00:00",
          "2024-10-22T00:00:00",
          "2024-10-23T00:00:00",
          "2024-10-24T00:00:00",
          "2024-10-25T00:00:00",
          "2024-10-28T00:00:00",
          "2024-10-29T00:00:00",
          "2024-10-30T00:00:00",
          "2024-10-31T00:00:00",
          "2024-11-01T00:00:00",
          "2024-11-04T00:00:00",
          "2024-11-05T00:00:00",
          "2024-11-06T00:00:00",
          "2024-11-07T00:00:00",
          "2024-11-08T00:00:00",
          "2024-11-11T00:00:00",
          "2024-11-12T00:00:00",
          "2024-11-13T00:00:00",
          "2024-11-14T00:00:00",
          "2024-11-15T00:00:00",
          "2024-11-18T00:00:00",
          "2024-11-19T00:00:00",
          "2024-11-20T00:00:00",
          "2024-11-21T00:00:00",
          "2024-11-22T00:00:00",
          "2024-11-25T00:00:00",
          "2024-11-26T00:00:00",
          "2024-11-27T00:00:00",
          "2024-11-29T00:00:00",
          "2024-12-02T00:00:00",
          "2024-12-03T00:00:00",
          "2024-12-04T00:00:00",
          "2024-12-05T00:00:00",
          "2024-12-06T00:00:00",
          "2024-12-09T00:00:00",
          "2024-12-10T00:00:00",
          "2024-12-11T00:00:00",
          "2024-12-12T00:00:00",
          "2024-12-13T00:00:00",
          "2024-12-16T00:00:00",
          "2024-12-17T00:00:00",
          "2024-12-18T00:00:00",
          "2024-12-19T00:00:00",
          "2024-12-20T00:00:00",
          "2024-12-23T00:00:00",
          "2024-12-24T00:00:00",
          "2024-12-26T00:00:00",
          "2024-12-27T00:00:00",
          "2024-12-30T00:00:00",
          "2024-12-31T00:00:00",
          "2025-01-02T00:00:00",
          "2025-01-03T00:00:00",
          "2025-01-06T00:00:00",
          "2025-01-07T00:00:00",
          "2025-01-08T00:00:00",
          "2025-01-10T00:00:00",
          "2025-01-13T00:00:00",
          "2025-01-14T00:00:00",
          "2025-01-15T00:00:00",
          "2025-01-16T00:00:00",
          "2025-01-17T00:00:00",
          "2025-01-21T00:00:00",
          "2025-01-22T00:00:00",
          "2025-01-23T00:00:00",
          "2025-01-24T00:00:00",
          "2025-01-27T00:00:00",
          "2025-01-28T00:00:00",
          "2025-01-29T00:00:00",
          "2025-01-30T00:00:00",
          "2025-01-31T00:00:00",
          "2025-02-03T00:00:00",
          "2025-02-04T00:00:00",
          "2025-02-05T00:00:00",
          "2025-02-06T00:00:00",
          "2025-02-07T00:00:00",
          "2025-02-10T00:00:00",
          "2025-02-11T00:00:00",
          "2025-02-12T00:00:00",
          "2025-02-13T00:00:00",
          "2025-02-14T00:00:00",
          "2025-02-18T00:00:00",
          "2025-02-19T00:00:00",
          "2025-02-20T00:00:00",
          "2025-02-21T00:00:00",
          "2025-02-24T00:00:00",
          "2025-02-25T00:00:00",
          "2025-02-26T00:00:00",
          "2025-02-27T00:00:00",
          "2025-02-28T00:00:00",
          "2025-03-03T00:00:00",
          "2025-03-04T00:00:00",
          "2025-03-05T00:00:00",
          "2025-03-06T00:00:00",
          "2025-03-07T00:00:00",
          "2025-03-10T00:00:00",
          "2025-03-11T00:00:00",
          "2025-03-12T00:00:00",
          "2025-03-13T00:00:00",
          "2025-03-14T00:00:00",
          "2025-03-17T00:00:00",
          "2025-03-18T00:00:00",
          "2025-03-19T00:00:00",
          "2025-03-20T00:00:00",
          "2025-03-21T00:00:00",
          "2025-03-24T00:00:00",
          "2025-03-25T00:00:00",
          "2025-03-26T00:00:00",
          "2025-03-27T00:00:00",
          "2025-03-28T00:00:00",
          "2025-03-31T00:00:00",
          "2025-04-01T00:00:00",
          "2025-04-02T00:00:00",
          "2025-04-03T00:00:00",
          "2025-04-04T00:00:00",
          "2025-04-07T00:00:00",
          "2025-04-08T00:00:00",
          "2025-04-09T00:00:00",
          "2025-04-10T00:00:00",
          "2025-04-11T00:00:00",
          "2025-04-14T00:00:00",
          "2025-04-15T00:00:00",
          "2025-04-16T00:00:00",
          "2025-04-17T00:00:00",
          "2025-04-21T00:00:00",
          "2025-04-22T00:00:00",
          "2025-04-23T00:00:00",
          "2025-04-24T00:00:00",
          "2025-04-25T00:00:00",
          "2025-04-28T00:00:00",
          "2025-04-29T00:00:00",
          "2025-04-30T00:00:00",
          "2025-05-01T00:00:00",
          "2025-05-02T00:00:00",
          "2025-05-05T00:00:00",
          "2025-05-06T00:00:00",
          "2025-05-07T00:00:00",
          "2025-05-08T00:00:00",
          "2025-05-09T00:00:00",
          "2025-05-12T00:00:00",
          "2025-05-13T00:00:00",
          "2025-05-14T00:00:00",
          "2025-05-15T00:00:00",
          "2025-05-16T00:00:00",
          "2025-05-19T00:00:00",
          "2025-05-20T00:00:00",
          "2025-05-21T00:00:00",
          "2025-05-22T00:00:00",
          "2025-05-23T00:00:00",
          "2025-05-27T00:00:00",
          "2025-05-28T00:00:00",
          "2025-05-29T00:00:00",
          "2025-05-30T00:00:00",
          "2025-06-02T00:00:00",
          "2025-06-03T00:00:00",
          "2025-06-04T00:00:00",
          "2025-06-05T00:00:00",
          "2025-06-06T00:00:00",
          "2025-06-09T00:00:00",
          "2025-06-10T00:00:00",
          "2025-06-11T00:00:00",
          "2025-06-12T00:00:00",
          "2025-06-13T00:00:00",
          "2025-06-16T00:00:00",
          "2025-06-17T00:00:00",
          "2025-06-18T00:00:00",
          "2025-06-20T00:00:00",
          "2025-06-23T00:00:00",
          "2025-06-24T00:00:00",
          "2025-06-25T00:00:00",
          "2025-06-26T00:00:00",
          "2025-06-27T00:00:00",
          "2025-06-30T00:00:00",
          "2025-07-01T00:00:00",
          "2025-07-02T00:00:00",
          "2025-07-03T00:00:00",
          "2025-07-07T00:00:00",
          "2025-07-08T00:00:00",
          "2025-07-09T00:00:00",
          "2025-07-10T00:00:00",
          "2025-07-11T00:00:00",
          "2025-07-14T00:00:00",
          "2025-07-15T00:00:00",
          "2025-07-16T00:00:00",
          "2025-07-17T00:00:00",
          "2025-07-18T00:00:00",
          "2025-07-21T00:00:00",
          "2025-07-22T00:00:00"
         ],
         "y": {
          "bdata": "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",
          "dtype": "f8"
         }
        }
       ],
       "layout": {
        "legend": {
         "bgcolor": "rgba(0,0,0,0)",
         "bordercolor": "rgba(0,0,0,0)",
         "orientation": "h",
         "title": {
          "text": "Legend"
         },
         "traceorder": "normal",
         "x": 0,
         "y": 1
        },
        "template": {
         "data": {
          "bar": [
           {
            "error_x": {
             "color": "#2a3f5f"
            },
            "error_y": {
             "color": "#2a3f5f"
            },
            "marker": {
             "line": {
              "color": "#E5ECF6",
              "width": 0.5
             },
             "pattern": {
              "fillmode": "overlay",
              "size": 10,
              "solidity": 0.2
             }
            },
            "type": "bar"
           }
          ],
          "barpolar": [
           {
            "marker": {
             "line": {
              "color": "#E5ECF6",
              "width": 0.5
             },
             "pattern": {
              "fillmode": "overlay",
              "size": 10,
              "solidity": 0.2
             }
            },
            "type": "barpolar"
           }
          ],
          "carpet": [
           {
            "aaxis": {
             "endlinecolor": "#2a3f5f",
             "gridcolor": "white",
             "linecolor": "white",
             "minorgridcolor": "white",
             "startlinecolor": "#2a3f5f"
            },
            "baxis": {
             "endlinecolor": "#2a3f5f",
             "gridcolor": "white",
             "linecolor": "white",
             "minorgridcolor": "white",
             "startlinecolor": "#2a3f5f"
            },
            "type": "carpet"
           }
          ],
          "choropleth": [
           {
            "colorbar": {
             "outlinewidth": 0,
             "ticks": ""
            },
            "type": "choropleth"
           }
          ],
          "contour": [
           {
            "colorbar": {
             "outlinewidth": 0,
             "ticks": ""
            },
            "colorscale": [
             [
              0,
              "#0d0887"
             ],
             [
              0.1111111111111111,
              "#46039f"
             ],
             [
              0.2222222222222222,
              "#7201a8"
             ],
             [
              0.3333333333333333,
              "#9c179e"
             ],
             [
              0.4444444444444444,
              "#bd3786"
             ],
             [
              0.5555555555555556,
              "#d8576b"
             ],
             [
              0.6666666666666666,
              "#ed7953"
             ],
             [
              0.7777777777777778,
              "#fb9f3a"
             ],
             [
              0.8888888888888888,
              "#fdca26"
             ],
             [
              1,
              "#f0f921"
             ]
            ],
            "type": "contour"
           }
          ],
          "contourcarpet": [
           {
            "colorbar": {
             "outlinewidth": 0,
             "ticks": ""
            },
            "type": "contourcarpet"
           }
          ],
          "heatmap": [
           {
            "colorbar": {
             "outlinewidth": 0,
             "ticks": ""
            },
            "colorscale": [
             [
              0,
              "#0d0887"
             ],
             [
              0.1111111111111111,
              "#46039f"
             ],
             [
              0.2222222222222222,
              "#7201a8"
             ],
             [
              0.3333333333333333,
              "#9c179e"
             ],
             [
              0.4444444444444444,
              "#bd3786"
             ],
             [
              0.5555555555555556,
              "#d8576b"
             ],
             [
              0.6666666666666666,
              "#ed7953"
             ],
             [
              0.7777777777777778,
              "#fb9f3a"
             ],
             [
              0.8888888888888888,
              "#fdca26"
             ],
             [
              1,
              "#f0f921"
             ]
            ],
            "type": "heatmap"
           }
          ],
          "histogram": [
           {
            "marker": {
             "pattern": {
              "fillmode": "overlay",
              "size": 10,
              "solidity": 0.2
             }
            },
            "type": "histogram"
           }
          ],
          "histogram2d": [
           {
            "colorbar": {
             "outlinewidth": 0,
             "ticks": ""
            },
            "colorscale": [
             [
              0,
              "#0d0887"
             ],
             [
              0.1111111111111111,
              "#46039f"
             ],
             [
              0.2222222222222222,
              "#7201a8"
             ],
             [
              0.3333333333333333,
              "#9c179e"
             ],
             [
              0.4444444444444444,
              "#bd3786"
             ],
             [
              0.5555555555555556,
              "#d8576b"
             ],
             [
              0.6666666666666666,
              "#ed7953"
             ],
             [
              0.7777777777777778,
              "#fb9f3a"
             ],
             [
              0.8888888888888888,
              "#fdca26"
             ],
             [
              1,
              "#f0f921"
             ]
            ],
            "type": "histogram2d"
           }
          ],
          "histogram2dcontour": [
           {
            "colorbar": {
             "outlinewidth": 0,
             "ticks": ""
            },
            "colorscale": [
             [
              0,
              "#0d0887"
             ],
             [
              0.1111111111111111,
              "#46039f"
             ],
             [
              0.2222222222222222,
              "#7201a8"
             ],
             [
              0.3333333333333333,
              "#9c179e"
             ],
             [
              0.4444444444444444,
              "#bd3786"
             ],
             [
              0.5555555555555556,
              "#d8576b"
             ],
             [
              0.6666666666666666,
              "#ed7953"
             ],
             [
              0.7777777777777778,
              "#fb9f3a"
             ],
             [
              0.8888888888888888,
              "#fdca26"
             ],
             [
              1,
              "#f0f921"
             ]
            ],
            "type": "histogram2dcontour"
           }
          ],
          "mesh3d": [
           {
            "colorbar": {
             "outlinewidth": 0,
             "ticks": ""
            },
            "type": "mesh3d"
           }
          ],
          "parcoords": [
           {
            "line": {
             "colorbar": {
              "outlinewidth": 0,
              "ticks": ""
             }
            },
            "type": "parcoords"
           }
          ],
          "pie": [
           {
            "automargin": true,
            "type": "pie"
           }
          ],
          "scatter": [
           {
            "fillpattern": {
             "fillmode": "overlay",
             "size": 10,
             "solidity": 0.2
            },
            "type": "scatter"
           }
          ],
          "scatter3d": [
           {
            "line": {
             "colorbar": {
              "outlinewidth": 0,
              "ticks": ""
             }
            },
            "marker": {
             "colorbar": {
              "outlinewidth": 0,
              "ticks": ""
             }
            },
            "type": "scatter3d"
           }
          ],
          "scattercarpet": [
           {
            "marker": {
             "colorbar": {
              "outlinewidth": 0,
              "ticks": ""
             }
            },
            "type": "scattercarpet"
           }
          ],
          "scattergeo": [
           {
            "marker": {
             "colorbar": {
              "outlinewidth": 0,
              "ticks": ""
             }
            },
            "type": "scattergeo"
           }
          ],
          "scattergl": [
           {
            "marker": {
             "colorbar": {
              "outlinewidth": 0,
              "ticks": ""
             }
            },
            "type": "scattergl"
           }
          ],
          "scattermap": [
           {
            "marker": {
             "colorbar": {
              "outlinewidth": 0,
              "ticks": ""
             }
            },
            "type": "scattermap"
           }
          ],
          "scattermapbox": [
           {
            "marker": {
             "colorbar": {
              "outlinewidth": 0,
              "ticks": ""
             }
            },
            "type": "scattermapbox"
           }
          ],
          "scatterpolar": [
           {
            "marker": {
             "colorbar": {
              "outlinewidth": 0,
              "ticks": ""
             }
            },
            "type": "scatterpolar"
           }
          ],
          "scatterpolargl": [
           {
            "marker": {
             "colorbar": {
              "outlinewidth": 0,
              "ticks": ""
             }
            },
            "type": "scatterpolargl"
           }
          ],
          "scatterternary": [
           {
            "marker": {
             "colorbar": {
              "outlinewidth": 0,
              "ticks": ""
             }
            },
            "type": "scatterternary"
           }
          ],
          "surface": [
           {
            "colorbar": {
             "outlinewidth": 0,
             "ticks": ""
            },
            "colorscale": [
             [
              0,
              "#0d0887"
             ],
             [
              0.1111111111111111,
              "#46039f"
             ],
             [
              0.2222222222222222,
              "#7201a8"
             ],
             [
              0.3333333333333333,
              "#9c179e"
             ],
             [
              0.4444444444444444,
              "#bd3786"
             ],
             [
              0.5555555555555556,
              "#d8576b"
             ],
             [
              0.6666666666666666,
              "#ed7953"
             ],
             [
              0.7777777777777778,
              "#fb9f3a"
             ],
             [
              0.8888888888888888,
              "#fdca26"
             ],
             [
              1,
              "#f0f921"
             ]
            ],
            "type": "surface"
           }
          ],
          "table": [
           {
            "cells": {
             "fill": {
              "color": "#EBF0F8"
             },
             "line": {
              "color": "white"
             }
            },
            "header": {
             "fill": {
              "color": "#C8D4E3"
             },
             "line": {
              "color": "white"
             }
            },
            "type": "table"
           }
          ]
         },
         "layout": {
          "annotationdefaults": {
           "arrowcolor": "#2a3f5f",
           "arrowhead": 0,
           "arrowwidth": 1
          },
          "autotypenumbers": "strict",
          "coloraxis": {
           "colorbar": {
            "outlinewidth": 0,
            "ticks": ""
           }
          },
          "colorscale": {
           "diverging": [
            [
             0,
             "#8e0152"
            ],
            [
             0.1,
             "#c51b7d"
            ],
            [
             0.2,
             "#de77ae"
            ],
            [
             0.3,
             "#f1b6da"
            ],
            [
             0.4,
             "#fde0ef"
            ],
            [
             0.5,
             "#f7f7f7"
            ],
            [
             0.6,
             "#e6f5d0"
            ],
            [
             0.7,
             "#b8e186"
            ],
            [
             0.8,
             "#7fbc41"
            ],
            [
             0.9,
             "#4d9221"
            ],
            [
             1,
             "#276419"
            ]
           ],
           "sequential": [
            [
             0,
             "#0d0887"
            ],
            [
             0.1111111111111111,
             "#46039f"
            ],
            [
             0.2222222222222222,
             "#7201a8"
            ],
            [
             0.3333333333333333,
             "#9c179e"
            ],
            [
             0.4444444444444444,
             "#bd3786"
            ],
            [
             0.5555555555555556,
             "#d8576b"
            ],
            [
             0.6666666666666666,
             "#ed7953"
            ],
            [
             0.7777777777777778,
             "#fb9f3a"
            ],
            [
             0.8888888888888888,
             "#fdca26"
            ],
            [
             1,
             "#f0f921"
            ]
           ],
           "sequentialminus": [
            [
             0,
             "#0d0887"
            ],
            [
             0.1111111111111111,
             "#46039f"
            ],
            [
             0.2222222222222222,
             "#7201a8"
            ],
            [
             0.3333333333333333,
             "#9c179e"
            ],
            [
             0.4444444444444444,
             "#bd3786"
            ],
            [
             0.5555555555555556,
             "#d8576b"
            ],
            [
             0.6666666666666666,
             "#ed7953"
            ],
            [
             0.7777777777777778,
             "#fb9f3a"
            ],
            [
             0.8888888888888888,
             "#fdca26"
            ],
            [
             1,
             "#f0f921"
            ]
           ]
          },
          "colorway": [
           "#636efa",
           "#EF553B",
           "#00cc96",
           "#ab63fa",
           "#FFA15A",
           "#19d3f3",
           "#FF6692",
           "#B6E880",
           "#FF97FF",
           "#FECB52"
          ],
          "font": {
           "color": "#2a3f5f"
          },
          "geo": {
           "bgcolor": "white",
           "lakecolor": "white",
           "landcolor": "#E5ECF6",
           "showlakes": true,
           "showland": true,
           "subunitcolor": "white"
          },
          "hoverlabel": {
           "align": "left"
          },
          "hovermode": "closest",
          "mapbox": {
           "style": "light"
          },
          "paper_bgcolor": "white",
          "plot_bgcolor": "#E5ECF6",
          "polar": {
           "angularaxis": {
            "gridcolor": "white",
            "linecolor": "white",
            "ticks": ""
           },
           "bgcolor": "#E5ECF6",
           "radialaxis": {
            "gridcolor": "white",
            "linecolor": "white",
            "ticks": ""
           }
          },
          "scene": {
           "xaxis": {
            "backgroundcolor": "#E5ECF6",
            "gridcolor": "white",
            "gridwidth": 2,
            "linecolor": "white",
            "showbackground": true,
            "ticks": "",
            "zerolinecolor": "white"
           },
           "yaxis": {
            "backgroundcolor": "#E5ECF6",
            "gridcolor": "white",
            "gridwidth": 2,
            "linecolor": "white",
            "showbackground": true,
            "ticks": "",
            "zerolinecolor": "white"
           },
           "zaxis": {
            "backgroundcolor": "#E5ECF6",
            "gridcolor": "white",
            "gridwidth": 2,
            "linecolor": "white",
            "showbackground": true,
            "ticks": "",
            "zerolinecolor": "white"
           }
          },
          "shapedefaults": {
           "line": {
            "color": "#2a3f5f"
           }
          },
          "ternary": {
           "aaxis": {
            "gridcolor": "white",
            "linecolor": "white",
            "ticks": ""
           },
           "baxis": {
            "gridcolor": "white",
            "linecolor": "white",
            "ticks": ""
           },
           "bgcolor": "#E5ECF6",
           "caxis": {
            "gridcolor": "white",
            "linecolor": "white",
            "ticks": ""
           }
          },
          "title": {
           "x": 0.05
          },
          "xaxis": {
           "automargin": true,
           "gridcolor": "white",
           "linecolor": "white",
           "ticks": "",
           "title": {
            "standoff": 15
           },
           "zerolinecolor": "white",
           "zerolinewidth": 2
          },
          "yaxis": {
           "automargin": true,
           "gridcolor": "white",
           "linecolor": "white",
           "ticks": "",
           "title": {
            "standoff": 15
           },
           "zerolinecolor": "white",
           "zerolinewidth": 2
          }
         }
        },
        "title": {
         "text": "AAPL Price with 20‑day & 50‑day SMAs (Full History)"
        },
        "xaxis": {
         "rangeslider": {
          "visible": true
         },
         "title": {
          "text": "Date"
         }
        },
        "yaxis": {
         "title": {
          "text": "Price (USD)"
         }
        }
       }
      }
     },
     "metadata": {},
     "output_type": "display_data"
    }
   ],
   "source": [
    "# plot1: Price with SMAs\n",
    "import plotly.graph_objects as go\n",
    "\n",
    "# Show more days by sorting ascending and plotting the full range\n",
    "price_history_sorted = price_history.sort_values(by='Date', ascending=True)\n",
    "\n",
    "fig = go.Figure()\n",
    "fig.add_trace(go.Scatter(\n",
    "    x=price_history_sorted['Date'],\n",
    "    y=price_history_sorted[f'Close {ticker}'],\n",
    "    mode='lines',\n",
    "    name=f'Close {ticker}'\n",
    "))\n",
    "fig.add_trace(go.Scatter(\n",
    "    x=price_history_sorted['Date'],\n",
    "    y=price_history_sorted['SMA_20'],\n",
    "    mode='lines',\n",
    "    name='20‑day SMA'\n",
    "))\n",
    "fig.add_trace(go.Scatter(\n",
    "    x=price_history_sorted['Date'],\n",
    "    y=price_history_sorted['SMA_50'],\n",
    "    mode='lines',\n",
    "    name='50‑day SMA'\n",
    "))\n",
    "fig.update_layout(\n",
    "    title=f\"{ticker} Price with 20‑day & 50‑day SMAs (Full History)\",\n",
    "    xaxis_title=\"Date\",\n",
    "    yaxis_title=\"Price (USD)\",\n",
    "    legend_title=\"Legend\",\n",
    "    xaxis=dict(rangeslider=dict(visible=True))  # Add range slider for zooming\n",
    ")\n",
    "\n",
    "\n",
    "fig.show()  "
   ]
  },
  {
   "cell_type": "code",
   "execution_count": 69,
   "id": "1d873cd0",
   "metadata": {},
   "outputs": [
    {
     "data": {
      "application/vnd.plotly.v1+json": {
       "config": {
        "plotlyServerURL": "https://plot.ly"
       },
       "data": [
        {
         "customdata": {
          "bdata": "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",
          "dtype": "f8",
          "shape": "501, 2"
         },
         "hovertemplate": "<b>Date:</b> %{x}<br><b>Close Price:</b> %{y}<br><b>RSI:</b> %{customdata[0]}",
         "mode": "lines",
         "name": "RSI 14",
         "type": "scatter",
         "x": [
          "2023-07-24T00:00:00.000000000",
          "2023-07-25T00:00:00.000000000",
          "2023-07-26T00:00:00.000000000",
          "2023-07-27T00:00:00.000000000",
          "2023-07-28T00:00:00.000000000",
          "2023-07-31T00:00:00.000000000",
          "2023-08-01T00:00:00.000000000",
          "2023-08-02T00:00:00.000000000",
          "2023-08-03T00:00:00.000000000",
          "2023-08-04T00:00:00.000000000",
          "2023-08-07T00:00:00.000000000",
          "2023-08-08T00:00:00.000000000",
          "2023-08-09T00:00:00.000000000",
          "2023-08-10T00:00:00.000000000",
          "2023-08-11T00:00:00.000000000",
          "2023-08-14T00:00:00.000000000",
          "2023-08-15T00:00:00.000000000",
          "2023-08-16T00:00:00.000000000",
          "2023-08-17T00:00:00.000000000",
          "2023-08-18T00:00:00.000000000",
          "2023-08-21T00:00:00.000000000",
          "2023-08-22T00:00:00.000000000",
          "2023-08-23T00:00:00.000000000",
          "2023-08-24T00:00:00.000000000",
          "2023-08-25T00:00:00.000000000",
          "2023-08-28T00:00:00.000000000",
          "2023-08-29T00:00:00.000000000",
          "2023-08-30T00:00:00.000000000",
          "2023-08-31T00:00:00.000000000",
          "2023-09-01T00:00:00.000000000",
          "2023-09-05T00:00:00.000000000",
          "2023-09-06T00:00:00.000000000",
          "2023-09-07T00:00:00.000000000",
          "2023-09-08T00:00:00.000000000",
          "2023-09-11T00:00:00.000000000",
          "2023-09-12T00:00:00.000000000",
          "2023-09-13T00:00:00.000000000",
          "2023-09-14T00:00:00.000000000",
          "2023-09-15T00:00:00.000000000",
          "2023-09-18T00:00:00.000000000",
          "2023-09-19T00:00:00.000000000",
          "2023-09-20T00:00:00.000000000",
          "2023-09-21T00:00:00.000000000",
          "2023-09-22T00:00:00.000000000",
          "2023-09-25T00:00:00.000000000",
          "2023-09-26T00:00:00.000000000",
          "2023-09-27T00:00:00.000000000",
          "2023-09-28T00:00:00.000000000",
          "2023-09-29T00:00:00.000000000",
          "2023-10-02T00:00:00.000000000",
          "2023-10-03T00:00:00.000000000",
          "2023-10-04T00:00:00.000000000",
          "2023-10-05T00:00:00.000000000",
          "2023-10-06T00:00:00.000000000",
          "2023-10-09T00:00:00.000000000",
          "2023-10-10T00:00:00.000000000",
          "2023-10-11T00:00:00.000000000",
          "2023-10-12T00:00:00.000000000",
          "2023-10-13T00:00:00.000000000",
          "2023-10-16T00:00:00.000000000",
          "2023-10-17T00:00:00.000000000",
          "2023-10-18T00:00:00.000000000",
          "2023-10-19T00:00:00.000000000",
          "2023-10-20T00:00:00.000000000",
          "2023-10-23T00:00:00.000000000",
          "2023-10-24T00:00:00.000000000",
          "2023-10-25T00:00:00.000000000",
          "2023-10-26T00:00:00.000000000",
          "2023-10-27T00:00:00.000000000",
          "2023-10-30T00:00:00.000000000",
          "2023-10-31T00:00:00.000000000",
          "2023-11-01T00:00:00.000000000",
          "2023-11-02T00:00:00.000000000",
          "2023-11-03T00:00:00.000000000",
          "2023-11-06T00:00:00.000000000",
          "2023-11-07T00:00:00.000000000",
          "2023-11-08T00:00:00.000000000",
          "2023-11-09T00:00:00.000000000",
          "2023-11-10T00:00:00.000000000",
          "2023-11-13T00:00:00.000000000",
          "2023-11-14T00:00:00.000000000",
          "2023-11-15T00:00:00.000000000",
          "2023-11-16T00:00:00.000000000",
          "2023-11-17T00:00:00.000000000",
          "2023-11-20T00:00:00.000000000",
          "2023-11-21T00:00:00.000000000",
          "2023-11-22T00:00:00.000000000",
          "2023-11-24T00:00:00.000000000",
          "2023-11-27T00:00:00.000000000",
          "2023-11-28T00:00:00.000000000",
          "2023-11-29T00:00:00.000000000",
          "2023-11-30T00:00:00.000000000",
          "2023-12-01T00:00:00.000000000",
          "2023-12-04T00:00:00.000000000",
          "2023-12-05T00:00:00.000000000",
          "2023-12-06T00:00:00.000000000",
          "2023-12-07T00:00:00.000000000",
          "2023-12-08T00:00:00.000000000",
          "2023-12-11T00:00:00.000000000",
          "2023-12-12T00:00:00.000000000",
          "2023-12-13T00:00:00.000000000",
          "2023-12-14T00:00:00.000000000",
          "2023-12-15T00:00:00.000000000",
          "2023-12-18T00:00:00.000000000",
          "2023-12-19T00:00:00.000000000",
          "2023-12-20T00:00:00.000000000",
          "2023-12-21T00:00:00.000000000",
          "2023-12-22T00:00:00.000000000",
          "2023-12-26T00:00:00.000000000",
          "2023-12-27T00:00:00.000000000",
          "2023-12-28T00:00:00.000000000",
          "2023-12-29T00:00:00.000000000",
          "2024-01-02T00:00:00.000000000",
          "2024-01-03T00:00:00.000000000",
          "2024-01-04T00:00:00.000000000",
          "2024-01-05T00:00:00.000000000",
          "2024-01-08T00:00:00.000000000",
          "2024-01-09T00:00:00.000000000",
          "2024-01-10T00:00:00.000000000",
          "2024-01-11T00:00:00.000000000",
          "2024-01-12T00:00:00.000000000",
          "2024-01-16T00:00:00.000000000",
          "2024-01-17T00:00:00.000000000",
          "2024-01-18T00:00:00.000000000",
          "2024-01-19T00:00:00.000000000",
          "2024-01-22T00:00:00.000000000",
          "2024-01-23T00:00:00.000000000",
          "2024-01-24T00:00:00.000000000",
          "2024-01-25T00:00:00.000000000",
          "2024-01-26T00:00:00.000000000",
          "2024-01-29T00:00:00.000000000",
          "2024-01-30T00:00:00.000000000",
          "2024-01-31T00:00:00.000000000",
          "2024-02-01T00:00:00.000000000",
          "2024-02-02T00:00:00.000000000",
          "2024-02-05T00:00:00.000000000",
          "2024-02-06T00:00:00.000000000",
          "2024-02-07T00:00:00.000000000",
          "2024-02-08T00:00:00.000000000",
          "2024-02-09T00:00:00.000000000",
          "2024-02-12T00:00:00.000000000",
          "2024-02-13T00:00:00.000000000",
          "2024-02-14T00:00:00.000000000",
          "2024-02-15T00:00:00.000000000",
          "2024-02-16T00:00:00.000000000",
          "2024-02-20T00:00:00.000000000",
          "2024-02-21T00:00:00.000000000",
          "2024-02-22T00:00:00.000000000",
          "2024-02-23T00:00:00.000000000",
          "2024-02-26T00:00:00.000000000",
          "2024-02-27T00:00:00.000000000",
          "2024-02-28T00:00:00.000000000",
          "2024-02-29T00:00:00.000000000",
          "2024-03-01T00:00:00.000000000",
          "2024-03-04T00:00:00.000000000",
          "2024-03-05T00:00:00.000000000",
          "2024-03-06T00:00:00.000000000",
          "2024-03-07T00:00:00.000000000",
          "2024-03-08T00:00:00.000000000",
          "2024-03-11T00:00:00.000000000",
          "2024-03-12T00:00:00.000000000",
          "2024-03-13T00:00:00.000000000",
          "2024-03-14T00:00:00.000000000",
          "2024-03-15T00:00:00.000000000",
          "2024-03-18T00:00:00.000000000",
          "2024-03-19T00:00:00.000000000",
          "2024-03-20T00:00:00.000000000",
          "2024-03-21T00:00:00.000000000",
          "2024-03-22T00:00:00.000000000",
          "2024-03-25T00:00:00.000000000",
          "2024-03-26T00:00:00.000000000",
          "2024-03-27T00:00:00.000000000",
          "2024-03-28T00:00:00.000000000",
          "2024-04-01T00:00:00.000000000",
          "2024-04-02T00:00:00.000000000",
          "2024-04-03T00:00:00.000000000",
          "2024-04-04T00:00:00.000000000",
          "2024-04-05T00:00:00.000000000",
          "2024-04-08T00:00:00.000000000",
          "2024-04-09T00:00:00.000000000",
          "2024-04-10T00:00:00.000000000",
          "2024-04-11T00:00:00.000000000",
          "2024-04-12T00:00:00.000000000",
          "2024-04-15T00:00:00.000000000",
          "2024-04-16T00:00:00.000000000",
          "2024-04-17T00:00:00.000000000",
          "2024-04-18T00:00:00.000000000",
          "2024-04-19T00:00:00.000000000",
          "2024-04-22T00:00:00.000000000",
          "2024-04-23T00:00:00.000000000",
          "2024-04-24T00:00:00.000000000",
          "2024-04-25T00:00:00.000000000",
          "2024-04-26T00:00:00.000000000",
          "2024-04-29T00:00:00.000000000",
          "2024-04-30T00:00:00.000000000",
          "2024-05-01T00:00:00.000000000",
          "2024-05-02T00:00:00.000000000",
          "2024-05-03T00:00:00.000000000",
          "2024-05-06T00:00:00.000000000",
          "2024-05-07T00:00:00.000000000",
          "2024-05-08T00:00:00.000000000",
          "2024-05-09T00:00:00.000000000",
          "2024-05-10T00:00:00.000000000",
          "2024-05-13T00:00:00.000000000",
          "2024-05-14T00:00:00.000000000",
          "2024-05-15T00:00:00.000000000",
          "2024-05-16T00:00:00.000000000",
          "2024-05-17T00:00:00.000000000",
          "2024-05-20T00:00:00.000000000",
          "2024-05-21T00:00:00.000000000",
          "2024-05-22T00:00:00.000000000",
          "2024-05-23T00:00:00.000000000",
          "2024-05-24T00:00:00.000000000",
          "2024-05-28T00:00:00.000000000",
          "2024-05-29T00:00:00.000000000",
          "2024-05-30T00:00:00.000000000",
          "2024-05-31T00:00:00.000000000",
          "2024-06-03T00:00:00.000000000",
          "2024-06-04T00:00:00.000000000",
          "2024-06-05T00:00:00.000000000",
          "2024-06-06T00:00:00.000000000",
          "2024-06-07T00:00:00.000000000",
          "2024-06-10T00:00:00.000000000",
          "2024-06-11T00:00:00.000000000",
          "2024-06-12T00:00:00.000000000",
          "2024-06-13T00:00:00.000000000",
          "2024-06-14T00:00:00.000000000",
          "2024-06-17T00:00:00.000000000",
          "2024-06-18T00:00:00.000000000",
          "2024-06-20T00:00:00.000000000",
          "2024-06-21T00:00:00.000000000",
          "2024-06-24T00:00:00.000000000",
          "2024-06-25T00:00:00.000000000",
          "2024-06-26T00:00:00.000000000",
          "2024-06-27T00:00:00.000000000",
          "2024-06-28T00:00:00.000000000",
          "2024-07-01T00:00:00.000000000",
          "2024-07-02T00:00:00.000000000",
          "2024-07-03T00:00:00.000000000",
          "2024-07-05T00:00:00.000000000",
          "2024-07-08T00:00:00.000000000",
          "2024-07-09T00:00:00.000000000",
          "2024-07-10T00:00:00.000000000",
          "2024-07-11T00:00:00.000000000",
          "2024-07-12T00:00:00.000000000",
          "2024-07-15T00:00:00.000000000",
          "2024-07-16T00:00:00.000000000",
          "2024-07-17T00:00:00.000000000",
          "2024-07-18T00:00:00.000000000",
          "2024-07-19T00:00:00.000000000",
          "2024-07-22T00:00:00.000000000",
          "2024-07-23T00:00:00.000000000",
          "2024-07-24T00:00:00.000000000",
          "2024-07-25T00:00:00.000000000",
          "2024-07-26T00:00:00.000000000",
          "2024-07-29T00:00:00.000000000",
          "2024-07-30T00:00:00.000000000",
          "2024-07-31T00:00:00.000000000",
          "2024-08-01T00:00:00.000000000",
          "2024-08-02T00:00:00.000000000",
          "2024-08-05T00:00:00.000000000",
          "2024-08-06T00:00:00.000000000",
          "2024-08-07T00:00:00.000000000",
          "2024-08-08T00:00:00.000000000",
          "2024-08-09T00:00:00.000000000",
          "2024-08-12T00:00:00.000000000",
          "2024-08-13T00:00:00.000000000",
          "2024-08-14T00:00:00.000000000",
          "2024-08-15T00:00:00.000000000",
          "2024-08-16T00:00:00.000000000",
          "2024-08-19T00:00:00.000000000",
          "2024-08-20T00:00:00.000000000",
          "2024-08-21T00:00:00.000000000",
          "2024-08-22T00:00:00.000000000",
          "2024-08-23T00:00:00.000000000",
          "2024-08-26T00:00:00.000000000",
          "2024-08-27T00:00:00.000000000",
          "2024-08-28T00:00:00.000000000",
          "2024-08-29T00:00:00.000000000",
          "2024-08-30T00:00:00.000000000",
          "2024-09-03T00:00:00.000000000",
          "2024-09-04T00:00:00.000000000",
          "2024-09-05T00:00:00.000000000",
          "2024-09-06T00:00:00.000000000",
          "2024-09-09T00:00:00.000000000",
          "2024-09-10T00:00:00.000000000",
          "2024-09-11T00:00:00.000000000",
          "2024-09-12T00:00:00.000000000",
          "2024-09-13T00:00:00.000000000",
          "2024-09-16T00:00:00.000000000",
          "2024-09-17T00:00:00.000000000",
          "2024-09-18T00:00:00.000000000",
          "2024-09-19T00:00:00.000000000",
          "2024-09-20T00:00:00.000000000",
          "2024-09-23T00:00:00.000000000",
          "2024-09-24T00:00:00.000000000",
          "2024-09-25T00:00:00.000000000",
          "2024-09-26T00:00:00.000000000",
          "2024-09-27T00:00:00.000000000",
          "2024-09-30T00:00:00.000000000",
          "2024-10-01T00:00:00.000000000",
          "2024-10-02T00:00:00.000000000",
          "2024-10-03T00:00:00.000000000",
          "2024-10-04T00:00:00.000000000",
          "2024-10-07T00:00:00.000000000",
          "2024-10-08T00:00:00.000000000",
          "2024-10-09T00:00:00.000000000",
          "2024-10-10T00:00:00.000000000",
          "2024-10-11T00:00:00.000000000",
          "2024-10-14T00:00:00.000000000",
          "2024-10-15T00:00:00.000000000",
          "2024-10-16T00:00:00.000000000",
          "2024-10-17T00:00:00.000000000",
          "2024-10-18T00:00:00.000000000",
          "2024-10-21T00:00:00.000000000",
          "2024-10-22T00:00:00.000000000",
          "2024-10-23T00:00:00.000000000",
          "2024-10-24T00:00:00.000000000",
          "2024-10-25T00:00:00.000000000",
          "2024-10-28T00:00:00.000000000",
          "2024-10-29T00:00:00.000000000",
          "2024-10-30T00:00:00.000000000",
          "2024-10-31T00:00:00.000000000",
          "2024-11-01T00:00:00.000000000",
          "2024-11-04T00:00:00.000000000",
          "2024-11-05T00:00:00.000000000",
          "2024-11-06T00:00:00.000000000",
          "2024-11-07T00:00:00.000000000",
          "2024-11-08T00:00:00.000000000",
          "2024-11-11T00:00:00.000000000",
          "2024-11-12T00:00:00.000000000",
          "2024-11-13T00:00:00.000000000",
          "2024-11-14T00:00:00.000000000",
          "2024-11-15T00:00:00.000000000",
          "2024-11-18T00:00:00.000000000",
          "2024-11-19T00:00:00.000000000",
          "2024-11-20T00:00:00.000000000",
          "2024-11-21T00:00:00.000000000",
          "2024-11-22T00:00:00.000000000",
          "2024-11-25T00:00:00.000000000",
          "2024-11-26T00:00:00.000000000",
          "2024-11-27T00:00:00.000000000",
          "2024-11-29T00:00:00.000000000",
          "2024-12-02T00:00:00.000000000",
          "2024-12-03T00:00:00.000000000",
          "2024-12-04T00:00:00.000000000",
          "2024-12-05T00:00:00.000000000",
          "2024-12-06T00:00:00.000000000",
          "2024-12-09T00:00:00.000000000",
          "2024-12-10T00:00:00.000000000",
          "2024-12-11T00:00:00.000000000",
          "2024-12-12T00:00:00.000000000",
          "2024-12-13T00:00:00.000000000",
          "2024-12-16T00:00:00.000000000",
          "2024-12-17T00:00:00.000000000",
          "2024-12-18T00:00:00.000000000",
          "2024-12-19T00:00:00.000000000",
          "2024-12-20T00:00:00.000000000",
          "2024-12-23T00:00:00.000000000",
          "2024-12-24T00:00:00.000000000",
          "2024-12-26T00:00:00.000000000",
          "2024-12-27T00:00:00.000000000",
          "2024-12-30T00:00:00.000000000",
          "2024-12-31T00:00:00.000000000",
          "2025-01-02T00:00:00.000000000",
          "2025-01-03T00:00:00.000000000",
          "2025-01-06T00:00:00.000000000",
          "2025-01-07T00:00:00.000000000",
          "2025-01-08T00:00:00.000000000",
          "2025-01-10T00:00:00.000000000",
          "2025-01-13T00:00:00.000000000",
          "2025-01-14T00:00:00.000000000",
          "2025-01-15T00:00:00.000000000",
          "2025-01-16T00:00:00.000000000",
          "2025-01-17T00:00:00.000000000",
          "2025-01-21T00:00:00.000000000",
          "2025-01-22T00:00:00.000000000",
          "2025-01-23T00:00:00.000000000",
          "2025-01-24T00:00:00.000000000",
          "2025-01-27T00:00:00.000000000",
          "2025-01-28T00:00:00.000000000",
          "2025-01-29T00:00:00.000000000",
          "2025-01-30T00:00:00.000000000",
          "2025-01-31T00:00:00.000000000",
          "2025-02-03T00:00:00.000000000",
          "2025-02-04T00:00:00.000000000",
          "2025-02-05T00:00:00.000000000",
          "2025-02-06T00:00:00.000000000",
          "2025-02-07T00:00:00.000000000",
          "2025-02-10T00:00:00.000000000",
          "2025-02-11T00:00:00.000000000",
          "2025-02-12T00:00:00.000000000",
          "2025-02-13T00:00:00.000000000",
          "2025-02-14T00:00:00.000000000",
          "2025-02-18T00:00:00.000000000",
          "2025-02-19T00:00:00.000000000",
          "2025-02-20T00:00:00.000000000",
          "2025-02-21T00:00:00.000000000",
          "2025-02-24T00:00:00.000000000",
          "2025-02-25T00:00:00.000000000",
          "2025-02-26T00:00:00.000000000",
          "2025-02-27T00:00:00.000000000",
          "2025-02-28T00:00:00.000000000",
          "2025-03-03T00:00:00.000000000",
          "2025-03-04T00:00:00.000000000",
          "2025-03-05T00:00:00.000000000",
          "2025-03-06T00:00:00.000000000",
          "2025-03-07T00:00:00.000000000",
          "2025-03-10T00:00:00.000000000",
          "2025-03-11T00:00:00.000000000",
          "2025-03-12T00:00:00.000000000",
          "2025-03-13T00:00:00.000000000",
          "2025-03-14T00:00:00.000000000",
          "2025-03-17T00:00:00.000000000",
          "2025-03-18T00:00:00.000000000",
          "2025-03-19T00:00:00.000000000",
          "2025-03-20T00:00:00.000000000",
          "2025-03-21T00:00:00.000000000",
          "2025-03-24T00:00:00.000000000",
          "2025-03-25T00:00:00.000000000",
          "2025-03-26T00:00:00.000000000",
          "2025-03-27T00:00:00.000000000",
          "2025-03-28T00:00:00.000000000",
          "2025-03-31T00:00:00.000000000",
          "2025-04-01T00:00:00.000000000",
          "2025-04-02T00:00:00.000000000",
          "2025-04-03T00:00:00.000000000",
          "2025-04-04T00:00:00.000000000",
          "2025-04-07T00:00:00.000000000",
          "2025-04-08T00:00:00.000000000",
          "2025-04-09T00:00:00.000000000",
          "2025-04-10T00:00:00.000000000",
          "2025-04-11T00:00:00.000000000",
          "2025-04-14T00:00:00.000000000",
          "2025-04-15T00:00:00.000000000",
          "2025-04-16T00:00:00.000000000",
          "2025-04-17T00:00:00.000000000",
          "2025-04-21T00:00:00.000000000",
          "2025-04-22T00:00:00.000000000",
          "2025-04-23T00:00:00.000000000",
          "2025-04-24T00:00:00.000000000",
          "2025-04-25T00:00:00.000000000",
          "2025-04-28T00:00:00.000000000",
          "2025-04-29T00:00:00.000000000",
          "2025-04-30T00:00:00.000000000",
          "2025-05-01T00:00:00.000000000",
          "2025-05-02T00:00:00.000000000",
          "2025-05-05T00:00:00.000000000",
          "2025-05-06T00:00:00.000000000",
          "2025-05-07T00:00:00.000000000",
          "2025-05-08T00:00:00.000000000",
          "2025-05-09T00:00:00.000000000",
          "2025-05-12T00:00:00.000000000",
          "2025-05-13T00:00:00.000000000",
          "2025-05-14T00:00:00.000000000",
          "2025-05-15T00:00:00.000000000",
          "2025-05-16T00:00:00.000000000",
          "2025-05-19T00:00:00.000000000",
          "2025-05-20T00:00:00.000000000",
          "2025-05-21T00:00:00.000000000",
          "2025-05-22T00:00:00.000000000",
          "2025-05-23T00:00:00.000000000",
          "2025-05-27T00:00:00.000000000",
          "2025-05-28T00:00:00.000000000",
          "2025-05-29T00:00:00.000000000",
          "2025-05-30T00:00:00.000000000",
          "2025-06-02T00:00:00.000000000",
          "2025-06-03T00:00:00.000000000",
          "2025-06-04T00:00:00.000000000",
          "2025-06-05T00:00:00.000000000",
          "2025-06-06T00:00:00.000000000",
          "2025-06-09T00:00:00.000000000",
          "2025-06-10T00:00:00.000000000",
          "2025-06-11T00:00:00.000000000",
          "2025-06-12T00:00:00.000000000",
          "2025-06-13T00:00:00.000000000",
          "2025-06-16T00:00:00.000000000",
          "2025-06-17T00:00:00.000000000",
          "2025-06-18T00:00:00.000000000",
          "2025-06-20T00:00:00.000000000",
          "2025-06-23T00:00:00.000000000",
          "2025-06-24T00:00:00.000000000",
          "2025-06-25T00:00:00.000000000",
          "2025-06-26T00:00:00.000000000",
          "2025-06-27T00:00:00.000000000",
          "2025-06-30T00:00:00.000000000",
          "2025-07-01T00:00:00.000000000",
          "2025-07-02T00:00:00.000000000",
          "2025-07-03T00:00:00.000000000",
          "2025-07-07T00:00:00.000000000",
          "2025-07-08T00:00:00.000000000",
          "2025-07-09T00:00:00.000000000",
          "2025-07-10T00:00:00.000000000",
          "2025-07-11T00:00:00.000000000",
          "2025-07-14T00:00:00.000000000",
          "2025-07-15T00:00:00.000000000",
          "2025-07-16T00:00:00.000000000",
          "2025-07-17T00:00:00.000000000",
          "2025-07-18T00:00:00.000000000",
          "2025-07-21T00:00:00.000000000",
          "2025-07-22T00:00:00.000000000"
         ],
         "y": {
          "bdata": "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",
          "dtype": "f8"
         }
        }
       ],
       "layout": {
        "annotations": [
         {
          "showarrow": false,
          "text": "RSI 30",
          "x": 0,
          "xanchor": "left",
          "xref": "x domain",
          "y": 30,
          "yanchor": "bottom",
          "yref": "y"
         },
         {
          "showarrow": false,
          "text": "RSI 70",
          "x": 0,
          "xanchor": "left",
          "xref": "x domain",
          "y": 70,
          "yanchor": "bottom",
          "yref": "y"
         },
         {
          "font": {
           "color": "red"
          },
          "showarrow": false,
          "text": "Oversold Area/Buy Zone",
          "x": "2025-07-22T00:00:00",
          "y": 15
         },
         {
          "font": {
           "color": "green"
          },
          "showarrow": false,
          "text": "Overbought Area/Sell Zone",
          "x": "2025-07-22T00:00:00",
          "y": 85
         }
        ],
        "legend": {
         "title": {
          "text": "Legend"
         }
        },
        "shapes": [
         {
          "line": {
           "color": "red",
           "dash": "dash"
          },
          "type": "line",
          "x0": 0,
          "x1": 1,
          "xref": "x domain",
          "y0": 30,
          "y1": 30,
          "yref": "y"
         },
         {
          "line": {
           "color": "green",
           "dash": "dash"
          },
          "type": "line",
          "x0": 0,
          "x1": 1,
          "xref": "x domain",
          "y0": 70,
          "y1": 70,
          "yref": "y"
         },
         {
          "fillcolor": "red",
          "layer": "below",
          "line": {
           "width": 0
          },
          "name": "Oversold Area/Buy Zone",
          "opacity": 0.2,
          "type": "rect",
          "x0": "2023-07-24T00:00:00",
          "x1": "2025-07-22T00:00:00",
          "y0": 0,
          "y1": 30
         },
         {
          "fillcolor": "green",
          "layer": "below",
          "line": {
           "width": 0
          },
          "name": "Overbought Area/Sell Zone",
          "opacity": 0.2,
          "type": "rect",
          "x0": "2023-07-24T00:00:00",
          "x1": "2025-07-22T00:00:00",
          "y0": 70,
          "y1": 100
         }
        ],
        "template": {
         "data": {
          "bar": [
           {
            "error_x": {
             "color": "#2a3f5f"
            },
            "error_y": {
             "color": "#2a3f5f"
            },
            "marker": {
             "line": {
              "color": "#E5ECF6",
              "width": 0.5
             },
             "pattern": {
              "fillmode": "overlay",
              "size": 10,
              "solidity": 0.2
             }
            },
            "type": "bar"
           }
          ],
          "barpolar": [
           {
            "marker": {
             "line": {
              "color": "#E5ECF6",
              "width": 0.5
             },
             "pattern": {
              "fillmode": "overlay",
              "size": 10,
              "solidity": 0.2
             }
            },
            "type": "barpolar"
           }
          ],
          "carpet": [
           {
            "aaxis": {
             "endlinecolor": "#2a3f5f",
             "gridcolor": "white",
             "linecolor": "white",
             "minorgridcolor": "white",
             "startlinecolor": "#2a3f5f"
            },
            "baxis": {
             "endlinecolor": "#2a3f5f",
             "gridcolor": "white",
             "linecolor": "white",
             "minorgridcolor": "white",
             "startlinecolor": "#2a3f5f"
            },
            "type": "carpet"
           }
          ],
          "choropleth": [
           {
            "colorbar": {
             "outlinewidth": 0,
             "ticks": ""
            },
            "type": "choropleth"
           }
          ],
          "contour": [
           {
            "colorbar": {
             "outlinewidth": 0,
             "ticks": ""
            },
            "colorscale": [
             [
              0,
              "#0d0887"
             ],
             [
              0.1111111111111111,
              "#46039f"
             ],
             [
              0.2222222222222222,
              "#7201a8"
             ],
             [
              0.3333333333333333,
              "#9c179e"
             ],
             [
              0.4444444444444444,
              "#bd3786"
             ],
             [
              0.5555555555555556,
              "#d8576b"
             ],
             [
              0.6666666666666666,
              "#ed7953"
             ],
             [
              0.7777777777777778,
              "#fb9f3a"
             ],
             [
              0.8888888888888888,
              "#fdca26"
             ],
             [
              1,
              "#f0f921"
             ]
            ],
            "type": "contour"
           }
          ],
          "contourcarpet": [
           {
            "colorbar": {
             "outlinewidth": 0,
             "ticks": ""
            },
            "type": "contourcarpet"
           }
          ],
          "heatmap": [
           {
            "colorbar": {
             "outlinewidth": 0,
             "ticks": ""
            },
            "colorscale": [
             [
              0,
              "#0d0887"
             ],
             [
              0.1111111111111111,
              "#46039f"
             ],
             [
              0.2222222222222222,
              "#7201a8"
             ],
             [
              0.3333333333333333,
              "#9c179e"
             ],
             [
              0.4444444444444444,
              "#bd3786"
             ],
             [
              0.5555555555555556,
              "#d8576b"
             ],
             [
              0.6666666666666666,
              "#ed7953"
             ],
             [
              0.7777777777777778,
              "#fb9f3a"
             ],
             [
              0.8888888888888888,
              "#fdca26"
             ],
             [
              1,
              "#f0f921"
             ]
            ],
            "type": "heatmap"
           }
          ],
          "histogram": [
           {
            "marker": {
             "pattern": {
              "fillmode": "overlay",
              "size": 10,
              "solidity": 0.2
             }
            },
            "type": "histogram"
           }
          ],
          "histogram2d": [
           {
            "colorbar": {
             "outlinewidth": 0,
             "ticks": ""
            },
            "colorscale": [
             [
              0,
              "#0d0887"
             ],
             [
              0.1111111111111111,
              "#46039f"
             ],
             [
              0.2222222222222222,
              "#7201a8"
             ],
             [
              0.3333333333333333,
              "#9c179e"
             ],
             [
              0.4444444444444444,
              "#bd3786"
             ],
             [
              0.5555555555555556,
              "#d8576b"
             ],
             [
              0.6666666666666666,
              "#ed7953"
             ],
             [
              0.7777777777777778,
              "#fb9f3a"
             ],
             [
              0.8888888888888888,
              "#fdca26"
             ],
             [
              1,
              "#f0f921"
             ]
            ],
            "type": "histogram2d"
           }
          ],
          "histogram2dcontour": [
           {
            "colorbar": {
             "outlinewidth": 0,
             "ticks": ""
            },
            "colorscale": [
             [
              0,
              "#0d0887"
             ],
             [
              0.1111111111111111,
              "#46039f"
             ],
             [
              0.2222222222222222,
              "#7201a8"
             ],
             [
              0.3333333333333333,
              "#9c179e"
             ],
             [
              0.4444444444444444,
              "#bd3786"
             ],
             [
              0.5555555555555556,
              "#d8576b"
             ],
             [
              0.6666666666666666,
              "#ed7953"
             ],
             [
              0.7777777777777778,
              "#fb9f3a"
             ],
             [
              0.8888888888888888,
              "#fdca26"
             ],
             [
              1,
              "#f0f921"
             ]
            ],
            "type": "histogram2dcontour"
           }
          ],
          "mesh3d": [
           {
            "colorbar": {
             "outlinewidth": 0,
             "ticks": ""
            },
            "type": "mesh3d"
           }
          ],
          "parcoords": [
           {
            "line": {
             "colorbar": {
              "outlinewidth": 0,
              "ticks": ""
             }
            },
            "type": "parcoords"
           }
          ],
          "pie": [
           {
            "automargin": true,
            "type": "pie"
           }
          ],
          "scatter": [
           {
            "fillpattern": {
             "fillmode": "overlay",
             "size": 10,
             "solidity": 0.2
            },
            "type": "scatter"
           }
          ],
          "scatter3d": [
           {
            "line": {
             "colorbar": {
              "outlinewidth": 0,
              "ticks": ""
             }
            },
            "marker": {
             "colorbar": {
              "outlinewidth": 0,
              "ticks": ""
             }
            },
            "type": "scatter3d"
           }
          ],
          "scattercarpet": [
           {
            "marker": {
             "colorbar": {
              "outlinewidth": 0,
              "ticks": ""
             }
            },
            "type": "scattercarpet"
           }
          ],
          "scattergeo": [
           {
            "marker": {
             "colorbar": {
              "outlinewidth": 0,
              "ticks": ""
             }
            },
            "type": "scattergeo"
           }
          ],
          "scattergl": [
           {
            "marker": {
             "colorbar": {
              "outlinewidth": 0,
              "ticks": ""
             }
            },
            "type": "scattergl"
           }
          ],
          "scattermap": [
           {
            "marker": {
             "colorbar": {
              "outlinewidth": 0,
              "ticks": ""
             }
            },
            "type": "scattermap"
           }
          ],
          "scattermapbox": [
           {
            "marker": {
             "colorbar": {
              "outlinewidth": 0,
              "ticks": ""
             }
            },
            "type": "scattermapbox"
           }
          ],
          "scatterpolar": [
           {
            "marker": {
             "colorbar": {
              "outlinewidth": 0,
              "ticks": ""
             }
            },
            "type": "scatterpolar"
           }
          ],
          "scatterpolargl": [
           {
            "marker": {
             "colorbar": {
              "outlinewidth": 0,
              "ticks": ""
             }
            },
            "type": "scatterpolargl"
           }
          ],
          "scatterternary": [
           {
            "marker": {
             "colorbar": {
              "outlinewidth": 0,
              "ticks": ""
             }
            },
            "type": "scatterternary"
           }
          ],
          "surface": [
           {
            "colorbar": {
             "outlinewidth": 0,
             "ticks": ""
            },
            "colorscale": [
             [
              0,
              "#0d0887"
             ],
             [
              0.1111111111111111,
              "#46039f"
             ],
             [
              0.2222222222222222,
              "#7201a8"
             ],
             [
              0.3333333333333333,
              "#9c179e"
             ],
             [
              0.4444444444444444,
              "#bd3786"
             ],
             [
              0.5555555555555556,
              "#d8576b"
             ],
             [
              0.6666666666666666,
              "#ed7953"
             ],
             [
              0.7777777777777778,
              "#fb9f3a"
             ],
             [
              0.8888888888888888,
              "#fdca26"
             ],
             [
              1,
              "#f0f921"
             ]
            ],
            "type": "surface"
           }
          ],
          "table": [
           {
            "cells": {
             "fill": {
              "color": "#EBF0F8"
             },
             "line": {
              "color": "white"
             }
            },
            "header": {
             "fill": {
              "color": "#C8D4E3"
             },
             "line": {
              "color": "white"
             }
            },
            "type": "table"
           }
          ]
         },
         "layout": {
          "annotationdefaults": {
           "arrowcolor": "#2a3f5f",
           "arrowhead": 0,
           "arrowwidth": 1
          },
          "autotypenumbers": "strict",
          "coloraxis": {
           "colorbar": {
            "outlinewidth": 0,
            "ticks": ""
           }
          },
          "colorscale": {
           "diverging": [
            [
             0,
             "#8e0152"
            ],
            [
             0.1,
             "#c51b7d"
            ],
            [
             0.2,
             "#de77ae"
            ],
            [
             0.3,
             "#f1b6da"
            ],
            [
             0.4,
             "#fde0ef"
            ],
            [
             0.5,
             "#f7f7f7"
            ],
            [
             0.6,
             "#e6f5d0"
            ],
            [
             0.7,
             "#b8e186"
            ],
            [
             0.8,
             "#7fbc41"
            ],
            [
             0.9,
             "#4d9221"
            ],
            [
             1,
             "#276419"
            ]
           ],
           "sequential": [
            [
             0,
             "#0d0887"
            ],
            [
             0.1111111111111111,
             "#46039f"
            ],
            [
             0.2222222222222222,
             "#7201a8"
            ],
            [
             0.3333333333333333,
             "#9c179e"
            ],
            [
             0.4444444444444444,
             "#bd3786"
            ],
            [
             0.5555555555555556,
             "#d8576b"
            ],
            [
             0.6666666666666666,
             "#ed7953"
            ],
            [
             0.7777777777777778,
             "#fb9f3a"
            ],
            [
             0.8888888888888888,
             "#fdca26"
            ],
            [
             1,
             "#f0f921"
            ]
           ],
           "sequentialminus": [
            [
             0,
             "#0d0887"
            ],
            [
             0.1111111111111111,
             "#46039f"
            ],
            [
             0.2222222222222222,
             "#7201a8"
            ],
            [
             0.3333333333333333,
             "#9c179e"
            ],
            [
             0.4444444444444444,
             "#bd3786"
            ],
            [
             0.5555555555555556,
             "#d8576b"
            ],
            [
             0.6666666666666666,
             "#ed7953"
            ],
            [
             0.7777777777777778,
             "#fb9f3a"
            ],
            [
             0.8888888888888888,
             "#fdca26"
            ],
            [
             1,
             "#f0f921"
            ]
           ]
          },
          "colorway": [
           "#636efa",
           "#EF553B",
           "#00cc96",
           "#ab63fa",
           "#FFA15A",
           "#19d3f3",
           "#FF6692",
           "#B6E880",
           "#FF97FF",
           "#FECB52"
          ],
          "font": {
           "color": "#2a3f5f"
          },
          "geo": {
           "bgcolor": "white",
           "lakecolor": "white",
           "landcolor": "#E5ECF6",
           "showlakes": true,
           "showland": true,
           "subunitcolor": "white"
          },
          "hoverlabel": {
           "align": "left"
          },
          "hovermode": "closest",
          "mapbox": {
           "style": "light"
          },
          "paper_bgcolor": "white",
          "plot_bgcolor": "#E5ECF6",
          "polar": {
           "angularaxis": {
            "gridcolor": "white",
            "linecolor": "white",
            "ticks": ""
           },
           "bgcolor": "#E5ECF6",
           "radialaxis": {
            "gridcolor": "white",
            "linecolor": "white",
            "ticks": ""
           }
          },
          "scene": {
           "xaxis": {
            "backgroundcolor": "#E5ECF6",
            "gridcolor": "white",
            "gridwidth": 2,
            "linecolor": "white",
            "showbackground": true,
            "ticks": "",
            "zerolinecolor": "white"
           },
           "yaxis": {
            "backgroundcolor": "#E5ECF6",
            "gridcolor": "white",
            "gridwidth": 2,
            "linecolor": "white",
            "showbackground": true,
            "ticks": "",
            "zerolinecolor": "white"
           },
           "zaxis": {
            "backgroundcolor": "#E5ECF6",
            "gridcolor": "white",
            "gridwidth": 2,
            "linecolor": "white",
            "showbackground": true,
            "ticks": "",
            "zerolinecolor": "white"
           }
          },
          "shapedefaults": {
           "line": {
            "color": "#2a3f5f"
           }
          },
          "ternary": {
           "aaxis": {
            "gridcolor": "white",
            "linecolor": "white",
            "ticks": ""
           },
           "baxis": {
            "gridcolor": "white",
            "linecolor": "white",
            "ticks": ""
           },
           "bgcolor": "#E5ECF6",
           "caxis": {
            "gridcolor": "white",
            "linecolor": "white",
            "ticks": ""
           }
          },
          "title": {
           "x": 0.05
          },
          "xaxis": {
           "automargin": true,
           "gridcolor": "white",
           "linecolor": "white",
           "ticks": "",
           "title": {
            "standoff": 15
           },
           "zerolinecolor": "white",
           "zerolinewidth": 2
          },
          "yaxis": {
           "automargin": true,
           "gridcolor": "white",
           "linecolor": "white",
           "ticks": "",
           "title": {
            "standoff": 15
           },
           "zerolinecolor": "white",
           "zerolinewidth": 2
          }
         }
        },
        "title": {
         "text": "AAPL RSI 14 (Full History)"
        },
        "xaxis": {
         "rangeslider": {
          "visible": true
         },
         "title": {
          "text": "Date"
         }
        },
        "yaxis": {
         "title": {
          "text": "RSI"
         }
        }
       }
      }
     },
     "metadata": {},
     "output_type": "display_data"
    }
   ],
   "source": [
    "# plot 2: RSI (Relative Strength Index)\n",
    "fig = go.Figure()\n",
    "fig.add_trace(go.Scatter(\n",
    "    x=price_history_sorted['Date'],\n",
    "    y=price_history_sorted['RSI_14'],\n",
    "    mode='lines',\n",
    "    name='RSI 14'\n",
    "))\n",
    "fig.update_layout(\n",
    "    title=f\"{ticker} RSI 14 (Full History)\",\n",
    "    xaxis_title=\"Date\",\n",
    "    yaxis_title=\"RSI\",\n",
    "    legend_title=\"Legend\",\n",
    "    xaxis=dict(rangeslider=dict(visible=True))  # Add range slider for zoomming\n",
    ")\n",
    "\n",
    "fig.add_hline(y=30, line_dash=\"dash\", line_color=\"red\", annotation_text=\"RSI 30\", annotation_position=\"top left\")\n",
    "fig.add_hline(y=70, line_dash=\"dash\", line_color=\"green\", annotation_text=\"RSI 70\", annotation_position=\"top left\")\n",
    "\n",
    "#shape the area axline=30 and annotation_text it as \"Oversold\" which show the label \"Oversold Area/Buy Zone\"    \n",
    "fig.add_shape(type=\"rect\",\n",
    "              x0=price_history_sorted['Date'].min(),\n",
    "              x1=price_history_sorted['Date'].max(),\n",
    "              y0=0,\n",
    "              y1=30,\n",
    "              fillcolor=\"red\",\n",
    "              opacity=0.2,\n",
    "              line_width=0,\n",
    "              name=\"Oversold Area/Buy Zone\",\n",
    "              layer=\"below\")    \n",
    "\n",
    "fig.add_shape(type=\"rect\",\n",
    "              x0=price_history_sorted['Date'].min(),\n",
    "              x1=price_history_sorted['Date'].max(),\n",
    "              y0=70,\n",
    "              y1=100,\n",
    "              fillcolor=\"green\",\n",
    "              opacity=0.2,\n",
    "              line_width=0,\n",
    "              name=\"Overbought Area/Sell Zone\",\n",
    "              layer=\"below\")    \n",
    "# add annotation_text for shaded area\n",
    "fig.add_annotation(\n",
    "    x=price_history_sorted['Date'].max(),\n",
    "    y=15,\n",
    "    text=\"Oversold Area/Buy Zone\",\n",
    "    showarrow=False,\n",
    "    font=dict(color=\"red\")\n",
    ")\n",
    "fig.add_annotation(\n",
    "    x=price_history_sorted['Date'].max(),\n",
    "    y=85,\n",
    "    text=\"Overbought Area/Sell Zone\",\n",
    "    showarrow=False,\n",
    "    font=dict(color=\"green\")\n",
    ")   \n",
    "\n",
    "# hover text showing the close price and RSI value\n",
    "fig.update_traces(hovertemplate=\"<b>Date:</b> %{x}<br><b>Close Price:</b> %{y}<br><b>RSI:</b> %{customdata[0]}\",\n",
    "                  customdata=price_history_sorted[['Close ' + ticker, 'RSI_14']].values)\n",
    "fig.show()"
   ]
  },
  {
   "cell_type": "code",
   "execution_count": 71,
   "id": "5a0dde6a",
   "metadata": {},
   "outputs": [
    {
     "data": {
      "application/vnd.plotly.v1+json": {
       "config": {
        "plotlyServerURL": "https://plot.ly"
       },
       "data": [
        {
         "customdata": {
          "bdata": "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",
          "dtype": "f8",
          "shape": "501, 4"
         },
         "hovertemplate": "<b>Date:</b> %{x}<br><b>Close Price:</b> %{customdata[0]}<br><b>MACD:</b> %{y}<br><b>MACD Signal:</b> %{customdata[1]}<br><b>MACD Histogram:</b> %{customdata[2]}",
         "mode": "lines",
         "name": "MACD",
         "type": "scatter",
         "x": [
          "2023-07-24T00:00:00",
          "2023-07-25T00:00:00",
          "2023-07-26T00:00:00",
          "2023-07-27T00:00:00",
          "2023-07-28T00:00:00",
          "2023-07-31T00:00:00",
          "2023-08-01T00:00:00",
          "2023-08-02T00:00:00",
          "2023-08-03T00:00:00",
          "2023-08-04T00:00:00",
          "2023-08-07T00:00:00",
          "2023-08-08T00:00:00",
          "2023-08-09T00:00:00",
          "2023-08-10T00:00:00",
          "2023-08-11T00:00:00",
          "2023-08-14T00:00:00",
          "2023-08-15T00:00:00",
          "2023-08-16T00:00:00",
          "2023-08-17T00:00:00",
          "2023-08-18T00:00:00",
          "2023-08-21T00:00:00",
          "2023-08-22T00:00:00",
          "2023-08-23T00:00:00",
          "2023-08-24T00:00:00",
          "2023-08-25T00:00:00",
          "2023-08-28T00:00:00",
          "2023-08-29T00:00:00",
          "2023-08-30T00:00:00",
          "2023-08-31T00:00:00",
          "2023-09-01T00:00:00",
          "2023-09-05T00:00:00",
          "2023-09-06T00:00:00",
          "2023-09-07T00:00:00",
          "2023-09-08T00:00:00",
          "2023-09-11T00:00:00",
          "2023-09-12T00:00:00",
          "2023-09-13T00:00:00",
          "2023-09-14T00:00:00",
          "2023-09-15T00:00:00",
          "2023-09-18T00:00:00",
          "2023-09-19T00:00:00",
          "2023-09-20T00:00:00",
          "2023-09-21T00:00:00",
          "2023-09-22T00:00:00",
          "2023-09-25T00:00:00",
          "2023-09-26T00:00:00",
          "2023-09-27T00:00:00",
          "2023-09-28T00:00:00",
          "2023-09-29T00:00:00",
          "2023-10-02T00:00:00",
          "2023-10-03T00:00:00",
          "2023-10-04T00:00:00",
          "2023-10-05T00:00:00",
          "2023-10-06T00:00:00",
          "2023-10-09T00:00:00",
          "2023-10-10T00:00:00",
          "2023-10-11T00:00:00",
          "2023-10-12T00:00:00",
          "2023-10-13T00:00:00",
          "2023-10-16T00:00:00",
          "2023-10-17T00:00:00",
          "2023-10-18T00:00:00",
          "2023-10-19T00:00:00",
          "2023-10-20T00:00:00",
          "2023-10-23T00:00:00",
          "2023-10-24T00:00:00",
          "2023-10-25T00:00:00",
          "2023-10-26T00:00:00",
          "2023-10-27T00:00:00",
          "2023-10-30T00:00:00",
          "2023-10-31T00:00:00",
          "2023-11-01T00:00:00",
          "2023-11-02T00:00:00",
          "2023-11-03T00:00:00",
          "2023-11-06T00:00:00",
          "2023-11-07T00:00:00",
          "2023-11-08T00:00:00",
          "2023-11-09T00:00:00",
          "2023-11-10T00:00:00",
          "2023-11-13T00:00:00",
          "2023-11-14T00:00:00",
          "2023-11-15T00:00:00",
          "2023-11-16T00:00:00",
          "2023-11-17T00:00:00",
          "2023-11-20T00:00:00",
          "2023-11-21T00:00:00",
          "2023-11-22T00:00:00",
          "2023-11-24T00:00:00",
          "2023-11-27T00:00:00",
          "2023-11-28T00:00:00",
          "2023-11-29T00:00:00",
          "2023-11-30T00:00:00",
          "2023-12-01T00:00:00",
          "2023-12-04T00:00:00",
          "2023-12-05T00:00:00",
          "2023-12-06T00:00:00",
          "2023-12-07T00:00:00",
          "2023-12-08T00:00:00",
          "2023-12-11T00:00:00",
          "2023-12-12T00:00:00",
          "2023-12-13T00:00:00",
          "2023-12-14T00:00:00",
          "2023-12-15T00:00:00",
          "2023-12-18T00:00:00",
          "2023-12-19T00:00:00",
          "2023-12-20T00:00:00",
          "2023-12-21T00:00:00",
          "2023-12-22T00:00:00",
          "2023-12-26T00:00:00",
          "2023-12-27T00:00:00",
          "2023-12-28T00:00:00",
          "2023-12-29T00:00:00",
          "2024-01-02T00:00:00",
          "2024-01-03T00:00:00",
          "2024-01-04T00:00:00",
          "2024-01-05T00:00:00",
          "2024-01-08T00:00:00",
          "2024-01-09T00:00:00",
          "2024-01-10T00:00:00",
          "2024-01-11T00:00:00",
          "2024-01-12T00:00:00",
          "2024-01-16T00:00:00",
          "2024-01-17T00:00:00",
          "2024-01-18T00:00:00",
          "2024-01-19T00:00:00",
          "2024-01-22T00:00:00",
          "2024-01-23T00:00:00",
          "2024-01-24T00:00:00",
          "2024-01-25T00:00:00",
          "2024-01-26T00:00:00",
          "2024-01-29T00:00:00",
          "2024-01-30T00:00:00",
          "2024-01-31T00:00:00",
          "2024-02-01T00:00:00",
          "2024-02-02T00:00:00",
          "2024-02-05T00:00:00",
          "2024-02-06T00:00:00",
          "2024-02-07T00:00:00",
          "2024-02-08T00:00:00",
          "2024-02-09T00:00:00",
          "2024-02-12T00:00:00",
          "2024-02-13T00:00:00",
          "2024-02-14T00:00:00",
          "2024-02-15T00:00:00",
          "2024-02-16T00:00:00",
          "2024-02-20T00:00:00",
          "2024-02-21T00:00:00",
          "2024-02-22T00:00:00",
          "2024-02-23T00:00:00",
          "2024-02-26T00:00:00",
          "2024-02-27T00:00:00",
          "2024-02-28T00:00:00",
          "2024-02-29T00:00:00",
          "2024-03-01T00:00:00",
          "2024-03-04T00:00:00",
          "2024-03-05T00:00:00",
          "2024-03-06T00:00:00",
          "2024-03-07T00:00:00",
          "2024-03-08T00:00:00",
          "2024-03-11T00:00:00",
          "2024-03-12T00:00:00",
          "2024-03-13T00:00:00",
          "2024-03-14T00:00:00",
          "2024-03-15T00:00:00",
          "2024-03-18T00:00:00",
          "2024-03-19T00:00:00",
          "2024-03-20T00:00:00",
          "2024-03-21T00:00:00",
          "2024-03-22T00:00:00",
          "2024-03-25T00:00:00",
          "2024-03-26T00:00:00",
          "2024-03-27T00:00:00",
          "2024-03-28T00:00:00",
          "2024-04-01T00:00:00",
          "2024-04-02T00:00:00",
          "2024-04-03T00:00:00",
          "2024-04-04T00:00:00",
          "2024-04-05T00:00:00",
          "2024-04-08T00:00:00",
          "2024-04-09T00:00:00",
          "2024-04-10T00:00:00",
          "2024-04-11T00:00:00",
          "2024-04-12T00:00:00",
          "2024-04-15T00:00:00",
          "2024-04-16T00:00:00",
          "2024-04-17T00:00:00",
          "2024-04-18T00:00:00",
          "2024-04-19T00:00:00",
          "2024-04-22T00:00:00",
          "2024-04-23T00:00:00",
          "2024-04-24T00:00:00",
          "2024-04-25T00:00:00",
          "2024-04-26T00:00:00",
          "2024-04-29T00:00:00",
          "2024-04-30T00:00:00",
          "2024-05-01T00:00:00",
          "2024-05-02T00:00:00",
          "2024-05-03T00:00:00",
          "2024-05-06T00:00:00",
          "2024-05-07T00:00:00",
          "2024-05-08T00:00:00",
          "2024-05-09T00:00:00",
          "2024-05-10T00:00:00",
          "2024-05-13T00:00:00",
          "2024-05-14T00:00:00",
          "2024-05-15T00:00:00",
          "2024-05-16T00:00:00",
          "2024-05-17T00:00:00",
          "2024-05-20T00:00:00",
          "2024-05-21T00:00:00",
          "2024-05-22T00:00:00",
          "2024-05-23T00:00:00",
          "2024-05-24T00:00:00",
          "2024-05-28T00:00:00",
          "2024-05-29T00:00:00",
          "2024-05-30T00:00:00",
          "2024-05-31T00:00:00",
          "2024-06-03T00:00:00",
          "2024-06-04T00:00:00",
          "2024-06-05T00:00:00",
          "2024-06-06T00:00:00",
          "2024-06-07T00:00:00",
          "2024-06-10T00:00:00",
          "2024-06-11T00:00:00",
          "2024-06-12T00:00:00",
          "2024-06-13T00:00:00",
          "2024-06-14T00:00:00",
          "2024-06-17T00:00:00",
          "2024-06-18T00:00:00",
          "2024-06-20T00:00:00",
          "2024-06-21T00:00:00",
          "2024-06-24T00:00:00",
          "2024-06-25T00:00:00",
          "2024-06-26T00:00:00",
          "2024-06-27T00:00:00",
          "2024-06-28T00:00:00",
          "2024-07-01T00:00:00",
          "2024-07-02T00:00:00",
          "2024-07-03T00:00:00",
          "2024-07-05T00:00:00",
          "2024-07-08T00:00:00",
          "2024-07-09T00:00:00",
          "2024-07-10T00:00:00",
          "2024-07-11T00:00:00",
          "2024-07-12T00:00:00",
          "2024-07-15T00:00:00",
          "2024-07-16T00:00:00",
          "2024-07-17T00:00:00",
          "2024-07-18T00:00:00",
          "2024-07-19T00:00:00",
          "2024-07-22T00:00:00",
          "2024-07-23T00:00:00",
          "2024-07-24T00:00:00",
          "2024-07-25T00:00:00",
          "2024-07-26T00:00:00",
          "2024-07-29T00:00:00",
          "2024-07-30T00:00:00",
          "2024-07-31T00:00:00",
          "2024-08-01T00:00:00",
          "2024-08-02T00:00:00",
          "2024-08-05T00:00:00",
          "2024-08-06T00:00:00",
          "2024-08-07T00:00:00",
          "2024-08-08T00:00:00",
          "2024-08-09T00:00:00",
          "2024-08-12T00:00:00",
          "2024-08-13T00:00:00",
          "2024-08-14T00:00:00",
          "2024-08-15T00:00:00",
          "2024-08-16T00:00:00",
          "2024-08-19T00:00:00",
          "2024-08-20T00:00:00",
          "2024-08-21T00:00:00",
          "2024-08-22T00:00:00",
          "2024-08-23T00:00:00",
          "2024-08-26T00:00:00",
          "2024-08-27T00:00:00",
          "2024-08-28T00:00:00",
          "2024-08-29T00:00:00",
          "2024-08-30T00:00:00",
          "2024-09-03T00:00:00",
          "2024-09-04T00:00:00",
          "2024-09-05T00:00:00",
          "2024-09-06T00:00:00",
          "2024-09-09T00:00:00",
          "2024-09-10T00:00:00",
          "2024-09-11T00:00:00",
          "2024-09-12T00:00:00",
          "2024-09-13T00:00:00",
          "2024-09-16T00:00:00",
          "2024-09-17T00:00:00",
          "2024-09-18T00:00:00",
          "2024-09-19T00:00:00",
          "2024-09-20T00:00:00",
          "2024-09-23T00:00:00",
          "2024-09-24T00:00:00",
          "2024-09-25T00:00:00",
          "2024-09-26T00:00:00",
          "2024-09-27T00:00:00",
          "2024-09-30T00:00:00",
          "2024-10-01T00:00:00",
          "2024-10-02T00:00:00",
          "2024-10-03T00:00:00",
          "2024-10-04T00:00:00",
          "2024-10-07T00:00:00",
          "2024-10-08T00:00:00",
          "2024-10-09T00:00:00",
          "2024-10-10T00:00:00",
          "2024-10-11T00:00:00",
          "2024-10-14T00:00:00",
          "2024-10-15T00:00:00",
          "2024-10-16T00:00:00",
          "2024-10-17T00:00:00",
          "2024-10-18T00:00:00",
          "2024-10-21T00:00:00",
          "2024-10-22T00:00:00",
          "2024-10-23T00:00:00",
          "2024-10-24T00:00:00",
          "2024-10-25T00:00:00",
          "2024-10-28T00:00:00",
          "2024-10-29T00:00:00",
          "2024-10-30T00:00:00",
          "2024-10-31T00:00:00",
          "2024-11-01T00:00:00",
          "2024-11-04T00:00:00",
          "2024-11-05T00:00:00",
          "2024-11-06T00:00:00",
          "2024-11-07T00:00:00",
          "2024-11-08T00:00:00",
          "2024-11-11T00:00:00",
          "2024-11-12T00:00:00",
          "2024-11-13T00:00:00",
          "2024-11-14T00:00:00",
          "2024-11-15T00:00:00",
          "2024-11-18T00:00:00",
          "2024-11-19T00:00:00",
          "2024-11-20T00:00:00",
          "2024-11-21T00:00:00",
          "2024-11-22T00:00:00",
          "2024-11-25T00:00:00",
          "2024-11-26T00:00:00",
          "2024-11-27T00:00:00",
          "2024-11-29T00:00:00",
          "2024-12-02T00:00:00",
          "2024-12-03T00:00:00",
          "2024-12-04T00:00:00",
          "2024-12-05T00:00:00",
          "2024-12-06T00:00:00",
          "2024-12-09T00:00:00",
          "2024-12-10T00:00:00",
          "2024-12-11T00:00:00",
          "2024-12-12T00:00:00",
          "2024-12-13T00:00:00",
          "2024-12-16T00:00:00",
          "2024-12-17T00:00:00",
          "2024-12-18T00:00:00",
          "2024-12-19T00:00:00",
          "2024-12-20T00:00:00",
          "2024-12-23T00:00:00",
          "2024-12-24T00:00:00",
          "2024-12-26T00:00:00",
          "2024-12-27T00:00:00",
          "2024-12-30T00:00:00",
          "2024-12-31T00:00:00",
          "2025-01-02T00:00:00",
          "2025-01-03T00:00:00",
          "2025-01-06T00:00:00",
          "2025-01-07T00:00:00",
          "2025-01-08T00:00:00",
          "2025-01-10T00:00:00",
          "2025-01-13T00:00:00",
          "2025-01-14T00:00:00",
          "2025-01-15T00:00:00",
          "2025-01-16T00:00:00",
          "2025-01-17T00:00:00",
          "2025-01-21T00:00:00",
          "2025-01-22T00:00:00",
          "2025-01-23T00:00:00",
          "2025-01-24T00:00:00",
          "2025-01-27T00:00:00",
          "2025-01-28T00:00:00",
          "2025-01-29T00:00:00",
          "2025-01-30T00:00:00",
          "2025-01-31T00:00:00",
          "2025-02-03T00:00:00",
          "2025-02-04T00:00:00",
          "2025-02-05T00:00:00",
          "2025-02-06T00:00:00",
          "2025-02-07T00:00:00",
          "2025-02-10T00:00:00",
          "2025-02-11T00:00:00",
          "2025-02-12T00:00:00",
          "2025-02-13T00:00:00",
          "2025-02-14T00:00:00",
          "2025-02-18T00:00:00",
          "2025-02-19T00:00:00",
          "2025-02-20T00:00:00",
          "2025-02-21T00:00:00",
          "2025-02-24T00:00:00",
          "2025-02-25T00:00:00",
          "2025-02-26T00:00:00",
          "2025-02-27T00:00:00",
          "2025-02-28T00:00:00",
          "2025-03-03T00:00:00",
          "2025-03-04T00:00:00",
          "2025-03-05T00:00:00",
          "2025-03-06T00:00:00",
          "2025-03-07T00:00:00",
          "2025-03-10T00:00:00",
          "2025-03-11T00:00:00",
          "2025-03-12T00:00:00",
          "2025-03-13T00:00:00",
          "2025-03-14T00:00:00",
          "2025-03-17T00:00:00",
          "2025-03-18T00:00:00",
          "2025-03-19T00:00:00",
          "2025-03-20T00:00:00",
          "2025-03-21T00:00:00",
          "2025-03-24T00:00:00",
          "2025-03-25T00:00:00",
          "2025-03-26T00:00:00",
          "2025-03-27T00:00:00",
          "2025-03-28T00:00:00",
          "2025-03-31T00:00:00",
          "2025-04-01T00:00:00",
          "2025-04-02T00:00:00",
          "2025-04-03T00:00:00",
          "2025-04-04T00:00:00",
          "2025-04-07T00:00:00",
          "2025-04-08T00:00:00",
          "2025-04-09T00:00:00",
          "2025-04-10T00:00:00",
          "2025-04-11T00:00:00",
          "2025-04-14T00:00:00",
          "2025-04-15T00:00:00",
          "2025-04-16T00:00:00",
          "2025-04-17T00:00:00",
          "2025-04-21T00:00:00",
          "2025-04-22T00:00:00",
          "2025-04-23T00:00:00",
          "2025-04-24T00:00:00",
          "2025-04-25T00:00:00",
          "2025-04-28T00:00:00",
          "2025-04-29T00:00:00",
          "2025-04-30T00:00:00",
          "2025-05-01T00:00:00",
          "2025-05-02T00:00:00",
          "2025-05-05T00:00:00",
          "2025-05-06T00:00:00",
          "2025-05-07T00:00:00",
          "2025-05-08T00:00:00",
          "2025-05-09T00:00:00",
          "2025-05-12T00:00:00",
          "2025-05-13T00:00:00",
          "2025-05-14T00:00:00",
          "2025-05-15T00:00:00",
          "2025-05-16T00:00:00",
          "2025-05-19T00:00:00",
          "2025-05-20T00:00:00",
          "2025-05-21T00:00:00",
          "2025-05-22T00:00:00",
          "2025-05-23T00:00:00",
          "2025-05-27T00:00:00",
          "2025-05-28T00:00:00",
          "2025-05-29T00:00:00",
          "2025-05-30T00:00:00",
          "2025-06-02T00:00:00",
          "2025-06-03T00:00:00",
          "2025-06-04T00:00:00",
          "2025-06-05T00:00:00",
          "2025-06-06T00:00:00",
          "2025-06-09T00:00:00",
          "2025-06-10T00:00:00",
          "2025-06-11T00:00:00",
          "2025-06-12T00:00:00",
          "2025-06-13T00:00:00",
          "2025-06-16T00:00:00",
          "2025-06-17T00:00:00",
          "2025-06-18T00:00:00",
          "2025-06-20T00:00:00",
          "2025-06-23T00:00:00",
          "2025-06-24T00:00:00",
          "2025-06-25T00:00:00",
          "2025-06-26T00:00:00",
          "2025-06-27T00:00:00",
          "2025-06-30T00:00:00",
          "2025-07-01T00:00:00",
          "2025-07-02T00:00:00",
          "2025-07-03T00:00:00",
          "2025-07-07T00:00:00",
          "2025-07-08T00:00:00",
          "2025-07-09T00:00:00",
          "2025-07-10T00:00:00",
          "2025-07-11T00:00:00",
          "2025-07-14T00:00:00",
          "2025-07-15T00:00:00",
          "2025-07-16T00:00:00",
          "2025-07-17T00:00:00",
          "2025-07-18T00:00:00",
          "2025-07-21T00:00:00",
          "2025-07-22T00:00:00"
         ],
         "y": {
          "bdata": "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",
          "dtype": "f8"
         }
        },
        {
         "customdata": {
          "bdata": "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",
          "dtype": "f8",
          "shape": "501, 4"
         },
         "hovertemplate": "<b>Date:</b> %{x}<br><b>Close Price:</b> %{customdata[0]}<br><b>MACD:</b> %{y}<br><b>MACD Signal:</b> %{customdata[1]}<br><b>MACD Histogram:</b> %{customdata[2]}",
         "mode": "lines",
         "name": "MACD Signal",
         "type": "scatter",
         "x": [
          "2023-07-24T00:00:00",
          "2023-07-25T00:00:00",
          "2023-07-26T00:00:00",
          "2023-07-27T00:00:00",
          "2023-07-28T00:00:00",
          "2023-07-31T00:00:00",
          "2023-08-01T00:00:00",
          "2023-08-02T00:00:00",
          "2023-08-03T00:00:00",
          "2023-08-04T00:00:00",
          "2023-08-07T00:00:00",
          "2023-08-08T00:00:00",
          "2023-08-09T00:00:00",
          "2023-08-10T00:00:00",
          "2023-08-11T00:00:00",
          "2023-08-14T00:00:00",
          "2023-08-15T00:00:00",
          "2023-08-16T00:00:00",
          "2023-08-17T00:00:00",
          "2023-08-18T00:00:00",
          "2023-08-21T00:00:00",
          "2023-08-22T00:00:00",
          "2023-08-23T00:00:00",
          "2023-08-24T00:00:00",
          "2023-08-25T00:00:00",
          "2023-08-28T00:00:00",
          "2023-08-29T00:00:00",
          "2023-08-30T00:00:00",
          "2023-08-31T00:00:00",
          "2023-09-01T00:00:00",
          "2023-09-05T00:00:00",
          "2023-09-06T00:00:00",
          "2023-09-07T00:00:00",
          "2023-09-08T00:00:00",
          "2023-09-11T00:00:00",
          "2023-09-12T00:00:00",
          "2023-09-13T00:00:00",
          "2023-09-14T00:00:00",
          "2023-09-15T00:00:00",
          "2023-09-18T00:00:00",
          "2023-09-19T00:00:00",
          "2023-09-20T00:00:00",
          "2023-09-21T00:00:00",
          "2023-09-22T00:00:00",
          "2023-09-25T00:00:00",
          "2023-09-26T00:00:00",
          "2023-09-27T00:00:00",
          "2023-09-28T00:00:00",
          "2023-09-29T00:00:00",
          "2023-10-02T00:00:00",
          "2023-10-03T00:00:00",
          "2023-10-04T00:00:00",
          "2023-10-05T00:00:00",
          "2023-10-06T00:00:00",
          "2023-10-09T00:00:00",
          "2023-10-10T00:00:00",
          "2023-10-11T00:00:00",
          "2023-10-12T00:00:00",
          "2023-10-13T00:00:00",
          "2023-10-16T00:00:00",
          "2023-10-17T00:00:00",
          "2023-10-18T00:00:00",
          "2023-10-19T00:00:00",
          "2023-10-20T00:00:00",
          "2023-10-23T00:00:00",
          "2023-10-24T00:00:00",
          "2023-10-25T00:00:00",
          "2023-10-26T00:00:00",
          "2023-10-27T00:00:00",
          "2023-10-30T00:00:00",
          "2023-10-31T00:00:00",
          "2023-11-01T00:00:00",
          "2023-11-02T00:00:00",
          "2023-11-03T00:00:00",
          "2023-11-06T00:00:00",
          "2023-11-07T00:00:00",
          "2023-11-08T00:00:00",
          "2023-11-09T00:00:00",
          "2023-11-10T00:00:00",
          "2023-11-13T00:00:00",
          "2023-11-14T00:00:00",
          "2023-11-15T00:00:00",
          "2023-11-16T00:00:00",
          "2023-11-17T00:00:00",
          "2023-11-20T00:00:00",
          "2023-11-21T00:00:00",
          "2023-11-22T00:00:00",
          "2023-11-24T00:00:00",
          "2023-11-27T00:00:00",
          "2023-11-28T00:00:00",
          "2023-11-29T00:00:00",
          "2023-11-30T00:00:00",
          "2023-12-01T00:00:00",
          "2023-12-04T00:00:00",
          "2023-12-05T00:00:00",
          "2023-12-06T00:00:00",
          "2023-12-07T00:00:00",
          "2023-12-08T00:00:00",
          "2023-12-11T00:00:00",
          "2023-12-12T00:00:00",
          "2023-12-13T00:00:00",
          "2023-12-14T00:00:00",
          "2023-12-15T00:00:00",
          "2023-12-18T00:00:00",
          "2023-12-19T00:00:00",
          "2023-12-20T00:00:00",
          "2023-12-21T00:00:00",
          "2023-12-22T00:00:00",
          "2023-12-26T00:00:00",
          "2023-12-27T00:00:00",
          "2023-12-28T00:00:00",
          "2023-12-29T00:00:00",
          "2024-01-02T00:00:00",
          "2024-01-03T00:00:00",
          "2024-01-04T00:00:00",
          "2024-01-05T00:00:00",
          "2024-01-08T00:00:00",
          "2024-01-09T00:00:00",
          "2024-01-10T00:00:00",
          "2024-01-11T00:00:00",
          "2024-01-12T00:00:00",
          "2024-01-16T00:00:00",
          "2024-01-17T00:00:00",
          "2024-01-18T00:00:00",
          "2024-01-19T00:00:00",
          "2024-01-22T00:00:00",
          "2024-01-23T00:00:00",
          "2024-01-24T00:00:00",
          "2024-01-25T00:00:00",
          "2024-01-26T00:00:00",
          "2024-01-29T00:00:00",
          "2024-01-30T00:00:00",
          "2024-01-31T00:00:00",
          "2024-02-01T00:00:00",
          "2024-02-02T00:00:00",
          "2024-02-05T00:00:00",
          "2024-02-06T00:00:00",
          "2024-02-07T00:00:00",
          "2024-02-08T00:00:00",
          "2024-02-09T00:00:00",
          "2024-02-12T00:00:00",
          "2024-02-13T00:00:00",
          "2024-02-14T00:00:00",
          "2024-02-15T00:00:00",
          "2024-02-16T00:00:00",
          "2024-02-20T00:00:00",
          "2024-02-21T00:00:00",
          "2024-02-22T00:00:00",
          "2024-02-23T00:00:00",
          "2024-02-26T00:00:00",
          "2024-02-27T00:00:00",
          "2024-02-28T00:00:00",
          "2024-02-29T00:00:00",
          "2024-03-01T00:00:00",
          "2024-03-04T00:00:00",
          "2024-03-05T00:00:00",
          "2024-03-06T00:00:00",
          "2024-03-07T00:00:00",
          "2024-03-08T00:00:00",
          "2024-03-11T00:00:00",
          "2024-03-12T00:00:00",
          "2024-03-13T00:00:00",
          "2024-03-14T00:00:00",
          "2024-03-15T00:00:00",
          "2024-03-18T00:00:00",
          "2024-03-19T00:00:00",
          "2024-03-20T00:00:00",
          "2024-03-21T00:00:00",
          "2024-03-22T00:00:00",
          "2024-03-25T00:00:00",
          "2024-03-26T00:00:00",
          "2024-03-27T00:00:00",
          "2024-03-28T00:00:00",
          "2024-04-01T00:00:00",
          "2024-04-02T00:00:00",
          "2024-04-03T00:00:00",
          "2024-04-04T00:00:00",
          "2024-04-05T00:00:00",
          "2024-04-08T00:00:00",
          "2024-04-09T00:00:00",
          "2024-04-10T00:00:00",
          "2024-04-11T00:00:00",
          "2024-04-12T00:00:00",
          "2024-04-15T00:00:00",
          "2024-04-16T00:00:00",
          "2024-04-17T00:00:00",
          "2024-04-18T00:00:00",
          "2024-04-19T00:00:00",
          "2024-04-22T00:00:00",
          "2024-04-23T00:00:00",
          "2024-04-24T00:00:00",
          "2024-04-25T00:00:00",
          "2024-04-26T00:00:00",
          "2024-04-29T00:00:00",
          "2024-04-30T00:00:00",
          "2024-05-01T00:00:00",
          "2024-05-02T00:00:00",
          "2024-05-03T00:00:00",
          "2024-05-06T00:00:00",
          "2024-05-07T00:00:00",
          "2024-05-08T00:00:00",
          "2024-05-09T00:00:00",
          "2024-05-10T00:00:00",
          "2024-05-13T00:00:00",
          "2024-05-14T00:00:00",
          "2024-05-15T00:00:00",
          "2024-05-16T00:00:00",
          "2024-05-17T00:00:00",
          "2024-05-20T00:00:00",
          "2024-05-21T00:00:00",
          "2024-05-22T00:00:00",
          "2024-05-23T00:00:00",
          "2024-05-24T00:00:00",
          "2024-05-28T00:00:00",
          "2024-05-29T00:00:00",
          "2024-05-30T00:00:00",
          "2024-05-31T00:00:00",
          "2024-06-03T00:00:00",
          "2024-06-04T00:00:00",
          "2024-06-05T00:00:00",
          "2024-06-06T00:00:00",
          "2024-06-07T00:00:00",
          "2024-06-10T00:00:00",
          "2024-06-11T00:00:00",
          "2024-06-12T00:00:00",
          "2024-06-13T00:00:00",
          "2024-06-14T00:00:00",
          "2024-06-17T00:00:00",
          "2024-06-18T00:00:00",
          "2024-06-20T00:00:00",
          "2024-06-21T00:00:00",
          "2024-06-24T00:00:00",
          "2024-06-25T00:00:00",
          "2024-06-26T00:00:00",
          "2024-06-27T00:00:00",
          "2024-06-28T00:00:00",
          "2024-07-01T00:00:00",
          "2024-07-02T00:00:00",
          "2024-07-03T00:00:00",
          "2024-07-05T00:00:00",
          "2024-07-08T00:00:00",
          "2024-07-09T00:00:00",
          "2024-07-10T00:00:00",
          "2024-07-11T00:00:00",
          "2024-07-12T00:00:00",
          "2024-07-15T00:00:00",
          "2024-07-16T00:00:00",
          "2024-07-17T00:00:00",
          "2024-07-18T00:00:00",
          "2024-07-19T00:00:00",
          "2024-07-22T00:00:00",
          "2024-07-23T00:00:00",
          "2024-07-24T00:00:00",
          "2024-07-25T00:00:00",
          "2024-07-26T00:00:00",
          "2024-07-29T00:00:00",
          "2024-07-30T00:00:00",
          "2024-07-31T00:00:00",
          "2024-08-01T00:00:00",
          "2024-08-02T00:00:00",
          "2024-08-05T00:00:00",
          "2024-08-06T00:00:00",
          "2024-08-07T00:00:00",
          "2024-08-08T00:00:00",
          "2024-08-09T00:00:00",
          "2024-08-12T00:00:00",
          "2024-08-13T00:00:00",
          "2024-08-14T00:00:00",
          "2024-08-15T00:00:00",
          "2024-08-16T00:00:00",
          "2024-08-19T00:00:00",
          "2024-08-20T00:00:00",
          "2024-08-21T00:00:00",
          "2024-08-22T00:00:00",
          "2024-08-23T00:00:00",
          "2024-08-26T00:00:00",
          "2024-08-27T00:00:00",
          "2024-08-28T00:00:00",
          "2024-08-29T00:00:00",
          "2024-08-30T00:00:00",
          "2024-09-03T00:00:00",
          "2024-09-04T00:00:00",
          "2024-09-05T00:00:00",
          "2024-09-06T00:00:00",
          "2024-09-09T00:00:00",
          "2024-09-10T00:00:00",
          "2024-09-11T00:00:00",
          "2024-09-12T00:00:00",
          "2024-09-13T00:00:00",
          "2024-09-16T00:00:00",
          "2024-09-17T00:00:00",
          "2024-09-18T00:00:00",
          "2024-09-19T00:00:00",
          "2024-09-20T00:00:00",
          "2024-09-23T00:00:00",
          "2024-09-24T00:00:00",
          "2024-09-25T00:00:00",
          "2024-09-26T00:00:00",
          "2024-09-27T00:00:00",
          "2024-09-30T00:00:00",
          "2024-10-01T00:00:00",
          "2024-10-02T00:00:00",
          "2024-10-03T00:00:00",
          "2024-10-04T00:00:00",
          "2024-10-07T00:00:00",
          "2024-10-08T00:00:00",
          "2024-10-09T00:00:00",
          "2024-10-10T00:00:00",
          "2024-10-11T00:00:00",
          "2024-10-14T00:00:00",
          "2024-10-15T00:00:00",
          "2024-10-16T00:00:00",
          "2024-10-17T00:00:00",
          "2024-10-18T00:00:00",
          "2024-10-21T00:00:00",
          "2024-10-22T00:00:00",
          "2024-10-23T00:00:00",
          "2024-10-24T00:00:00",
          "2024-10-25T00:00:00",
          "2024-10-28T00:00:00",
          "2024-10-29T00:00:00",
          "2024-10-30T00:00:00",
          "2024-10-31T00:00:00",
          "2024-11-01T00:00:00",
          "2024-11-04T00:00:00",
          "2024-11-05T00:00:00",
          "2024-11-06T00:00:00",
          "2024-11-07T00:00:00",
          "2024-11-08T00:00:00",
          "2024-11-11T00:00:00",
          "2024-11-12T00:00:00",
          "2024-11-13T00:00:00",
          "2024-11-14T00:00:00",
          "2024-11-15T00:00:00",
          "2024-11-18T00:00:00",
          "2024-11-19T00:00:00",
          "2024-11-20T00:00:00",
          "2024-11-21T00:00:00",
          "2024-11-22T00:00:00",
          "2024-11-25T00:00:00",
          "2024-11-26T00:00:00",
          "2024-11-27T00:00:00",
          "2024-11-29T00:00:00",
          "2024-12-02T00:00:00",
          "2024-12-03T00:00:00",
          "2024-12-04T00:00:00",
          "2024-12-05T00:00:00",
          "2024-12-06T00:00:00",
          "2024-12-09T00:00:00",
          "2024-12-10T00:00:00",
          "2024-12-11T00:00:00",
          "2024-12-12T00:00:00",
          "2024-12-13T00:00:00",
          "2024-12-16T00:00:00",
          "2024-12-17T00:00:00",
          "2024-12-18T00:00:00",
          "2024-12-19T00:00:00",
          "2024-12-20T00:00:00",
          "2024-12-23T00:00:00",
          "2024-12-24T00:00:00",
          "2024-12-26T00:00:00",
          "2024-12-27T00:00:00",
          "2024-12-30T00:00:00",
          "2024-12-31T00:00:00",
          "2025-01-02T00:00:00",
          "2025-01-03T00:00:00",
          "2025-01-06T00:00:00",
          "2025-01-07T00:00:00",
          "2025-01-08T00:00:00",
          "2025-01-10T00:00:00",
          "2025-01-13T00:00:00",
          "2025-01-14T00:00:00",
          "2025-01-15T00:00:00",
          "2025-01-16T00:00:00",
          "2025-01-17T00:00:00",
          "2025-01-21T00:00:00",
          "2025-01-22T00:00:00",
          "2025-01-23T00:00:00",
          "2025-01-24T00:00:00",
          "2025-01-27T00:00:00",
          "2025-01-28T00:00:00",
          "2025-01-29T00:00:00",
          "2025-01-30T00:00:00",
          "2025-01-31T00:00:00",
          "2025-02-03T00:00:00",
          "2025-02-04T00:00:00",
          "2025-02-05T00:00:00",
          "2025-02-06T00:00:00",
          "2025-02-07T00:00:00",
          "2025-02-10T00:00:00",
          "2025-02-11T00:00:00",
          "2025-02-12T00:00:00",
          "2025-02-13T00:00:00",
          "2025-02-14T00:00:00",
          "2025-02-18T00:00:00",
          "2025-02-19T00:00:00",
          "2025-02-20T00:00:00",
          "2025-02-21T00:00:00",
          "2025-02-24T00:00:00",
          "2025-02-25T00:00:00",
          "2025-02-26T00:00:00",
          "2025-02-27T00:00:00",
          "2025-02-28T00:00:00",
          "2025-03-03T00:00:00",
          "2025-03-04T00:00:00",
          "2025-03-05T00:00:00",
          "2025-03-06T00:00:00",
          "2025-03-07T00:00:00",
          "2025-03-10T00:00:00",
          "2025-03-11T00:00:00",
          "2025-03-12T00:00:00",
          "2025-03-13T00:00:00",
          "2025-03-14T00:00:00",
          "2025-03-17T00:00:00",
          "2025-03-18T00:00:00",
          "2025-03-19T00:00:00",
          "2025-03-20T00:00:00",
          "2025-03-21T00:00:00",
          "2025-03-24T00:00:00",
          "2025-03-25T00:00:00",
          "2025-03-26T00:00:00",
          "2025-03-27T00:00:00",
          "2025-03-28T00:00:00",
          "2025-03-31T00:00:00",
          "2025-04-01T00:00:00",
          "2025-04-02T00:00:00",
          "2025-04-03T00:00:00",
          "2025-04-04T00:00:00",
          "2025-04-07T00:00:00",
          "2025-04-08T00:00:00",
          "2025-04-09T00:00:00",
          "2025-04-10T00:00:00",
          "2025-04-11T00:00:00",
          "2025-04-14T00:00:00",
          "2025-04-15T00:00:00",
          "2025-04-16T00:00:00",
          "2025-04-17T00:00:00",
          "2025-04-21T00:00:00",
          "2025-04-22T00:00:00",
          "2025-04-23T00:00:00",
          "2025-04-24T00:00:00",
          "2025-04-25T00:00:00",
          "2025-04-28T00:00:00",
          "2025-04-29T00:00:00",
          "2025-04-30T00:00:00",
          "2025-05-01T00:00:00",
          "2025-05-02T00:00:00",
          "2025-05-05T00:00:00",
          "2025-05-06T00:00:00",
          "2025-05-07T00:00:00",
          "2025-05-08T00:00:00",
          "2025-05-09T00:00:00",
          "2025-05-12T00:00:00",
          "2025-05-13T00:00:00",
          "2025-05-14T00:00:00",
          "2025-05-15T00:00:00",
          "2025-05-16T00:00:00",
          "2025-05-19T00:00:00",
          "2025-05-20T00:00:00",
          "2025-05-21T00:00:00",
          "2025-05-22T00:00:00",
          "2025-05-23T00:00:00",
          "2025-05-27T00:00:00",
          "2025-05-28T00:00:00",
          "2025-05-29T00:00:00",
          "2025-05-30T00:00:00",
          "2025-06-02T00:00:00",
          "2025-06-03T00:00:00",
          "2025-06-04T00:00:00",
          "2025-06-05T00:00:00",
          "2025-06-06T00:00:00",
          "2025-06-09T00:00:00",
          "2025-06-10T00:00:00",
          "2025-06-11T00:00:00",
          "2025-06-12T00:00:00",
          "2025-06-13T00:00:00",
          "2025-06-16T00:00:00",
          "2025-06-17T00:00:00",
          "2025-06-18T00:00:00",
          "2025-06-20T00:00:00",
          "2025-06-23T00:00:00",
          "2025-06-24T00:00:00",
          "2025-06-25T00:00:00",
          "2025-06-26T00:00:00",
          "2025-06-27T00:00:00",
          "2025-06-30T00:00:00",
          "2025-07-01T00:00:00",
          "2025-07-02T00:00:00",
          "2025-07-03T00:00:00",
          "2025-07-07T00:00:00",
          "2025-07-08T00:00:00",
          "2025-07-09T00:00:00",
          "2025-07-10T00:00:00",
          "2025-07-11T00:00:00",
          "2025-07-14T00:00:00",
          "2025-07-15T00:00:00",
          "2025-07-16T00:00:00",
          "2025-07-17T00:00:00",
          "2025-07-18T00:00:00",
          "2025-07-21T00:00:00",
          "2025-07-22T00:00:00"
         ],
         "y": {
          "bdata": "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",
          "dtype": "f8"
         }
        },
        {
         "customdata": {
          "bdata": "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",
          "dtype": "f8",
          "shape": "501, 4"
         },
         "hovertemplate": "<b>Date:</b> %{x}<br><b>Close Price:</b> %{customdata[0]}<br><b>MACD:</b> %{y}<br><b>MACD Signal:</b> %{customdata[1]}<br><b>MACD Histogram:</b> %{customdata[2]}",
         "marker": {
          "color": "rgba(0, 0, 255, 0.5)"
         },
         "name": "MACD Histogram",
         "opacity": 0.5,
         "type": "bar",
         "x": [
          "2023-07-24T00:00:00",
          "2023-07-25T00:00:00",
          "2023-07-26T00:00:00",
          "2023-07-27T00:00:00",
          "2023-07-28T00:00:00",
          "2023-07-31T00:00:00",
          "2023-08-01T00:00:00",
          "2023-08-02T00:00:00",
          "2023-08-03T00:00:00",
          "2023-08-04T00:00:00",
          "2023-08-07T00:00:00",
          "2023-08-08T00:00:00",
          "2023-08-09T00:00:00",
          "2023-08-10T00:00:00",
          "2023-08-11T00:00:00",
          "2023-08-14T00:00:00",
          "2023-08-15T00:00:00",
          "2023-08-16T00:00:00",
          "2023-08-17T00:00:00",
          "2023-08-18T00:00:00",
          "2023-08-21T00:00:00",
          "2023-08-22T00:00:00",
          "2023-08-23T00:00:00",
          "2023-08-24T00:00:00",
          "2023-08-25T00:00:00",
          "2023-08-28T00:00:00",
          "2023-08-29T00:00:00",
          "2023-08-30T00:00:00",
          "2023-08-31T00:00:00",
          "2023-09-01T00:00:00",
          "2023-09-05T00:00:00",
          "2023-09-06T00:00:00",
          "2023-09-07T00:00:00",
          "2023-09-08T00:00:00",
          "2023-09-11T00:00:00",
          "2023-09-12T00:00:00",
          "2023-09-13T00:00:00",
          "2023-09-14T00:00:00",
          "2023-09-15T00:00:00",
          "2023-09-18T00:00:00",
          "2023-09-19T00:00:00",
          "2023-09-20T00:00:00",
          "2023-09-21T00:00:00",
          "2023-09-22T00:00:00",
          "2023-09-25T00:00:00",
          "2023-09-26T00:00:00",
          "2023-09-27T00:00:00",
          "2023-09-28T00:00:00",
          "2023-09-29T00:00:00",
          "2023-10-02T00:00:00",
          "2023-10-03T00:00:00",
          "2023-10-04T00:00:00",
          "2023-10-05T00:00:00",
          "2023-10-06T00:00:00",
          "2023-10-09T00:00:00",
          "2023-10-10T00:00:00",
          "2023-10-11T00:00:00",
          "2023-10-12T00:00:00",
          "2023-10-13T00:00:00",
          "2023-10-16T00:00:00",
          "2023-10-17T00:00:00",
          "2023-10-18T00:00:00",
          "2023-10-19T00:00:00",
          "2023-10-20T00:00:00",
          "2023-10-23T00:00:00",
          "2023-10-24T00:00:00",
          "2023-10-25T00:00:00",
          "2023-10-26T00:00:00",
          "2023-10-27T00:00:00",
          "2023-10-30T00:00:00",
          "2023-10-31T00:00:00",
          "2023-11-01T00:00:00",
          "2023-11-02T00:00:00",
          "2023-11-03T00:00:00",
          "2023-11-06T00:00:00",
          "2023-11-07T00:00:00",
          "2023-11-08T00:00:00",
          "2023-11-09T00:00:00",
          "2023-11-10T00:00:00",
          "2023-11-13T00:00:00",
          "2023-11-14T00:00:00",
          "2023-11-15T00:00:00",
          "2023-11-16T00:00:00",
          "2023-11-17T00:00:00",
          "2023-11-20T00:00:00",
          "2023-11-21T00:00:00",
          "2023-11-22T00:00:00",
          "2023-11-24T00:00:00",
          "2023-11-27T00:00:00",
          "2023-11-28T00:00:00",
          "2023-11-29T00:00:00",
          "2023-11-30T00:00:00",
          "2023-12-01T00:00:00",
          "2023-12-04T00:00:00",
          "2023-12-05T00:00:00",
          "2023-12-06T00:00:00",
          "2023-12-07T00:00:00",
          "2023-12-08T00:00:00",
          "2023-12-11T00:00:00",
          "2023-12-12T00:00:00",
          "2023-12-13T00:00:00",
          "2023-12-14T00:00:00",
          "2023-12-15T00:00:00",
          "2023-12-18T00:00:00",
          "2023-12-19T00:00:00",
          "2023-12-20T00:00:00",
          "2023-12-21T00:00:00",
          "2023-12-22T00:00:00",
          "2023-12-26T00:00:00",
          "2023-12-27T00:00:00",
          "2023-12-28T00:00:00",
          "2023-12-29T00:00:00",
          "2024-01-02T00:00:00",
          "2024-01-03T00:00:00",
          "2024-01-04T00:00:00",
          "2024-01-05T00:00:00",
          "2024-01-08T00:00:00",
          "2024-01-09T00:00:00",
          "2024-01-10T00:00:00",
          "2024-01-11T00:00:00",
          "2024-01-12T00:00:00",
          "2024-01-16T00:00:00",
          "2024-01-17T00:00:00",
          "2024-01-18T00:00:00",
          "2024-01-19T00:00:00",
          "2024-01-22T00:00:00",
          "2024-01-23T00:00:00",
          "2024-01-24T00:00:00",
          "2024-01-25T00:00:00",
          "2024-01-26T00:00:00",
          "2024-01-29T00:00:00",
          "2024-01-30T00:00:00",
          "2024-01-31T00:00:00",
          "2024-02-01T00:00:00",
          "2024-02-02T00:00:00",
          "2024-02-05T00:00:00",
          "2024-02-06T00:00:00",
          "2024-02-07T00:00:00",
          "2024-02-08T00:00:00",
          "2024-02-09T00:00:00",
          "2024-02-12T00:00:00",
          "2024-02-13T00:00:00",
          "2024-02-14T00:00:00",
          "2024-02-15T00:00:00",
          "2024-02-16T00:00:00",
          "2024-02-20T00:00:00",
          "2024-02-21T00:00:00",
          "2024-02-22T00:00:00",
          "2024-02-23T00:00:00",
          "2024-02-26T00:00:00",
          "2024-02-27T00:00:00",
          "2024-02-28T00:00:00",
          "2024-02-29T00:00:00",
          "2024-03-01T00:00:00",
          "2024-03-04T00:00:00",
          "2024-03-05T00:00:00",
          "2024-03-06T00:00:00",
          "2024-03-07T00:00:00",
          "2024-03-08T00:00:00",
          "2024-03-11T00:00:00",
          "2024-03-12T00:00:00",
          "2024-03-13T00:00:00",
          "2024-03-14T00:00:00",
          "2024-03-15T00:00:00",
          "2024-03-18T00:00:00",
          "2024-03-19T00:00:00",
          "2024-03-20T00:00:00",
          "2024-03-21T00:00:00",
          "2024-03-22T00:00:00",
          "2024-03-25T00:00:00",
          "2024-03-26T00:00:00",
          "2024-03-27T00:00:00",
          "2024-03-28T00:00:00",
          "2024-04-01T00:00:00",
          "2024-04-02T00:00:00",
          "2024-04-03T00:00:00",
          "2024-04-04T00:00:00",
          "2024-04-05T00:00:00",
          "2024-04-08T00:00:00",
          "2024-04-09T00:00:00",
          "2024-04-10T00:00:00",
          "2024-04-11T00:00:00",
          "2024-04-12T00:00:00",
          "2024-04-15T00:00:00",
          "2024-04-16T00:00:00",
          "2024-04-17T00:00:00",
          "2024-04-18T00:00:00",
          "2024-04-19T00:00:00",
          "2024-04-22T00:00:00",
          "2024-04-23T00:00:00",
          "2024-04-24T00:00:00",
          "2024-04-25T00:00:00",
          "2024-04-26T00:00:00",
          "2024-04-29T00:00:00",
          "2024-04-30T00:00:00",
          "2024-05-01T00:00:00",
          "2024-05-02T00:00:00",
          "2024-05-03T00:00:00",
          "2024-05-06T00:00:00",
          "2024-05-07T00:00:00",
          "2024-05-08T00:00:00",
          "2024-05-09T00:00:00",
          "2024-05-10T00:00:00",
          "2024-05-13T00:00:00",
          "2024-05-14T00:00:00",
          "2024-05-15T00:00:00",
          "2024-05-16T00:00:00",
          "2024-05-17T00:00:00",
          "2024-05-20T00:00:00",
          "2024-05-21T00:00:00",
          "2024-05-22T00:00:00",
          "2024-05-23T00:00:00",
          "2024-05-24T00:00:00",
          "2024-05-28T00:00:00",
          "2024-05-29T00:00:00",
          "2024-05-30T00:00:00",
          "2024-05-31T00:00:00",
          "2024-06-03T00:00:00",
          "2024-06-04T00:00:00",
          "2024-06-05T00:00:00",
          "2024-06-06T00:00:00",
          "2024-06-07T00:00:00",
          "2024-06-10T00:00:00",
          "2024-06-11T00:00:00",
          "2024-06-12T00:00:00",
          "2024-06-13T00:00:00",
          "2024-06-14T00:00:00",
          "2024-06-17T00:00:00",
          "2024-06-18T00:00:00",
          "2024-06-20T00:00:00",
          "2024-06-21T00:00:00",
          "2024-06-24T00:00:00",
          "2024-06-25T00:00:00",
          "2024-06-26T00:00:00",
          "2024-06-27T00:00:00",
          "2024-06-28T00:00:00",
          "2024-07-01T00:00:00",
          "2024-07-02T00:00:00",
          "2024-07-03T00:00:00",
          "2024-07-05T00:00:00",
          "2024-07-08T00:00:00",
          "2024-07-09T00:00:00",
          "2024-07-10T00:00:00",
          "2024-07-11T00:00:00",
          "2024-07-12T00:00:00",
          "2024-07-15T00:00:00",
          "2024-07-16T00:00:00",
          "2024-07-17T00:00:00",
          "2024-07-18T00:00:00",
          "2024-07-19T00:00:00",
          "2024-07-22T00:00:00",
          "2024-07-23T00:00:00",
          "2024-07-24T00:00:00",
          "2024-07-25T00:00:00",
          "2024-07-26T00:00:00",
          "2024-07-29T00:00:00",
          "2024-07-30T00:00:00",
          "2024-07-31T00:00:00",
          "2024-08-01T00:00:00",
          "2024-08-02T00:00:00",
          "2024-08-05T00:00:00",
          "2024-08-06T00:00:00",
          "2024-08-07T00:00:00",
          "2024-08-08T00:00:00",
          "2024-08-09T00:00:00",
          "2024-08-12T00:00:00",
          "2024-08-13T00:00:00",
          "2024-08-14T00:00:00",
          "2024-08-15T00:00:00",
          "2024-08-16T00:00:00",
          "2024-08-19T00:00:00",
          "2024-08-20T00:00:00",
          "2024-08-21T00:00:00",
          "2024-08-22T00:00:00",
          "2024-08-23T00:00:00",
          "2024-08-26T00:00:00",
          "2024-08-27T00:00:00",
          "2024-08-28T00:00:00",
          "2024-08-29T00:00:00",
          "2024-08-30T00:00:00",
          "2024-09-03T00:00:00",
          "2024-09-04T00:00:00",
          "2024-09-05T00:00:00",
          "2024-09-06T00:00:00",
          "2024-09-09T00:00:00",
          "2024-09-10T00:00:00",
          "2024-09-11T00:00:00",
          "2024-09-12T00:00:00",
          "2024-09-13T00:00:00",
          "2024-09-16T00:00:00",
          "2024-09-17T00:00:00",
          "2024-09-18T00:00:00",
          "2024-09-19T00:00:00",
          "2024-09-20T00:00:00",
          "2024-09-23T00:00:00",
          "2024-09-24T00:00:00",
          "2024-09-25T00:00:00",
          "2024-09-26T00:00:00",
          "2024-09-27T00:00:00",
          "2024-09-30T00:00:00",
          "2024-10-01T00:00:00",
          "2024-10-02T00:00:00",
          "2024-10-03T00:00:00",
          "2024-10-04T00:00:00",
          "2024-10-07T00:00:00",
          "2024-10-08T00:00:00",
          "2024-10-09T00:00:00",
          "2024-10-10T00:00:00",
          "2024-10-11T00:00:00",
          "2024-10-14T00:00:00",
          "2024-10-15T00:00:00",
          "2024-10-16T00:00:00",
          "2024-10-17T00:00:00",
          "2024-10-18T00:00:00",
          "2024-10-21T00:00:00",
          "2024-10-22T00:00:00",
          "2024-10-23T00:00:00",
          "2024-10-24T00:00:00",
          "2024-10-25T00:00:00",
          "2024-10-28T00:00:00",
          "2024-10-29T00:00:00",
          "2024-10-30T00:00:00",
          "2024-10-31T00:00:00",
          "2024-11-01T00:00:00",
          "2024-11-04T00:00:00",
          "2024-11-05T00:00:00",
          "2024-11-06T00:00:00",
          "2024-11-07T00:00:00",
          "2024-11-08T00:00:00",
          "2024-11-11T00:00:00",
          "2024-11-12T00:00:00",
          "2024-11-13T00:00:00",
          "2024-11-14T00:00:00",
          "2024-11-15T00:00:00",
          "2024-11-18T00:00:00",
          "2024-11-19T00:00:00",
          "2024-11-20T00:00:00",
          "2024-11-21T00:00:00",
          "2024-11-22T00:00:00",
          "2024-11-25T00:00:00",
          "2024-11-26T00:00:00",
          "2024-11-27T00:00:00",
          "2024-11-29T00:00:00",
          "2024-12-02T00:00:00",
          "2024-12-03T00:00:00",
          "2024-12-04T00:00:00",
          "2024-12-05T00:00:00",
          "2024-12-06T00:00:00",
          "2024-12-09T00:00:00",
          "2024-12-10T00:00:00",
          "2024-12-11T00:00:00",
          "2024-12-12T00:00:00",
          "2024-12-13T00:00:00",
          "2024-12-16T00:00:00",
          "2024-12-17T00:00:00",
          "2024-12-18T00:00:00",
          "2024-12-19T00:00:00",
          "2024-12-20T00:00:00",
          "2024-12-23T00:00:00",
          "2024-12-24T00:00:00",
          "2024-12-26T00:00:00",
          "2024-12-27T00:00:00",
          "2024-12-30T00:00:00",
          "2024-12-31T00:00:00",
          "2025-01-02T00:00:00",
          "2025-01-03T00:00:00",
          "2025-01-06T00:00:00",
          "2025-01-07T00:00:00",
          "2025-01-08T00:00:00",
          "2025-01-10T00:00:00",
          "2025-01-13T00:00:00",
          "2025-01-14T00:00:00",
          "2025-01-15T00:00:00",
          "2025-01-16T00:00:00",
          "2025-01-17T00:00:00",
          "2025-01-21T00:00:00",
          "2025-01-22T00:00:00",
          "2025-01-23T00:00:00",
          "2025-01-24T00:00:00",
          "2025-01-27T00:00:00",
          "2025-01-28T00:00:00",
          "2025-01-29T00:00:00",
          "2025-01-30T00:00:00",
          "2025-01-31T00:00:00",
          "2025-02-03T00:00:00",
          "2025-02-04T00:00:00",
          "2025-02-05T00:00:00",
          "2025-02-06T00:00:00",
          "2025-02-07T00:00:00",
          "2025-02-10T00:00:00",
          "2025-02-11T00:00:00",
          "2025-02-12T00:00:00",
          "2025-02-13T00:00:00",
          "2025-02-14T00:00:00",
          "2025-02-18T00:00:00",
          "2025-02-19T00:00:00",
          "2025-02-20T00:00:00",
          "2025-02-21T00:00:00",
          "2025-02-24T00:00:00",
          "2025-02-25T00:00:00",
          "2025-02-26T00:00:00",
          "2025-02-27T00:00:00",
          "2025-02-28T00:00:00",
          "2025-03-03T00:00:00",
          "2025-03-04T00:00:00",
          "2025-03-05T00:00:00",
          "2025-03-06T00:00:00",
          "2025-03-07T00:00:00",
          "2025-03-10T00:00:00",
          "2025-03-11T00:00:00",
          "2025-03-12T00:00:00",
          "2025-03-13T00:00:00",
          "2025-03-14T00:00:00",
          "2025-03-17T00:00:00",
          "2025-03-18T00:00:00",
          "2025-03-19T00:00:00",
          "2025-03-20T00:00:00",
          "2025-03-21T00:00:00",
          "2025-03-24T00:00:00",
          "2025-03-25T00:00:00",
          "2025-03-26T00:00:00",
          "2025-03-27T00:00:00",
          "2025-03-28T00:00:00",
          "2025-03-31T00:00:00",
          "2025-04-01T00:00:00",
          "2025-04-02T00:00:00",
          "2025-04-03T00:00:00",
          "2025-04-04T00:00:00",
          "2025-04-07T00:00:00",
          "2025-04-08T00:00:00",
          "2025-04-09T00:00:00",
          "2025-04-10T00:00:00",
          "2025-04-11T00:00:00",
          "2025-04-14T00:00:00",
          "2025-04-15T00:00:00",
          "2025-04-16T00:00:00",
          "2025-04-17T00:00:00",
          "2025-04-21T00:00:00",
          "2025-04-22T00:00:00",
          "2025-04-23T00:00:00",
          "2025-04-24T00:00:00",
          "2025-04-25T00:00:00",
          "2025-04-28T00:00:00",
          "2025-04-29T00:00:00",
          "2025-04-30T00:00:00",
          "2025-05-01T00:00:00",
          "2025-05-02T00:00:00",
          "2025-05-05T00:00:00",
          "2025-05-06T00:00:00",
          "2025-05-07T00:00:00",
          "2025-05-08T00:00:00",
          "2025-05-09T00:00:00",
          "2025-05-12T00:00:00",
          "2025-05-13T00:00:00",
          "2025-05-14T00:00:00",
          "2025-05-15T00:00:00",
          "2025-05-16T00:00:00",
          "2025-05-19T00:00:00",
          "2025-05-20T00:00:00",
          "2025-05-21T00:00:00",
          "2025-05-22T00:00:00",
          "2025-05-23T00:00:00",
          "2025-05-27T00:00:00",
          "2025-05-28T00:00:00",
          "2025-05-29T00:00:00",
          "2025-05-30T00:00:00",
          "2025-06-02T00:00:00",
          "2025-06-03T00:00:00",
          "2025-06-04T00:00:00",
          "2025-06-05T00:00:00",
          "2025-06-06T00:00:00",
          "2025-06-09T00:00:00",
          "2025-06-10T00:00:00",
          "2025-06-11T00:00:00",
          "2025-06-12T00:00:00",
          "2025-06-13T00:00:00",
          "2025-06-16T00:00:00",
          "2025-06-17T00:00:00",
          "2025-06-18T00:00:00",
          "2025-06-20T00:00:00",
          "2025-06-23T00:00:00",
          "2025-06-24T00:00:00",
          "2025-06-25T00:00:00",
          "2025-06-26T00:00:00",
          "2025-06-27T00:00:00",
          "2025-06-30T00:00:00",
          "2025-07-01T00:00:00",
          "2025-07-02T00:00:00",
          "2025-07-03T00:00:00",
          "2025-07-07T00:00:00",
          "2025-07-08T00:00:00",
          "2025-07-09T00:00:00",
          "2025-07-10T00:00:00",
          "2025-07-11T00:00:00",
          "2025-07-14T00:00:00",
          "2025-07-15T00:00:00",
          "2025-07-16T00:00:00",
          "2025-07-17T00:00:00",
          "2025-07-18T00:00:00",
          "2025-07-21T00:00:00",
          "2025-07-22T00:00:00"
         ],
         "y": {
          "bdata": "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",
          "dtype": "f8"
         }
        }
       ],
       "layout": {
        "legend": {
         "bgcolor": "rgba(0,0,0,0)",
         "bordercolor": "rgba(0,0,0,0)",
         "orientation": "h",
         "title": {
          "text": "Legend"
         },
         "traceorder": "normal",
         "x": 0,
         "y": 1
        },
        "template": {
         "data": {
          "bar": [
           {
            "error_x": {
             "color": "#2a3f5f"
            },
            "error_y": {
             "color": "#2a3f5f"
            },
            "marker": {
             "line": {
              "color": "#E5ECF6",
              "width": 0.5
             },
             "pattern": {
              "fillmode": "overlay",
              "size": 10,
              "solidity": 0.2
             }
            },
            "type": "bar"
           }
          ],
          "barpolar": [
           {
            "marker": {
             "line": {
              "color": "#E5ECF6",
              "width": 0.5
             },
             "pattern": {
              "fillmode": "overlay",
              "size": 10,
              "solidity": 0.2
             }
            },
            "type": "barpolar"
           }
          ],
          "carpet": [
           {
            "aaxis": {
             "endlinecolor": "#2a3f5f",
             "gridcolor": "white",
             "linecolor": "white",
             "minorgridcolor": "white",
             "startlinecolor": "#2a3f5f"
            },
            "baxis": {
             "endlinecolor": "#2a3f5f",
             "gridcolor": "white",
             "linecolor": "white",
             "minorgridcolor": "white",
             "startlinecolor": "#2a3f5f"
            },
            "type": "carpet"
           }
          ],
          "choropleth": [
           {
            "colorbar": {
             "outlinewidth": 0,
             "ticks": ""
            },
            "type": "choropleth"
           }
          ],
          "contour": [
           {
            "colorbar": {
             "outlinewidth": 0,
             "ticks": ""
            },
            "colorscale": [
             [
              0,
              "#0d0887"
             ],
             [
              0.1111111111111111,
              "#46039f"
             ],
             [
              0.2222222222222222,
              "#7201a8"
             ],
             [
              0.3333333333333333,
              "#9c179e"
             ],
             [
              0.4444444444444444,
              "#bd3786"
             ],
             [
              0.5555555555555556,
              "#d8576b"
             ],
             [
              0.6666666666666666,
              "#ed7953"
             ],
             [
              0.7777777777777778,
              "#fb9f3a"
             ],
             [
              0.8888888888888888,
              "#fdca26"
             ],
             [
              1,
              "#f0f921"
             ]
            ],
            "type": "contour"
           }
          ],
          "contourcarpet": [
           {
            "colorbar": {
             "outlinewidth": 0,
             "ticks": ""
            },
            "type": "contourcarpet"
           }
          ],
          "heatmap": [
           {
            "colorbar": {
             "outlinewidth": 0,
             "ticks": ""
            },
            "colorscale": [
             [
              0,
              "#0d0887"
             ],
             [
              0.1111111111111111,
              "#46039f"
             ],
             [
              0.2222222222222222,
              "#7201a8"
             ],
             [
              0.3333333333333333,
              "#9c179e"
             ],
             [
              0.4444444444444444,
              "#bd3786"
             ],
             [
              0.5555555555555556,
              "#d8576b"
             ],
             [
              0.6666666666666666,
              "#ed7953"
             ],
             [
              0.7777777777777778,
              "#fb9f3a"
             ],
             [
              0.8888888888888888,
              "#fdca26"
             ],
             [
              1,
              "#f0f921"
             ]
            ],
            "type": "heatmap"
           }
          ],
          "histogram": [
           {
            "marker": {
             "pattern": {
              "fillmode": "overlay",
              "size": 10,
              "solidity": 0.2
             }
            },
            "type": "histogram"
           }
          ],
          "histogram2d": [
           {
            "colorbar": {
             "outlinewidth": 0,
             "ticks": ""
            },
            "colorscale": [
             [
              0,
              "#0d0887"
             ],
             [
              0.1111111111111111,
              "#46039f"
             ],
             [
              0.2222222222222222,
              "#7201a8"
             ],
             [
              0.3333333333333333,
              "#9c179e"
             ],
             [
              0.4444444444444444,
              "#bd3786"
             ],
             [
              0.5555555555555556,
              "#d8576b"
             ],
             [
              0.6666666666666666,
              "#ed7953"
             ],
             [
              0.7777777777777778,
              "#fb9f3a"
             ],
             [
              0.8888888888888888,
              "#fdca26"
             ],
             [
              1,
              "#f0f921"
             ]
            ],
            "type": "histogram2d"
           }
          ],
          "histogram2dcontour": [
           {
            "colorbar": {
             "outlinewidth": 0,
             "ticks": ""
            },
            "colorscale": [
             [
              0,
              "#0d0887"
             ],
             [
              0.1111111111111111,
              "#46039f"
             ],
             [
              0.2222222222222222,
              "#7201a8"
             ],
             [
              0.3333333333333333,
              "#9c179e"
             ],
             [
              0.4444444444444444,
              "#bd3786"
             ],
             [
              0.5555555555555556,
              "#d8576b"
             ],
             [
              0.6666666666666666,
              "#ed7953"
             ],
             [
              0.7777777777777778,
              "#fb9f3a"
             ],
             [
              0.8888888888888888,
              "#fdca26"
             ],
             [
              1,
              "#f0f921"
             ]
            ],
            "type": "histogram2dcontour"
           }
          ],
          "mesh3d": [
           {
            "colorbar": {
             "outlinewidth": 0,
             "ticks": ""
            },
            "type": "mesh3d"
           }
          ],
          "parcoords": [
           {
            "line": {
             "colorbar": {
              "outlinewidth": 0,
              "ticks": ""
             }
            },
            "type": "parcoords"
           }
          ],
          "pie": [
           {
            "automargin": true,
            "type": "pie"
           }
          ],
          "scatter": [
           {
            "fillpattern": {
             "fillmode": "overlay",
             "size": 10,
             "solidity": 0.2
            },
            "type": "scatter"
           }
          ],
          "scatter3d": [
           {
            "line": {
             "colorbar": {
              "outlinewidth": 0,
              "ticks": ""
             }
            },
            "marker": {
             "colorbar": {
              "outlinewidth": 0,
              "ticks": ""
             }
            },
            "type": "scatter3d"
           }
          ],
          "scattercarpet": [
           {
            "marker": {
             "colorbar": {
              "outlinewidth": 0,
              "ticks": ""
             }
            },
            "type": "scattercarpet"
           }
          ],
          "scattergeo": [
           {
            "marker": {
             "colorbar": {
              "outlinewidth": 0,
              "ticks": ""
             }
            },
            "type": "scattergeo"
           }
          ],
          "scattergl": [
           {
            "marker": {
             "colorbar": {
              "outlinewidth": 0,
              "ticks": ""
             }
            },
            "type": "scattergl"
           }
          ],
          "scattermap": [
           {
            "marker": {
             "colorbar": {
              "outlinewidth": 0,
              "ticks": ""
             }
            },
            "type": "scattermap"
           }
          ],
          "scattermapbox": [
           {
            "marker": {
             "colorbar": {
              "outlinewidth": 0,
              "ticks": ""
             }
            },
            "type": "scattermapbox"
           }
          ],
          "scatterpolar": [
           {
            "marker": {
             "colorbar": {
              "outlinewidth": 0,
              "ticks": ""
             }
            },
            "type": "scatterpolar"
           }
          ],
          "scatterpolargl": [
           {
            "marker": {
             "colorbar": {
              "outlinewidth": 0,
              "ticks": ""
             }
            },
            "type": "scatterpolargl"
           }
          ],
          "scatterternary": [
           {
            "marker": {
             "colorbar": {
              "outlinewidth": 0,
              "ticks": ""
             }
            },
            "type": "scatterternary"
           }
          ],
          "surface": [
           {
            "colorbar": {
             "outlinewidth": 0,
             "ticks": ""
            },
            "colorscale": [
             [
              0,
              "#0d0887"
             ],
             [
              0.1111111111111111,
              "#46039f"
             ],
             [
              0.2222222222222222,
              "#7201a8"
             ],
             [
              0.3333333333333333,
              "#9c179e"
             ],
             [
              0.4444444444444444,
              "#bd3786"
             ],
             [
              0.5555555555555556,
              "#d8576b"
             ],
             [
              0.6666666666666666,
              "#ed7953"
             ],
             [
              0.7777777777777778,
              "#fb9f3a"
             ],
             [
              0.8888888888888888,
              "#fdca26"
             ],
             [
              1,
              "#f0f921"
             ]
            ],
            "type": "surface"
           }
          ],
          "table": [
           {
            "cells": {
             "fill": {
              "color": "#EBF0F8"
             },
             "line": {
              "color": "white"
             }
            },
            "header": {
             "fill": {
              "color": "#C8D4E3"
             },
             "line": {
              "color": "white"
             }
            },
            "type": "table"
           }
          ]
         },
         "layout": {
          "annotationdefaults": {
           "arrowcolor": "#2a3f5f",
           "arrowhead": 0,
           "arrowwidth": 1
          },
          "autotypenumbers": "strict",
          "coloraxis": {
           "colorbar": {
            "outlinewidth": 0,
            "ticks": ""
           }
          },
          "colorscale": {
           "diverging": [
            [
             0,
             "#8e0152"
            ],
            [
             0.1,
             "#c51b7d"
            ],
            [
             0.2,
             "#de77ae"
            ],
            [
             0.3,
             "#f1b6da"
            ],
            [
             0.4,
             "#fde0ef"
            ],
            [
             0.5,
             "#f7f7f7"
            ],
            [
             0.6,
             "#e6f5d0"
            ],
            [
             0.7,
             "#b8e186"
            ],
            [
             0.8,
             "#7fbc41"
            ],
            [
             0.9,
             "#4d9221"
            ],
            [
             1,
             "#276419"
            ]
           ],
           "sequential": [
            [
             0,
             "#0d0887"
            ],
            [
             0.1111111111111111,
             "#46039f"
            ],
            [
             0.2222222222222222,
             "#7201a8"
            ],
            [
             0.3333333333333333,
             "#9c179e"
            ],
            [
             0.4444444444444444,
             "#bd3786"
            ],
            [
             0.5555555555555556,
             "#d8576b"
            ],
            [
             0.6666666666666666,
             "#ed7953"
            ],
            [
             0.7777777777777778,
             "#fb9f3a"
            ],
            [
             0.8888888888888888,
             "#fdca26"
            ],
            [
             1,
             "#f0f921"
            ]
           ],
           "sequentialminus": [
            [
             0,
             "#0d0887"
            ],
            [
             0.1111111111111111,
             "#46039f"
            ],
            [
             0.2222222222222222,
             "#7201a8"
            ],
            [
             0.3333333333333333,
             "#9c179e"
            ],
            [
             0.4444444444444444,
             "#bd3786"
            ],
            [
             0.5555555555555556,
             "#d8576b"
            ],
            [
             0.6666666666666666,
             "#ed7953"
            ],
            [
             0.7777777777777778,
             "#fb9f3a"
            ],
            [
             0.8888888888888888,
             "#fdca26"
            ],
            [
             1,
             "#f0f921"
            ]
           ]
          },
          "colorway": [
           "#636efa",
           "#EF553B",
           "#00cc96",
           "#ab63fa",
           "#FFA15A",
           "#19d3f3",
           "#FF6692",
           "#B6E880",
           "#FF97FF",
           "#FECB52"
          ],
          "font": {
           "color": "#2a3f5f"
          },
          "geo": {
           "bgcolor": "white",
           "lakecolor": "white",
           "landcolor": "#E5ECF6",
           "showlakes": true,
           "showland": true,
           "subunitcolor": "white"
          },
          "hoverlabel": {
           "align": "left"
          },
          "hovermode": "closest",
          "mapbox": {
           "style": "light"
          },
          "paper_bgcolor": "white",
          "plot_bgcolor": "#E5ECF6",
          "polar": {
           "angularaxis": {
            "gridcolor": "white",
            "linecolor": "white",
            "ticks": ""
           },
           "bgcolor": "#E5ECF6",
           "radialaxis": {
            "gridcolor": "white",
            "linecolor": "white",
            "ticks": ""
           }
          },
          "scene": {
           "xaxis": {
            "backgroundcolor": "#E5ECF6",
            "gridcolor": "white",
            "gridwidth": 2,
            "linecolor": "white",
            "showbackground": true,
            "ticks": "",
            "zerolinecolor": "white"
           },
           "yaxis": {
            "backgroundcolor": "#E5ECF6",
            "gridcolor": "white",
            "gridwidth": 2,
            "linecolor": "white",
            "showbackground": true,
            "ticks": "",
            "zerolinecolor": "white"
           },
           "zaxis": {
            "backgroundcolor": "#E5ECF6",
            "gridcolor": "white",
            "gridwidth": 2,
            "linecolor": "white",
            "showbackground": true,
            "ticks": "",
            "zerolinecolor": "white"
           }
          },
          "shapedefaults": {
           "line": {
            "color": "#2a3f5f"
           }
          },
          "ternary": {
           "aaxis": {
            "gridcolor": "white",
            "linecolor": "white",
            "ticks": ""
           },
           "baxis": {
            "gridcolor": "white",
            "linecolor": "white",
            "ticks": ""
           },
           "bgcolor": "#E5ECF6",
           "caxis": {
            "gridcolor": "white",
            "linecolor": "white",
            "ticks": ""
           }
          },
          "title": {
           "x": 0.05
          },
          "xaxis": {
           "automargin": true,
           "gridcolor": "white",
           "linecolor": "white",
           "ticks": "",
           "title": {
            "standoff": 15
           },
           "zerolinecolor": "white",
           "zerolinewidth": 2
          },
          "yaxis": {
           "automargin": true,
           "gridcolor": "white",
           "linecolor": "white",
           "ticks": "",
           "title": {
            "standoff": 15
           },
           "zerolinecolor": "white",
           "zerolinewidth": 2
          }
         }
        },
        "title": {
         "text": "AAPL MACD (Full History)"
        },
        "xaxis": {
         "rangeslider": {
          "visible": true
         },
         "title": {
          "text": "Date"
         }
        },
        "yaxis": {
         "title": {
          "text": "MACD"
         }
        }
       }
      }
     },
     "metadata": {},
     "output_type": "display_data"
    }
   ],
   "source": [
    "# plot the MACD (Moving Average Convergence Divergence)\n",
    "fig = go.Figure()\n",
    "fig.add_trace(go.Scatter(\n",
    "    x=price_history_sorted['Date'],\n",
    "    y=price_history_sorted['MACD'],\n",
    "    mode='lines',\n",
    "    name='MACD'\n",
    "))\n",
    "fig.add_trace(go.Scatter(\n",
    "    x=price_history_sorted['Date'],\n",
    "    y=price_history_sorted['MACD_Signal'],\n",
    "    mode='lines',\n",
    "    name='MACD Signal'\n",
    "))\n",
    "fig.add_trace(go.Bar(\n",
    "    x=price_history_sorted['Date'],\n",
    "    y=price_history_sorted['MACD_Hist'],\n",
    "    name='MACD Histogram',\n",
    "    marker_color='rgba(0, 0, 255, 0.5)',\n",
    "    opacity=0.5\n",
    "))      \n",
    "fig.update_layout(\n",
    "    title=f\"{ticker} MACD (Full History)\",\n",
    "    xaxis_title=\"Date\",\n",
    "    yaxis_title=\"MACD\",\n",
    "    legend_title=\"Legend\",\n",
    "    xaxis=dict(rangeslider=dict(visible=True))  # Add range slider for zoomming\n",
    ")\n",
    "# hover text showing the MACD, MACD Signal, MACD Histogram values and close price \n",
    "fig.update_traces(hovertemplate=\"<b>Date:</b> %{x}<br><b>Close Price:</b> %{customdata[0]}<br><b>MACD:</b> %{y}<br><b>MACD Signal:</b> %{customdata[1]}<br><b>MACD Histogram:</b> %{customdata[2]}\",\n",
    "                  customdata=price_history_sorted[['Close ' + ticker, 'MACD', 'MACD_Signal', 'MACD_Hist']].values)\n",
    "# move the legend to the top left corner\n",
    "fig.update_layout(legend=dict(x=0, y=1, traceorder='normal',\n",
    "                            orientation='h', bgcolor='rgba(0,0,0,0)', bordercolor='rgba(0,0,0,0)'))\n",
    "fig.show()  "
   ]
  },
  {
   "cell_type": "code",
   "execution_count": null,
   "id": "5e03f4da",
   "metadata": {},
   "outputs": [],
   "source": [
    "# plot 3: MACD\n"
   ]
  }
 ],
 "metadata": {
  "kernelspec": {
   "display_name": ".venv",
   "language": "python",
   "name": "python3"
  },
  "language_info": {
   "codemirror_mode": {
    "name": "ipython",
    "version": 3
   },
   "file_extension": ".py",
   "mimetype": "text/x-python",
   "name": "python",
   "nbconvert_exporter": "python",
   "pygments_lexer": "ipython3",
   "version": "3.13.5"
  }
 },
 "nbformat": 4,
 "nbformat_minor": 5
}
