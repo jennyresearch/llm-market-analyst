{
 "cells": [
  {
   "cell_type": "markdown",
   "id": "369adf1d",
   "metadata": {},
   "source": [
    "## Finance Data EDA"
   ]
  },
  {
   "cell_type": "code",
   "execution_count": null,
   "id": "b600f1c8",
   "metadata": {},
   "outputs": [],
   "source": [
    "import yfinance as yf\n",
    "import pandas as pd\n",
    "from datetime import date, timedelta\n",
    "import pandas as pd\n",
    "import matplotlib.pyplot as plt\n",
    "from datetime import date, timedelta\n",
    "import numpy as np\n",
    "import plotly.express as px\n",
    "import market_analyst as ma\n",
    "\n",
    "# inline plotting for Jupyter notebook\n",
    "import plotly.io as pio\n",
    "pio.renderers.default = 'notebook'\n",
    "\n"
   ]
  },
  {
   "cell_type": "markdown",
   "id": "ee86d881",
   "metadata": {},
   "source": [
    "## Load Data"
   ]
  },
  {
   "cell_type": "code",
   "execution_count": 3,
   "id": "3d4dcca2",
   "metadata": {},
   "outputs": [
    {
     "name": "stderr",
     "output_type": "stream",
     "text": [
      "/Users/jenny/Documents/Jenny/3_GitHub/14_project-lab/Stock_Analysis/local-llm-market-analyst/market_analyst.py:25: FutureWarning: YF.download() has changed argument auto_adjust default to True\n",
      "  df = yf.download(ticker, period=\"2y\", interval=\"1d\")\n",
      "[*********************100%***********************]  1 of 1 completed\n"
     ]
    }
   ],
   "source": [
    "## get stock price and historical data\n",
    "ticker = \"AAPL\"\n",
    "curent_price, currency = ma.get_stock_price(ticker)\n",
    "price_history = ma.historical_prices(ticker)"
   ]
  },
  {
   "cell_type": "code",
   "execution_count": 5,
   "id": "0e6c3ff7",
   "metadata": {},
   "outputs": [
    {
     "data": {
      "text/html": [
       "<div>\n",
       "<style scoped>\n",
       "    .dataframe tbody tr th:only-of-type {\n",
       "        vertical-align: middle;\n",
       "    }\n",
       "\n",
       "    .dataframe tbody tr th {\n",
       "        vertical-align: top;\n",
       "    }\n",
       "\n",
       "    .dataframe thead th {\n",
       "        text-align: right;\n",
       "    }\n",
       "</style>\n",
       "<table border=\"1\" class=\"dataframe\">\n",
       "  <thead>\n",
       "    <tr style=\"text-align: right;\">\n",
       "      <th></th>\n",
       "      <th>Date</th>\n",
       "      <th>Close AAPL</th>\n",
       "      <th>High AAPL</th>\n",
       "      <th>Low AAPL</th>\n",
       "      <th>Open AAPL</th>\n",
       "      <th>Volume AAPL</th>\n",
       "      <th>SMA_20</th>\n",
       "      <th>SMA_50</th>\n",
       "      <th>RSI_14</th>\n",
       "      <th>MACD</th>\n",
       "      <th>MACD_Signal</th>\n",
       "      <th>MACD_Hist</th>\n",
       "    </tr>\n",
       "  </thead>\n",
       "  <tbody>\n",
       "    <tr>\n",
       "      <th>501</th>\n",
       "      <td>2025-08-15</td>\n",
       "      <td>231.59</td>\n",
       "      <td>234.28</td>\n",
       "      <td>229.34</td>\n",
       "      <td>234.00</td>\n",
       "      <td>56010500</td>\n",
       "      <td>216.64</td>\n",
       "      <td>209.38</td>\n",
       "      <td>68.05</td>\n",
       "      <td>6.21</td>\n",
       "      <td>3.97</td>\n",
       "      <td>2.24</td>\n",
       "    </tr>\n",
       "    <tr>\n",
       "      <th>500</th>\n",
       "      <td>2025-08-14</td>\n",
       "      <td>232.78</td>\n",
       "      <td>235.12</td>\n",
       "      <td>230.85</td>\n",
       "      <td>234.06</td>\n",
       "      <td>51916300</td>\n",
       "      <td>215.61</td>\n",
       "      <td>208.80</td>\n",
       "      <td>69.84</td>\n",
       "      <td>5.87</td>\n",
       "      <td>3.41</td>\n",
       "      <td>2.46</td>\n",
       "    </tr>\n",
       "    <tr>\n",
       "      <th>499</th>\n",
       "      <td>2025-08-13</td>\n",
       "      <td>233.33</td>\n",
       "      <td>235.00</td>\n",
       "      <td>230.43</td>\n",
       "      <td>231.07</td>\n",
       "      <td>69878500</td>\n",
       "      <td>214.46</td>\n",
       "      <td>208.20</td>\n",
       "      <td>70.72</td>\n",
       "      <td>5.23</td>\n",
       "      <td>2.79</td>\n",
       "      <td>2.43</td>\n",
       "    </tr>\n",
       "    <tr>\n",
       "      <th>498</th>\n",
       "      <td>2025-08-12</td>\n",
       "      <td>229.65</td>\n",
       "      <td>230.80</td>\n",
       "      <td>227.07</td>\n",
       "      <td>228.01</td>\n",
       "      <td>55626200</td>\n",
       "      <td>213.29</td>\n",
       "      <td>207.56</td>\n",
       "      <td>67.68</td>\n",
       "      <td>4.28</td>\n",
       "      <td>2.18</td>\n",
       "      <td>2.09</td>\n",
       "    </tr>\n",
       "    <tr>\n",
       "      <th>497</th>\n",
       "      <td>2025-08-11</td>\n",
       "      <td>227.18</td>\n",
       "      <td>229.56</td>\n",
       "      <td>224.76</td>\n",
       "      <td>227.92</td>\n",
       "      <td>61806100</td>\n",
       "      <td>212.25</td>\n",
       "      <td>206.98</td>\n",
       "      <td>65.39</td>\n",
       "      <td>3.38</td>\n",
       "      <td>1.66</td>\n",
       "      <td>1.72</td>\n",
       "    </tr>\n",
       "    <tr>\n",
       "      <th>496</th>\n",
       "      <td>2025-08-08</td>\n",
       "      <td>229.09</td>\n",
       "      <td>230.74</td>\n",
       "      <td>219.00</td>\n",
       "      <td>220.58</td>\n",
       "      <td>113854000</td>\n",
       "      <td>211.31</td>\n",
       "      <td>206.43</td>\n",
       "      <td>69.91</td>\n",
       "      <td>2.43</td>\n",
       "      <td>1.23</td>\n",
       "      <td>1.20</td>\n",
       "    </tr>\n",
       "    <tr>\n",
       "      <th>495</th>\n",
       "      <td>2025-08-07</td>\n",
       "      <td>219.78</td>\n",
       "      <td>220.60</td>\n",
       "      <td>216.33</td>\n",
       "      <td>218.63</td>\n",
       "      <td>90224800</td>\n",
       "      <td>210.40</td>\n",
       "      <td>205.86</td>\n",
       "      <td>62.89</td>\n",
       "      <td>1.00</td>\n",
       "      <td>0.93</td>\n",
       "      <td>0.06</td>\n",
       "    </tr>\n",
       "    <tr>\n",
       "      <th>494</th>\n",
       "      <td>2025-08-06</td>\n",
       "      <td>213.01</td>\n",
       "      <td>215.14</td>\n",
       "      <td>205.36</td>\n",
       "      <td>205.40</td>\n",
       "      <td>108483100</td>\n",
       "      <td>210.02</td>\n",
       "      <td>205.46</td>\n",
       "      <td>55.63</td>\n",
       "      <td>0.10</td>\n",
       "      <td>0.92</td>\n",
       "      <td>-0.82</td>\n",
       "    </tr>\n",
       "    <tr>\n",
       "      <th>493</th>\n",
       "      <td>2025-08-05</td>\n",
       "      <td>202.69</td>\n",
       "      <td>205.11</td>\n",
       "      <td>201.93</td>\n",
       "      <td>203.17</td>\n",
       "      <td>44155100</td>\n",
       "      <td>209.91</td>\n",
       "      <td>205.10</td>\n",
       "      <td>30.47</td>\n",
       "      <td>-0.37</td>\n",
       "      <td>1.12</td>\n",
       "      <td>-1.49</td>\n",
       "    </tr>\n",
       "    <tr>\n",
       "      <th>492</th>\n",
       "      <td>2025-08-04</td>\n",
       "      <td>203.12</td>\n",
       "      <td>207.64</td>\n",
       "      <td>201.45</td>\n",
       "      <td>204.28</td>\n",
       "      <td>75109300</td>\n",
       "      <td>210.27</td>\n",
       "      <td>205.07</td>\n",
       "      <td>34.97</td>\n",
       "      <td>0.10</td>\n",
       "      <td>1.49</td>\n",
       "      <td>-1.39</td>\n",
       "    </tr>\n",
       "  </tbody>\n",
       "</table>\n",
       "</div>"
      ],
      "text/plain": [
       "          Date  Close AAPL  High AAPL  Low AAPL  Open AAPL  Volume AAPL  \\\n",
       "501 2025-08-15      231.59     234.28    229.34     234.00     56010500   \n",
       "500 2025-08-14      232.78     235.12    230.85     234.06     51916300   \n",
       "499 2025-08-13      233.33     235.00    230.43     231.07     69878500   \n",
       "498 2025-08-12      229.65     230.80    227.07     228.01     55626200   \n",
       "497 2025-08-11      227.18     229.56    224.76     227.92     61806100   \n",
       "496 2025-08-08      229.09     230.74    219.00     220.58    113854000   \n",
       "495 2025-08-07      219.78     220.60    216.33     218.63     90224800   \n",
       "494 2025-08-06      213.01     215.14    205.36     205.40    108483100   \n",
       "493 2025-08-05      202.69     205.11    201.93     203.17     44155100   \n",
       "492 2025-08-04      203.12     207.64    201.45     204.28     75109300   \n",
       "\n",
       "     SMA_20  SMA_50  RSI_14  MACD  MACD_Signal  MACD_Hist  \n",
       "501  216.64  209.38   68.05  6.21         3.97       2.24  \n",
       "500  215.61  208.80   69.84  5.87         3.41       2.46  \n",
       "499  214.46  208.20   70.72  5.23         2.79       2.43  \n",
       "498  213.29  207.56   67.68  4.28         2.18       2.09  \n",
       "497  212.25  206.98   65.39  3.38         1.66       1.72  \n",
       "496  211.31  206.43   69.91  2.43         1.23       1.20  \n",
       "495  210.40  205.86   62.89  1.00         0.93       0.06  \n",
       "494  210.02  205.46   55.63  0.10         0.92      -0.82  \n",
       "493  209.91  205.10   30.47 -0.37         1.12      -1.49  \n",
       "492  210.27  205.07   34.97  0.10         1.49      -1.39  "
      ]
     },
     "execution_count": 5,
     "metadata": {},
     "output_type": "execute_result"
    }
   ],
   "source": [
    "# Date descending order with metrics\n",
    "price_history = price_history.sort_values(by='Date', ascending=False)\n",
    "price_history.head(10)"
   ]
  },
  {
   "cell_type": "markdown",
   "id": "d42014ae",
   "metadata": {},
   "source": [
    "## Data Visual Exploration"
   ]
  },
  {
   "cell_type": "markdown",
   "id": "e9a3bae5",
   "metadata": {},
   "source": [
    "### Price History"
   ]
  },
  {
   "cell_type": "code",
   "execution_count": 6,
   "id": "1f667962",
   "metadata": {},
   "outputs": [
    {
     "data": {
      "application/vnd.plotly.v1+json": {
       "config": {
        "plotlyServerURL": "https://plot.ly"
       },
       "data": [
        {
         "hovertemplate": "Date=%{x}<br>Close AAPL=%{y}<extra></extra>",
         "legendgroup": "",
         "line": {
          "color": "#636efa",
          "dash": "solid"
         },
         "marker": {
          "symbol": "circle"
         },
         "mode": "lines",
         "name": "",
         "orientation": "v",
         "showlegend": false,
         "type": "scatter",
         "x": [
          "2025-08-15T00:00:00",
          "2025-08-14T00:00:00",
          "2025-08-13T00:00:00",
          "2025-08-12T00:00:00",
          "2025-08-11T00:00:00",
          "2025-08-08T00:00:00",
          "2025-08-07T00:00:00",
          "2025-08-06T00:00:00",
          "2025-08-05T00:00:00",
          "2025-08-04T00:00:00",
          "2025-08-01T00:00:00",
          "2025-07-31T00:00:00",
          "2025-07-30T00:00:00",
          "2025-07-29T00:00:00",
          "2025-07-28T00:00:00",
          "2025-07-25T00:00:00",
          "2025-07-24T00:00:00",
          "2025-07-23T00:00:00",
          "2025-07-22T00:00:00",
          "2025-07-21T00:00:00",
          "2025-07-18T00:00:00",
          "2025-07-17T00:00:00",
          "2025-07-16T00:00:00",
          "2025-07-15T00:00:00",
          "2025-07-14T00:00:00",
          "2025-07-11T00:00:00",
          "2025-07-10T00:00:00",
          "2025-07-09T00:00:00",
          "2025-07-08T00:00:00",
          "2025-07-07T00:00:00",
          "2025-07-03T00:00:00",
          "2025-07-02T00:00:00",
          "2025-07-01T00:00:00",
          "2025-06-30T00:00:00",
          "2025-06-27T00:00:00",
          "2025-06-26T00:00:00",
          "2025-06-25T00:00:00",
          "2025-06-24T00:00:00",
          "2025-06-23T00:00:00",
          "2025-06-20T00:00:00",
          "2025-06-18T00:00:00",
          "2025-06-17T00:00:00",
          "2025-06-16T00:00:00",
          "2025-06-13T00:00:00",
          "2025-06-12T00:00:00",
          "2025-06-11T00:00:00",
          "2025-06-10T00:00:00",
          "2025-06-09T00:00:00",
          "2025-06-06T00:00:00",
          "2025-06-05T00:00:00",
          "2025-06-04T00:00:00",
          "2025-06-03T00:00:00",
          "2025-06-02T00:00:00",
          "2025-05-30T00:00:00",
          "2025-05-29T00:00:00",
          "2025-05-28T00:00:00",
          "2025-05-27T00:00:00",
          "2025-05-23T00:00:00",
          "2025-05-22T00:00:00",
          "2025-05-21T00:00:00",
          "2025-05-20T00:00:00",
          "2025-05-19T00:00:00",
          "2025-05-16T00:00:00",
          "2025-05-15T00:00:00",
          "2025-05-14T00:00:00",
          "2025-05-13T00:00:00",
          "2025-05-12T00:00:00",
          "2025-05-09T00:00:00",
          "2025-05-08T00:00:00",
          "2025-05-07T00:00:00",
          "2025-05-06T00:00:00",
          "2025-05-05T00:00:00",
          "2025-05-02T00:00:00",
          "2025-05-01T00:00:00",
          "2025-04-30T00:00:00",
          "2025-04-29T00:00:00",
          "2025-04-28T00:00:00",
          "2025-04-25T00:00:00",
          "2025-04-24T00:00:00",
          "2025-04-23T00:00:00",
          "2025-04-22T00:00:00",
          "2025-04-21T00:00:00",
          "2025-04-17T00:00:00",
          "2025-04-16T00:00:00",
          "2025-04-15T00:00:00",
          "2025-04-14T00:00:00",
          "2025-04-11T00:00:00",
          "2025-04-10T00:00:00",
          "2025-04-09T00:00:00",
          "2025-04-08T00:00:00",
          "2025-04-07T00:00:00",
          "2025-04-04T00:00:00",
          "2025-04-03T00:00:00",
          "2025-04-02T00:00:00",
          "2025-04-01T00:00:00",
          "2025-03-31T00:00:00",
          "2025-03-28T00:00:00",
          "2025-03-27T00:00:00",
          "2025-03-26T00:00:00",
          "2025-03-25T00:00:00",
          "2025-03-24T00:00:00",
          "2025-03-21T00:00:00",
          "2025-03-20T00:00:00",
          "2025-03-19T00:00:00",
          "2025-03-18T00:00:00",
          "2025-03-17T00:00:00",
          "2025-03-14T00:00:00",
          "2025-03-13T00:00:00",
          "2025-03-12T00:00:00",
          "2025-03-11T00:00:00",
          "2025-03-10T00:00:00",
          "2025-03-07T00:00:00",
          "2025-03-06T00:00:00",
          "2025-03-05T00:00:00",
          "2025-03-04T00:00:00",
          "2025-03-03T00:00:00",
          "2025-02-28T00:00:00",
          "2025-02-27T00:00:00",
          "2025-02-26T00:00:00",
          "2025-02-25T00:00:00",
          "2025-02-24T00:00:00",
          "2025-02-21T00:00:00",
          "2025-02-20T00:00:00",
          "2025-02-19T00:00:00",
          "2025-02-18T00:00:00",
          "2025-02-14T00:00:00",
          "2025-02-13T00:00:00",
          "2025-02-12T00:00:00",
          "2025-02-11T00:00:00",
          "2025-02-10T00:00:00",
          "2025-02-07T00:00:00",
          "2025-02-06T00:00:00",
          "2025-02-05T00:00:00",
          "2025-02-04T00:00:00",
          "2025-02-03T00:00:00",
          "2025-01-31T00:00:00",
          "2025-01-30T00:00:00",
          "2025-01-29T00:00:00",
          "2025-01-28T00:00:00",
          "2025-01-27T00:00:00",
          "2025-01-24T00:00:00",
          "2025-01-23T00:00:00",
          "2025-01-22T00:00:00",
          "2025-01-21T00:00:00",
          "2025-01-17T00:00:00",
          "2025-01-16T00:00:00",
          "2025-01-15T00:00:00",
          "2025-01-14T00:00:00",
          "2025-01-13T00:00:00",
          "2025-01-10T00:00:00",
          "2025-01-08T00:00:00",
          "2025-01-07T00:00:00",
          "2025-01-06T00:00:00",
          "2025-01-03T00:00:00",
          "2025-01-02T00:00:00",
          "2024-12-31T00:00:00",
          "2024-12-30T00:00:00",
          "2024-12-27T00:00:00",
          "2024-12-26T00:00:00",
          "2024-12-24T00:00:00",
          "2024-12-23T00:00:00",
          "2024-12-20T00:00:00",
          "2024-12-19T00:00:00",
          "2024-12-18T00:00:00",
          "2024-12-17T00:00:00",
          "2024-12-16T00:00:00",
          "2024-12-13T00:00:00",
          "2024-12-12T00:00:00",
          "2024-12-11T00:00:00",
          "2024-12-10T00:00:00",
          "2024-12-09T00:00:00",
          "2024-12-06T00:00:00",
          "2024-12-05T00:00:00",
          "2024-12-04T00:00:00",
          "2024-12-03T00:00:00",
          "2024-12-02T00:00:00",
          "2024-11-29T00:00:00",
          "2024-11-27T00:00:00",
          "2024-11-26T00:00:00",
          "2024-11-25T00:00:00",
          "2024-11-22T00:00:00",
          "2024-11-21T00:00:00",
          "2024-11-20T00:00:00",
          "2024-11-19T00:00:00",
          "2024-11-18T00:00:00",
          "2024-11-15T00:00:00",
          "2024-11-14T00:00:00",
          "2024-11-13T00:00:00",
          "2024-11-12T00:00:00",
          "2024-11-11T00:00:00",
          "2024-11-08T00:00:00",
          "2024-11-07T00:00:00",
          "2024-11-06T00:00:00",
          "2024-11-05T00:00:00",
          "2024-11-04T00:00:00",
          "2024-11-01T00:00:00",
          "2024-10-31T00:00:00",
          "2024-10-30T00:00:00",
          "2024-10-29T00:00:00",
          "2024-10-28T00:00:00",
          "2024-10-25T00:00:00",
          "2024-10-24T00:00:00",
          "2024-10-23T00:00:00",
          "2024-10-22T00:00:00",
          "2024-10-21T00:00:00",
          "2024-10-18T00:00:00",
          "2024-10-17T00:00:00",
          "2024-10-16T00:00:00",
          "2024-10-15T00:00:00",
          "2024-10-14T00:00:00",
          "2024-10-11T00:00:00",
          "2024-10-10T00:00:00",
          "2024-10-09T00:00:00",
          "2024-10-08T00:00:00",
          "2024-10-07T00:00:00",
          "2024-10-04T00:00:00",
          "2024-10-03T00:00:00",
          "2024-10-02T00:00:00",
          "2024-10-01T00:00:00",
          "2024-09-30T00:00:00",
          "2024-09-27T00:00:00",
          "2024-09-26T00:00:00",
          "2024-09-25T00:00:00",
          "2024-09-24T00:00:00",
          "2024-09-23T00:00:00",
          "2024-09-20T00:00:00",
          "2024-09-19T00:00:00",
          "2024-09-18T00:00:00",
          "2024-09-17T00:00:00",
          "2024-09-16T00:00:00",
          "2024-09-13T00:00:00",
          "2024-09-12T00:00:00",
          "2024-09-11T00:00:00",
          "2024-09-10T00:00:00",
          "2024-09-09T00:00:00",
          "2024-09-06T00:00:00",
          "2024-09-05T00:00:00",
          "2024-09-04T00:00:00",
          "2024-09-03T00:00:00",
          "2024-08-30T00:00:00",
          "2024-08-29T00:00:00",
          "2024-08-28T00:00:00",
          "2024-08-27T00:00:00",
          "2024-08-26T00:00:00",
          "2024-08-23T00:00:00",
          "2024-08-22T00:00:00",
          "2024-08-21T00:00:00",
          "2024-08-20T00:00:00",
          "2024-08-19T00:00:00",
          "2024-08-16T00:00:00",
          "2024-08-15T00:00:00",
          "2024-08-14T00:00:00",
          "2024-08-13T00:00:00",
          "2024-08-12T00:00:00",
          "2024-08-09T00:00:00",
          "2024-08-08T00:00:00",
          "2024-08-07T00:00:00",
          "2024-08-06T00:00:00",
          "2024-08-05T00:00:00",
          "2024-08-02T00:00:00",
          "2024-08-01T00:00:00",
          "2024-07-31T00:00:00",
          "2024-07-30T00:00:00",
          "2024-07-29T00:00:00",
          "2024-07-26T00:00:00",
          "2024-07-25T00:00:00",
          "2024-07-24T00:00:00",
          "2024-07-23T00:00:00",
          "2024-07-22T00:00:00",
          "2024-07-19T00:00:00",
          "2024-07-18T00:00:00",
          "2024-07-17T00:00:00",
          "2024-07-16T00:00:00",
          "2024-07-15T00:00:00",
          "2024-07-12T00:00:00",
          "2024-07-11T00:00:00",
          "2024-07-10T00:00:00",
          "2024-07-09T00:00:00",
          "2024-07-08T00:00:00",
          "2024-07-05T00:00:00",
          "2024-07-03T00:00:00",
          "2024-07-02T00:00:00",
          "2024-07-01T00:00:00",
          "2024-06-28T00:00:00",
          "2024-06-27T00:00:00",
          "2024-06-26T00:00:00",
          "2024-06-25T00:00:00",
          "2024-06-24T00:00:00",
          "2024-06-21T00:00:00",
          "2024-06-20T00:00:00",
          "2024-06-18T00:00:00",
          "2024-06-17T00:00:00",
          "2024-06-14T00:00:00",
          "2024-06-13T00:00:00",
          "2024-06-12T00:00:00",
          "2024-06-11T00:00:00",
          "2024-06-10T00:00:00",
          "2024-06-07T00:00:00",
          "2024-06-06T00:00:00",
          "2024-06-05T00:00:00",
          "2024-06-04T00:00:00",
          "2024-06-03T00:00:00",
          "2024-05-31T00:00:00",
          "2024-05-30T00:00:00",
          "2024-05-29T00:00:00",
          "2024-05-28T00:00:00",
          "2024-05-24T00:00:00",
          "2024-05-23T00:00:00",
          "2024-05-22T00:00:00",
          "2024-05-21T00:00:00",
          "2024-05-20T00:00:00",
          "2024-05-17T00:00:00",
          "2024-05-16T00:00:00",
          "2024-05-15T00:00:00",
          "2024-05-14T00:00:00",
          "2024-05-13T00:00:00",
          "2024-05-10T00:00:00",
          "2024-05-09T00:00:00",
          "2024-05-08T00:00:00",
          "2024-05-07T00:00:00",
          "2024-05-06T00:00:00",
          "2024-05-03T00:00:00",
          "2024-05-02T00:00:00",
          "2024-05-01T00:00:00",
          "2024-04-30T00:00:00",
          "2024-04-29T00:00:00",
          "2024-04-26T00:00:00",
          "2024-04-25T00:00:00",
          "2024-04-24T00:00:00",
          "2024-04-23T00:00:00",
          "2024-04-22T00:00:00",
          "2024-04-19T00:00:00",
          "2024-04-18T00:00:00",
          "2024-04-17T00:00:00",
          "2024-04-16T00:00:00",
          "2024-04-15T00:00:00",
          "2024-04-12T00:00:00",
          "2024-04-11T00:00:00",
          "2024-04-10T00:00:00",
          "2024-04-09T00:00:00",
          "2024-04-08T00:00:00",
          "2024-04-05T00:00:00",
          "2024-04-04T00:00:00",
          "2024-04-03T00:00:00",
          "2024-04-02T00:00:00",
          "2024-04-01T00:00:00",
          "2024-03-28T00:00:00",
          "2024-03-27T00:00:00",
          "2024-03-26T00:00:00",
          "2024-03-25T00:00:00",
          "2024-03-22T00:00:00",
          "2024-03-21T00:00:00",
          "2024-03-20T00:00:00",
          "2024-03-19T00:00:00",
          "2024-03-18T00:00:00",
          "2024-03-15T00:00:00",
          "2024-03-14T00:00:00",
          "2024-03-13T00:00:00",
          "2024-03-12T00:00:00",
          "2024-03-11T00:00:00",
          "2024-03-08T00:00:00",
          "2024-03-07T00:00:00",
          "2024-03-06T00:00:00",
          "2024-03-05T00:00:00",
          "2024-03-04T00:00:00",
          "2024-03-01T00:00:00",
          "2024-02-29T00:00:00",
          "2024-02-28T00:00:00",
          "2024-02-27T00:00:00",
          "2024-02-26T00:00:00",
          "2024-02-23T00:00:00",
          "2024-02-22T00:00:00",
          "2024-02-21T00:00:00",
          "2024-02-20T00:00:00",
          "2024-02-16T00:00:00",
          "2024-02-15T00:00:00",
          "2024-02-14T00:00:00",
          "2024-02-13T00:00:00",
          "2024-02-12T00:00:00",
          "2024-02-09T00:00:00",
          "2024-02-08T00:00:00",
          "2024-02-07T00:00:00",
          "2024-02-06T00:00:00",
          "2024-02-05T00:00:00",
          "2024-02-02T00:00:00",
          "2024-02-01T00:00:00",
          "2024-01-31T00:00:00",
          "2024-01-30T00:00:00",
          "2024-01-29T00:00:00",
          "2024-01-26T00:00:00",
          "2024-01-25T00:00:00",
          "2024-01-24T00:00:00",
          "2024-01-23T00:00:00",
          "2024-01-22T00:00:00",
          "2024-01-19T00:00:00",
          "2024-01-18T00:00:00",
          "2024-01-17T00:00:00",
          "2024-01-16T00:00:00",
          "2024-01-12T00:00:00",
          "2024-01-11T00:00:00",
          "2024-01-10T00:00:00",
          "2024-01-09T00:00:00",
          "2024-01-08T00:00:00",
          "2024-01-05T00:00:00",
          "2024-01-04T00:00:00",
          "2024-01-03T00:00:00",
          "2024-01-02T00:00:00",
          "2023-12-29T00:00:00",
          "2023-12-28T00:00:00",
          "2023-12-27T00:00:00",
          "2023-12-26T00:00:00",
          "2023-12-22T00:00:00",
          "2023-12-21T00:00:00",
          "2023-12-20T00:00:00",
          "2023-12-19T00:00:00",
          "2023-12-18T00:00:00",
          "2023-12-15T00:00:00",
          "2023-12-14T00:00:00",
          "2023-12-13T00:00:00",
          "2023-12-12T00:00:00",
          "2023-12-11T00:00:00",
          "2023-12-08T00:00:00",
          "2023-12-07T00:00:00",
          "2023-12-06T00:00:00",
          "2023-12-05T00:00:00",
          "2023-12-04T00:00:00",
          "2023-12-01T00:00:00",
          "2023-11-30T00:00:00",
          "2023-11-29T00:00:00",
          "2023-11-28T00:00:00",
          "2023-11-27T00:00:00",
          "2023-11-24T00:00:00",
          "2023-11-22T00:00:00",
          "2023-11-21T00:00:00",
          "2023-11-20T00:00:00",
          "2023-11-17T00:00:00",
          "2023-11-16T00:00:00",
          "2023-11-15T00:00:00",
          "2023-11-14T00:00:00",
          "2023-11-13T00:00:00",
          "2023-11-10T00:00:00",
          "2023-11-09T00:00:00",
          "2023-11-08T00:00:00",
          "2023-11-07T00:00:00",
          "2023-11-06T00:00:00",
          "2023-11-03T00:00:00",
          "2023-11-02T00:00:00",
          "2023-11-01T00:00:00",
          "2023-10-31T00:00:00",
          "2023-10-30T00:00:00",
          "2023-10-27T00:00:00",
          "2023-10-26T00:00:00",
          "2023-10-25T00:00:00",
          "2023-10-24T00:00:00",
          "2023-10-23T00:00:00",
          "2023-10-20T00:00:00",
          "2023-10-19T00:00:00",
          "2023-10-18T00:00:00",
          "2023-10-17T00:00:00",
          "2023-10-16T00:00:00",
          "2023-10-13T00:00:00",
          "2023-10-12T00:00:00",
          "2023-10-11T00:00:00",
          "2023-10-10T00:00:00",
          "2023-10-09T00:00:00",
          "2023-10-06T00:00:00",
          "2023-10-05T00:00:00",
          "2023-10-04T00:00:00",
          "2023-10-03T00:00:00",
          "2023-10-02T00:00:00",
          "2023-09-29T00:00:00",
          "2023-09-28T00:00:00",
          "2023-09-27T00:00:00",
          "2023-09-26T00:00:00",
          "2023-09-25T00:00:00",
          "2023-09-22T00:00:00",
          "2023-09-21T00:00:00",
          "2023-09-20T00:00:00",
          "2023-09-19T00:00:00",
          "2023-09-18T00:00:00",
          "2023-09-15T00:00:00",
          "2023-09-14T00:00:00",
          "2023-09-13T00:00:00",
          "2023-09-12T00:00:00",
          "2023-09-11T00:00:00",
          "2023-09-08T00:00:00",
          "2023-09-07T00:00:00",
          "2023-09-06T00:00:00",
          "2023-09-05T00:00:00",
          "2023-09-01T00:00:00",
          "2023-08-31T00:00:00",
          "2023-08-30T00:00:00",
          "2023-08-29T00:00:00",
          "2023-08-28T00:00:00",
          "2023-08-25T00:00:00",
          "2023-08-24T00:00:00",
          "2023-08-23T00:00:00",
          "2023-08-22T00:00:00",
          "2023-08-21T00:00:00",
          "2023-08-18T00:00:00",
          "2023-08-17T00:00:00",
          "2023-08-16T00:00:00"
         ],
         "xaxis": "x",
         "y": {
          "bdata": "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",
          "dtype": "f8"
         },
         "yaxis": "y"
        }
       ],
       "layout": {
        "legend": {
         "tracegroupgap": 0
        },
        "template": {
         "data": {
          "bar": [
           {
            "error_x": {
             "color": "#2a3f5f"
            },
            "error_y": {
             "color": "#2a3f5f"
            },
            "marker": {
             "line": {
              "color": "#E5ECF6",
              "width": 0.5
             },
             "pattern": {
              "fillmode": "overlay",
              "size": 10,
              "solidity": 0.2
             }
            },
            "type": "bar"
           }
          ],
          "barpolar": [
           {
            "marker": {
             "line": {
              "color": "#E5ECF6",
              "width": 0.5
             },
             "pattern": {
              "fillmode": "overlay",
              "size": 10,
              "solidity": 0.2
             }
            },
            "type": "barpolar"
           }
          ],
          "carpet": [
           {
            "aaxis": {
             "endlinecolor": "#2a3f5f",
             "gridcolor": "white",
             "linecolor": "white",
             "minorgridcolor": "white",
             "startlinecolor": "#2a3f5f"
            },
            "baxis": {
             "endlinecolor": "#2a3f5f",
             "gridcolor": "white",
             "linecolor": "white",
             "minorgridcolor": "white",
             "startlinecolor": "#2a3f5f"
            },
            "type": "carpet"
           }
          ],
          "choropleth": [
           {
            "colorbar": {
             "outlinewidth": 0,
             "ticks": ""
            },
            "type": "choropleth"
           }
          ],
          "contour": [
           {
            "colorbar": {
             "outlinewidth": 0,
             "ticks": ""
            },
            "colorscale": [
             [
              0,
              "#0d0887"
             ],
             [
              0.1111111111111111,
              "#46039f"
             ],
             [
              0.2222222222222222,
              "#7201a8"
             ],
             [
              0.3333333333333333,
              "#9c179e"
             ],
             [
              0.4444444444444444,
              "#bd3786"
             ],
             [
              0.5555555555555556,
              "#d8576b"
             ],
             [
              0.6666666666666666,
              "#ed7953"
             ],
             [
              0.7777777777777778,
              "#fb9f3a"
             ],
             [
              0.8888888888888888,
              "#fdca26"
             ],
             [
              1,
              "#f0f921"
             ]
            ],
            "type": "contour"
           }
          ],
          "contourcarpet": [
           {
            "colorbar": {
             "outlinewidth": 0,
             "ticks": ""
            },
            "type": "contourcarpet"
           }
          ],
          "heatmap": [
           {
            "colorbar": {
             "outlinewidth": 0,
             "ticks": ""
            },
            "colorscale": [
             [
              0,
              "#0d0887"
             ],
             [
              0.1111111111111111,
              "#46039f"
             ],
             [
              0.2222222222222222,
              "#7201a8"
             ],
             [
              0.3333333333333333,
              "#9c179e"
             ],
             [
              0.4444444444444444,
              "#bd3786"
             ],
             [
              0.5555555555555556,
              "#d8576b"
             ],
             [
              0.6666666666666666,
              "#ed7953"
             ],
             [
              0.7777777777777778,
              "#fb9f3a"
             ],
             [
              0.8888888888888888,
              "#fdca26"
             ],
             [
              1,
              "#f0f921"
             ]
            ],
            "type": "heatmap"
           }
          ],
          "histogram": [
           {
            "marker": {
             "pattern": {
              "fillmode": "overlay",
              "size": 10,
              "solidity": 0.2
             }
            },
            "type": "histogram"
           }
          ],
          "histogram2d": [
           {
            "colorbar": {
             "outlinewidth": 0,
             "ticks": ""
            },
            "colorscale": [
             [
              0,
              "#0d0887"
             ],
             [
              0.1111111111111111,
              "#46039f"
             ],
             [
              0.2222222222222222,
              "#7201a8"
             ],
             [
              0.3333333333333333,
              "#9c179e"
             ],
             [
              0.4444444444444444,
              "#bd3786"
             ],
             [
              0.5555555555555556,
              "#d8576b"
             ],
             [
              0.6666666666666666,
              "#ed7953"
             ],
             [
              0.7777777777777778,
              "#fb9f3a"
             ],
             [
              0.8888888888888888,
              "#fdca26"
             ],
             [
              1,
              "#f0f921"
             ]
            ],
            "type": "histogram2d"
           }
          ],
          "histogram2dcontour": [
           {
            "colorbar": {
             "outlinewidth": 0,
             "ticks": ""
            },
            "colorscale": [
             [
              0,
              "#0d0887"
             ],
             [
              0.1111111111111111,
              "#46039f"
             ],
             [
              0.2222222222222222,
              "#7201a8"
             ],
             [
              0.3333333333333333,
              "#9c179e"
             ],
             [
              0.4444444444444444,
              "#bd3786"
             ],
             [
              0.5555555555555556,
              "#d8576b"
             ],
             [
              0.6666666666666666,
              "#ed7953"
             ],
             [
              0.7777777777777778,
              "#fb9f3a"
             ],
             [
              0.8888888888888888,
              "#fdca26"
             ],
             [
              1,
              "#f0f921"
             ]
            ],
            "type": "histogram2dcontour"
           }
          ],
          "mesh3d": [
           {
            "colorbar": {
             "outlinewidth": 0,
             "ticks": ""
            },
            "type": "mesh3d"
           }
          ],
          "parcoords": [
           {
            "line": {
             "colorbar": {
              "outlinewidth": 0,
              "ticks": ""
             }
            },
            "type": "parcoords"
           }
          ],
          "pie": [
           {
            "automargin": true,
            "type": "pie"
           }
          ],
          "scatter": [
           {
            "fillpattern": {
             "fillmode": "overlay",
             "size": 10,
             "solidity": 0.2
            },
            "type": "scatter"
           }
          ],
          "scatter3d": [
           {
            "line": {
             "colorbar": {
              "outlinewidth": 0,
              "ticks": ""
             }
            },
            "marker": {
             "colorbar": {
              "outlinewidth": 0,
              "ticks": ""
             }
            },
            "type": "scatter3d"
           }
          ],
          "scattercarpet": [
           {
            "marker": {
             "colorbar": {
              "outlinewidth": 0,
              "ticks": ""
             }
            },
            "type": "scattercarpet"
           }
          ],
          "scattergeo": [
           {
            "marker": {
             "colorbar": {
              "outlinewidth": 0,
              "ticks": ""
             }
            },
            "type": "scattergeo"
           }
          ],
          "scattergl": [
           {
            "marker": {
             "colorbar": {
              "outlinewidth": 0,
              "ticks": ""
             }
            },
            "type": "scattergl"
           }
          ],
          "scattermap": [
           {
            "marker": {
             "colorbar": {
              "outlinewidth": 0,
              "ticks": ""
             }
            },
            "type": "scattermap"
           }
          ],
          "scattermapbox": [
           {
            "marker": {
             "colorbar": {
              "outlinewidth": 0,
              "ticks": ""
             }
            },
            "type": "scattermapbox"
           }
          ],
          "scatterpolar": [
           {
            "marker": {
             "colorbar": {
              "outlinewidth": 0,
              "ticks": ""
             }
            },
            "type": "scatterpolar"
           }
          ],
          "scatterpolargl": [
           {
            "marker": {
             "colorbar": {
              "outlinewidth": 0,
              "ticks": ""
             }
            },
            "type": "scatterpolargl"
           }
          ],
          "scatterternary": [
           {
            "marker": {
             "colorbar": {
              "outlinewidth": 0,
              "ticks": ""
             }
            },
            "type": "scatterternary"
           }
          ],
          "surface": [
           {
            "colorbar": {
             "outlinewidth": 0,
             "ticks": ""
            },
            "colorscale": [
             [
              0,
              "#0d0887"
             ],
             [
              0.1111111111111111,
              "#46039f"
             ],
             [
              0.2222222222222222,
              "#7201a8"
             ],
             [
              0.3333333333333333,
              "#9c179e"
             ],
             [
              0.4444444444444444,
              "#bd3786"
             ],
             [
              0.5555555555555556,
              "#d8576b"
             ],
             [
              0.6666666666666666,
              "#ed7953"
             ],
             [
              0.7777777777777778,
              "#fb9f3a"
             ],
             [
              0.8888888888888888,
              "#fdca26"
             ],
             [
              1,
              "#f0f921"
             ]
            ],
            "type": "surface"
           }
          ],
          "table": [
           {
            "cells": {
             "fill": {
              "color": "#EBF0F8"
             },
             "line": {
              "color": "white"
             }
            },
            "header": {
             "fill": {
              "color": "#C8D4E3"
             },
             "line": {
              "color": "white"
             }
            },
            "type": "table"
           }
          ]
         },
         "layout": {
          "annotationdefaults": {
           "arrowcolor": "#2a3f5f",
           "arrowhead": 0,
           "arrowwidth": 1
          },
          "autotypenumbers": "strict",
          "coloraxis": {
           "colorbar": {
            "outlinewidth": 0,
            "ticks": ""
           }
          },
          "colorscale": {
           "diverging": [
            [
             0,
             "#8e0152"
            ],
            [
             0.1,
             "#c51b7d"
            ],
            [
             0.2,
             "#de77ae"
            ],
            [
             0.3,
             "#f1b6da"
            ],
            [
             0.4,
             "#fde0ef"
            ],
            [
             0.5,
             "#f7f7f7"
            ],
            [
             0.6,
             "#e6f5d0"
            ],
            [
             0.7,
             "#b8e186"
            ],
            [
             0.8,
             "#7fbc41"
            ],
            [
             0.9,
             "#4d9221"
            ],
            [
             1,
             "#276419"
            ]
           ],
           "sequential": [
            [
             0,
             "#0d0887"
            ],
            [
             0.1111111111111111,
             "#46039f"
            ],
            [
             0.2222222222222222,
             "#7201a8"
            ],
            [
             0.3333333333333333,
             "#9c179e"
            ],
            [
             0.4444444444444444,
             "#bd3786"
            ],
            [
             0.5555555555555556,
             "#d8576b"
            ],
            [
             0.6666666666666666,
             "#ed7953"
            ],
            [
             0.7777777777777778,
             "#fb9f3a"
            ],
            [
             0.8888888888888888,
             "#fdca26"
            ],
            [
             1,
             "#f0f921"
            ]
           ],
           "sequentialminus": [
            [
             0,
             "#0d0887"
            ],
            [
             0.1111111111111111,
             "#46039f"
            ],
            [
             0.2222222222222222,
             "#7201a8"
            ],
            [
             0.3333333333333333,
             "#9c179e"
            ],
            [
             0.4444444444444444,
             "#bd3786"
            ],
            [
             0.5555555555555556,
             "#d8576b"
            ],
            [
             0.6666666666666666,
             "#ed7953"
            ],
            [
             0.7777777777777778,
             "#fb9f3a"
            ],
            [
             0.8888888888888888,
             "#fdca26"
            ],
            [
             1,
             "#f0f921"
            ]
           ]
          },
          "colorway": [
           "#636efa",
           "#EF553B",
           "#00cc96",
           "#ab63fa",
           "#FFA15A",
           "#19d3f3",
           "#FF6692",
           "#B6E880",
           "#FF97FF",
           "#FECB52"
          ],
          "font": {
           "color": "#2a3f5f"
          },
          "geo": {
           "bgcolor": "white",
           "lakecolor": "white",
           "landcolor": "#E5ECF6",
           "showlakes": true,
           "showland": true,
           "subunitcolor": "white"
          },
          "hoverlabel": {
           "align": "left"
          },
          "hovermode": "closest",
          "mapbox": {
           "style": "light"
          },
          "paper_bgcolor": "white",
          "plot_bgcolor": "#E5ECF6",
          "polar": {
           "angularaxis": {
            "gridcolor": "white",
            "linecolor": "white",
            "ticks": ""
           },
           "bgcolor": "#E5ECF6",
           "radialaxis": {
            "gridcolor": "white",
            "linecolor": "white",
            "ticks": ""
           }
          },
          "scene": {
           "xaxis": {
            "backgroundcolor": "#E5ECF6",
            "gridcolor": "white",
            "gridwidth": 2,
            "linecolor": "white",
            "showbackground": true,
            "ticks": "",
            "zerolinecolor": "white"
           },
           "yaxis": {
            "backgroundcolor": "#E5ECF6",
            "gridcolor": "white",
            "gridwidth": 2,
            "linecolor": "white",
            "showbackground": true,
            "ticks": "",
            "zerolinecolor": "white"
           },
           "zaxis": {
            "backgroundcolor": "#E5ECF6",
            "gridcolor": "white",
            "gridwidth": 2,
            "linecolor": "white",
            "showbackground": true,
            "ticks": "",
            "zerolinecolor": "white"
           }
          },
          "shapedefaults": {
           "line": {
            "color": "#2a3f5f"
           }
          },
          "ternary": {
           "aaxis": {
            "gridcolor": "white",
            "linecolor": "white",
            "ticks": ""
           },
           "baxis": {
            "gridcolor": "white",
            "linecolor": "white",
            "ticks": ""
           },
           "bgcolor": "#E5ECF6",
           "caxis": {
            "gridcolor": "white",
            "linecolor": "white",
            "ticks": ""
           }
          },
          "title": {
           "x": 0.05
          },
          "xaxis": {
           "automargin": true,
           "gridcolor": "white",
           "linecolor": "white",
           "ticks": "",
           "title": {
            "standoff": 15
           },
           "zerolinecolor": "white",
           "zerolinewidth": 2
          },
          "yaxis": {
           "automargin": true,
           "gridcolor": "white",
           "linecolor": "white",
           "ticks": "",
           "title": {
            "standoff": 15
           },
           "zerolinecolor": "white",
           "zerolinewidth": 2
          }
         }
        },
        "title": {
         "text": "AAPL Price History"
        },
        "xaxis": {
         "anchor": "y",
         "domain": [
          0,
          1
         ],
         "title": {
          "text": "Date"
         }
        },
        "yaxis": {
         "anchor": "x",
         "domain": [
          0,
          1
         ],
         "title": {
          "text": "Close AAPL"
         }
        }
       }
      }
     },
     "metadata": {},
     "output_type": "display_data"
    }
   ],
   "source": [
    "\n",
    "fig = px.line(price_history, x=\"Date\", y=f\"Close {ticker}\", title=f\"{ticker} Price History\")\n",
    "fig.show()"
   ]
  },
  {
   "cell_type": "markdown",
   "id": "a49ad44c",
   "metadata": {},
   "source": [
    "![Alt text](price_history.png)\n"
   ]
  },
  {
   "cell_type": "markdown",
   "id": "0c102456",
   "metadata": {},
   "source": [
    "### Candle Chart"
   ]
  },
  {
   "cell_type": "code",
   "execution_count": 8,
   "id": "59fea59a",
   "metadata": {},
   "outputs": [
    {
     "data": {
      "application/vnd.plotly.v1+json": {
       "config": {
        "plotlyServerURL": "https://plot.ly"
       },
       "data": [
        {
         "close": {
          "bdata": "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",
          "dtype": "f8"
         },
         "high": {
          "bdata": "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",
          "dtype": "f8"
         },
         "low": {
          "bdata": "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",
          "dtype": "f8"
         },
         "open": {
          "bdata": "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",
          "dtype": "f8"
         },
         "type": "candlestick",
         "x": [
          "2025-08-15T00:00:00",
          "2025-08-14T00:00:00",
          "2025-08-13T00:00:00",
          "2025-08-12T00:00:00",
          "2025-08-11T00:00:00",
          "2025-08-08T00:00:00",
          "2025-08-07T00:00:00",
          "2025-08-06T00:00:00",
          "2025-08-05T00:00:00",
          "2025-08-04T00:00:00",
          "2025-08-01T00:00:00",
          "2025-07-31T00:00:00",
          "2025-07-30T00:00:00",
          "2025-07-29T00:00:00",
          "2025-07-28T00:00:00",
          "2025-07-25T00:00:00",
          "2025-07-24T00:00:00",
          "2025-07-23T00:00:00",
          "2025-07-22T00:00:00",
          "2025-07-21T00:00:00",
          "2025-07-18T00:00:00",
          "2025-07-17T00:00:00",
          "2025-07-16T00:00:00",
          "2025-07-15T00:00:00",
          "2025-07-14T00:00:00",
          "2025-07-11T00:00:00",
          "2025-07-10T00:00:00",
          "2025-07-09T00:00:00",
          "2025-07-08T00:00:00",
          "2025-07-07T00:00:00",
          "2025-07-03T00:00:00",
          "2025-07-02T00:00:00",
          "2025-07-01T00:00:00",
          "2025-06-30T00:00:00",
          "2025-06-27T00:00:00",
          "2025-06-26T00:00:00",
          "2025-06-25T00:00:00",
          "2025-06-24T00:00:00",
          "2025-06-23T00:00:00",
          "2025-06-20T00:00:00",
          "2025-06-18T00:00:00",
          "2025-06-17T00:00:00",
          "2025-06-16T00:00:00",
          "2025-06-13T00:00:00",
          "2025-06-12T00:00:00",
          "2025-06-11T00:00:00",
          "2025-06-10T00:00:00",
          "2025-06-09T00:00:00",
          "2025-06-06T00:00:00",
          "2025-06-05T00:00:00",
          "2025-06-04T00:00:00",
          "2025-06-03T00:00:00",
          "2025-06-02T00:00:00",
          "2025-05-30T00:00:00",
          "2025-05-29T00:00:00",
          "2025-05-28T00:00:00",
          "2025-05-27T00:00:00",
          "2025-05-23T00:00:00",
          "2025-05-22T00:00:00",
          "2025-05-21T00:00:00",
          "2025-05-20T00:00:00",
          "2025-05-19T00:00:00",
          "2025-05-16T00:00:00",
          "2025-05-15T00:00:00",
          "2025-05-14T00:00:00",
          "2025-05-13T00:00:00",
          "2025-05-12T00:00:00",
          "2025-05-09T00:00:00",
          "2025-05-08T00:00:00",
          "2025-05-07T00:00:00",
          "2025-05-06T00:00:00",
          "2025-05-05T00:00:00",
          "2025-05-02T00:00:00",
          "2025-05-01T00:00:00",
          "2025-04-30T00:00:00",
          "2025-04-29T00:00:00",
          "2025-04-28T00:00:00",
          "2025-04-25T00:00:00",
          "2025-04-24T00:00:00",
          "2025-04-23T00:00:00",
          "2025-04-22T00:00:00",
          "2025-04-21T00:00:00",
          "2025-04-17T00:00:00",
          "2025-04-16T00:00:00",
          "2025-04-15T00:00:00",
          "2025-04-14T00:00:00",
          "2025-04-11T00:00:00",
          "2025-04-10T00:00:00",
          "2025-04-09T00:00:00",
          "2025-04-08T00:00:00",
          "2025-04-07T00:00:00",
          "2025-04-04T00:00:00",
          "2025-04-03T00:00:00",
          "2025-04-02T00:00:00",
          "2025-04-01T00:00:00",
          "2025-03-31T00:00:00",
          "2025-03-28T00:00:00",
          "2025-03-27T00:00:00",
          "2025-03-26T00:00:00",
          "2025-03-25T00:00:00",
          "2025-03-24T00:00:00",
          "2025-03-21T00:00:00",
          "2025-03-20T00:00:00",
          "2025-03-19T00:00:00",
          "2025-03-18T00:00:00",
          "2025-03-17T00:00:00",
          "2025-03-14T00:00:00",
          "2025-03-13T00:00:00",
          "2025-03-12T00:00:00",
          "2025-03-11T00:00:00",
          "2025-03-10T00:00:00",
          "2025-03-07T00:00:00",
          "2025-03-06T00:00:00",
          "2025-03-05T00:00:00",
          "2025-03-04T00:00:00",
          "2025-03-03T00:00:00",
          "2025-02-28T00:00:00",
          "2025-02-27T00:00:00",
          "2025-02-26T00:00:00",
          "2025-02-25T00:00:00",
          "2025-02-24T00:00:00",
          "2025-02-21T00:00:00",
          "2025-02-20T00:00:00",
          "2025-02-19T00:00:00",
          "2025-02-18T00:00:00",
          "2025-02-14T00:00:00",
          "2025-02-13T00:00:00",
          "2025-02-12T00:00:00",
          "2025-02-11T00:00:00",
          "2025-02-10T00:00:00",
          "2025-02-07T00:00:00",
          "2025-02-06T00:00:00",
          "2025-02-05T00:00:00",
          "2025-02-04T00:00:00",
          "2025-02-03T00:00:00",
          "2025-01-31T00:00:00",
          "2025-01-30T00:00:00",
          "2025-01-29T00:00:00",
          "2025-01-28T00:00:00",
          "2025-01-27T00:00:00",
          "2025-01-24T00:00:00",
          "2025-01-23T00:00:00",
          "2025-01-22T00:00:00",
          "2025-01-21T00:00:00",
          "2025-01-17T00:00:00",
          "2025-01-16T00:00:00",
          "2025-01-15T00:00:00",
          "2025-01-14T00:00:00",
          "2025-01-13T00:00:00",
          "2025-01-10T00:00:00",
          "2025-01-08T00:00:00",
          "2025-01-07T00:00:00",
          "2025-01-06T00:00:00",
          "2025-01-03T00:00:00",
          "2025-01-02T00:00:00",
          "2024-12-31T00:00:00",
          "2024-12-30T00:00:00",
          "2024-12-27T00:00:00",
          "2024-12-26T00:00:00",
          "2024-12-24T00:00:00",
          "2024-12-23T00:00:00",
          "2024-12-20T00:00:00",
          "2024-12-19T00:00:00",
          "2024-12-18T00:00:00",
          "2024-12-17T00:00:00",
          "2024-12-16T00:00:00",
          "2024-12-13T00:00:00",
          "2024-12-12T00:00:00",
          "2024-12-11T00:00:00",
          "2024-12-10T00:00:00",
          "2024-12-09T00:00:00",
          "2024-12-06T00:00:00",
          "2024-12-05T00:00:00",
          "2024-12-04T00:00:00",
          "2024-12-03T00:00:00",
          "2024-12-02T00:00:00",
          "2024-11-29T00:00:00",
          "2024-11-27T00:00:00",
          "2024-11-26T00:00:00",
          "2024-11-25T00:00:00",
          "2024-11-22T00:00:00",
          "2024-11-21T00:00:00",
          "2024-11-20T00:00:00",
          "2024-11-19T00:00:00",
          "2024-11-18T00:00:00",
          "2024-11-15T00:00:00",
          "2024-11-14T00:00:00",
          "2024-11-13T00:00:00",
          "2024-11-12T00:00:00",
          "2024-11-11T00:00:00",
          "2024-11-08T00:00:00",
          "2024-11-07T00:00:00",
          "2024-11-06T00:00:00",
          "2024-11-05T00:00:00",
          "2024-11-04T00:00:00",
          "2024-11-01T00:00:00",
          "2024-10-31T00:00:00",
          "2024-10-30T00:00:00",
          "2024-10-29T00:00:00",
          "2024-10-28T00:00:00",
          "2024-10-25T00:00:00",
          "2024-10-24T00:00:00",
          "2024-10-23T00:00:00",
          "2024-10-22T00:00:00",
          "2024-10-21T00:00:00",
          "2024-10-18T00:00:00",
          "2024-10-17T00:00:00",
          "2024-10-16T00:00:00",
          "2024-10-15T00:00:00",
          "2024-10-14T00:00:00",
          "2024-10-11T00:00:00",
          "2024-10-10T00:00:00",
          "2024-10-09T00:00:00",
          "2024-10-08T00:00:00",
          "2024-10-07T00:00:00",
          "2024-10-04T00:00:00",
          "2024-10-03T00:00:00",
          "2024-10-02T00:00:00",
          "2024-10-01T00:00:00",
          "2024-09-30T00:00:00",
          "2024-09-27T00:00:00",
          "2024-09-26T00:00:00",
          "2024-09-25T00:00:00",
          "2024-09-24T00:00:00",
          "2024-09-23T00:00:00",
          "2024-09-20T00:00:00",
          "2024-09-19T00:00:00",
          "2024-09-18T00:00:00",
          "2024-09-17T00:00:00",
          "2024-09-16T00:00:00",
          "2024-09-13T00:00:00",
          "2024-09-12T00:00:00",
          "2024-09-11T00:00:00",
          "2024-09-10T00:00:00",
          "2024-09-09T00:00:00",
          "2024-09-06T00:00:00",
          "2024-09-05T00:00:00",
          "2024-09-04T00:00:00",
          "2024-09-03T00:00:00",
          "2024-08-30T00:00:00",
          "2024-08-29T00:00:00",
          "2024-08-28T00:00:00",
          "2024-08-27T00:00:00",
          "2024-08-26T00:00:00",
          "2024-08-23T00:00:00",
          "2024-08-22T00:00:00",
          "2024-08-21T00:00:00",
          "2024-08-20T00:00:00",
          "2024-08-19T00:00:00",
          "2024-08-16T00:00:00",
          "2024-08-15T00:00:00",
          "2024-08-14T00:00:00",
          "2024-08-13T00:00:00",
          "2024-08-12T00:00:00",
          "2024-08-09T00:00:00",
          "2024-08-08T00:00:00",
          "2024-08-07T00:00:00",
          "2024-08-06T00:00:00",
          "2024-08-05T00:00:00",
          "2024-08-02T00:00:00",
          "2024-08-01T00:00:00",
          "2024-07-31T00:00:00",
          "2024-07-30T00:00:00",
          "2024-07-29T00:00:00",
          "2024-07-26T00:00:00",
          "2024-07-25T00:00:00",
          "2024-07-24T00:00:00",
          "2024-07-23T00:00:00",
          "2024-07-22T00:00:00",
          "2024-07-19T00:00:00",
          "2024-07-18T00:00:00",
          "2024-07-17T00:00:00",
          "2024-07-16T00:00:00",
          "2024-07-15T00:00:00",
          "2024-07-12T00:00:00",
          "2024-07-11T00:00:00",
          "2024-07-10T00:00:00",
          "2024-07-09T00:00:00",
          "2024-07-08T00:00:00",
          "2024-07-05T00:00:00",
          "2024-07-03T00:00:00",
          "2024-07-02T00:00:00",
          "2024-07-01T00:00:00",
          "2024-06-28T00:00:00",
          "2024-06-27T00:00:00",
          "2024-06-26T00:00:00",
          "2024-06-25T00:00:00",
          "2024-06-24T00:00:00",
          "2024-06-21T00:00:00",
          "2024-06-20T00:00:00",
          "2024-06-18T00:00:00",
          "2024-06-17T00:00:00",
          "2024-06-14T00:00:00",
          "2024-06-13T00:00:00",
          "2024-06-12T00:00:00",
          "2024-06-11T00:00:00",
          "2024-06-10T00:00:00",
          "2024-06-07T00:00:00",
          "2024-06-06T00:00:00",
          "2024-06-05T00:00:00",
          "2024-06-04T00:00:00",
          "2024-06-03T00:00:00",
          "2024-05-31T00:00:00",
          "2024-05-30T00:00:00",
          "2024-05-29T00:00:00",
          "2024-05-28T00:00:00",
          "2024-05-24T00:00:00",
          "2024-05-23T00:00:00",
          "2024-05-22T00:00:00",
          "2024-05-21T00:00:00",
          "2024-05-20T00:00:00",
          "2024-05-17T00:00:00",
          "2024-05-16T00:00:00",
          "2024-05-15T00:00:00",
          "2024-05-14T00:00:00",
          "2024-05-13T00:00:00",
          "2024-05-10T00:00:00",
          "2024-05-09T00:00:00",
          "2024-05-08T00:00:00",
          "2024-05-07T00:00:00",
          "2024-05-06T00:00:00",
          "2024-05-03T00:00:00",
          "2024-05-02T00:00:00",
          "2024-05-01T00:00:00",
          "2024-04-30T00:00:00",
          "2024-04-29T00:00:00",
          "2024-04-26T00:00:00",
          "2024-04-25T00:00:00",
          "2024-04-24T00:00:00",
          "2024-04-23T00:00:00",
          "2024-04-22T00:00:00",
          "2024-04-19T00:00:00",
          "2024-04-18T00:00:00",
          "2024-04-17T00:00:00",
          "2024-04-16T00:00:00",
          "2024-04-15T00:00:00",
          "2024-04-12T00:00:00",
          "2024-04-11T00:00:00",
          "2024-04-10T00:00:00",
          "2024-04-09T00:00:00",
          "2024-04-08T00:00:00",
          "2024-04-05T00:00:00",
          "2024-04-04T00:00:00",
          "2024-04-03T00:00:00",
          "2024-04-02T00:00:00",
          "2024-04-01T00:00:00",
          "2024-03-28T00:00:00",
          "2024-03-27T00:00:00",
          "2024-03-26T00:00:00",
          "2024-03-25T00:00:00",
          "2024-03-22T00:00:00",
          "2024-03-21T00:00:00",
          "2024-03-20T00:00:00",
          "2024-03-19T00:00:00",
          "2024-03-18T00:00:00",
          "2024-03-15T00:00:00",
          "2024-03-14T00:00:00",
          "2024-03-13T00:00:00",
          "2024-03-12T00:00:00",
          "2024-03-11T00:00:00",
          "2024-03-08T00:00:00",
          "2024-03-07T00:00:00",
          "2024-03-06T00:00:00",
          "2024-03-05T00:00:00",
          "2024-03-04T00:00:00",
          "2024-03-01T00:00:00",
          "2024-02-29T00:00:00",
          "2024-02-28T00:00:00",
          "2024-02-27T00:00:00",
          "2024-02-26T00:00:00",
          "2024-02-23T00:00:00",
          "2024-02-22T00:00:00",
          "2024-02-21T00:00:00",
          "2024-02-20T00:00:00",
          "2024-02-16T00:00:00",
          "2024-02-15T00:00:00",
          "2024-02-14T00:00:00",
          "2024-02-13T00:00:00",
          "2024-02-12T00:00:00",
          "2024-02-09T00:00:00",
          "2024-02-08T00:00:00",
          "2024-02-07T00:00:00",
          "2024-02-06T00:00:00",
          "2024-02-05T00:00:00",
          "2024-02-02T00:00:00",
          "2024-02-01T00:00:00",
          "2024-01-31T00:00:00",
          "2024-01-30T00:00:00",
          "2024-01-29T00:00:00",
          "2024-01-26T00:00:00",
          "2024-01-25T00:00:00",
          "2024-01-24T00:00:00",
          "2024-01-23T00:00:00",
          "2024-01-22T00:00:00",
          "2024-01-19T00:00:00",
          "2024-01-18T00:00:00",
          "2024-01-17T00:00:00",
          "2024-01-16T00:00:00",
          "2024-01-12T00:00:00",
          "2024-01-11T00:00:00",
          "2024-01-10T00:00:00",
          "2024-01-09T00:00:00",
          "2024-01-08T00:00:00",
          "2024-01-05T00:00:00",
          "2024-01-04T00:00:00",
          "2024-01-03T00:00:00",
          "2024-01-02T00:00:00",
          "2023-12-29T00:00:00",
          "2023-12-28T00:00:00",
          "2023-12-27T00:00:00",
          "2023-12-26T00:00:00",
          "2023-12-22T00:00:00",
          "2023-12-21T00:00:00",
          "2023-12-20T00:00:00",
          "2023-12-19T00:00:00",
          "2023-12-18T00:00:00",
          "2023-12-15T00:00:00",
          "2023-12-14T00:00:00",
          "2023-12-13T00:00:00",
          "2023-12-12T00:00:00",
          "2023-12-11T00:00:00",
          "2023-12-08T00:00:00",
          "2023-12-07T00:00:00",
          "2023-12-06T00:00:00",
          "2023-12-05T00:00:00",
          "2023-12-04T00:00:00",
          "2023-12-01T00:00:00",
          "2023-11-30T00:00:00",
          "2023-11-29T00:00:00",
          "2023-11-28T00:00:00",
          "2023-11-27T00:00:00",
          "2023-11-24T00:00:00",
          "2023-11-22T00:00:00",
          "2023-11-21T00:00:00",
          "2023-11-20T00:00:00",
          "2023-11-17T00:00:00",
          "2023-11-16T00:00:00",
          "2023-11-15T00:00:00",
          "2023-11-14T00:00:00",
          "2023-11-13T00:00:00",
          "2023-11-10T00:00:00",
          "2023-11-09T00:00:00",
          "2023-11-08T00:00:00",
          "2023-11-07T00:00:00",
          "2023-11-06T00:00:00",
          "2023-11-03T00:00:00",
          "2023-11-02T00:00:00",
          "2023-11-01T00:00:00",
          "2023-10-31T00:00:00",
          "2023-10-30T00:00:00",
          "2023-10-27T00:00:00",
          "2023-10-26T00:00:00",
          "2023-10-25T00:00:00",
          "2023-10-24T00:00:00",
          "2023-10-23T00:00:00",
          "2023-10-20T00:00:00",
          "2023-10-19T00:00:00",
          "2023-10-18T00:00:00",
          "2023-10-17T00:00:00",
          "2023-10-16T00:00:00",
          "2023-10-13T00:00:00",
          "2023-10-12T00:00:00",
          "2023-10-11T00:00:00",
          "2023-10-10T00:00:00",
          "2023-10-09T00:00:00",
          "2023-10-06T00:00:00",
          "2023-10-05T00:00:00",
          "2023-10-04T00:00:00",
          "2023-10-03T00:00:00",
          "2023-10-02T00:00:00",
          "2023-09-29T00:00:00",
          "2023-09-28T00:00:00",
          "2023-09-27T00:00:00",
          "2023-09-26T00:00:00",
          "2023-09-25T00:00:00",
          "2023-09-22T00:00:00",
          "2023-09-21T00:00:00",
          "2023-09-20T00:00:00",
          "2023-09-19T00:00:00",
          "2023-09-18T00:00:00",
          "2023-09-15T00:00:00",
          "2023-09-14T00:00:00",
          "2023-09-13T00:00:00",
          "2023-09-12T00:00:00",
          "2023-09-11T00:00:00",
          "2023-09-08T00:00:00",
          "2023-09-07T00:00:00",
          "2023-09-06T00:00:00",
          "2023-09-05T00:00:00",
          "2023-09-01T00:00:00",
          "2023-08-31T00:00:00",
          "2023-08-30T00:00:00",
          "2023-08-29T00:00:00",
          "2023-08-28T00:00:00",
          "2023-08-25T00:00:00",
          "2023-08-24T00:00:00",
          "2023-08-23T00:00:00",
          "2023-08-22T00:00:00",
          "2023-08-21T00:00:00",
          "2023-08-18T00:00:00",
          "2023-08-17T00:00:00",
          "2023-08-16T00:00:00"
         ]
        }
       ],
       "layout": {
        "template": {
         "data": {
          "bar": [
           {
            "error_x": {
             "color": "#2a3f5f"
            },
            "error_y": {
             "color": "#2a3f5f"
            },
            "marker": {
             "line": {
              "color": "#E5ECF6",
              "width": 0.5
             },
             "pattern": {
              "fillmode": "overlay",
              "size": 10,
              "solidity": 0.2
             }
            },
            "type": "bar"
           }
          ],
          "barpolar": [
           {
            "marker": {
             "line": {
              "color": "#E5ECF6",
              "width": 0.5
             },
             "pattern": {
              "fillmode": "overlay",
              "size": 10,
              "solidity": 0.2
             }
            },
            "type": "barpolar"
           }
          ],
          "carpet": [
           {
            "aaxis": {
             "endlinecolor": "#2a3f5f",
             "gridcolor": "white",
             "linecolor": "white",
             "minorgridcolor": "white",
             "startlinecolor": "#2a3f5f"
            },
            "baxis": {
             "endlinecolor": "#2a3f5f",
             "gridcolor": "white",
             "linecolor": "white",
             "minorgridcolor": "white",
             "startlinecolor": "#2a3f5f"
            },
            "type": "carpet"
           }
          ],
          "choropleth": [
           {
            "colorbar": {
             "outlinewidth": 0,
             "ticks": ""
            },
            "type": "choropleth"
           }
          ],
          "contour": [
           {
            "colorbar": {
             "outlinewidth": 0,
             "ticks": ""
            },
            "colorscale": [
             [
              0,
              "#0d0887"
             ],
             [
              0.1111111111111111,
              "#46039f"
             ],
             [
              0.2222222222222222,
              "#7201a8"
             ],
             [
              0.3333333333333333,
              "#9c179e"
             ],
             [
              0.4444444444444444,
              "#bd3786"
             ],
             [
              0.5555555555555556,
              "#d8576b"
             ],
             [
              0.6666666666666666,
              "#ed7953"
             ],
             [
              0.7777777777777778,
              "#fb9f3a"
             ],
             [
              0.8888888888888888,
              "#fdca26"
             ],
             [
              1,
              "#f0f921"
             ]
            ],
            "type": "contour"
           }
          ],
          "contourcarpet": [
           {
            "colorbar": {
             "outlinewidth": 0,
             "ticks": ""
            },
            "type": "contourcarpet"
           }
          ],
          "heatmap": [
           {
            "colorbar": {
             "outlinewidth": 0,
             "ticks": ""
            },
            "colorscale": [
             [
              0,
              "#0d0887"
             ],
             [
              0.1111111111111111,
              "#46039f"
             ],
             [
              0.2222222222222222,
              "#7201a8"
             ],
             [
              0.3333333333333333,
              "#9c179e"
             ],
             [
              0.4444444444444444,
              "#bd3786"
             ],
             [
              0.5555555555555556,
              "#d8576b"
             ],
             [
              0.6666666666666666,
              "#ed7953"
             ],
             [
              0.7777777777777778,
              "#fb9f3a"
             ],
             [
              0.8888888888888888,
              "#fdca26"
             ],
             [
              1,
              "#f0f921"
             ]
            ],
            "type": "heatmap"
           }
          ],
          "histogram": [
           {
            "marker": {
             "pattern": {
              "fillmode": "overlay",
              "size": 10,
              "solidity": 0.2
             }
            },
            "type": "histogram"
           }
          ],
          "histogram2d": [
           {
            "colorbar": {
             "outlinewidth": 0,
             "ticks": ""
            },
            "colorscale": [
             [
              0,
              "#0d0887"
             ],
             [
              0.1111111111111111,
              "#46039f"
             ],
             [
              0.2222222222222222,
              "#7201a8"
             ],
             [
              0.3333333333333333,
              "#9c179e"
             ],
             [
              0.4444444444444444,
              "#bd3786"
             ],
             [
              0.5555555555555556,
              "#d8576b"
             ],
             [
              0.6666666666666666,
              "#ed7953"
             ],
             [
              0.7777777777777778,
              "#fb9f3a"
             ],
             [
              0.8888888888888888,
              "#fdca26"
             ],
             [
              1,
              "#f0f921"
             ]
            ],
            "type": "histogram2d"
           }
          ],
          "histogram2dcontour": [
           {
            "colorbar": {
             "outlinewidth": 0,
             "ticks": ""
            },
            "colorscale": [
             [
              0,
              "#0d0887"
             ],
             [
              0.1111111111111111,
              "#46039f"
             ],
             [
              0.2222222222222222,
              "#7201a8"
             ],
             [
              0.3333333333333333,
              "#9c179e"
             ],
             [
              0.4444444444444444,
              "#bd3786"
             ],
             [
              0.5555555555555556,
              "#d8576b"
             ],
             [
              0.6666666666666666,
              "#ed7953"
             ],
             [
              0.7777777777777778,
              "#fb9f3a"
             ],
             [
              0.8888888888888888,
              "#fdca26"
             ],
             [
              1,
              "#f0f921"
             ]
            ],
            "type": "histogram2dcontour"
           }
          ],
          "mesh3d": [
           {
            "colorbar": {
             "outlinewidth": 0,
             "ticks": ""
            },
            "type": "mesh3d"
           }
          ],
          "parcoords": [
           {
            "line": {
             "colorbar": {
              "outlinewidth": 0,
              "ticks": ""
             }
            },
            "type": "parcoords"
           }
          ],
          "pie": [
           {
            "automargin": true,
            "type": "pie"
           }
          ],
          "scatter": [
           {
            "fillpattern": {
             "fillmode": "overlay",
             "size": 10,
             "solidity": 0.2
            },
            "type": "scatter"
           }
          ],
          "scatter3d": [
           {
            "line": {
             "colorbar": {
              "outlinewidth": 0,
              "ticks": ""
             }
            },
            "marker": {
             "colorbar": {
              "outlinewidth": 0,
              "ticks": ""
             }
            },
            "type": "scatter3d"
           }
          ],
          "scattercarpet": [
           {
            "marker": {
             "colorbar": {
              "outlinewidth": 0,
              "ticks": ""
             }
            },
            "type": "scattercarpet"
           }
          ],
          "scattergeo": [
           {
            "marker": {
             "colorbar": {
              "outlinewidth": 0,
              "ticks": ""
             }
            },
            "type": "scattergeo"
           }
          ],
          "scattergl": [
           {
            "marker": {
             "colorbar": {
              "outlinewidth": 0,
              "ticks": ""
             }
            },
            "type": "scattergl"
           }
          ],
          "scattermap": [
           {
            "marker": {
             "colorbar": {
              "outlinewidth": 0,
              "ticks": ""
             }
            },
            "type": "scattermap"
           }
          ],
          "scattermapbox": [
           {
            "marker": {
             "colorbar": {
              "outlinewidth": 0,
              "ticks": ""
             }
            },
            "type": "scattermapbox"
           }
          ],
          "scatterpolar": [
           {
            "marker": {
             "colorbar": {
              "outlinewidth": 0,
              "ticks": ""
             }
            },
            "type": "scatterpolar"
           }
          ],
          "scatterpolargl": [
           {
            "marker": {
             "colorbar": {
              "outlinewidth": 0,
              "ticks": ""
             }
            },
            "type": "scatterpolargl"
           }
          ],
          "scatterternary": [
           {
            "marker": {
             "colorbar": {
              "outlinewidth": 0,
              "ticks": ""
             }
            },
            "type": "scatterternary"
           }
          ],
          "surface": [
           {
            "colorbar": {
             "outlinewidth": 0,
             "ticks": ""
            },
            "colorscale": [
             [
              0,
              "#0d0887"
             ],
             [
              0.1111111111111111,
              "#46039f"
             ],
             [
              0.2222222222222222,
              "#7201a8"
             ],
             [
              0.3333333333333333,
              "#9c179e"
             ],
             [
              0.4444444444444444,
              "#bd3786"
             ],
             [
              0.5555555555555556,
              "#d8576b"
             ],
             [
              0.6666666666666666,
              "#ed7953"
             ],
             [
              0.7777777777777778,
              "#fb9f3a"
             ],
             [
              0.8888888888888888,
              "#fdca26"
             ],
             [
              1,
              "#f0f921"
             ]
            ],
            "type": "surface"
           }
          ],
          "table": [
           {
            "cells": {
             "fill": {
              "color": "#EBF0F8"
             },
             "line": {
              "color": "white"
             }
            },
            "header": {
             "fill": {
              "color": "#C8D4E3"
             },
             "line": {
              "color": "white"
             }
            },
            "type": "table"
           }
          ]
         },
         "layout": {
          "annotationdefaults": {
           "arrowcolor": "#2a3f5f",
           "arrowhead": 0,
           "arrowwidth": 1
          },
          "autotypenumbers": "strict",
          "coloraxis": {
           "colorbar": {
            "outlinewidth": 0,
            "ticks": ""
           }
          },
          "colorscale": {
           "diverging": [
            [
             0,
             "#8e0152"
            ],
            [
             0.1,
             "#c51b7d"
            ],
            [
             0.2,
             "#de77ae"
            ],
            [
             0.3,
             "#f1b6da"
            ],
            [
             0.4,
             "#fde0ef"
            ],
            [
             0.5,
             "#f7f7f7"
            ],
            [
             0.6,
             "#e6f5d0"
            ],
            [
             0.7,
             "#b8e186"
            ],
            [
             0.8,
             "#7fbc41"
            ],
            [
             0.9,
             "#4d9221"
            ],
            [
             1,
             "#276419"
            ]
           ],
           "sequential": [
            [
             0,
             "#0d0887"
            ],
            [
             0.1111111111111111,
             "#46039f"
            ],
            [
             0.2222222222222222,
             "#7201a8"
            ],
            [
             0.3333333333333333,
             "#9c179e"
            ],
            [
             0.4444444444444444,
             "#bd3786"
            ],
            [
             0.5555555555555556,
             "#d8576b"
            ],
            [
             0.6666666666666666,
             "#ed7953"
            ],
            [
             0.7777777777777778,
             "#fb9f3a"
            ],
            [
             0.8888888888888888,
             "#fdca26"
            ],
            [
             1,
             "#f0f921"
            ]
           ],
           "sequentialminus": [
            [
             0,
             "#0d0887"
            ],
            [
             0.1111111111111111,
             "#46039f"
            ],
            [
             0.2222222222222222,
             "#7201a8"
            ],
            [
             0.3333333333333333,
             "#9c179e"
            ],
            [
             0.4444444444444444,
             "#bd3786"
            ],
            [
             0.5555555555555556,
             "#d8576b"
            ],
            [
             0.6666666666666666,
             "#ed7953"
            ],
            [
             0.7777777777777778,
             "#fb9f3a"
            ],
            [
             0.8888888888888888,
             "#fdca26"
            ],
            [
             1,
             "#f0f921"
            ]
           ]
          },
          "colorway": [
           "#636efa",
           "#EF553B",
           "#00cc96",
           "#ab63fa",
           "#FFA15A",
           "#19d3f3",
           "#FF6692",
           "#B6E880",
           "#FF97FF",
           "#FECB52"
          ],
          "font": {
           "color": "#2a3f5f"
          },
          "geo": {
           "bgcolor": "white",
           "lakecolor": "white",
           "landcolor": "#E5ECF6",
           "showlakes": true,
           "showland": true,
           "subunitcolor": "white"
          },
          "hoverlabel": {
           "align": "left"
          },
          "hovermode": "closest",
          "mapbox": {
           "style": "light"
          },
          "paper_bgcolor": "white",
          "plot_bgcolor": "#E5ECF6",
          "polar": {
           "angularaxis": {
            "gridcolor": "white",
            "linecolor": "white",
            "ticks": ""
           },
           "bgcolor": "#E5ECF6",
           "radialaxis": {
            "gridcolor": "white",
            "linecolor": "white",
            "ticks": ""
           }
          },
          "scene": {
           "xaxis": {
            "backgroundcolor": "#E5ECF6",
            "gridcolor": "white",
            "gridwidth": 2,
            "linecolor": "white",
            "showbackground": true,
            "ticks": "",
            "zerolinecolor": "white"
           },
           "yaxis": {
            "backgroundcolor": "#E5ECF6",
            "gridcolor": "white",
            "gridwidth": 2,
            "linecolor": "white",
            "showbackground": true,
            "ticks": "",
            "zerolinecolor": "white"
           },
           "zaxis": {
            "backgroundcolor": "#E5ECF6",
            "gridcolor": "white",
            "gridwidth": 2,
            "linecolor": "white",
            "showbackground": true,
            "ticks": "",
            "zerolinecolor": "white"
           }
          },
          "shapedefaults": {
           "line": {
            "color": "#2a3f5f"
           }
          },
          "ternary": {
           "aaxis": {
            "gridcolor": "white",
            "linecolor": "white",
            "ticks": ""
           },
           "baxis": {
            "gridcolor": "white",
            "linecolor": "white",
            "ticks": ""
           },
           "bgcolor": "#E5ECF6",
           "caxis": {
            "gridcolor": "white",
            "linecolor": "white",
            "ticks": ""
           }
          },
          "title": {
           "x": 0.05
          },
          "xaxis": {
           "automargin": true,
           "gridcolor": "white",
           "linecolor": "white",
           "ticks": "",
           "title": {
            "standoff": 15
           },
           "zerolinecolor": "white",
           "zerolinewidth": 2
          },
          "yaxis": {
           "automargin": true,
           "gridcolor": "white",
           "linecolor": "white",
           "ticks": "",
           "title": {
            "standoff": 15
           },
           "zerolinecolor": "white",
           "zerolinewidth": 2
          }
         }
        },
        "title": {
         "text": "AAPL Stock Price History (Candlestick Chart)"
        },
        "xaxis": {
         "rangeslider": {
          "visible": true
         },
         "title": {
          "text": "Date"
         }
        },
        "yaxis": {
         "title": {
          "text": "Price (USD)"
         }
        }
       }
      }
     },
     "metadata": {},
     "output_type": "display_data"
    }
   ],
   "source": [
    "ma.plot_candlestick_chart(price_history, ticker, \"USD\")"
   ]
  },
  {
   "cell_type": "markdown",
   "id": "7344641d",
   "metadata": {},
   "source": [
    "![Alt text](candlestick_chart.png)"
   ]
  },
  {
   "cell_type": "markdown",
   "id": "54f54b2c",
   "metadata": {},
   "source": [
    "### SMA Chart"
   ]
  },
  {
   "cell_type": "code",
   "execution_count": 10,
   "id": "1a20faf6",
   "metadata": {},
   "outputs": [
    {
     "data": {
      "application/vnd.plotly.v1+json": {
       "config": {
        "plotlyServerURL": "https://plot.ly"
       },
       "data": [
        {
         "mode": "lines",
         "name": "Close AAPL",
         "type": "scatter",
         "x": [
          "2023-08-16T00:00:00",
          "2023-08-17T00:00:00",
          "2023-08-18T00:00:00",
          "2023-08-21T00:00:00",
          "2023-08-22T00:00:00",
          "2023-08-23T00:00:00",
          "2023-08-24T00:00:00",
          "2023-08-25T00:00:00",
          "2023-08-28T00:00:00",
          "2023-08-29T00:00:00",
          "2023-08-30T00:00:00",
          "2023-08-31T00:00:00",
          "2023-09-01T00:00:00",
          "2023-09-05T00:00:00",
          "2023-09-06T00:00:00",
          "2023-09-07T00:00:00",
          "2023-09-08T00:00:00",
          "2023-09-11T00:00:00",
          "2023-09-12T00:00:00",
          "2023-09-13T00:00:00",
          "2023-09-14T00:00:00",
          "2023-09-15T00:00:00",
          "2023-09-18T00:00:00",
          "2023-09-19T00:00:00",
          "2023-09-20T00:00:00",
          "2023-09-21T00:00:00",
          "2023-09-22T00:00:00",
          "2023-09-25T00:00:00",
          "2023-09-26T00:00:00",
          "2023-09-27T00:00:00",
          "2023-09-28T00:00:00",
          "2023-09-29T00:00:00",
          "2023-10-02T00:00:00",
          "2023-10-03T00:00:00",
          "2023-10-04T00:00:00",
          "2023-10-05T00:00:00",
          "2023-10-06T00:00:00",
          "2023-10-09T00:00:00",
          "2023-10-10T00:00:00",
          "2023-10-11T00:00:00",
          "2023-10-12T00:00:00",
          "2023-10-13T00:00:00",
          "2023-10-16T00:00:00",
          "2023-10-17T00:00:00",
          "2023-10-18T00:00:00",
          "2023-10-19T00:00:00",
          "2023-10-20T00:00:00",
          "2023-10-23T00:00:00",
          "2023-10-24T00:00:00",
          "2023-10-25T00:00:00",
          "2023-10-26T00:00:00",
          "2023-10-27T00:00:00",
          "2023-10-30T00:00:00",
          "2023-10-31T00:00:00",
          "2023-11-01T00:00:00",
          "2023-11-02T00:00:00",
          "2023-11-03T00:00:00",
          "2023-11-06T00:00:00",
          "2023-11-07T00:00:00",
          "2023-11-08T00:00:00",
          "2023-11-09T00:00:00",
          "2023-11-10T00:00:00",
          "2023-11-13T00:00:00",
          "2023-11-14T00:00:00",
          "2023-11-15T00:00:00",
          "2023-11-16T00:00:00",
          "2023-11-17T00:00:00",
          "2023-11-20T00:00:00",
          "2023-11-21T00:00:00",
          "2023-11-22T00:00:00",
          "2023-11-24T00:00:00",
          "2023-11-27T00:00:00",
          "2023-11-28T00:00:00",
          "2023-11-29T00:00:00",
          "2023-11-30T00:00:00",
          "2023-12-01T00:00:00",
          "2023-12-04T00:00:00",
          "2023-12-05T00:00:00",
          "2023-12-06T00:00:00",
          "2023-12-07T00:00:00",
          "2023-12-08T00:00:00",
          "2023-12-11T00:00:00",
          "2023-12-12T00:00:00",
          "2023-12-13T00:00:00",
          "2023-12-14T00:00:00",
          "2023-12-15T00:00:00",
          "2023-12-18T00:00:00",
          "2023-12-19T00:00:00",
          "2023-12-20T00:00:00",
          "2023-12-21T00:00:00",
          "2023-12-22T00:00:00",
          "2023-12-26T00:00:00",
          "2023-12-27T00:00:00",
          "2023-12-28T00:00:00",
          "2023-12-29T00:00:00",
          "2024-01-02T00:00:00",
          "2024-01-03T00:00:00",
          "2024-01-04T00:00:00",
          "2024-01-05T00:00:00",
          "2024-01-08T00:00:00",
          "2024-01-09T00:00:00",
          "2024-01-10T00:00:00",
          "2024-01-11T00:00:00",
          "2024-01-12T00:00:00",
          "2024-01-16T00:00:00",
          "2024-01-17T00:00:00",
          "2024-01-18T00:00:00",
          "2024-01-19T00:00:00",
          "2024-01-22T00:00:00",
          "2024-01-23T00:00:00",
          "2024-01-24T00:00:00",
          "2024-01-25T00:00:00",
          "2024-01-26T00:00:00",
          "2024-01-29T00:00:00",
          "2024-01-30T00:00:00",
          "2024-01-31T00:00:00",
          "2024-02-01T00:00:00",
          "2024-02-02T00:00:00",
          "2024-02-05T00:00:00",
          "2024-02-06T00:00:00",
          "2024-02-07T00:00:00",
          "2024-02-08T00:00:00",
          "2024-02-09T00:00:00",
          "2024-02-12T00:00:00",
          "2024-02-13T00:00:00",
          "2024-02-14T00:00:00",
          "2024-02-15T00:00:00",
          "2024-02-16T00:00:00",
          "2024-02-20T00:00:00",
          "2024-02-21T00:00:00",
          "2024-02-22T00:00:00",
          "2024-02-23T00:00:00",
          "2024-02-26T00:00:00",
          "2024-02-27T00:00:00",
          "2024-02-28T00:00:00",
          "2024-02-29T00:00:00",
          "2024-03-01T00:00:00",
          "2024-03-04T00:00:00",
          "2024-03-05T00:00:00",
          "2024-03-06T00:00:00",
          "2024-03-07T00:00:00",
          "2024-03-08T00:00:00",
          "2024-03-11T00:00:00",
          "2024-03-12T00:00:00",
          "2024-03-13T00:00:00",
          "2024-03-14T00:00:00",
          "2024-03-15T00:00:00",
          "2024-03-18T00:00:00",
          "2024-03-19T00:00:00",
          "2024-03-20T00:00:00",
          "2024-03-21T00:00:00",
          "2024-03-22T00:00:00",
          "2024-03-25T00:00:00",
          "2024-03-26T00:00:00",
          "2024-03-27T00:00:00",
          "2024-03-28T00:00:00",
          "2024-04-01T00:00:00",
          "2024-04-02T00:00:00",
          "2024-04-03T00:00:00",
          "2024-04-04T00:00:00",
          "2024-04-05T00:00:00",
          "2024-04-08T00:00:00",
          "2024-04-09T00:00:00",
          "2024-04-10T00:00:00",
          "2024-04-11T00:00:00",
          "2024-04-12T00:00:00",
          "2024-04-15T00:00:00",
          "2024-04-16T00:00:00",
          "2024-04-17T00:00:00",
          "2024-04-18T00:00:00",
          "2024-04-19T00:00:00",
          "2024-04-22T00:00:00",
          "2024-04-23T00:00:00",
          "2024-04-24T00:00:00",
          "2024-04-25T00:00:00",
          "2024-04-26T00:00:00",
          "2024-04-29T00:00:00",
          "2024-04-30T00:00:00",
          "2024-05-01T00:00:00",
          "2024-05-02T00:00:00",
          "2024-05-03T00:00:00",
          "2024-05-06T00:00:00",
          "2024-05-07T00:00:00",
          "2024-05-08T00:00:00",
          "2024-05-09T00:00:00",
          "2024-05-10T00:00:00",
          "2024-05-13T00:00:00",
          "2024-05-14T00:00:00",
          "2024-05-15T00:00:00",
          "2024-05-16T00:00:00",
          "2024-05-17T00:00:00",
          "2024-05-20T00:00:00",
          "2024-05-21T00:00:00",
          "2024-05-22T00:00:00",
          "2024-05-23T00:00:00",
          "2024-05-24T00:00:00",
          "2024-05-28T00:00:00",
          "2024-05-29T00:00:00",
          "2024-05-30T00:00:00",
          "2024-05-31T00:00:00",
          "2024-06-03T00:00:00",
          "2024-06-04T00:00:00",
          "2024-06-05T00:00:00",
          "2024-06-06T00:00:00",
          "2024-06-07T00:00:00",
          "2024-06-10T00:00:00",
          "2024-06-11T00:00:00",
          "2024-06-12T00:00:00",
          "2024-06-13T00:00:00",
          "2024-06-14T00:00:00",
          "2024-06-17T00:00:00",
          "2024-06-18T00:00:00",
          "2024-06-20T00:00:00",
          "2024-06-21T00:00:00",
          "2024-06-24T00:00:00",
          "2024-06-25T00:00:00",
          "2024-06-26T00:00:00",
          "2024-06-27T00:00:00",
          "2024-06-28T00:00:00",
          "2024-07-01T00:00:00",
          "2024-07-02T00:00:00",
          "2024-07-03T00:00:00",
          "2024-07-05T00:00:00",
          "2024-07-08T00:00:00",
          "2024-07-09T00:00:00",
          "2024-07-10T00:00:00",
          "2024-07-11T00:00:00",
          "2024-07-12T00:00:00",
          "2024-07-15T00:00:00",
          "2024-07-16T00:00:00",
          "2024-07-17T00:00:00",
          "2024-07-18T00:00:00",
          "2024-07-19T00:00:00",
          "2024-07-22T00:00:00",
          "2024-07-23T00:00:00",
          "2024-07-24T00:00:00",
          "2024-07-25T00:00:00",
          "2024-07-26T00:00:00",
          "2024-07-29T00:00:00",
          "2024-07-30T00:00:00",
          "2024-07-31T00:00:00",
          "2024-08-01T00:00:00",
          "2024-08-02T00:00:00",
          "2024-08-05T00:00:00",
          "2024-08-06T00:00:00",
          "2024-08-07T00:00:00",
          "2024-08-08T00:00:00",
          "2024-08-09T00:00:00",
          "2024-08-12T00:00:00",
          "2024-08-13T00:00:00",
          "2024-08-14T00:00:00",
          "2024-08-15T00:00:00",
          "2024-08-16T00:00:00",
          "2024-08-19T00:00:00",
          "2024-08-20T00:00:00",
          "2024-08-21T00:00:00",
          "2024-08-22T00:00:00",
          "2024-08-23T00:00:00",
          "2024-08-26T00:00:00",
          "2024-08-27T00:00:00",
          "2024-08-28T00:00:00",
          "2024-08-29T00:00:00",
          "2024-08-30T00:00:00",
          "2024-09-03T00:00:00",
          "2024-09-04T00:00:00",
          "2024-09-05T00:00:00",
          "2024-09-06T00:00:00",
          "2024-09-09T00:00:00",
          "2024-09-10T00:00:00",
          "2024-09-11T00:00:00",
          "2024-09-12T00:00:00",
          "2024-09-13T00:00:00",
          "2024-09-16T00:00:00",
          "2024-09-17T00:00:00",
          "2024-09-18T00:00:00",
          "2024-09-19T00:00:00",
          "2024-09-20T00:00:00",
          "2024-09-23T00:00:00",
          "2024-09-24T00:00:00",
          "2024-09-25T00:00:00",
          "2024-09-26T00:00:00",
          "2024-09-27T00:00:00",
          "2024-09-30T00:00:00",
          "2024-10-01T00:00:00",
          "2024-10-02T00:00:00",
          "2024-10-03T00:00:00",
          "2024-10-04T00:00:00",
          "2024-10-07T00:00:00",
          "2024-10-08T00:00:00",
          "2024-10-09T00:00:00",
          "2024-10-10T00:00:00",
          "2024-10-11T00:00:00",
          "2024-10-14T00:00:00",
          "2024-10-15T00:00:00",
          "2024-10-16T00:00:00",
          "2024-10-17T00:00:00",
          "2024-10-18T00:00:00",
          "2024-10-21T00:00:00",
          "2024-10-22T00:00:00",
          "2024-10-23T00:00:00",
          "2024-10-24T00:00:00",
          "2024-10-25T00:00:00",
          "2024-10-28T00:00:00",
          "2024-10-29T00:00:00",
          "2024-10-30T00:00:00",
          "2024-10-31T00:00:00",
          "2024-11-01T00:00:00",
          "2024-11-04T00:00:00",
          "2024-11-05T00:00:00",
          "2024-11-06T00:00:00",
          "2024-11-07T00:00:00",
          "2024-11-08T00:00:00",
          "2024-11-11T00:00:00",
          "2024-11-12T00:00:00",
          "2024-11-13T00:00:00",
          "2024-11-14T00:00:00",
          "2024-11-15T00:00:00",
          "2024-11-18T00:00:00",
          "2024-11-19T00:00:00",
          "2024-11-20T00:00:00",
          "2024-11-21T00:00:00",
          "2024-11-22T00:00:00",
          "2024-11-25T00:00:00",
          "2024-11-26T00:00:00",
          "2024-11-27T00:00:00",
          "2024-11-29T00:00:00",
          "2024-12-02T00:00:00",
          "2024-12-03T00:00:00",
          "2024-12-04T00:00:00",
          "2024-12-05T00:00:00",
          "2024-12-06T00:00:00",
          "2024-12-09T00:00:00",
          "2024-12-10T00:00:00",
          "2024-12-11T00:00:00",
          "2024-12-12T00:00:00",
          "2024-12-13T00:00:00",
          "2024-12-16T00:00:00",
          "2024-12-17T00:00:00",
          "2024-12-18T00:00:00",
          "2024-12-19T00:00:00",
          "2024-12-20T00:00:00",
          "2024-12-23T00:00:00",
          "2024-12-24T00:00:00",
          "2024-12-26T00:00:00",
          "2024-12-27T00:00:00",
          "2024-12-30T00:00:00",
          "2024-12-31T00:00:00",
          "2025-01-02T00:00:00",
          "2025-01-03T00:00:00",
          "2025-01-06T00:00:00",
          "2025-01-07T00:00:00",
          "2025-01-08T00:00:00",
          "2025-01-10T00:00:00",
          "2025-01-13T00:00:00",
          "2025-01-14T00:00:00",
          "2025-01-15T00:00:00",
          "2025-01-16T00:00:00",
          "2025-01-17T00:00:00",
          "2025-01-21T00:00:00",
          "2025-01-22T00:00:00",
          "2025-01-23T00:00:00",
          "2025-01-24T00:00:00",
          "2025-01-27T00:00:00",
          "2025-01-28T00:00:00",
          "2025-01-29T00:00:00",
          "2025-01-30T00:00:00",
          "2025-01-31T00:00:00",
          "2025-02-03T00:00:00",
          "2025-02-04T00:00:00",
          "2025-02-05T00:00:00",
          "2025-02-06T00:00:00",
          "2025-02-07T00:00:00",
          "2025-02-10T00:00:00",
          "2025-02-11T00:00:00",
          "2025-02-12T00:00:00",
          "2025-02-13T00:00:00",
          "2025-02-14T00:00:00",
          "2025-02-18T00:00:00",
          "2025-02-19T00:00:00",
          "2025-02-20T00:00:00",
          "2025-02-21T00:00:00",
          "2025-02-24T00:00:00",
          "2025-02-25T00:00:00",
          "2025-02-26T00:00:00",
          "2025-02-27T00:00:00",
          "2025-02-28T00:00:00",
          "2025-03-03T00:00:00",
          "2025-03-04T00:00:00",
          "2025-03-05T00:00:00",
          "2025-03-06T00:00:00",
          "2025-03-07T00:00:00",
          "2025-03-10T00:00:00",
          "2025-03-11T00:00:00",
          "2025-03-12T00:00:00",
          "2025-03-13T00:00:00",
          "2025-03-14T00:00:00",
          "2025-03-17T00:00:00",
          "2025-03-18T00:00:00",
          "2025-03-19T00:00:00",
          "2025-03-20T00:00:00",
          "2025-03-21T00:00:00",
          "2025-03-24T00:00:00",
          "2025-03-25T00:00:00",
          "2025-03-26T00:00:00",
          "2025-03-27T00:00:00",
          "2025-03-28T00:00:00",
          "2025-03-31T00:00:00",
          "2025-04-01T00:00:00",
          "2025-04-02T00:00:00",
          "2025-04-03T00:00:00",
          "2025-04-04T00:00:00",
          "2025-04-07T00:00:00",
          "2025-04-08T00:00:00",
          "2025-04-09T00:00:00",
          "2025-04-10T00:00:00",
          "2025-04-11T00:00:00",
          "2025-04-14T00:00:00",
          "2025-04-15T00:00:00",
          "2025-04-16T00:00:00",
          "2025-04-17T00:00:00",
          "2025-04-21T00:00:00",
          "2025-04-22T00:00:00",
          "2025-04-23T00:00:00",
          "2025-04-24T00:00:00",
          "2025-04-25T00:00:00",
          "2025-04-28T00:00:00",
          "2025-04-29T00:00:00",
          "2025-04-30T00:00:00",
          "2025-05-01T00:00:00",
          "2025-05-02T00:00:00",
          "2025-05-05T00:00:00",
          "2025-05-06T00:00:00",
          "2025-05-07T00:00:00",
          "2025-05-08T00:00:00",
          "2025-05-09T00:00:00",
          "2025-05-12T00:00:00",
          "2025-05-13T00:00:00",
          "2025-05-14T00:00:00",
          "2025-05-15T00:00:00",
          "2025-05-16T00:00:00",
          "2025-05-19T00:00:00",
          "2025-05-20T00:00:00",
          "2025-05-21T00:00:00",
          "2025-05-22T00:00:00",
          "2025-05-23T00:00:00",
          "2025-05-27T00:00:00",
          "2025-05-28T00:00:00",
          "2025-05-29T00:00:00",
          "2025-05-30T00:00:00",
          "2025-06-02T00:00:00",
          "2025-06-03T00:00:00",
          "2025-06-04T00:00:00",
          "2025-06-05T00:00:00",
          "2025-06-06T00:00:00",
          "2025-06-09T00:00:00",
          "2025-06-10T00:00:00",
          "2025-06-11T00:00:00",
          "2025-06-12T00:00:00",
          "2025-06-13T00:00:00",
          "2025-06-16T00:00:00",
          "2025-06-17T00:00:00",
          "2025-06-18T00:00:00",
          "2025-06-20T00:00:00",
          "2025-06-23T00:00:00",
          "2025-06-24T00:00:00",
          "2025-06-25T00:00:00",
          "2025-06-26T00:00:00",
          "2025-06-27T00:00:00",
          "2025-06-30T00:00:00",
          "2025-07-01T00:00:00",
          "2025-07-02T00:00:00",
          "2025-07-03T00:00:00",
          "2025-07-07T00:00:00",
          "2025-07-08T00:00:00",
          "2025-07-09T00:00:00",
          "2025-07-10T00:00:00",
          "2025-07-11T00:00:00",
          "2025-07-14T00:00:00",
          "2025-07-15T00:00:00",
          "2025-07-16T00:00:00",
          "2025-07-17T00:00:00",
          "2025-07-18T00:00:00",
          "2025-07-21T00:00:00",
          "2025-07-22T00:00:00",
          "2025-07-23T00:00:00",
          "2025-07-24T00:00:00",
          "2025-07-25T00:00:00",
          "2025-07-28T00:00:00",
          "2025-07-29T00:00:00",
          "2025-07-30T00:00:00",
          "2025-07-31T00:00:00",
          "2025-08-01T00:00:00",
          "2025-08-04T00:00:00",
          "2025-08-05T00:00:00",
          "2025-08-06T00:00:00",
          "2025-08-07T00:00:00",
          "2025-08-08T00:00:00",
          "2025-08-11T00:00:00",
          "2025-08-12T00:00:00",
          "2025-08-13T00:00:00",
          "2025-08-14T00:00:00",
          "2025-08-15T00:00:00"
         ],
         "y": {
          "bdata": "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",
          "dtype": "f8"
         }
        },
        {
         "mode": "lines",
         "name": "20‑day SMA",
         "type": "scatter",
         "x": [
          "2023-08-16T00:00:00",
          "2023-08-17T00:00:00",
          "2023-08-18T00:00:00",
          "2023-08-21T00:00:00",
          "2023-08-22T00:00:00",
          "2023-08-23T00:00:00",
          "2023-08-24T00:00:00",
          "2023-08-25T00:00:00",
          "2023-08-28T00:00:00",
          "2023-08-29T00:00:00",
          "2023-08-30T00:00:00",
          "2023-08-31T00:00:00",
          "2023-09-01T00:00:00",
          "2023-09-05T00:00:00",
          "2023-09-06T00:00:00",
          "2023-09-07T00:00:00",
          "2023-09-08T00:00:00",
          "2023-09-11T00:00:00",
          "2023-09-12T00:00:00",
          "2023-09-13T00:00:00",
          "2023-09-14T00:00:00",
          "2023-09-15T00:00:00",
          "2023-09-18T00:00:00",
          "2023-09-19T00:00:00",
          "2023-09-20T00:00:00",
          "2023-09-21T00:00:00",
          "2023-09-22T00:00:00",
          "2023-09-25T00:00:00",
          "2023-09-26T00:00:00",
          "2023-09-27T00:00:00",
          "2023-09-28T00:00:00",
          "2023-09-29T00:00:00",
          "2023-10-02T00:00:00",
          "2023-10-03T00:00:00",
          "2023-10-04T00:00:00",
          "2023-10-05T00:00:00",
          "2023-10-06T00:00:00",
          "2023-10-09T00:00:00",
          "2023-10-10T00:00:00",
          "2023-10-11T00:00:00",
          "2023-10-12T00:00:00",
          "2023-10-13T00:00:00",
          "2023-10-16T00:00:00",
          "2023-10-17T00:00:00",
          "2023-10-18T00:00:00",
          "2023-10-19T00:00:00",
          "2023-10-20T00:00:00",
          "2023-10-23T00:00:00",
          "2023-10-24T00:00:00",
          "2023-10-25T00:00:00",
          "2023-10-26T00:00:00",
          "2023-10-27T00:00:00",
          "2023-10-30T00:00:00",
          "2023-10-31T00:00:00",
          "2023-11-01T00:00:00",
          "2023-11-02T00:00:00",
          "2023-11-03T00:00:00",
          "2023-11-06T00:00:00",
          "2023-11-07T00:00:00",
          "2023-11-08T00:00:00",
          "2023-11-09T00:00:00",
          "2023-11-10T00:00:00",
          "2023-11-13T00:00:00",
          "2023-11-14T00:00:00",
          "2023-11-15T00:00:00",
          "2023-11-16T00:00:00",
          "2023-11-17T00:00:00",
          "2023-11-20T00:00:00",
          "2023-11-21T00:00:00",
          "2023-11-22T00:00:00",
          "2023-11-24T00:00:00",
          "2023-11-27T00:00:00",
          "2023-11-28T00:00:00",
          "2023-11-29T00:00:00",
          "2023-11-30T00:00:00",
          "2023-12-01T00:00:00",
          "2023-12-04T00:00:00",
          "2023-12-05T00:00:00",
          "2023-12-06T00:00:00",
          "2023-12-07T00:00:00",
          "2023-12-08T00:00:00",
          "2023-12-11T00:00:00",
          "2023-12-12T00:00:00",
          "2023-12-13T00:00:00",
          "2023-12-14T00:00:00",
          "2023-12-15T00:00:00",
          "2023-12-18T00:00:00",
          "2023-12-19T00:00:00",
          "2023-12-20T00:00:00",
          "2023-12-21T00:00:00",
          "2023-12-22T00:00:00",
          "2023-12-26T00:00:00",
          "2023-12-27T00:00:00",
          "2023-12-28T00:00:00",
          "2023-12-29T00:00:00",
          "2024-01-02T00:00:00",
          "2024-01-03T00:00:00",
          "2024-01-04T00:00:00",
          "2024-01-05T00:00:00",
          "2024-01-08T00:00:00",
          "2024-01-09T00:00:00",
          "2024-01-10T00:00:00",
          "2024-01-11T00:00:00",
          "2024-01-12T00:00:00",
          "2024-01-16T00:00:00",
          "2024-01-17T00:00:00",
          "2024-01-18T00:00:00",
          "2024-01-19T00:00:00",
          "2024-01-22T00:00:00",
          "2024-01-23T00:00:00",
          "2024-01-24T00:00:00",
          "2024-01-25T00:00:00",
          "2024-01-26T00:00:00",
          "2024-01-29T00:00:00",
          "2024-01-30T00:00:00",
          "2024-01-31T00:00:00",
          "2024-02-01T00:00:00",
          "2024-02-02T00:00:00",
          "2024-02-05T00:00:00",
          "2024-02-06T00:00:00",
          "2024-02-07T00:00:00",
          "2024-02-08T00:00:00",
          "2024-02-09T00:00:00",
          "2024-02-12T00:00:00",
          "2024-02-13T00:00:00",
          "2024-02-14T00:00:00",
          "2024-02-15T00:00:00",
          "2024-02-16T00:00:00",
          "2024-02-20T00:00:00",
          "2024-02-21T00:00:00",
          "2024-02-22T00:00:00",
          "2024-02-23T00:00:00",
          "2024-02-26T00:00:00",
          "2024-02-27T00:00:00",
          "2024-02-28T00:00:00",
          "2024-02-29T00:00:00",
          "2024-03-01T00:00:00",
          "2024-03-04T00:00:00",
          "2024-03-05T00:00:00",
          "2024-03-06T00:00:00",
          "2024-03-07T00:00:00",
          "2024-03-08T00:00:00",
          "2024-03-11T00:00:00",
          "2024-03-12T00:00:00",
          "2024-03-13T00:00:00",
          "2024-03-14T00:00:00",
          "2024-03-15T00:00:00",
          "2024-03-18T00:00:00",
          "2024-03-19T00:00:00",
          "2024-03-20T00:00:00",
          "2024-03-21T00:00:00",
          "2024-03-22T00:00:00",
          "2024-03-25T00:00:00",
          "2024-03-26T00:00:00",
          "2024-03-27T00:00:00",
          "2024-03-28T00:00:00",
          "2024-04-01T00:00:00",
          "2024-04-02T00:00:00",
          "2024-04-03T00:00:00",
          "2024-04-04T00:00:00",
          "2024-04-05T00:00:00",
          "2024-04-08T00:00:00",
          "2024-04-09T00:00:00",
          "2024-04-10T00:00:00",
          "2024-04-11T00:00:00",
          "2024-04-12T00:00:00",
          "2024-04-15T00:00:00",
          "2024-04-16T00:00:00",
          "2024-04-17T00:00:00",
          "2024-04-18T00:00:00",
          "2024-04-19T00:00:00",
          "2024-04-22T00:00:00",
          "2024-04-23T00:00:00",
          "2024-04-24T00:00:00",
          "2024-04-25T00:00:00",
          "2024-04-26T00:00:00",
          "2024-04-29T00:00:00",
          "2024-04-30T00:00:00",
          "2024-05-01T00:00:00",
          "2024-05-02T00:00:00",
          "2024-05-03T00:00:00",
          "2024-05-06T00:00:00",
          "2024-05-07T00:00:00",
          "2024-05-08T00:00:00",
          "2024-05-09T00:00:00",
          "2024-05-10T00:00:00",
          "2024-05-13T00:00:00",
          "2024-05-14T00:00:00",
          "2024-05-15T00:00:00",
          "2024-05-16T00:00:00",
          "2024-05-17T00:00:00",
          "2024-05-20T00:00:00",
          "2024-05-21T00:00:00",
          "2024-05-22T00:00:00",
          "2024-05-23T00:00:00",
          "2024-05-24T00:00:00",
          "2024-05-28T00:00:00",
          "2024-05-29T00:00:00",
          "2024-05-30T00:00:00",
          "2024-05-31T00:00:00",
          "2024-06-03T00:00:00",
          "2024-06-04T00:00:00",
          "2024-06-05T00:00:00",
          "2024-06-06T00:00:00",
          "2024-06-07T00:00:00",
          "2024-06-10T00:00:00",
          "2024-06-11T00:00:00",
          "2024-06-12T00:00:00",
          "2024-06-13T00:00:00",
          "2024-06-14T00:00:00",
          "2024-06-17T00:00:00",
          "2024-06-18T00:00:00",
          "2024-06-20T00:00:00",
          "2024-06-21T00:00:00",
          "2024-06-24T00:00:00",
          "2024-06-25T00:00:00",
          "2024-06-26T00:00:00",
          "2024-06-27T00:00:00",
          "2024-06-28T00:00:00",
          "2024-07-01T00:00:00",
          "2024-07-02T00:00:00",
          "2024-07-03T00:00:00",
          "2024-07-05T00:00:00",
          "2024-07-08T00:00:00",
          "2024-07-09T00:00:00",
          "2024-07-10T00:00:00",
          "2024-07-11T00:00:00",
          "2024-07-12T00:00:00",
          "2024-07-15T00:00:00",
          "2024-07-16T00:00:00",
          "2024-07-17T00:00:00",
          "2024-07-18T00:00:00",
          "2024-07-19T00:00:00",
          "2024-07-22T00:00:00",
          "2024-07-23T00:00:00",
          "2024-07-24T00:00:00",
          "2024-07-25T00:00:00",
          "2024-07-26T00:00:00",
          "2024-07-29T00:00:00",
          "2024-07-30T00:00:00",
          "2024-07-31T00:00:00",
          "2024-08-01T00:00:00",
          "2024-08-02T00:00:00",
          "2024-08-05T00:00:00",
          "2024-08-06T00:00:00",
          "2024-08-07T00:00:00",
          "2024-08-08T00:00:00",
          "2024-08-09T00:00:00",
          "2024-08-12T00:00:00",
          "2024-08-13T00:00:00",
          "2024-08-14T00:00:00",
          "2024-08-15T00:00:00",
          "2024-08-16T00:00:00",
          "2024-08-19T00:00:00",
          "2024-08-20T00:00:00",
          "2024-08-21T00:00:00",
          "2024-08-22T00:00:00",
          "2024-08-23T00:00:00",
          "2024-08-26T00:00:00",
          "2024-08-27T00:00:00",
          "2024-08-28T00:00:00",
          "2024-08-29T00:00:00",
          "2024-08-30T00:00:00",
          "2024-09-03T00:00:00",
          "2024-09-04T00:00:00",
          "2024-09-05T00:00:00",
          "2024-09-06T00:00:00",
          "2024-09-09T00:00:00",
          "2024-09-10T00:00:00",
          "2024-09-11T00:00:00",
          "2024-09-12T00:00:00",
          "2024-09-13T00:00:00",
          "2024-09-16T00:00:00",
          "2024-09-17T00:00:00",
          "2024-09-18T00:00:00",
          "2024-09-19T00:00:00",
          "2024-09-20T00:00:00",
          "2024-09-23T00:00:00",
          "2024-09-24T00:00:00",
          "2024-09-25T00:00:00",
          "2024-09-26T00:00:00",
          "2024-09-27T00:00:00",
          "2024-09-30T00:00:00",
          "2024-10-01T00:00:00",
          "2024-10-02T00:00:00",
          "2024-10-03T00:00:00",
          "2024-10-04T00:00:00",
          "2024-10-07T00:00:00",
          "2024-10-08T00:00:00",
          "2024-10-09T00:00:00",
          "2024-10-10T00:00:00",
          "2024-10-11T00:00:00",
          "2024-10-14T00:00:00",
          "2024-10-15T00:00:00",
          "2024-10-16T00:00:00",
          "2024-10-17T00:00:00",
          "2024-10-18T00:00:00",
          "2024-10-21T00:00:00",
          "2024-10-22T00:00:00",
          "2024-10-23T00:00:00",
          "2024-10-24T00:00:00",
          "2024-10-25T00:00:00",
          "2024-10-28T00:00:00",
          "2024-10-29T00:00:00",
          "2024-10-30T00:00:00",
          "2024-10-31T00:00:00",
          "2024-11-01T00:00:00",
          "2024-11-04T00:00:00",
          "2024-11-05T00:00:00",
          "2024-11-06T00:00:00",
          "2024-11-07T00:00:00",
          "2024-11-08T00:00:00",
          "2024-11-11T00:00:00",
          "2024-11-12T00:00:00",
          "2024-11-13T00:00:00",
          "2024-11-14T00:00:00",
          "2024-11-15T00:00:00",
          "2024-11-18T00:00:00",
          "2024-11-19T00:00:00",
          "2024-11-20T00:00:00",
          "2024-11-21T00:00:00",
          "2024-11-22T00:00:00",
          "2024-11-25T00:00:00",
          "2024-11-26T00:00:00",
          "2024-11-27T00:00:00",
          "2024-11-29T00:00:00",
          "2024-12-02T00:00:00",
          "2024-12-03T00:00:00",
          "2024-12-04T00:00:00",
          "2024-12-05T00:00:00",
          "2024-12-06T00:00:00",
          "2024-12-09T00:00:00",
          "2024-12-10T00:00:00",
          "2024-12-11T00:00:00",
          "2024-12-12T00:00:00",
          "2024-12-13T00:00:00",
          "2024-12-16T00:00:00",
          "2024-12-17T00:00:00",
          "2024-12-18T00:00:00",
          "2024-12-19T00:00:00",
          "2024-12-20T00:00:00",
          "2024-12-23T00:00:00",
          "2024-12-24T00:00:00",
          "2024-12-26T00:00:00",
          "2024-12-27T00:00:00",
          "2024-12-30T00:00:00",
          "2024-12-31T00:00:00",
          "2025-01-02T00:00:00",
          "2025-01-03T00:00:00",
          "2025-01-06T00:00:00",
          "2025-01-07T00:00:00",
          "2025-01-08T00:00:00",
          "2025-01-10T00:00:00",
          "2025-01-13T00:00:00",
          "2025-01-14T00:00:00",
          "2025-01-15T00:00:00",
          "2025-01-16T00:00:00",
          "2025-01-17T00:00:00",
          "2025-01-21T00:00:00",
          "2025-01-22T00:00:00",
          "2025-01-23T00:00:00",
          "2025-01-24T00:00:00",
          "2025-01-27T00:00:00",
          "2025-01-28T00:00:00",
          "2025-01-29T00:00:00",
          "2025-01-30T00:00:00",
          "2025-01-31T00:00:00",
          "2025-02-03T00:00:00",
          "2025-02-04T00:00:00",
          "2025-02-05T00:00:00",
          "2025-02-06T00:00:00",
          "2025-02-07T00:00:00",
          "2025-02-10T00:00:00",
          "2025-02-11T00:00:00",
          "2025-02-12T00:00:00",
          "2025-02-13T00:00:00",
          "2025-02-14T00:00:00",
          "2025-02-18T00:00:00",
          "2025-02-19T00:00:00",
          "2025-02-20T00:00:00",
          "2025-02-21T00:00:00",
          "2025-02-24T00:00:00",
          "2025-02-25T00:00:00",
          "2025-02-26T00:00:00",
          "2025-02-27T00:00:00",
          "2025-02-28T00:00:00",
          "2025-03-03T00:00:00",
          "2025-03-04T00:00:00",
          "2025-03-05T00:00:00",
          "2025-03-06T00:00:00",
          "2025-03-07T00:00:00",
          "2025-03-10T00:00:00",
          "2025-03-11T00:00:00",
          "2025-03-12T00:00:00",
          "2025-03-13T00:00:00",
          "2025-03-14T00:00:00",
          "2025-03-17T00:00:00",
          "2025-03-18T00:00:00",
          "2025-03-19T00:00:00",
          "2025-03-20T00:00:00",
          "2025-03-21T00:00:00",
          "2025-03-24T00:00:00",
          "2025-03-25T00:00:00",
          "2025-03-26T00:00:00",
          "2025-03-27T00:00:00",
          "2025-03-28T00:00:00",
          "2025-03-31T00:00:00",
          "2025-04-01T00:00:00",
          "2025-04-02T00:00:00",
          "2025-04-03T00:00:00",
          "2025-04-04T00:00:00",
          "2025-04-07T00:00:00",
          "2025-04-08T00:00:00",
          "2025-04-09T00:00:00",
          "2025-04-10T00:00:00",
          "2025-04-11T00:00:00",
          "2025-04-14T00:00:00",
          "2025-04-15T00:00:00",
          "2025-04-16T00:00:00",
          "2025-04-17T00:00:00",
          "2025-04-21T00:00:00",
          "2025-04-22T00:00:00",
          "2025-04-23T00:00:00",
          "2025-04-24T00:00:00",
          "2025-04-25T00:00:00",
          "2025-04-28T00:00:00",
          "2025-04-29T00:00:00",
          "2025-04-30T00:00:00",
          "2025-05-01T00:00:00",
          "2025-05-02T00:00:00",
          "2025-05-05T00:00:00",
          "2025-05-06T00:00:00",
          "2025-05-07T00:00:00",
          "2025-05-08T00:00:00",
          "2025-05-09T00:00:00",
          "2025-05-12T00:00:00",
          "2025-05-13T00:00:00",
          "2025-05-14T00:00:00",
          "2025-05-15T00:00:00",
          "2025-05-16T00:00:00",
          "2025-05-19T00:00:00",
          "2025-05-20T00:00:00",
          "2025-05-21T00:00:00",
          "2025-05-22T00:00:00",
          "2025-05-23T00:00:00",
          "2025-05-27T00:00:00",
          "2025-05-28T00:00:00",
          "2025-05-29T00:00:00",
          "2025-05-30T00:00:00",
          "2025-06-02T00:00:00",
          "2025-06-03T00:00:00",
          "2025-06-04T00:00:00",
          "2025-06-05T00:00:00",
          "2025-06-06T00:00:00",
          "2025-06-09T00:00:00",
          "2025-06-10T00:00:00",
          "2025-06-11T00:00:00",
          "2025-06-12T00:00:00",
          "2025-06-13T00:00:00",
          "2025-06-16T00:00:00",
          "2025-06-17T00:00:00",
          "2025-06-18T00:00:00",
          "2025-06-20T00:00:00",
          "2025-06-23T00:00:00",
          "2025-06-24T00:00:00",
          "2025-06-25T00:00:00",
          "2025-06-26T00:00:00",
          "2025-06-27T00:00:00",
          "2025-06-30T00:00:00",
          "2025-07-01T00:00:00",
          "2025-07-02T00:00:00",
          "2025-07-03T00:00:00",
          "2025-07-07T00:00:00",
          "2025-07-08T00:00:00",
          "2025-07-09T00:00:00",
          "2025-07-10T00:00:00",
          "2025-07-11T00:00:00",
          "2025-07-14T00:00:00",
          "2025-07-15T00:00:00",
          "2025-07-16T00:00:00",
          "2025-07-17T00:00:00",
          "2025-07-18T00:00:00",
          "2025-07-21T00:00:00",
          "2025-07-22T00:00:00",
          "2025-07-23T00:00:00",
          "2025-07-24T00:00:00",
          "2025-07-25T00:00:00",
          "2025-07-28T00:00:00",
          "2025-07-29T00:00:00",
          "2025-07-30T00:00:00",
          "2025-07-31T00:00:00",
          "2025-08-01T00:00:00",
          "2025-08-04T00:00:00",
          "2025-08-05T00:00:00",
          "2025-08-06T00:00:00",
          "2025-08-07T00:00:00",
          "2025-08-08T00:00:00",
          "2025-08-11T00:00:00",
          "2025-08-12T00:00:00",
          "2025-08-13T00:00:00",
          "2025-08-14T00:00:00",
          "2025-08-15T00:00:00"
         ],
         "y": {
          "bdata": "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",
          "dtype": "f8"
         }
        },
        {
         "mode": "lines",
         "name": "50‑day SMA",
         "type": "scatter",
         "x": [
          "2023-08-16T00:00:00",
          "2023-08-17T00:00:00",
          "2023-08-18T00:00:00",
          "2023-08-21T00:00:00",
          "2023-08-22T00:00:00",
          "2023-08-23T00:00:00",
          "2023-08-24T00:00:00",
          "2023-08-25T00:00:00",
          "2023-08-28T00:00:00",
          "2023-08-29T00:00:00",
          "2023-08-30T00:00:00",
          "2023-08-31T00:00:00",
          "2023-09-01T00:00:00",
          "2023-09-05T00:00:00",
          "2023-09-06T00:00:00",
          "2023-09-07T00:00:00",
          "2023-09-08T00:00:00",
          "2023-09-11T00:00:00",
          "2023-09-12T00:00:00",
          "2023-09-13T00:00:00",
          "2023-09-14T00:00:00",
          "2023-09-15T00:00:00",
          "2023-09-18T00:00:00",
          "2023-09-19T00:00:00",
          "2023-09-20T00:00:00",
          "2023-09-21T00:00:00",
          "2023-09-22T00:00:00",
          "2023-09-25T00:00:00",
          "2023-09-26T00:00:00",
          "2023-09-27T00:00:00",
          "2023-09-28T00:00:00",
          "2023-09-29T00:00:00",
          "2023-10-02T00:00:00",
          "2023-10-03T00:00:00",
          "2023-10-04T00:00:00",
          "2023-10-05T00:00:00",
          "2023-10-06T00:00:00",
          "2023-10-09T00:00:00",
          "2023-10-10T00:00:00",
          "2023-10-11T00:00:00",
          "2023-10-12T00:00:00",
          "2023-10-13T00:00:00",
          "2023-10-16T00:00:00",
          "2023-10-17T00:00:00",
          "2023-10-18T00:00:00",
          "2023-10-19T00:00:00",
          "2023-10-20T00:00:00",
          "2023-10-23T00:00:00",
          "2023-10-24T00:00:00",
          "2023-10-25T00:00:00",
          "2023-10-26T00:00:00",
          "2023-10-27T00:00:00",
          "2023-10-30T00:00:00",
          "2023-10-31T00:00:00",
          "2023-11-01T00:00:00",
          "2023-11-02T00:00:00",
          "2023-11-03T00:00:00",
          "2023-11-06T00:00:00",
          "2023-11-07T00:00:00",
          "2023-11-08T00:00:00",
          "2023-11-09T00:00:00",
          "2023-11-10T00:00:00",
          "2023-11-13T00:00:00",
          "2023-11-14T00:00:00",
          "2023-11-15T00:00:00",
          "2023-11-16T00:00:00",
          "2023-11-17T00:00:00",
          "2023-11-20T00:00:00",
          "2023-11-21T00:00:00",
          "2023-11-22T00:00:00",
          "2023-11-24T00:00:00",
          "2023-11-27T00:00:00",
          "2023-11-28T00:00:00",
          "2023-11-29T00:00:00",
          "2023-11-30T00:00:00",
          "2023-12-01T00:00:00",
          "2023-12-04T00:00:00",
          "2023-12-05T00:00:00",
          "2023-12-06T00:00:00",
          "2023-12-07T00:00:00",
          "2023-12-08T00:00:00",
          "2023-12-11T00:00:00",
          "2023-12-12T00:00:00",
          "2023-12-13T00:00:00",
          "2023-12-14T00:00:00",
          "2023-12-15T00:00:00",
          "2023-12-18T00:00:00",
          "2023-12-19T00:00:00",
          "2023-12-20T00:00:00",
          "2023-12-21T00:00:00",
          "2023-12-22T00:00:00",
          "2023-12-26T00:00:00",
          "2023-12-27T00:00:00",
          "2023-12-28T00:00:00",
          "2023-12-29T00:00:00",
          "2024-01-02T00:00:00",
          "2024-01-03T00:00:00",
          "2024-01-04T00:00:00",
          "2024-01-05T00:00:00",
          "2024-01-08T00:00:00",
          "2024-01-09T00:00:00",
          "2024-01-10T00:00:00",
          "2024-01-11T00:00:00",
          "2024-01-12T00:00:00",
          "2024-01-16T00:00:00",
          "2024-01-17T00:00:00",
          "2024-01-18T00:00:00",
          "2024-01-19T00:00:00",
          "2024-01-22T00:00:00",
          "2024-01-23T00:00:00",
          "2024-01-24T00:00:00",
          "2024-01-25T00:00:00",
          "2024-01-26T00:00:00",
          "2024-01-29T00:00:00",
          "2024-01-30T00:00:00",
          "2024-01-31T00:00:00",
          "2024-02-01T00:00:00",
          "2024-02-02T00:00:00",
          "2024-02-05T00:00:00",
          "2024-02-06T00:00:00",
          "2024-02-07T00:00:00",
          "2024-02-08T00:00:00",
          "2024-02-09T00:00:00",
          "2024-02-12T00:00:00",
          "2024-02-13T00:00:00",
          "2024-02-14T00:00:00",
          "2024-02-15T00:00:00",
          "2024-02-16T00:00:00",
          "2024-02-20T00:00:00",
          "2024-02-21T00:00:00",
          "2024-02-22T00:00:00",
          "2024-02-23T00:00:00",
          "2024-02-26T00:00:00",
          "2024-02-27T00:00:00",
          "2024-02-28T00:00:00",
          "2024-02-29T00:00:00",
          "2024-03-01T00:00:00",
          "2024-03-04T00:00:00",
          "2024-03-05T00:00:00",
          "2024-03-06T00:00:00",
          "2024-03-07T00:00:00",
          "2024-03-08T00:00:00",
          "2024-03-11T00:00:00",
          "2024-03-12T00:00:00",
          "2024-03-13T00:00:00",
          "2024-03-14T00:00:00",
          "2024-03-15T00:00:00",
          "2024-03-18T00:00:00",
          "2024-03-19T00:00:00",
          "2024-03-20T00:00:00",
          "2024-03-21T00:00:00",
          "2024-03-22T00:00:00",
          "2024-03-25T00:00:00",
          "2024-03-26T00:00:00",
          "2024-03-27T00:00:00",
          "2024-03-28T00:00:00",
          "2024-04-01T00:00:00",
          "2024-04-02T00:00:00",
          "2024-04-03T00:00:00",
          "2024-04-04T00:00:00",
          "2024-04-05T00:00:00",
          "2024-04-08T00:00:00",
          "2024-04-09T00:00:00",
          "2024-04-10T00:00:00",
          "2024-04-11T00:00:00",
          "2024-04-12T00:00:00",
          "2024-04-15T00:00:00",
          "2024-04-16T00:00:00",
          "2024-04-17T00:00:00",
          "2024-04-18T00:00:00",
          "2024-04-19T00:00:00",
          "2024-04-22T00:00:00",
          "2024-04-23T00:00:00",
          "2024-04-24T00:00:00",
          "2024-04-25T00:00:00",
          "2024-04-26T00:00:00",
          "2024-04-29T00:00:00",
          "2024-04-30T00:00:00",
          "2024-05-01T00:00:00",
          "2024-05-02T00:00:00",
          "2024-05-03T00:00:00",
          "2024-05-06T00:00:00",
          "2024-05-07T00:00:00",
          "2024-05-08T00:00:00",
          "2024-05-09T00:00:00",
          "2024-05-10T00:00:00",
          "2024-05-13T00:00:00",
          "2024-05-14T00:00:00",
          "2024-05-15T00:00:00",
          "2024-05-16T00:00:00",
          "2024-05-17T00:00:00",
          "2024-05-20T00:00:00",
          "2024-05-21T00:00:00",
          "2024-05-22T00:00:00",
          "2024-05-23T00:00:00",
          "2024-05-24T00:00:00",
          "2024-05-28T00:00:00",
          "2024-05-29T00:00:00",
          "2024-05-30T00:00:00",
          "2024-05-31T00:00:00",
          "2024-06-03T00:00:00",
          "2024-06-04T00:00:00",
          "2024-06-05T00:00:00",
          "2024-06-06T00:00:00",
          "2024-06-07T00:00:00",
          "2024-06-10T00:00:00",
          "2024-06-11T00:00:00",
          "2024-06-12T00:00:00",
          "2024-06-13T00:00:00",
          "2024-06-14T00:00:00",
          "2024-06-17T00:00:00",
          "2024-06-18T00:00:00",
          "2024-06-20T00:00:00",
          "2024-06-21T00:00:00",
          "2024-06-24T00:00:00",
          "2024-06-25T00:00:00",
          "2024-06-26T00:00:00",
          "2024-06-27T00:00:00",
          "2024-06-28T00:00:00",
          "2024-07-01T00:00:00",
          "2024-07-02T00:00:00",
          "2024-07-03T00:00:00",
          "2024-07-05T00:00:00",
          "2024-07-08T00:00:00",
          "2024-07-09T00:00:00",
          "2024-07-10T00:00:00",
          "2024-07-11T00:00:00",
          "2024-07-12T00:00:00",
          "2024-07-15T00:00:00",
          "2024-07-16T00:00:00",
          "2024-07-17T00:00:00",
          "2024-07-18T00:00:00",
          "2024-07-19T00:00:00",
          "2024-07-22T00:00:00",
          "2024-07-23T00:00:00",
          "2024-07-24T00:00:00",
          "2024-07-25T00:00:00",
          "2024-07-26T00:00:00",
          "2024-07-29T00:00:00",
          "2024-07-30T00:00:00",
          "2024-07-31T00:00:00",
          "2024-08-01T00:00:00",
          "2024-08-02T00:00:00",
          "2024-08-05T00:00:00",
          "2024-08-06T00:00:00",
          "2024-08-07T00:00:00",
          "2024-08-08T00:00:00",
          "2024-08-09T00:00:00",
          "2024-08-12T00:00:00",
          "2024-08-13T00:00:00",
          "2024-08-14T00:00:00",
          "2024-08-15T00:00:00",
          "2024-08-16T00:00:00",
          "2024-08-19T00:00:00",
          "2024-08-20T00:00:00",
          "2024-08-21T00:00:00",
          "2024-08-22T00:00:00",
          "2024-08-23T00:00:00",
          "2024-08-26T00:00:00",
          "2024-08-27T00:00:00",
          "2024-08-28T00:00:00",
          "2024-08-29T00:00:00",
          "2024-08-30T00:00:00",
          "2024-09-03T00:00:00",
          "2024-09-04T00:00:00",
          "2024-09-05T00:00:00",
          "2024-09-06T00:00:00",
          "2024-09-09T00:00:00",
          "2024-09-10T00:00:00",
          "2024-09-11T00:00:00",
          "2024-09-12T00:00:00",
          "2024-09-13T00:00:00",
          "2024-09-16T00:00:00",
          "2024-09-17T00:00:00",
          "2024-09-18T00:00:00",
          "2024-09-19T00:00:00",
          "2024-09-20T00:00:00",
          "2024-09-23T00:00:00",
          "2024-09-24T00:00:00",
          "2024-09-25T00:00:00",
          "2024-09-26T00:00:00",
          "2024-09-27T00:00:00",
          "2024-09-30T00:00:00",
          "2024-10-01T00:00:00",
          "2024-10-02T00:00:00",
          "2024-10-03T00:00:00",
          "2024-10-04T00:00:00",
          "2024-10-07T00:00:00",
          "2024-10-08T00:00:00",
          "2024-10-09T00:00:00",
          "2024-10-10T00:00:00",
          "2024-10-11T00:00:00",
          "2024-10-14T00:00:00",
          "2024-10-15T00:00:00",
          "2024-10-16T00:00:00",
          "2024-10-17T00:00:00",
          "2024-10-18T00:00:00",
          "2024-10-21T00:00:00",
          "2024-10-22T00:00:00",
          "2024-10-23T00:00:00",
          "2024-10-24T00:00:00",
          "2024-10-25T00:00:00",
          "2024-10-28T00:00:00",
          "2024-10-29T00:00:00",
          "2024-10-30T00:00:00",
          "2024-10-31T00:00:00",
          "2024-11-01T00:00:00",
          "2024-11-04T00:00:00",
          "2024-11-05T00:00:00",
          "2024-11-06T00:00:00",
          "2024-11-07T00:00:00",
          "2024-11-08T00:00:00",
          "2024-11-11T00:00:00",
          "2024-11-12T00:00:00",
          "2024-11-13T00:00:00",
          "2024-11-14T00:00:00",
          "2024-11-15T00:00:00",
          "2024-11-18T00:00:00",
          "2024-11-19T00:00:00",
          "2024-11-20T00:00:00",
          "2024-11-21T00:00:00",
          "2024-11-22T00:00:00",
          "2024-11-25T00:00:00",
          "2024-11-26T00:00:00",
          "2024-11-27T00:00:00",
          "2024-11-29T00:00:00",
          "2024-12-02T00:00:00",
          "2024-12-03T00:00:00",
          "2024-12-04T00:00:00",
          "2024-12-05T00:00:00",
          "2024-12-06T00:00:00",
          "2024-12-09T00:00:00",
          "2024-12-10T00:00:00",
          "2024-12-11T00:00:00",
          "2024-12-12T00:00:00",
          "2024-12-13T00:00:00",
          "2024-12-16T00:00:00",
          "2024-12-17T00:00:00",
          "2024-12-18T00:00:00",
          "2024-12-19T00:00:00",
          "2024-12-20T00:00:00",
          "2024-12-23T00:00:00",
          "2024-12-24T00:00:00",
          "2024-12-26T00:00:00",
          "2024-12-27T00:00:00",
          "2024-12-30T00:00:00",
          "2024-12-31T00:00:00",
          "2025-01-02T00:00:00",
          "2025-01-03T00:00:00",
          "2025-01-06T00:00:00",
          "2025-01-07T00:00:00",
          "2025-01-08T00:00:00",
          "2025-01-10T00:00:00",
          "2025-01-13T00:00:00",
          "2025-01-14T00:00:00",
          "2025-01-15T00:00:00",
          "2025-01-16T00:00:00",
          "2025-01-17T00:00:00",
          "2025-01-21T00:00:00",
          "2025-01-22T00:00:00",
          "2025-01-23T00:00:00",
          "2025-01-24T00:00:00",
          "2025-01-27T00:00:00",
          "2025-01-28T00:00:00",
          "2025-01-29T00:00:00",
          "2025-01-30T00:00:00",
          "2025-01-31T00:00:00",
          "2025-02-03T00:00:00",
          "2025-02-04T00:00:00",
          "2025-02-05T00:00:00",
          "2025-02-06T00:00:00",
          "2025-02-07T00:00:00",
          "2025-02-10T00:00:00",
          "2025-02-11T00:00:00",
          "2025-02-12T00:00:00",
          "2025-02-13T00:00:00",
          "2025-02-14T00:00:00",
          "2025-02-18T00:00:00",
          "2025-02-19T00:00:00",
          "2025-02-20T00:00:00",
          "2025-02-21T00:00:00",
          "2025-02-24T00:00:00",
          "2025-02-25T00:00:00",
          "2025-02-26T00:00:00",
          "2025-02-27T00:00:00",
          "2025-02-28T00:00:00",
          "2025-03-03T00:00:00",
          "2025-03-04T00:00:00",
          "2025-03-05T00:00:00",
          "2025-03-06T00:00:00",
          "2025-03-07T00:00:00",
          "2025-03-10T00:00:00",
          "2025-03-11T00:00:00",
          "2025-03-12T00:00:00",
          "2025-03-13T00:00:00",
          "2025-03-14T00:00:00",
          "2025-03-17T00:00:00",
          "2025-03-18T00:00:00",
          "2025-03-19T00:00:00",
          "2025-03-20T00:00:00",
          "2025-03-21T00:00:00",
          "2025-03-24T00:00:00",
          "2025-03-25T00:00:00",
          "2025-03-26T00:00:00",
          "2025-03-27T00:00:00",
          "2025-03-28T00:00:00",
          "2025-03-31T00:00:00",
          "2025-04-01T00:00:00",
          "2025-04-02T00:00:00",
          "2025-04-03T00:00:00",
          "2025-04-04T00:00:00",
          "2025-04-07T00:00:00",
          "2025-04-08T00:00:00",
          "2025-04-09T00:00:00",
          "2025-04-10T00:00:00",
          "2025-04-11T00:00:00",
          "2025-04-14T00:00:00",
          "2025-04-15T00:00:00",
          "2025-04-16T00:00:00",
          "2025-04-17T00:00:00",
          "2025-04-21T00:00:00",
          "2025-04-22T00:00:00",
          "2025-04-23T00:00:00",
          "2025-04-24T00:00:00",
          "2025-04-25T00:00:00",
          "2025-04-28T00:00:00",
          "2025-04-29T00:00:00",
          "2025-04-30T00:00:00",
          "2025-05-01T00:00:00",
          "2025-05-02T00:00:00",
          "2025-05-05T00:00:00",
          "2025-05-06T00:00:00",
          "2025-05-07T00:00:00",
          "2025-05-08T00:00:00",
          "2025-05-09T00:00:00",
          "2025-05-12T00:00:00",
          "2025-05-13T00:00:00",
          "2025-05-14T00:00:00",
          "2025-05-15T00:00:00",
          "2025-05-16T00:00:00",
          "2025-05-19T00:00:00",
          "2025-05-20T00:00:00",
          "2025-05-21T00:00:00",
          "2025-05-22T00:00:00",
          "2025-05-23T00:00:00",
          "2025-05-27T00:00:00",
          "2025-05-28T00:00:00",
          "2025-05-29T00:00:00",
          "2025-05-30T00:00:00",
          "2025-06-02T00:00:00",
          "2025-06-03T00:00:00",
          "2025-06-04T00:00:00",
          "2025-06-05T00:00:00",
          "2025-06-06T00:00:00",
          "2025-06-09T00:00:00",
          "2025-06-10T00:00:00",
          "2025-06-11T00:00:00",
          "2025-06-12T00:00:00",
          "2025-06-13T00:00:00",
          "2025-06-16T00:00:00",
          "2025-06-17T00:00:00",
          "2025-06-18T00:00:00",
          "2025-06-20T00:00:00",
          "2025-06-23T00:00:00",
          "2025-06-24T00:00:00",
          "2025-06-25T00:00:00",
          "2025-06-26T00:00:00",
          "2025-06-27T00:00:00",
          "2025-06-30T00:00:00",
          "2025-07-01T00:00:00",
          "2025-07-02T00:00:00",
          "2025-07-03T00:00:00",
          "2025-07-07T00:00:00",
          "2025-07-08T00:00:00",
          "2025-07-09T00:00:00",
          "2025-07-10T00:00:00",
          "2025-07-11T00:00:00",
          "2025-07-14T00:00:00",
          "2025-07-15T00:00:00",
          "2025-07-16T00:00:00",
          "2025-07-17T00:00:00",
          "2025-07-18T00:00:00",
          "2025-07-21T00:00:00",
          "2025-07-22T00:00:00",
          "2025-07-23T00:00:00",
          "2025-07-24T00:00:00",
          "2025-07-25T00:00:00",
          "2025-07-28T00:00:00",
          "2025-07-29T00:00:00",
          "2025-07-30T00:00:00",
          "2025-07-31T00:00:00",
          "2025-08-01T00:00:00",
          "2025-08-04T00:00:00",
          "2025-08-05T00:00:00",
          "2025-08-06T00:00:00",
          "2025-08-07T00:00:00",
          "2025-08-08T00:00:00",
          "2025-08-11T00:00:00",
          "2025-08-12T00:00:00",
          "2025-08-13T00:00:00",
          "2025-08-14T00:00:00",
          "2025-08-15T00:00:00"
         ],
         "y": {
          "bdata": "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",
          "dtype": "f8"
         }
        }
       ],
       "layout": {
        "legend": {
         "title": {
          "text": "Legend"
         }
        },
        "template": {
         "data": {
          "bar": [
           {
            "error_x": {
             "color": "#2a3f5f"
            },
            "error_y": {
             "color": "#2a3f5f"
            },
            "marker": {
             "line": {
              "color": "#E5ECF6",
              "width": 0.5
             },
             "pattern": {
              "fillmode": "overlay",
              "size": 10,
              "solidity": 0.2
             }
            },
            "type": "bar"
           }
          ],
          "barpolar": [
           {
            "marker": {
             "line": {
              "color": "#E5ECF6",
              "width": 0.5
             },
             "pattern": {
              "fillmode": "overlay",
              "size": 10,
              "solidity": 0.2
             }
            },
            "type": "barpolar"
           }
          ],
          "carpet": [
           {
            "aaxis": {
             "endlinecolor": "#2a3f5f",
             "gridcolor": "white",
             "linecolor": "white",
             "minorgridcolor": "white",
             "startlinecolor": "#2a3f5f"
            },
            "baxis": {
             "endlinecolor": "#2a3f5f",
             "gridcolor": "white",
             "linecolor": "white",
             "minorgridcolor": "white",
             "startlinecolor": "#2a3f5f"
            },
            "type": "carpet"
           }
          ],
          "choropleth": [
           {
            "colorbar": {
             "outlinewidth": 0,
             "ticks": ""
            },
            "type": "choropleth"
           }
          ],
          "contour": [
           {
            "colorbar": {
             "outlinewidth": 0,
             "ticks": ""
            },
            "colorscale": [
             [
              0,
              "#0d0887"
             ],
             [
              0.1111111111111111,
              "#46039f"
             ],
             [
              0.2222222222222222,
              "#7201a8"
             ],
             [
              0.3333333333333333,
              "#9c179e"
             ],
             [
              0.4444444444444444,
              "#bd3786"
             ],
             [
              0.5555555555555556,
              "#d8576b"
             ],
             [
              0.6666666666666666,
              "#ed7953"
             ],
             [
              0.7777777777777778,
              "#fb9f3a"
             ],
             [
              0.8888888888888888,
              "#fdca26"
             ],
             [
              1,
              "#f0f921"
             ]
            ],
            "type": "contour"
           }
          ],
          "contourcarpet": [
           {
            "colorbar": {
             "outlinewidth": 0,
             "ticks": ""
            },
            "type": "contourcarpet"
           }
          ],
          "heatmap": [
           {
            "colorbar": {
             "outlinewidth": 0,
             "ticks": ""
            },
            "colorscale": [
             [
              0,
              "#0d0887"
             ],
             [
              0.1111111111111111,
              "#46039f"
             ],
             [
              0.2222222222222222,
              "#7201a8"
             ],
             [
              0.3333333333333333,
              "#9c179e"
             ],
             [
              0.4444444444444444,
              "#bd3786"
             ],
             [
              0.5555555555555556,
              "#d8576b"
             ],
             [
              0.6666666666666666,
              "#ed7953"
             ],
             [
              0.7777777777777778,
              "#fb9f3a"
             ],
             [
              0.8888888888888888,
              "#fdca26"
             ],
             [
              1,
              "#f0f921"
             ]
            ],
            "type": "heatmap"
           }
          ],
          "histogram": [
           {
            "marker": {
             "pattern": {
              "fillmode": "overlay",
              "size": 10,
              "solidity": 0.2
             }
            },
            "type": "histogram"
           }
          ],
          "histogram2d": [
           {
            "colorbar": {
             "outlinewidth": 0,
             "ticks": ""
            },
            "colorscale": [
             [
              0,
              "#0d0887"
             ],
             [
              0.1111111111111111,
              "#46039f"
             ],
             [
              0.2222222222222222,
              "#7201a8"
             ],
             [
              0.3333333333333333,
              "#9c179e"
             ],
             [
              0.4444444444444444,
              "#bd3786"
             ],
             [
              0.5555555555555556,
              "#d8576b"
             ],
             [
              0.6666666666666666,
              "#ed7953"
             ],
             [
              0.7777777777777778,
              "#fb9f3a"
             ],
             [
              0.8888888888888888,
              "#fdca26"
             ],
             [
              1,
              "#f0f921"
             ]
            ],
            "type": "histogram2d"
           }
          ],
          "histogram2dcontour": [
           {
            "colorbar": {
             "outlinewidth": 0,
             "ticks": ""
            },
            "colorscale": [
             [
              0,
              "#0d0887"
             ],
             [
              0.1111111111111111,
              "#46039f"
             ],
             [
              0.2222222222222222,
              "#7201a8"
             ],
             [
              0.3333333333333333,
              "#9c179e"
             ],
             [
              0.4444444444444444,
              "#bd3786"
             ],
             [
              0.5555555555555556,
              "#d8576b"
             ],
             [
              0.6666666666666666,
              "#ed7953"
             ],
             [
              0.7777777777777778,
              "#fb9f3a"
             ],
             [
              0.8888888888888888,
              "#fdca26"
             ],
             [
              1,
              "#f0f921"
             ]
            ],
            "type": "histogram2dcontour"
           }
          ],
          "mesh3d": [
           {
            "colorbar": {
             "outlinewidth": 0,
             "ticks": ""
            },
            "type": "mesh3d"
           }
          ],
          "parcoords": [
           {
            "line": {
             "colorbar": {
              "outlinewidth": 0,
              "ticks": ""
             }
            },
            "type": "parcoords"
           }
          ],
          "pie": [
           {
            "automargin": true,
            "type": "pie"
           }
          ],
          "scatter": [
           {
            "fillpattern": {
             "fillmode": "overlay",
             "size": 10,
             "solidity": 0.2
            },
            "type": "scatter"
           }
          ],
          "scatter3d": [
           {
            "line": {
             "colorbar": {
              "outlinewidth": 0,
              "ticks": ""
             }
            },
            "marker": {
             "colorbar": {
              "outlinewidth": 0,
              "ticks": ""
             }
            },
            "type": "scatter3d"
           }
          ],
          "scattercarpet": [
           {
            "marker": {
             "colorbar": {
              "outlinewidth": 0,
              "ticks": ""
             }
            },
            "type": "scattercarpet"
           }
          ],
          "scattergeo": [
           {
            "marker": {
             "colorbar": {
              "outlinewidth": 0,
              "ticks": ""
             }
            },
            "type": "scattergeo"
           }
          ],
          "scattergl": [
           {
            "marker": {
             "colorbar": {
              "outlinewidth": 0,
              "ticks": ""
             }
            },
            "type": "scattergl"
           }
          ],
          "scattermap": [
           {
            "marker": {
             "colorbar": {
              "outlinewidth": 0,
              "ticks": ""
             }
            },
            "type": "scattermap"
           }
          ],
          "scattermapbox": [
           {
            "marker": {
             "colorbar": {
              "outlinewidth": 0,
              "ticks": ""
             }
            },
            "type": "scattermapbox"
           }
          ],
          "scatterpolar": [
           {
            "marker": {
             "colorbar": {
              "outlinewidth": 0,
              "ticks": ""
             }
            },
            "type": "scatterpolar"
           }
          ],
          "scatterpolargl": [
           {
            "marker": {
             "colorbar": {
              "outlinewidth": 0,
              "ticks": ""
             }
            },
            "type": "scatterpolargl"
           }
          ],
          "scatterternary": [
           {
            "marker": {
             "colorbar": {
              "outlinewidth": 0,
              "ticks": ""
             }
            },
            "type": "scatterternary"
           }
          ],
          "surface": [
           {
            "colorbar": {
             "outlinewidth": 0,
             "ticks": ""
            },
            "colorscale": [
             [
              0,
              "#0d0887"
             ],
             [
              0.1111111111111111,
              "#46039f"
             ],
             [
              0.2222222222222222,
              "#7201a8"
             ],
             [
              0.3333333333333333,
              "#9c179e"
             ],
             [
              0.4444444444444444,
              "#bd3786"
             ],
             [
              0.5555555555555556,
              "#d8576b"
             ],
             [
              0.6666666666666666,
              "#ed7953"
             ],
             [
              0.7777777777777778,
              "#fb9f3a"
             ],
             [
              0.8888888888888888,
              "#fdca26"
             ],
             [
              1,
              "#f0f921"
             ]
            ],
            "type": "surface"
           }
          ],
          "table": [
           {
            "cells": {
             "fill": {
              "color": "#EBF0F8"
             },
             "line": {
              "color": "white"
             }
            },
            "header": {
             "fill": {
              "color": "#C8D4E3"
             },
             "line": {
              "color": "white"
             }
            },
            "type": "table"
           }
          ]
         },
         "layout": {
          "annotationdefaults": {
           "arrowcolor": "#2a3f5f",
           "arrowhead": 0,
           "arrowwidth": 1
          },
          "autotypenumbers": "strict",
          "coloraxis": {
           "colorbar": {
            "outlinewidth": 0,
            "ticks": ""
           }
          },
          "colorscale": {
           "diverging": [
            [
             0,
             "#8e0152"
            ],
            [
             0.1,
             "#c51b7d"
            ],
            [
             0.2,
             "#de77ae"
            ],
            [
             0.3,
             "#f1b6da"
            ],
            [
             0.4,
             "#fde0ef"
            ],
            [
             0.5,
             "#f7f7f7"
            ],
            [
             0.6,
             "#e6f5d0"
            ],
            [
             0.7,
             "#b8e186"
            ],
            [
             0.8,
             "#7fbc41"
            ],
            [
             0.9,
             "#4d9221"
            ],
            [
             1,
             "#276419"
            ]
           ],
           "sequential": [
            [
             0,
             "#0d0887"
            ],
            [
             0.1111111111111111,
             "#46039f"
            ],
            [
             0.2222222222222222,
             "#7201a8"
            ],
            [
             0.3333333333333333,
             "#9c179e"
            ],
            [
             0.4444444444444444,
             "#bd3786"
            ],
            [
             0.5555555555555556,
             "#d8576b"
            ],
            [
             0.6666666666666666,
             "#ed7953"
            ],
            [
             0.7777777777777778,
             "#fb9f3a"
            ],
            [
             0.8888888888888888,
             "#fdca26"
            ],
            [
             1,
             "#f0f921"
            ]
           ],
           "sequentialminus": [
            [
             0,
             "#0d0887"
            ],
            [
             0.1111111111111111,
             "#46039f"
            ],
            [
             0.2222222222222222,
             "#7201a8"
            ],
            [
             0.3333333333333333,
             "#9c179e"
            ],
            [
             0.4444444444444444,
             "#bd3786"
            ],
            [
             0.5555555555555556,
             "#d8576b"
            ],
            [
             0.6666666666666666,
             "#ed7953"
            ],
            [
             0.7777777777777778,
             "#fb9f3a"
            ],
            [
             0.8888888888888888,
             "#fdca26"
            ],
            [
             1,
             "#f0f921"
            ]
           ]
          },
          "colorway": [
           "#636efa",
           "#EF553B",
           "#00cc96",
           "#ab63fa",
           "#FFA15A",
           "#19d3f3",
           "#FF6692",
           "#B6E880",
           "#FF97FF",
           "#FECB52"
          ],
          "font": {
           "color": "#2a3f5f"
          },
          "geo": {
           "bgcolor": "white",
           "lakecolor": "white",
           "landcolor": "#E5ECF6",
           "showlakes": true,
           "showland": true,
           "subunitcolor": "white"
          },
          "hoverlabel": {
           "align": "left"
          },
          "hovermode": "closest",
          "mapbox": {
           "style": "light"
          },
          "paper_bgcolor": "white",
          "plot_bgcolor": "#E5ECF6",
          "polar": {
           "angularaxis": {
            "gridcolor": "white",
            "linecolor": "white",
            "ticks": ""
           },
           "bgcolor": "#E5ECF6",
           "radialaxis": {
            "gridcolor": "white",
            "linecolor": "white",
            "ticks": ""
           }
          },
          "scene": {
           "xaxis": {
            "backgroundcolor": "#E5ECF6",
            "gridcolor": "white",
            "gridwidth": 2,
            "linecolor": "white",
            "showbackground": true,
            "ticks": "",
            "zerolinecolor": "white"
           },
           "yaxis": {
            "backgroundcolor": "#E5ECF6",
            "gridcolor": "white",
            "gridwidth": 2,
            "linecolor": "white",
            "showbackground": true,
            "ticks": "",
            "zerolinecolor": "white"
           },
           "zaxis": {
            "backgroundcolor": "#E5ECF6",
            "gridcolor": "white",
            "gridwidth": 2,
            "linecolor": "white",
            "showbackground": true,
            "ticks": "",
            "zerolinecolor": "white"
           }
          },
          "shapedefaults": {
           "line": {
            "color": "#2a3f5f"
           }
          },
          "ternary": {
           "aaxis": {
            "gridcolor": "white",
            "linecolor": "white",
            "ticks": ""
           },
           "baxis": {
            "gridcolor": "white",
            "linecolor": "white",
            "ticks": ""
           },
           "bgcolor": "#E5ECF6",
           "caxis": {
            "gridcolor": "white",
            "linecolor": "white",
            "ticks": ""
           }
          },
          "title": {
           "x": 0.05
          },
          "xaxis": {
           "automargin": true,
           "gridcolor": "white",
           "linecolor": "white",
           "ticks": "",
           "title": {
            "standoff": 15
           },
           "zerolinecolor": "white",
           "zerolinewidth": 2
          },
          "yaxis": {
           "automargin": true,
           "gridcolor": "white",
           "linecolor": "white",
           "ticks": "",
           "title": {
            "standoff": 15
           },
           "zerolinecolor": "white",
           "zerolinewidth": 2
          }
         }
        },
        "title": {
         "text": "AAPL Price with 20‑day & 50‑day SMAs (Full History)"
        },
        "xaxis": {
         "rangeslider": {
          "visible": true
         },
         "title": {
          "text": "Date"
         }
        },
        "yaxis": {
         "title": {
          "text": "Price (USD)"
         }
        }
       }
      }
     },
     "metadata": {},
     "output_type": "display_data"
    }
   ],
   "source": [
    "ma.plot_SMA(price_history, ticker)"
   ]
  },
  {
   "cell_type": "markdown",
   "id": "fe7c3efe",
   "metadata": {},
   "source": [
    "![SMA Chart](SMA_chart.png)"
   ]
  },
  {
   "cell_type": "markdown",
   "id": "b24e000a",
   "metadata": {},
   "source": [
    "### RSI Chart"
   ]
  },
  {
   "cell_type": "code",
   "execution_count": 12,
   "id": "c10408c6",
   "metadata": {},
   "outputs": [
    {
     "data": {
      "application/vnd.plotly.v1+json": {
       "config": {
        "plotlyServerURL": "https://plot.ly"
       },
       "data": [
        {
         "customdata": {
          "bdata": "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",
          "dtype": "f8",
          "shape": "502, 2"
         },
         "hovertemplate": "<b>Date:</b> %{x}<br><b>Close Price:</b> %{y}<br><b>RSI:</b> %{customdata[0]}",
         "mode": "lines",
         "name": "RSI 14",
         "type": "scatter",
         "x": [
          "2023-08-16T00:00:00.000000000",
          "2023-08-17T00:00:00.000000000",
          "2023-08-18T00:00:00.000000000",
          "2023-08-21T00:00:00.000000000",
          "2023-08-22T00:00:00.000000000",
          "2023-08-23T00:00:00.000000000",
          "2023-08-24T00:00:00.000000000",
          "2023-08-25T00:00:00.000000000",
          "2023-08-28T00:00:00.000000000",
          "2023-08-29T00:00:00.000000000",
          "2023-08-30T00:00:00.000000000",
          "2023-08-31T00:00:00.000000000",
          "2023-09-01T00:00:00.000000000",
          "2023-09-05T00:00:00.000000000",
          "2023-09-06T00:00:00.000000000",
          "2023-09-07T00:00:00.000000000",
          "2023-09-08T00:00:00.000000000",
          "2023-09-11T00:00:00.000000000",
          "2023-09-12T00:00:00.000000000",
          "2023-09-13T00:00:00.000000000",
          "2023-09-14T00:00:00.000000000",
          "2023-09-15T00:00:00.000000000",
          "2023-09-18T00:00:00.000000000",
          "2023-09-19T00:00:00.000000000",
          "2023-09-20T00:00:00.000000000",
          "2023-09-21T00:00:00.000000000",
          "2023-09-22T00:00:00.000000000",
          "2023-09-25T00:00:00.000000000",
          "2023-09-26T00:00:00.000000000",
          "2023-09-27T00:00:00.000000000",
          "2023-09-28T00:00:00.000000000",
          "2023-09-29T00:00:00.000000000",
          "2023-10-02T00:00:00.000000000",
          "2023-10-03T00:00:00.000000000",
          "2023-10-04T00:00:00.000000000",
          "2023-10-05T00:00:00.000000000",
          "2023-10-06T00:00:00.000000000",
          "2023-10-09T00:00:00.000000000",
          "2023-10-10T00:00:00.000000000",
          "2023-10-11T00:00:00.000000000",
          "2023-10-12T00:00:00.000000000",
          "2023-10-13T00:00:00.000000000",
          "2023-10-16T00:00:00.000000000",
          "2023-10-17T00:00:00.000000000",
          "2023-10-18T00:00:00.000000000",
          "2023-10-19T00:00:00.000000000",
          "2023-10-20T00:00:00.000000000",
          "2023-10-23T00:00:00.000000000",
          "2023-10-24T00:00:00.000000000",
          "2023-10-25T00:00:00.000000000",
          "2023-10-26T00:00:00.000000000",
          "2023-10-27T00:00:00.000000000",
          "2023-10-30T00:00:00.000000000",
          "2023-10-31T00:00:00.000000000",
          "2023-11-01T00:00:00.000000000",
          "2023-11-02T00:00:00.000000000",
          "2023-11-03T00:00:00.000000000",
          "2023-11-06T00:00:00.000000000",
          "2023-11-07T00:00:00.000000000",
          "2023-11-08T00:00:00.000000000",
          "2023-11-09T00:00:00.000000000",
          "2023-11-10T00:00:00.000000000",
          "2023-11-13T00:00:00.000000000",
          "2023-11-14T00:00:00.000000000",
          "2023-11-15T00:00:00.000000000",
          "2023-11-16T00:00:00.000000000",
          "2023-11-17T00:00:00.000000000",
          "2023-11-20T00:00:00.000000000",
          "2023-11-21T00:00:00.000000000",
          "2023-11-22T00:00:00.000000000",
          "2023-11-24T00:00:00.000000000",
          "2023-11-27T00:00:00.000000000",
          "2023-11-28T00:00:00.000000000",
          "2023-11-29T00:00:00.000000000",
          "2023-11-30T00:00:00.000000000",
          "2023-12-01T00:00:00.000000000",
          "2023-12-04T00:00:00.000000000",
          "2023-12-05T00:00:00.000000000",
          "2023-12-06T00:00:00.000000000",
          "2023-12-07T00:00:00.000000000",
          "2023-12-08T00:00:00.000000000",
          "2023-12-11T00:00:00.000000000",
          "2023-12-12T00:00:00.000000000",
          "2023-12-13T00:00:00.000000000",
          "2023-12-14T00:00:00.000000000",
          "2023-12-15T00:00:00.000000000",
          "2023-12-18T00:00:00.000000000",
          "2023-12-19T00:00:00.000000000",
          "2023-12-20T00:00:00.000000000",
          "2023-12-21T00:00:00.000000000",
          "2023-12-22T00:00:00.000000000",
          "2023-12-26T00:00:00.000000000",
          "2023-12-27T00:00:00.000000000",
          "2023-12-28T00:00:00.000000000",
          "2023-12-29T00:00:00.000000000",
          "2024-01-02T00:00:00.000000000",
          "2024-01-03T00:00:00.000000000",
          "2024-01-04T00:00:00.000000000",
          "2024-01-05T00:00:00.000000000",
          "2024-01-08T00:00:00.000000000",
          "2024-01-09T00:00:00.000000000",
          "2024-01-10T00:00:00.000000000",
          "2024-01-11T00:00:00.000000000",
          "2024-01-12T00:00:00.000000000",
          "2024-01-16T00:00:00.000000000",
          "2024-01-17T00:00:00.000000000",
          "2024-01-18T00:00:00.000000000",
          "2024-01-19T00:00:00.000000000",
          "2024-01-22T00:00:00.000000000",
          "2024-01-23T00:00:00.000000000",
          "2024-01-24T00:00:00.000000000",
          "2024-01-25T00:00:00.000000000",
          "2024-01-26T00:00:00.000000000",
          "2024-01-29T00:00:00.000000000",
          "2024-01-30T00:00:00.000000000",
          "2024-01-31T00:00:00.000000000",
          "2024-02-01T00:00:00.000000000",
          "2024-02-02T00:00:00.000000000",
          "2024-02-05T00:00:00.000000000",
          "2024-02-06T00:00:00.000000000",
          "2024-02-07T00:00:00.000000000",
          "2024-02-08T00:00:00.000000000",
          "2024-02-09T00:00:00.000000000",
          "2024-02-12T00:00:00.000000000",
          "2024-02-13T00:00:00.000000000",
          "2024-02-14T00:00:00.000000000",
          "2024-02-15T00:00:00.000000000",
          "2024-02-16T00:00:00.000000000",
          "2024-02-20T00:00:00.000000000",
          "2024-02-21T00:00:00.000000000",
          "2024-02-22T00:00:00.000000000",
          "2024-02-23T00:00:00.000000000",
          "2024-02-26T00:00:00.000000000",
          "2024-02-27T00:00:00.000000000",
          "2024-02-28T00:00:00.000000000",
          "2024-02-29T00:00:00.000000000",
          "2024-03-01T00:00:00.000000000",
          "2024-03-04T00:00:00.000000000",
          "2024-03-05T00:00:00.000000000",
          "2024-03-06T00:00:00.000000000",
          "2024-03-07T00:00:00.000000000",
          "2024-03-08T00:00:00.000000000",
          "2024-03-11T00:00:00.000000000",
          "2024-03-12T00:00:00.000000000",
          "2024-03-13T00:00:00.000000000",
          "2024-03-14T00:00:00.000000000",
          "2024-03-15T00:00:00.000000000",
          "2024-03-18T00:00:00.000000000",
          "2024-03-19T00:00:00.000000000",
          "2024-03-20T00:00:00.000000000",
          "2024-03-21T00:00:00.000000000",
          "2024-03-22T00:00:00.000000000",
          "2024-03-25T00:00:00.000000000",
          "2024-03-26T00:00:00.000000000",
          "2024-03-27T00:00:00.000000000",
          "2024-03-28T00:00:00.000000000",
          "2024-04-01T00:00:00.000000000",
          "2024-04-02T00:00:00.000000000",
          "2024-04-03T00:00:00.000000000",
          "2024-04-04T00:00:00.000000000",
          "2024-04-05T00:00:00.000000000",
          "2024-04-08T00:00:00.000000000",
          "2024-04-09T00:00:00.000000000",
          "2024-04-10T00:00:00.000000000",
          "2024-04-11T00:00:00.000000000",
          "2024-04-12T00:00:00.000000000",
          "2024-04-15T00:00:00.000000000",
          "2024-04-16T00:00:00.000000000",
          "2024-04-17T00:00:00.000000000",
          "2024-04-18T00:00:00.000000000",
          "2024-04-19T00:00:00.000000000",
          "2024-04-22T00:00:00.000000000",
          "2024-04-23T00:00:00.000000000",
          "2024-04-24T00:00:00.000000000",
          "2024-04-25T00:00:00.000000000",
          "2024-04-26T00:00:00.000000000",
          "2024-04-29T00:00:00.000000000",
          "2024-04-30T00:00:00.000000000",
          "2024-05-01T00:00:00.000000000",
          "2024-05-02T00:00:00.000000000",
          "2024-05-03T00:00:00.000000000",
          "2024-05-06T00:00:00.000000000",
          "2024-05-07T00:00:00.000000000",
          "2024-05-08T00:00:00.000000000",
          "2024-05-09T00:00:00.000000000",
          "2024-05-10T00:00:00.000000000",
          "2024-05-13T00:00:00.000000000",
          "2024-05-14T00:00:00.000000000",
          "2024-05-15T00:00:00.000000000",
          "2024-05-16T00:00:00.000000000",
          "2024-05-17T00:00:00.000000000",
          "2024-05-20T00:00:00.000000000",
          "2024-05-21T00:00:00.000000000",
          "2024-05-22T00:00:00.000000000",
          "2024-05-23T00:00:00.000000000",
          "2024-05-24T00:00:00.000000000",
          "2024-05-28T00:00:00.000000000",
          "2024-05-29T00:00:00.000000000",
          "2024-05-30T00:00:00.000000000",
          "2024-05-31T00:00:00.000000000",
          "2024-06-03T00:00:00.000000000",
          "2024-06-04T00:00:00.000000000",
          "2024-06-05T00:00:00.000000000",
          "2024-06-06T00:00:00.000000000",
          "2024-06-07T00:00:00.000000000",
          "2024-06-10T00:00:00.000000000",
          "2024-06-11T00:00:00.000000000",
          "2024-06-12T00:00:00.000000000",
          "2024-06-13T00:00:00.000000000",
          "2024-06-14T00:00:00.000000000",
          "2024-06-17T00:00:00.000000000",
          "2024-06-18T00:00:00.000000000",
          "2024-06-20T00:00:00.000000000",
          "2024-06-21T00:00:00.000000000",
          "2024-06-24T00:00:00.000000000",
          "2024-06-25T00:00:00.000000000",
          "2024-06-26T00:00:00.000000000",
          "2024-06-27T00:00:00.000000000",
          "2024-06-28T00:00:00.000000000",
          "2024-07-01T00:00:00.000000000",
          "2024-07-02T00:00:00.000000000",
          "2024-07-03T00:00:00.000000000",
          "2024-07-05T00:00:00.000000000",
          "2024-07-08T00:00:00.000000000",
          "2024-07-09T00:00:00.000000000",
          "2024-07-10T00:00:00.000000000",
          "2024-07-11T00:00:00.000000000",
          "2024-07-12T00:00:00.000000000",
          "2024-07-15T00:00:00.000000000",
          "2024-07-16T00:00:00.000000000",
          "2024-07-17T00:00:00.000000000",
          "2024-07-18T00:00:00.000000000",
          "2024-07-19T00:00:00.000000000",
          "2024-07-22T00:00:00.000000000",
          "2024-07-23T00:00:00.000000000",
          "2024-07-24T00:00:00.000000000",
          "2024-07-25T00:00:00.000000000",
          "2024-07-26T00:00:00.000000000",
          "2024-07-29T00:00:00.000000000",
          "2024-07-30T00:00:00.000000000",
          "2024-07-31T00:00:00.000000000",
          "2024-08-01T00:00:00.000000000",
          "2024-08-02T00:00:00.000000000",
          "2024-08-05T00:00:00.000000000",
          "2024-08-06T00:00:00.000000000",
          "2024-08-07T00:00:00.000000000",
          "2024-08-08T00:00:00.000000000",
          "2024-08-09T00:00:00.000000000",
          "2024-08-12T00:00:00.000000000",
          "2024-08-13T00:00:00.000000000",
          "2024-08-14T00:00:00.000000000",
          "2024-08-15T00:00:00.000000000",
          "2024-08-16T00:00:00.000000000",
          "2024-08-19T00:00:00.000000000",
          "2024-08-20T00:00:00.000000000",
          "2024-08-21T00:00:00.000000000",
          "2024-08-22T00:00:00.000000000",
          "2024-08-23T00:00:00.000000000",
          "2024-08-26T00:00:00.000000000",
          "2024-08-27T00:00:00.000000000",
          "2024-08-28T00:00:00.000000000",
          "2024-08-29T00:00:00.000000000",
          "2024-08-30T00:00:00.000000000",
          "2024-09-03T00:00:00.000000000",
          "2024-09-04T00:00:00.000000000",
          "2024-09-05T00:00:00.000000000",
          "2024-09-06T00:00:00.000000000",
          "2024-09-09T00:00:00.000000000",
          "2024-09-10T00:00:00.000000000",
          "2024-09-11T00:00:00.000000000",
          "2024-09-12T00:00:00.000000000",
          "2024-09-13T00:00:00.000000000",
          "2024-09-16T00:00:00.000000000",
          "2024-09-17T00:00:00.000000000",
          "2024-09-18T00:00:00.000000000",
          "2024-09-19T00:00:00.000000000",
          "2024-09-20T00:00:00.000000000",
          "2024-09-23T00:00:00.000000000",
          "2024-09-24T00:00:00.000000000",
          "2024-09-25T00:00:00.000000000",
          "2024-09-26T00:00:00.000000000",
          "2024-09-27T00:00:00.000000000",
          "2024-09-30T00:00:00.000000000",
          "2024-10-01T00:00:00.000000000",
          "2024-10-02T00:00:00.000000000",
          "2024-10-03T00:00:00.000000000",
          "2024-10-04T00:00:00.000000000",
          "2024-10-07T00:00:00.000000000",
          "2024-10-08T00:00:00.000000000",
          "2024-10-09T00:00:00.000000000",
          "2024-10-10T00:00:00.000000000",
          "2024-10-11T00:00:00.000000000",
          "2024-10-14T00:00:00.000000000",
          "2024-10-15T00:00:00.000000000",
          "2024-10-16T00:00:00.000000000",
          "2024-10-17T00:00:00.000000000",
          "2024-10-18T00:00:00.000000000",
          "2024-10-21T00:00:00.000000000",
          "2024-10-22T00:00:00.000000000",
          "2024-10-23T00:00:00.000000000",
          "2024-10-24T00:00:00.000000000",
          "2024-10-25T00:00:00.000000000",
          "2024-10-28T00:00:00.000000000",
          "2024-10-29T00:00:00.000000000",
          "2024-10-30T00:00:00.000000000",
          "2024-10-31T00:00:00.000000000",
          "2024-11-01T00:00:00.000000000",
          "2024-11-04T00:00:00.000000000",
          "2024-11-05T00:00:00.000000000",
          "2024-11-06T00:00:00.000000000",
          "2024-11-07T00:00:00.000000000",
          "2024-11-08T00:00:00.000000000",
          "2024-11-11T00:00:00.000000000",
          "2024-11-12T00:00:00.000000000",
          "2024-11-13T00:00:00.000000000",
          "2024-11-14T00:00:00.000000000",
          "2024-11-15T00:00:00.000000000",
          "2024-11-18T00:00:00.000000000",
          "2024-11-19T00:00:00.000000000",
          "2024-11-20T00:00:00.000000000",
          "2024-11-21T00:00:00.000000000",
          "2024-11-22T00:00:00.000000000",
          "2024-11-25T00:00:00.000000000",
          "2024-11-26T00:00:00.000000000",
          "2024-11-27T00:00:00.000000000",
          "2024-11-29T00:00:00.000000000",
          "2024-12-02T00:00:00.000000000",
          "2024-12-03T00:00:00.000000000",
          "2024-12-04T00:00:00.000000000",
          "2024-12-05T00:00:00.000000000",
          "2024-12-06T00:00:00.000000000",
          "2024-12-09T00:00:00.000000000",
          "2024-12-10T00:00:00.000000000",
          "2024-12-11T00:00:00.000000000",
          "2024-12-12T00:00:00.000000000",
          "2024-12-13T00:00:00.000000000",
          "2024-12-16T00:00:00.000000000",
          "2024-12-17T00:00:00.000000000",
          "2024-12-18T00:00:00.000000000",
          "2024-12-19T00:00:00.000000000",
          "2024-12-20T00:00:00.000000000",
          "2024-12-23T00:00:00.000000000",
          "2024-12-24T00:00:00.000000000",
          "2024-12-26T00:00:00.000000000",
          "2024-12-27T00:00:00.000000000",
          "2024-12-30T00:00:00.000000000",
          "2024-12-31T00:00:00.000000000",
          "2025-01-02T00:00:00.000000000",
          "2025-01-03T00:00:00.000000000",
          "2025-01-06T00:00:00.000000000",
          "2025-01-07T00:00:00.000000000",
          "2025-01-08T00:00:00.000000000",
          "2025-01-10T00:00:00.000000000",
          "2025-01-13T00:00:00.000000000",
          "2025-01-14T00:00:00.000000000",
          "2025-01-15T00:00:00.000000000",
          "2025-01-16T00:00:00.000000000",
          "2025-01-17T00:00:00.000000000",
          "2025-01-21T00:00:00.000000000",
          "2025-01-22T00:00:00.000000000",
          "2025-01-23T00:00:00.000000000",
          "2025-01-24T00:00:00.000000000",
          "2025-01-27T00:00:00.000000000",
          "2025-01-28T00:00:00.000000000",
          "2025-01-29T00:00:00.000000000",
          "2025-01-30T00:00:00.000000000",
          "2025-01-31T00:00:00.000000000",
          "2025-02-03T00:00:00.000000000",
          "2025-02-04T00:00:00.000000000",
          "2025-02-05T00:00:00.000000000",
          "2025-02-06T00:00:00.000000000",
          "2025-02-07T00:00:00.000000000",
          "2025-02-10T00:00:00.000000000",
          "2025-02-11T00:00:00.000000000",
          "2025-02-12T00:00:00.000000000",
          "2025-02-13T00:00:00.000000000",
          "2025-02-14T00:00:00.000000000",
          "2025-02-18T00:00:00.000000000",
          "2025-02-19T00:00:00.000000000",
          "2025-02-20T00:00:00.000000000",
          "2025-02-21T00:00:00.000000000",
          "2025-02-24T00:00:00.000000000",
          "2025-02-25T00:00:00.000000000",
          "2025-02-26T00:00:00.000000000",
          "2025-02-27T00:00:00.000000000",
          "2025-02-28T00:00:00.000000000",
          "2025-03-03T00:00:00.000000000",
          "2025-03-04T00:00:00.000000000",
          "2025-03-05T00:00:00.000000000",
          "2025-03-06T00:00:00.000000000",
          "2025-03-07T00:00:00.000000000",
          "2025-03-10T00:00:00.000000000",
          "2025-03-11T00:00:00.000000000",
          "2025-03-12T00:00:00.000000000",
          "2025-03-13T00:00:00.000000000",
          "2025-03-14T00:00:00.000000000",
          "2025-03-17T00:00:00.000000000",
          "2025-03-18T00:00:00.000000000",
          "2025-03-19T00:00:00.000000000",
          "2025-03-20T00:00:00.000000000",
          "2025-03-21T00:00:00.000000000",
          "2025-03-24T00:00:00.000000000",
          "2025-03-25T00:00:00.000000000",
          "2025-03-26T00:00:00.000000000",
          "2025-03-27T00:00:00.000000000",
          "2025-03-28T00:00:00.000000000",
          "2025-03-31T00:00:00.000000000",
          "2025-04-01T00:00:00.000000000",
          "2025-04-02T00:00:00.000000000",
          "2025-04-03T00:00:00.000000000",
          "2025-04-04T00:00:00.000000000",
          "2025-04-07T00:00:00.000000000",
          "2025-04-08T00:00:00.000000000",
          "2025-04-09T00:00:00.000000000",
          "2025-04-10T00:00:00.000000000",
          "2025-04-11T00:00:00.000000000",
          "2025-04-14T00:00:00.000000000",
          "2025-04-15T00:00:00.000000000",
          "2025-04-16T00:00:00.000000000",
          "2025-04-17T00:00:00.000000000",
          "2025-04-21T00:00:00.000000000",
          "2025-04-22T00:00:00.000000000",
          "2025-04-23T00:00:00.000000000",
          "2025-04-24T00:00:00.000000000",
          "2025-04-25T00:00:00.000000000",
          "2025-04-28T00:00:00.000000000",
          "2025-04-29T00:00:00.000000000",
          "2025-04-30T00:00:00.000000000",
          "2025-05-01T00:00:00.000000000",
          "2025-05-02T00:00:00.000000000",
          "2025-05-05T00:00:00.000000000",
          "2025-05-06T00:00:00.000000000",
          "2025-05-07T00:00:00.000000000",
          "2025-05-08T00:00:00.000000000",
          "2025-05-09T00:00:00.000000000",
          "2025-05-12T00:00:00.000000000",
          "2025-05-13T00:00:00.000000000",
          "2025-05-14T00:00:00.000000000",
          "2025-05-15T00:00:00.000000000",
          "2025-05-16T00:00:00.000000000",
          "2025-05-19T00:00:00.000000000",
          "2025-05-20T00:00:00.000000000",
          "2025-05-21T00:00:00.000000000",
          "2025-05-22T00:00:00.000000000",
          "2025-05-23T00:00:00.000000000",
          "2025-05-27T00:00:00.000000000",
          "2025-05-28T00:00:00.000000000",
          "2025-05-29T00:00:00.000000000",
          "2025-05-30T00:00:00.000000000",
          "2025-06-02T00:00:00.000000000",
          "2025-06-03T00:00:00.000000000",
          "2025-06-04T00:00:00.000000000",
          "2025-06-05T00:00:00.000000000",
          "2025-06-06T00:00:00.000000000",
          "2025-06-09T00:00:00.000000000",
          "2025-06-10T00:00:00.000000000",
          "2025-06-11T00:00:00.000000000",
          "2025-06-12T00:00:00.000000000",
          "2025-06-13T00:00:00.000000000",
          "2025-06-16T00:00:00.000000000",
          "2025-06-17T00:00:00.000000000",
          "2025-06-18T00:00:00.000000000",
          "2025-06-20T00:00:00.000000000",
          "2025-06-23T00:00:00.000000000",
          "2025-06-24T00:00:00.000000000",
          "2025-06-25T00:00:00.000000000",
          "2025-06-26T00:00:00.000000000",
          "2025-06-27T00:00:00.000000000",
          "2025-06-30T00:00:00.000000000",
          "2025-07-01T00:00:00.000000000",
          "2025-07-02T00:00:00.000000000",
          "2025-07-03T00:00:00.000000000",
          "2025-07-07T00:00:00.000000000",
          "2025-07-08T00:00:00.000000000",
          "2025-07-09T00:00:00.000000000",
          "2025-07-10T00:00:00.000000000",
          "2025-07-11T00:00:00.000000000",
          "2025-07-14T00:00:00.000000000",
          "2025-07-15T00:00:00.000000000",
          "2025-07-16T00:00:00.000000000",
          "2025-07-17T00:00:00.000000000",
          "2025-07-18T00:00:00.000000000",
          "2025-07-21T00:00:00.000000000",
          "2025-07-22T00:00:00.000000000",
          "2025-07-23T00:00:00.000000000",
          "2025-07-24T00:00:00.000000000",
          "2025-07-25T00:00:00.000000000",
          "2025-07-28T00:00:00.000000000",
          "2025-07-29T00:00:00.000000000",
          "2025-07-30T00:00:00.000000000",
          "2025-07-31T00:00:00.000000000",
          "2025-08-01T00:00:00.000000000",
          "2025-08-04T00:00:00.000000000",
          "2025-08-05T00:00:00.000000000",
          "2025-08-06T00:00:00.000000000",
          "2025-08-07T00:00:00.000000000",
          "2025-08-08T00:00:00.000000000",
          "2025-08-11T00:00:00.000000000",
          "2025-08-12T00:00:00.000000000",
          "2025-08-13T00:00:00.000000000",
          "2025-08-14T00:00:00.000000000",
          "2025-08-15T00:00:00.000000000"
         ],
         "y": {
          "bdata": "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",
          "dtype": "f8"
         }
        }
       ],
       "layout": {
        "annotations": [
         {
          "showarrow": false,
          "text": "RSI 30",
          "x": 0,
          "xanchor": "left",
          "xref": "x domain",
          "y": 30,
          "yanchor": "bottom",
          "yref": "y"
         },
         {
          "showarrow": false,
          "text": "RSI 70",
          "x": 0,
          "xanchor": "left",
          "xref": "x domain",
          "y": 70,
          "yanchor": "bottom",
          "yref": "y"
         },
         {
          "font": {
           "color": "red"
          },
          "showarrow": false,
          "text": "Oversold Area/Buy Zone",
          "x": "2025-08-15T00:00:00",
          "y": 15
         },
         {
          "font": {
           "color": "green"
          },
          "showarrow": false,
          "text": "Overbought Area/Sell Zone",
          "x": "2025-08-15T00:00:00",
          "y": 85
         }
        ],
        "legend": {
         "title": {
          "text": "Legend"
         }
        },
        "shapes": [
         {
          "line": {
           "color": "red",
           "dash": "dash"
          },
          "type": "line",
          "x0": 0,
          "x1": 1,
          "xref": "x domain",
          "y0": 30,
          "y1": 30,
          "yref": "y"
         },
         {
          "line": {
           "color": "green",
           "dash": "dash"
          },
          "type": "line",
          "x0": 0,
          "x1": 1,
          "xref": "x domain",
          "y0": 70,
          "y1": 70,
          "yref": "y"
         },
         {
          "fillcolor": "red",
          "layer": "below",
          "line": {
           "width": 0
          },
          "name": "Oversold Area/Buy Zone",
          "opacity": 0.2,
          "type": "rect",
          "x0": "2023-08-16T00:00:00",
          "x1": "2025-08-15T00:00:00",
          "y0": 0,
          "y1": 30
         },
         {
          "fillcolor": "green",
          "layer": "below",
          "line": {
           "width": 0
          },
          "name": "Overbought Area/Sell Zone",
          "opacity": 0.2,
          "type": "rect",
          "x0": "2023-08-16T00:00:00",
          "x1": "2025-08-15T00:00:00",
          "y0": 70,
          "y1": 100
         }
        ],
        "template": {
         "data": {
          "bar": [
           {
            "error_x": {
             "color": "#2a3f5f"
            },
            "error_y": {
             "color": "#2a3f5f"
            },
            "marker": {
             "line": {
              "color": "#E5ECF6",
              "width": 0.5
             },
             "pattern": {
              "fillmode": "overlay",
              "size": 10,
              "solidity": 0.2
             }
            },
            "type": "bar"
           }
          ],
          "barpolar": [
           {
            "marker": {
             "line": {
              "color": "#E5ECF6",
              "width": 0.5
             },
             "pattern": {
              "fillmode": "overlay",
              "size": 10,
              "solidity": 0.2
             }
            },
            "type": "barpolar"
           }
          ],
          "carpet": [
           {
            "aaxis": {
             "endlinecolor": "#2a3f5f",
             "gridcolor": "white",
             "linecolor": "white",
             "minorgridcolor": "white",
             "startlinecolor": "#2a3f5f"
            },
            "baxis": {
             "endlinecolor": "#2a3f5f",
             "gridcolor": "white",
             "linecolor": "white",
             "minorgridcolor": "white",
             "startlinecolor": "#2a3f5f"
            },
            "type": "carpet"
           }
          ],
          "choropleth": [
           {
            "colorbar": {
             "outlinewidth": 0,
             "ticks": ""
            },
            "type": "choropleth"
           }
          ],
          "contour": [
           {
            "colorbar": {
             "outlinewidth": 0,
             "ticks": ""
            },
            "colorscale": [
             [
              0,
              "#0d0887"
             ],
             [
              0.1111111111111111,
              "#46039f"
             ],
             [
              0.2222222222222222,
              "#7201a8"
             ],
             [
              0.3333333333333333,
              "#9c179e"
             ],
             [
              0.4444444444444444,
              "#bd3786"
             ],
             [
              0.5555555555555556,
              "#d8576b"
             ],
             [
              0.6666666666666666,
              "#ed7953"
             ],
             [
              0.7777777777777778,
              "#fb9f3a"
             ],
             [
              0.8888888888888888,
              "#fdca26"
             ],
             [
              1,
              "#f0f921"
             ]
            ],
            "type": "contour"
           }
          ],
          "contourcarpet": [
           {
            "colorbar": {
             "outlinewidth": 0,
             "ticks": ""
            },
            "type": "contourcarpet"
           }
          ],
          "heatmap": [
           {
            "colorbar": {
             "outlinewidth": 0,
             "ticks": ""
            },
            "colorscale": [
             [
              0,
              "#0d0887"
             ],
             [
              0.1111111111111111,
              "#46039f"
             ],
             [
              0.2222222222222222,
              "#7201a8"
             ],
             [
              0.3333333333333333,
              "#9c179e"
             ],
             [
              0.4444444444444444,
              "#bd3786"
             ],
             [
              0.5555555555555556,
              "#d8576b"
             ],
             [
              0.6666666666666666,
              "#ed7953"
             ],
             [
              0.7777777777777778,
              "#fb9f3a"
             ],
             [
              0.8888888888888888,
              "#fdca26"
             ],
             [
              1,
              "#f0f921"
             ]
            ],
            "type": "heatmap"
           }
          ],
          "histogram": [
           {
            "marker": {
             "pattern": {
              "fillmode": "overlay",
              "size": 10,
              "solidity": 0.2
             }
            },
            "type": "histogram"
           }
          ],
          "histogram2d": [
           {
            "colorbar": {
             "outlinewidth": 0,
             "ticks": ""
            },
            "colorscale": [
             [
              0,
              "#0d0887"
             ],
             [
              0.1111111111111111,
              "#46039f"
             ],
             [
              0.2222222222222222,
              "#7201a8"
             ],
             [
              0.3333333333333333,
              "#9c179e"
             ],
             [
              0.4444444444444444,
              "#bd3786"
             ],
             [
              0.5555555555555556,
              "#d8576b"
             ],
             [
              0.6666666666666666,
              "#ed7953"
             ],
             [
              0.7777777777777778,
              "#fb9f3a"
             ],
             [
              0.8888888888888888,
              "#fdca26"
             ],
             [
              1,
              "#f0f921"
             ]
            ],
            "type": "histogram2d"
           }
          ],
          "histogram2dcontour": [
           {
            "colorbar": {
             "outlinewidth": 0,
             "ticks": ""
            },
            "colorscale": [
             [
              0,
              "#0d0887"
             ],
             [
              0.1111111111111111,
              "#46039f"
             ],
             [
              0.2222222222222222,
              "#7201a8"
             ],
             [
              0.3333333333333333,
              "#9c179e"
             ],
             [
              0.4444444444444444,
              "#bd3786"
             ],
             [
              0.5555555555555556,
              "#d8576b"
             ],
             [
              0.6666666666666666,
              "#ed7953"
             ],
             [
              0.7777777777777778,
              "#fb9f3a"
             ],
             [
              0.8888888888888888,
              "#fdca26"
             ],
             [
              1,
              "#f0f921"
             ]
            ],
            "type": "histogram2dcontour"
           }
          ],
          "mesh3d": [
           {
            "colorbar": {
             "outlinewidth": 0,
             "ticks": ""
            },
            "type": "mesh3d"
           }
          ],
          "parcoords": [
           {
            "line": {
             "colorbar": {
              "outlinewidth": 0,
              "ticks": ""
             }
            },
            "type": "parcoords"
           }
          ],
          "pie": [
           {
            "automargin": true,
            "type": "pie"
           }
          ],
          "scatter": [
           {
            "fillpattern": {
             "fillmode": "overlay",
             "size": 10,
             "solidity": 0.2
            },
            "type": "scatter"
           }
          ],
          "scatter3d": [
           {
            "line": {
             "colorbar": {
              "outlinewidth": 0,
              "ticks": ""
             }
            },
            "marker": {
             "colorbar": {
              "outlinewidth": 0,
              "ticks": ""
             }
            },
            "type": "scatter3d"
           }
          ],
          "scattercarpet": [
           {
            "marker": {
             "colorbar": {
              "outlinewidth": 0,
              "ticks": ""
             }
            },
            "type": "scattercarpet"
           }
          ],
          "scattergeo": [
           {
            "marker": {
             "colorbar": {
              "outlinewidth": 0,
              "ticks": ""
             }
            },
            "type": "scattergeo"
           }
          ],
          "scattergl": [
           {
            "marker": {
             "colorbar": {
              "outlinewidth": 0,
              "ticks": ""
             }
            },
            "type": "scattergl"
           }
          ],
          "scattermap": [
           {
            "marker": {
             "colorbar": {
              "outlinewidth": 0,
              "ticks": ""
             }
            },
            "type": "scattermap"
           }
          ],
          "scattermapbox": [
           {
            "marker": {
             "colorbar": {
              "outlinewidth": 0,
              "ticks": ""
             }
            },
            "type": "scattermapbox"
           }
          ],
          "scatterpolar": [
           {
            "marker": {
             "colorbar": {
              "outlinewidth": 0,
              "ticks": ""
             }
            },
            "type": "scatterpolar"
           }
          ],
          "scatterpolargl": [
           {
            "marker": {
             "colorbar": {
              "outlinewidth": 0,
              "ticks": ""
             }
            },
            "type": "scatterpolargl"
           }
          ],
          "scatterternary": [
           {
            "marker": {
             "colorbar": {
              "outlinewidth": 0,
              "ticks": ""
             }
            },
            "type": "scatterternary"
           }
          ],
          "surface": [
           {
            "colorbar": {
             "outlinewidth": 0,
             "ticks": ""
            },
            "colorscale": [
             [
              0,
              "#0d0887"
             ],
             [
              0.1111111111111111,
              "#46039f"
             ],
             [
              0.2222222222222222,
              "#7201a8"
             ],
             [
              0.3333333333333333,
              "#9c179e"
             ],
             [
              0.4444444444444444,
              "#bd3786"
             ],
             [
              0.5555555555555556,
              "#d8576b"
             ],
             [
              0.6666666666666666,
              "#ed7953"
             ],
             [
              0.7777777777777778,
              "#fb9f3a"
             ],
             [
              0.8888888888888888,
              "#fdca26"
             ],
             [
              1,
              "#f0f921"
             ]
            ],
            "type": "surface"
           }
          ],
          "table": [
           {
            "cells": {
             "fill": {
              "color": "#EBF0F8"
             },
             "line": {
              "color": "white"
             }
            },
            "header": {
             "fill": {
              "color": "#C8D4E3"
             },
             "line": {
              "color": "white"
             }
            },
            "type": "table"
           }
          ]
         },
         "layout": {
          "annotationdefaults": {
           "arrowcolor": "#2a3f5f",
           "arrowhead": 0,
           "arrowwidth": 1
          },
          "autotypenumbers": "strict",
          "coloraxis": {
           "colorbar": {
            "outlinewidth": 0,
            "ticks": ""
           }
          },
          "colorscale": {
           "diverging": [
            [
             0,
             "#8e0152"
            ],
            [
             0.1,
             "#c51b7d"
            ],
            [
             0.2,
             "#de77ae"
            ],
            [
             0.3,
             "#f1b6da"
            ],
            [
             0.4,
             "#fde0ef"
            ],
            [
             0.5,
             "#f7f7f7"
            ],
            [
             0.6,
             "#e6f5d0"
            ],
            [
             0.7,
             "#b8e186"
            ],
            [
             0.8,
             "#7fbc41"
            ],
            [
             0.9,
             "#4d9221"
            ],
            [
             1,
             "#276419"
            ]
           ],
           "sequential": [
            [
             0,
             "#0d0887"
            ],
            [
             0.1111111111111111,
             "#46039f"
            ],
            [
             0.2222222222222222,
             "#7201a8"
            ],
            [
             0.3333333333333333,
             "#9c179e"
            ],
            [
             0.4444444444444444,
             "#bd3786"
            ],
            [
             0.5555555555555556,
             "#d8576b"
            ],
            [
             0.6666666666666666,
             "#ed7953"
            ],
            [
             0.7777777777777778,
             "#fb9f3a"
            ],
            [
             0.8888888888888888,
             "#fdca26"
            ],
            [
             1,
             "#f0f921"
            ]
           ],
           "sequentialminus": [
            [
             0,
             "#0d0887"
            ],
            [
             0.1111111111111111,
             "#46039f"
            ],
            [
             0.2222222222222222,
             "#7201a8"
            ],
            [
             0.3333333333333333,
             "#9c179e"
            ],
            [
             0.4444444444444444,
             "#bd3786"
            ],
            [
             0.5555555555555556,
             "#d8576b"
            ],
            [
             0.6666666666666666,
             "#ed7953"
            ],
            [
             0.7777777777777778,
             "#fb9f3a"
            ],
            [
             0.8888888888888888,
             "#fdca26"
            ],
            [
             1,
             "#f0f921"
            ]
           ]
          },
          "colorway": [
           "#636efa",
           "#EF553B",
           "#00cc96",
           "#ab63fa",
           "#FFA15A",
           "#19d3f3",
           "#FF6692",
           "#B6E880",
           "#FF97FF",
           "#FECB52"
          ],
          "font": {
           "color": "#2a3f5f"
          },
          "geo": {
           "bgcolor": "white",
           "lakecolor": "white",
           "landcolor": "#E5ECF6",
           "showlakes": true,
           "showland": true,
           "subunitcolor": "white"
          },
          "hoverlabel": {
           "align": "left"
          },
          "hovermode": "closest",
          "mapbox": {
           "style": "light"
          },
          "paper_bgcolor": "white",
          "plot_bgcolor": "#E5ECF6",
          "polar": {
           "angularaxis": {
            "gridcolor": "white",
            "linecolor": "white",
            "ticks": ""
           },
           "bgcolor": "#E5ECF6",
           "radialaxis": {
            "gridcolor": "white",
            "linecolor": "white",
            "ticks": ""
           }
          },
          "scene": {
           "xaxis": {
            "backgroundcolor": "#E5ECF6",
            "gridcolor": "white",
            "gridwidth": 2,
            "linecolor": "white",
            "showbackground": true,
            "ticks": "",
            "zerolinecolor": "white"
           },
           "yaxis": {
            "backgroundcolor": "#E5ECF6",
            "gridcolor": "white",
            "gridwidth": 2,
            "linecolor": "white",
            "showbackground": true,
            "ticks": "",
            "zerolinecolor": "white"
           },
           "zaxis": {
            "backgroundcolor": "#E5ECF6",
            "gridcolor": "white",
            "gridwidth": 2,
            "linecolor": "white",
            "showbackground": true,
            "ticks": "",
            "zerolinecolor": "white"
           }
          },
          "shapedefaults": {
           "line": {
            "color": "#2a3f5f"
           }
          },
          "ternary": {
           "aaxis": {
            "gridcolor": "white",
            "linecolor": "white",
            "ticks": ""
           },
           "baxis": {
            "gridcolor": "white",
            "linecolor": "white",
            "ticks": ""
           },
           "bgcolor": "#E5ECF6",
           "caxis": {
            "gridcolor": "white",
            "linecolor": "white",
            "ticks": ""
           }
          },
          "title": {
           "x": 0.05
          },
          "xaxis": {
           "automargin": true,
           "gridcolor": "white",
           "linecolor": "white",
           "ticks": "",
           "title": {
            "standoff": 15
           },
           "zerolinecolor": "white",
           "zerolinewidth": 2
          },
          "yaxis": {
           "automargin": true,
           "gridcolor": "white",
           "linecolor": "white",
           "ticks": "",
           "title": {
            "standoff": 15
           },
           "zerolinecolor": "white",
           "zerolinewidth": 2
          }
         }
        },
        "title": {
         "text": "AAPL RSI 14 (Full History)"
        },
        "xaxis": {
         "rangeslider": {
          "visible": true
         },
         "title": {
          "text": "Date"
         }
        },
        "yaxis": {
         "title": {
          "text": "RSI"
         }
        }
       }
      }
     },
     "metadata": {},
     "output_type": "display_data"
    }
   ],
   "source": [
    "ma.plot_RSI(price_history, ticker)"
   ]
  },
  {
   "cell_type": "markdown",
   "id": "571fb940",
   "metadata": {},
   "source": [
    "![RSI Chart](RSI_chart.png)"
   ]
  },
  {
   "cell_type": "markdown",
   "id": "5540205e",
   "metadata": {},
   "source": [
    "### MACD\n"
   ]
  },
  {
   "cell_type": "code",
   "execution_count": null,
   "id": "5e03f4da",
   "metadata": {},
   "outputs": [
    {
     "data": {
      "application/vnd.plotly.v1+json": {
       "config": {
        "plotlyServerURL": "https://plot.ly"
       },
       "data": [
        {
         "customdata": {
          "bdata": "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",
          "dtype": "f8",
          "shape": "502, 4"
         },
         "hovertemplate": "<b>Date:</b> %{x}<br><b>Close Price:</b> %{customdata[0]}<br><b>MACD:</b> %{y}<br><b>MACD Signal:</b> %{customdata[1]}<br><b>MACD Histogram:</b> %{customdata[2]}",
         "mode": "lines",
         "name": "MACD",
         "type": "scatter",
         "x": [
          "2023-08-16T00:00:00",
          "2023-08-17T00:00:00",
          "2023-08-18T00:00:00",
          "2023-08-21T00:00:00",
          "2023-08-22T00:00:00",
          "2023-08-23T00:00:00",
          "2023-08-24T00:00:00",
          "2023-08-25T00:00:00",
          "2023-08-28T00:00:00",
          "2023-08-29T00:00:00",
          "2023-08-30T00:00:00",
          "2023-08-31T00:00:00",
          "2023-09-01T00:00:00",
          "2023-09-05T00:00:00",
          "2023-09-06T00:00:00",
          "2023-09-07T00:00:00",
          "2023-09-08T00:00:00",
          "2023-09-11T00:00:00",
          "2023-09-12T00:00:00",
          "2023-09-13T00:00:00",
          "2023-09-14T00:00:00",
          "2023-09-15T00:00:00",
          "2023-09-18T00:00:00",
          "2023-09-19T00:00:00",
          "2023-09-20T00:00:00",
          "2023-09-21T00:00:00",
          "2023-09-22T00:00:00",
          "2023-09-25T00:00:00",
          "2023-09-26T00:00:00",
          "2023-09-27T00:00:00",
          "2023-09-28T00:00:00",
          "2023-09-29T00:00:00",
          "2023-10-02T00:00:00",
          "2023-10-03T00:00:00",
          "2023-10-04T00:00:00",
          "2023-10-05T00:00:00",
          "2023-10-06T00:00:00",
          "2023-10-09T00:00:00",
          "2023-10-10T00:00:00",
          "2023-10-11T00:00:00",
          "2023-10-12T00:00:00",
          "2023-10-13T00:00:00",
          "2023-10-16T00:00:00",
          "2023-10-17T00:00:00",
          "2023-10-18T00:00:00",
          "2023-10-19T00:00:00",
          "2023-10-20T00:00:00",
          "2023-10-23T00:00:00",
          "2023-10-24T00:00:00",
          "2023-10-25T00:00:00",
          "2023-10-26T00:00:00",
          "2023-10-27T00:00:00",
          "2023-10-30T00:00:00",
          "2023-10-31T00:00:00",
          "2023-11-01T00:00:00",
          "2023-11-02T00:00:00",
          "2023-11-03T00:00:00",
          "2023-11-06T00:00:00",
          "2023-11-07T00:00:00",
          "2023-11-08T00:00:00",
          "2023-11-09T00:00:00",
          "2023-11-10T00:00:00",
          "2023-11-13T00:00:00",
          "2023-11-14T00:00:00",
          "2023-11-15T00:00:00",
          "2023-11-16T00:00:00",
          "2023-11-17T00:00:00",
          "2023-11-20T00:00:00",
          "2023-11-21T00:00:00",
          "2023-11-22T00:00:00",
          "2023-11-24T00:00:00",
          "2023-11-27T00:00:00",
          "2023-11-28T00:00:00",
          "2023-11-29T00:00:00",
          "2023-11-30T00:00:00",
          "2023-12-01T00:00:00",
          "2023-12-04T00:00:00",
          "2023-12-05T00:00:00",
          "2023-12-06T00:00:00",
          "2023-12-07T00:00:00",
          "2023-12-08T00:00:00",
          "2023-12-11T00:00:00",
          "2023-12-12T00:00:00",
          "2023-12-13T00:00:00",
          "2023-12-14T00:00:00",
          "2023-12-15T00:00:00",
          "2023-12-18T00:00:00",
          "2023-12-19T00:00:00",
          "2023-12-20T00:00:00",
          "2023-12-21T00:00:00",
          "2023-12-22T00:00:00",
          "2023-12-26T00:00:00",
          "2023-12-27T00:00:00",
          "2023-12-28T00:00:00",
          "2023-12-29T00:00:00",
          "2024-01-02T00:00:00",
          "2024-01-03T00:00:00",
          "2024-01-04T00:00:00",
          "2024-01-05T00:00:00",
          "2024-01-08T00:00:00",
          "2024-01-09T00:00:00",
          "2024-01-10T00:00:00",
          "2024-01-11T00:00:00",
          "2024-01-12T00:00:00",
          "2024-01-16T00:00:00",
          "2024-01-17T00:00:00",
          "2024-01-18T00:00:00",
          "2024-01-19T00:00:00",
          "2024-01-22T00:00:00",
          "2024-01-23T00:00:00",
          "2024-01-24T00:00:00",
          "2024-01-25T00:00:00",
          "2024-01-26T00:00:00",
          "2024-01-29T00:00:00",
          "2024-01-30T00:00:00",
          "2024-01-31T00:00:00",
          "2024-02-01T00:00:00",
          "2024-02-02T00:00:00",
          "2024-02-05T00:00:00",
          "2024-02-06T00:00:00",
          "2024-02-07T00:00:00",
          "2024-02-08T00:00:00",
          "2024-02-09T00:00:00",
          "2024-02-12T00:00:00",
          "2024-02-13T00:00:00",
          "2024-02-14T00:00:00",
          "2024-02-15T00:00:00",
          "2024-02-16T00:00:00",
          "2024-02-20T00:00:00",
          "2024-02-21T00:00:00",
          "2024-02-22T00:00:00",
          "2024-02-23T00:00:00",
          "2024-02-26T00:00:00",
          "2024-02-27T00:00:00",
          "2024-02-28T00:00:00",
          "2024-02-29T00:00:00",
          "2024-03-01T00:00:00",
          "2024-03-04T00:00:00",
          "2024-03-05T00:00:00",
          "2024-03-06T00:00:00",
          "2024-03-07T00:00:00",
          "2024-03-08T00:00:00",
          "2024-03-11T00:00:00",
          "2024-03-12T00:00:00",
          "2024-03-13T00:00:00",
          "2024-03-14T00:00:00",
          "2024-03-15T00:00:00",
          "2024-03-18T00:00:00",
          "2024-03-19T00:00:00",
          "2024-03-20T00:00:00",
          "2024-03-21T00:00:00",
          "2024-03-22T00:00:00",
          "2024-03-25T00:00:00",
          "2024-03-26T00:00:00",
          "2024-03-27T00:00:00",
          "2024-03-28T00:00:00",
          "2024-04-01T00:00:00",
          "2024-04-02T00:00:00",
          "2024-04-03T00:00:00",
          "2024-04-04T00:00:00",
          "2024-04-05T00:00:00",
          "2024-04-08T00:00:00",
          "2024-04-09T00:00:00",
          "2024-04-10T00:00:00",
          "2024-04-11T00:00:00",
          "2024-04-12T00:00:00",
          "2024-04-15T00:00:00",
          "2024-04-16T00:00:00",
          "2024-04-17T00:00:00",
          "2024-04-18T00:00:00",
          "2024-04-19T00:00:00",
          "2024-04-22T00:00:00",
          "2024-04-23T00:00:00",
          "2024-04-24T00:00:00",
          "2024-04-25T00:00:00",
          "2024-04-26T00:00:00",
          "2024-04-29T00:00:00",
          "2024-04-30T00:00:00",
          "2024-05-01T00:00:00",
          "2024-05-02T00:00:00",
          "2024-05-03T00:00:00",
          "2024-05-06T00:00:00",
          "2024-05-07T00:00:00",
          "2024-05-08T00:00:00",
          "2024-05-09T00:00:00",
          "2024-05-10T00:00:00",
          "2024-05-13T00:00:00",
          "2024-05-14T00:00:00",
          "2024-05-15T00:00:00",
          "2024-05-16T00:00:00",
          "2024-05-17T00:00:00",
          "2024-05-20T00:00:00",
          "2024-05-21T00:00:00",
          "2024-05-22T00:00:00",
          "2024-05-23T00:00:00",
          "2024-05-24T00:00:00",
          "2024-05-28T00:00:00",
          "2024-05-29T00:00:00",
          "2024-05-30T00:00:00",
          "2024-05-31T00:00:00",
          "2024-06-03T00:00:00",
          "2024-06-04T00:00:00",
          "2024-06-05T00:00:00",
          "2024-06-06T00:00:00",
          "2024-06-07T00:00:00",
          "2024-06-10T00:00:00",
          "2024-06-11T00:00:00",
          "2024-06-12T00:00:00",
          "2024-06-13T00:00:00",
          "2024-06-14T00:00:00",
          "2024-06-17T00:00:00",
          "2024-06-18T00:00:00",
          "2024-06-20T00:00:00",
          "2024-06-21T00:00:00",
          "2024-06-24T00:00:00",
          "2024-06-25T00:00:00",
          "2024-06-26T00:00:00",
          "2024-06-27T00:00:00",
          "2024-06-28T00:00:00",
          "2024-07-01T00:00:00",
          "2024-07-02T00:00:00",
          "2024-07-03T00:00:00",
          "2024-07-05T00:00:00",
          "2024-07-08T00:00:00",
          "2024-07-09T00:00:00",
          "2024-07-10T00:00:00",
          "2024-07-11T00:00:00",
          "2024-07-12T00:00:00",
          "2024-07-15T00:00:00",
          "2024-07-16T00:00:00",
          "2024-07-17T00:00:00",
          "2024-07-18T00:00:00",
          "2024-07-19T00:00:00",
          "2024-07-22T00:00:00",
          "2024-07-23T00:00:00",
          "2024-07-24T00:00:00",
          "2024-07-25T00:00:00",
          "2024-07-26T00:00:00",
          "2024-07-29T00:00:00",
          "2024-07-30T00:00:00",
          "2024-07-31T00:00:00",
          "2024-08-01T00:00:00",
          "2024-08-02T00:00:00",
          "2024-08-05T00:00:00",
          "2024-08-06T00:00:00",
          "2024-08-07T00:00:00",
          "2024-08-08T00:00:00",
          "2024-08-09T00:00:00",
          "2024-08-12T00:00:00",
          "2024-08-13T00:00:00",
          "2024-08-14T00:00:00",
          "2024-08-15T00:00:00",
          "2024-08-16T00:00:00",
          "2024-08-19T00:00:00",
          "2024-08-20T00:00:00",
          "2024-08-21T00:00:00",
          "2024-08-22T00:00:00",
          "2024-08-23T00:00:00",
          "2024-08-26T00:00:00",
          "2024-08-27T00:00:00",
          "2024-08-28T00:00:00",
          "2024-08-29T00:00:00",
          "2024-08-30T00:00:00",
          "2024-09-03T00:00:00",
          "2024-09-04T00:00:00",
          "2024-09-05T00:00:00",
          "2024-09-06T00:00:00",
          "2024-09-09T00:00:00",
          "2024-09-10T00:00:00",
          "2024-09-11T00:00:00",
          "2024-09-12T00:00:00",
          "2024-09-13T00:00:00",
          "2024-09-16T00:00:00",
          "2024-09-17T00:00:00",
          "2024-09-18T00:00:00",
          "2024-09-19T00:00:00",
          "2024-09-20T00:00:00",
          "2024-09-23T00:00:00",
          "2024-09-24T00:00:00",
          "2024-09-25T00:00:00",
          "2024-09-26T00:00:00",
          "2024-09-27T00:00:00",
          "2024-09-30T00:00:00",
          "2024-10-01T00:00:00",
          "2024-10-02T00:00:00",
          "2024-10-03T00:00:00",
          "2024-10-04T00:00:00",
          "2024-10-07T00:00:00",
          "2024-10-08T00:00:00",
          "2024-10-09T00:00:00",
          "2024-10-10T00:00:00",
          "2024-10-11T00:00:00",
          "2024-10-14T00:00:00",
          "2024-10-15T00:00:00",
          "2024-10-16T00:00:00",
          "2024-10-17T00:00:00",
          "2024-10-18T00:00:00",
          "2024-10-21T00:00:00",
          "2024-10-22T00:00:00",
          "2024-10-23T00:00:00",
          "2024-10-24T00:00:00",
          "2024-10-25T00:00:00",
          "2024-10-28T00:00:00",
          "2024-10-29T00:00:00",
          "2024-10-30T00:00:00",
          "2024-10-31T00:00:00",
          "2024-11-01T00:00:00",
          "2024-11-04T00:00:00",
          "2024-11-05T00:00:00",
          "2024-11-06T00:00:00",
          "2024-11-07T00:00:00",
          "2024-11-08T00:00:00",
          "2024-11-11T00:00:00",
          "2024-11-12T00:00:00",
          "2024-11-13T00:00:00",
          "2024-11-14T00:00:00",
          "2024-11-15T00:00:00",
          "2024-11-18T00:00:00",
          "2024-11-19T00:00:00",
          "2024-11-20T00:00:00",
          "2024-11-21T00:00:00",
          "2024-11-22T00:00:00",
          "2024-11-25T00:00:00",
          "2024-11-26T00:00:00",
          "2024-11-27T00:00:00",
          "2024-11-29T00:00:00",
          "2024-12-02T00:00:00",
          "2024-12-03T00:00:00",
          "2024-12-04T00:00:00",
          "2024-12-05T00:00:00",
          "2024-12-06T00:00:00",
          "2024-12-09T00:00:00",
          "2024-12-10T00:00:00",
          "2024-12-11T00:00:00",
          "2024-12-12T00:00:00",
          "2024-12-13T00:00:00",
          "2024-12-16T00:00:00",
          "2024-12-17T00:00:00",
          "2024-12-18T00:00:00",
          "2024-12-19T00:00:00",
          "2024-12-20T00:00:00",
          "2024-12-23T00:00:00",
          "2024-12-24T00:00:00",
          "2024-12-26T00:00:00",
          "2024-12-27T00:00:00",
          "2024-12-30T00:00:00",
          "2024-12-31T00:00:00",
          "2025-01-02T00:00:00",
          "2025-01-03T00:00:00",
          "2025-01-06T00:00:00",
          "2025-01-07T00:00:00",
          "2025-01-08T00:00:00",
          "2025-01-10T00:00:00",
          "2025-01-13T00:00:00",
          "2025-01-14T00:00:00",
          "2025-01-15T00:00:00",
          "2025-01-16T00:00:00",
          "2025-01-17T00:00:00",
          "2025-01-21T00:00:00",
          "2025-01-22T00:00:00",
          "2025-01-23T00:00:00",
          "2025-01-24T00:00:00",
          "2025-01-27T00:00:00",
          "2025-01-28T00:00:00",
          "2025-01-29T00:00:00",
          "2025-01-30T00:00:00",
          "2025-01-31T00:00:00",
          "2025-02-03T00:00:00",
          "2025-02-04T00:00:00",
          "2025-02-05T00:00:00",
          "2025-02-06T00:00:00",
          "2025-02-07T00:00:00",
          "2025-02-10T00:00:00",
          "2025-02-11T00:00:00",
          "2025-02-12T00:00:00",
          "2025-02-13T00:00:00",
          "2025-02-14T00:00:00",
          "2025-02-18T00:00:00",
          "2025-02-19T00:00:00",
          "2025-02-20T00:00:00",
          "2025-02-21T00:00:00",
          "2025-02-24T00:00:00",
          "2025-02-25T00:00:00",
          "2025-02-26T00:00:00",
          "2025-02-27T00:00:00",
          "2025-02-28T00:00:00",
          "2025-03-03T00:00:00",
          "2025-03-04T00:00:00",
          "2025-03-05T00:00:00",
          "2025-03-06T00:00:00",
          "2025-03-07T00:00:00",
          "2025-03-10T00:00:00",
          "2025-03-11T00:00:00",
          "2025-03-12T00:00:00",
          "2025-03-13T00:00:00",
          "2025-03-14T00:00:00",
          "2025-03-17T00:00:00",
          "2025-03-18T00:00:00",
          "2025-03-19T00:00:00",
          "2025-03-20T00:00:00",
          "2025-03-21T00:00:00",
          "2025-03-24T00:00:00",
          "2025-03-25T00:00:00",
          "2025-03-26T00:00:00",
          "2025-03-27T00:00:00",
          "2025-03-28T00:00:00",
          "2025-03-31T00:00:00",
          "2025-04-01T00:00:00",
          "2025-04-02T00:00:00",
          "2025-04-03T00:00:00",
          "2025-04-04T00:00:00",
          "2025-04-07T00:00:00",
          "2025-04-08T00:00:00",
          "2025-04-09T00:00:00",
          "2025-04-10T00:00:00",
          "2025-04-11T00:00:00",
          "2025-04-14T00:00:00",
          "2025-04-15T00:00:00",
          "2025-04-16T00:00:00",
          "2025-04-17T00:00:00",
          "2025-04-21T00:00:00",
          "2025-04-22T00:00:00",
          "2025-04-23T00:00:00",
          "2025-04-24T00:00:00",
          "2025-04-25T00:00:00",
          "2025-04-28T00:00:00",
          "2025-04-29T00:00:00",
          "2025-04-30T00:00:00",
          "2025-05-01T00:00:00",
          "2025-05-02T00:00:00",
          "2025-05-05T00:00:00",
          "2025-05-06T00:00:00",
          "2025-05-07T00:00:00",
          "2025-05-08T00:00:00",
          "2025-05-09T00:00:00",
          "2025-05-12T00:00:00",
          "2025-05-13T00:00:00",
          "2025-05-14T00:00:00",
          "2025-05-15T00:00:00",
          "2025-05-16T00:00:00",
          "2025-05-19T00:00:00",
          "2025-05-20T00:00:00",
          "2025-05-21T00:00:00",
          "2025-05-22T00:00:00",
          "2025-05-23T00:00:00",
          "2025-05-27T00:00:00",
          "2025-05-28T00:00:00",
          "2025-05-29T00:00:00",
          "2025-05-30T00:00:00",
          "2025-06-02T00:00:00",
          "2025-06-03T00:00:00",
          "2025-06-04T00:00:00",
          "2025-06-05T00:00:00",
          "2025-06-06T00:00:00",
          "2025-06-09T00:00:00",
          "2025-06-10T00:00:00",
          "2025-06-11T00:00:00",
          "2025-06-12T00:00:00",
          "2025-06-13T00:00:00",
          "2025-06-16T00:00:00",
          "2025-06-17T00:00:00",
          "2025-06-18T00:00:00",
          "2025-06-20T00:00:00",
          "2025-06-23T00:00:00",
          "2025-06-24T00:00:00",
          "2025-06-25T00:00:00",
          "2025-06-26T00:00:00",
          "2025-06-27T00:00:00",
          "2025-06-30T00:00:00",
          "2025-07-01T00:00:00",
          "2025-07-02T00:00:00",
          "2025-07-03T00:00:00",
          "2025-07-07T00:00:00",
          "2025-07-08T00:00:00",
          "2025-07-09T00:00:00",
          "2025-07-10T00:00:00",
          "2025-07-11T00:00:00",
          "2025-07-14T00:00:00",
          "2025-07-15T00:00:00",
          "2025-07-16T00:00:00",
          "2025-07-17T00:00:00",
          "2025-07-18T00:00:00",
          "2025-07-21T00:00:00",
          "2025-07-22T00:00:00",
          "2025-07-23T00:00:00",
          "2025-07-24T00:00:00",
          "2025-07-25T00:00:00",
          "2025-07-28T00:00:00",
          "2025-07-29T00:00:00",
          "2025-07-30T00:00:00",
          "2025-07-31T00:00:00",
          "2025-08-01T00:00:00",
          "2025-08-04T00:00:00",
          "2025-08-05T00:00:00",
          "2025-08-06T00:00:00",
          "2025-08-07T00:00:00",
          "2025-08-08T00:00:00",
          "2025-08-11T00:00:00",
          "2025-08-12T00:00:00",
          "2025-08-13T00:00:00",
          "2025-08-14T00:00:00",
          "2025-08-15T00:00:00"
         ],
         "y": {
          "bdata": "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",
          "dtype": "f8"
         }
        },
        {
         "customdata": {
          "bdata": "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",
          "dtype": "f8",
          "shape": "502, 4"
         },
         "hovertemplate": "<b>Date:</b> %{x}<br><b>Close Price:</b> %{customdata[0]}<br><b>MACD:</b> %{y}<br><b>MACD Signal:</b> %{customdata[1]}<br><b>MACD Histogram:</b> %{customdata[2]}",
         "mode": "lines",
         "name": "MACD Signal",
         "type": "scatter",
         "x": [
          "2023-08-16T00:00:00",
          "2023-08-17T00:00:00",
          "2023-08-18T00:00:00",
          "2023-08-21T00:00:00",
          "2023-08-22T00:00:00",
          "2023-08-23T00:00:00",
          "2023-08-24T00:00:00",
          "2023-08-25T00:00:00",
          "2023-08-28T00:00:00",
          "2023-08-29T00:00:00",
          "2023-08-30T00:00:00",
          "2023-08-31T00:00:00",
          "2023-09-01T00:00:00",
          "2023-09-05T00:00:00",
          "2023-09-06T00:00:00",
          "2023-09-07T00:00:00",
          "2023-09-08T00:00:00",
          "2023-09-11T00:00:00",
          "2023-09-12T00:00:00",
          "2023-09-13T00:00:00",
          "2023-09-14T00:00:00",
          "2023-09-15T00:00:00",
          "2023-09-18T00:00:00",
          "2023-09-19T00:00:00",
          "2023-09-20T00:00:00",
          "2023-09-21T00:00:00",
          "2023-09-22T00:00:00",
          "2023-09-25T00:00:00",
          "2023-09-26T00:00:00",
          "2023-09-27T00:00:00",
          "2023-09-28T00:00:00",
          "2023-09-29T00:00:00",
          "2023-10-02T00:00:00",
          "2023-10-03T00:00:00",
          "2023-10-04T00:00:00",
          "2023-10-05T00:00:00",
          "2023-10-06T00:00:00",
          "2023-10-09T00:00:00",
          "2023-10-10T00:00:00",
          "2023-10-11T00:00:00",
          "2023-10-12T00:00:00",
          "2023-10-13T00:00:00",
          "2023-10-16T00:00:00",
          "2023-10-17T00:00:00",
          "2023-10-18T00:00:00",
          "2023-10-19T00:00:00",
          "2023-10-20T00:00:00",
          "2023-10-23T00:00:00",
          "2023-10-24T00:00:00",
          "2023-10-25T00:00:00",
          "2023-10-26T00:00:00",
          "2023-10-27T00:00:00",
          "2023-10-30T00:00:00",
          "2023-10-31T00:00:00",
          "2023-11-01T00:00:00",
          "2023-11-02T00:00:00",
          "2023-11-03T00:00:00",
          "2023-11-06T00:00:00",
          "2023-11-07T00:00:00",
          "2023-11-08T00:00:00",
          "2023-11-09T00:00:00",
          "2023-11-10T00:00:00",
          "2023-11-13T00:00:00",
          "2023-11-14T00:00:00",
          "2023-11-15T00:00:00",
          "2023-11-16T00:00:00",
          "2023-11-17T00:00:00",
          "2023-11-20T00:00:00",
          "2023-11-21T00:00:00",
          "2023-11-22T00:00:00",
          "2023-11-24T00:00:00",
          "2023-11-27T00:00:00",
          "2023-11-28T00:00:00",
          "2023-11-29T00:00:00",
          "2023-11-30T00:00:00",
          "2023-12-01T00:00:00",
          "2023-12-04T00:00:00",
          "2023-12-05T00:00:00",
          "2023-12-06T00:00:00",
          "2023-12-07T00:00:00",
          "2023-12-08T00:00:00",
          "2023-12-11T00:00:00",
          "2023-12-12T00:00:00",
          "2023-12-13T00:00:00",
          "2023-12-14T00:00:00",
          "2023-12-15T00:00:00",
          "2023-12-18T00:00:00",
          "2023-12-19T00:00:00",
          "2023-12-20T00:00:00",
          "2023-12-21T00:00:00",
          "2023-12-22T00:00:00",
          "2023-12-26T00:00:00",
          "2023-12-27T00:00:00",
          "2023-12-28T00:00:00",
          "2023-12-29T00:00:00",
          "2024-01-02T00:00:00",
          "2024-01-03T00:00:00",
          "2024-01-04T00:00:00",
          "2024-01-05T00:00:00",
          "2024-01-08T00:00:00",
          "2024-01-09T00:00:00",
          "2024-01-10T00:00:00",
          "2024-01-11T00:00:00",
          "2024-01-12T00:00:00",
          "2024-01-16T00:00:00",
          "2024-01-17T00:00:00",
          "2024-01-18T00:00:00",
          "2024-01-19T00:00:00",
          "2024-01-22T00:00:00",
          "2024-01-23T00:00:00",
          "2024-01-24T00:00:00",
          "2024-01-25T00:00:00",
          "2024-01-26T00:00:00",
          "2024-01-29T00:00:00",
          "2024-01-30T00:00:00",
          "2024-01-31T00:00:00",
          "2024-02-01T00:00:00",
          "2024-02-02T00:00:00",
          "2024-02-05T00:00:00",
          "2024-02-06T00:00:00",
          "2024-02-07T00:00:00",
          "2024-02-08T00:00:00",
          "2024-02-09T00:00:00",
          "2024-02-12T00:00:00",
          "2024-02-13T00:00:00",
          "2024-02-14T00:00:00",
          "2024-02-15T00:00:00",
          "2024-02-16T00:00:00",
          "2024-02-20T00:00:00",
          "2024-02-21T00:00:00",
          "2024-02-22T00:00:00",
          "2024-02-23T00:00:00",
          "2024-02-26T00:00:00",
          "2024-02-27T00:00:00",
          "2024-02-28T00:00:00",
          "2024-02-29T00:00:00",
          "2024-03-01T00:00:00",
          "2024-03-04T00:00:00",
          "2024-03-05T00:00:00",
          "2024-03-06T00:00:00",
          "2024-03-07T00:00:00",
          "2024-03-08T00:00:00",
          "2024-03-11T00:00:00",
          "2024-03-12T00:00:00",
          "2024-03-13T00:00:00",
          "2024-03-14T00:00:00",
          "2024-03-15T00:00:00",
          "2024-03-18T00:00:00",
          "2024-03-19T00:00:00",
          "2024-03-20T00:00:00",
          "2024-03-21T00:00:00",
          "2024-03-22T00:00:00",
          "2024-03-25T00:00:00",
          "2024-03-26T00:00:00",
          "2024-03-27T00:00:00",
          "2024-03-28T00:00:00",
          "2024-04-01T00:00:00",
          "2024-04-02T00:00:00",
          "2024-04-03T00:00:00",
          "2024-04-04T00:00:00",
          "2024-04-05T00:00:00",
          "2024-04-08T00:00:00",
          "2024-04-09T00:00:00",
          "2024-04-10T00:00:00",
          "2024-04-11T00:00:00",
          "2024-04-12T00:00:00",
          "2024-04-15T00:00:00",
          "2024-04-16T00:00:00",
          "2024-04-17T00:00:00",
          "2024-04-18T00:00:00",
          "2024-04-19T00:00:00",
          "2024-04-22T00:00:00",
          "2024-04-23T00:00:00",
          "2024-04-24T00:00:00",
          "2024-04-25T00:00:00",
          "2024-04-26T00:00:00",
          "2024-04-29T00:00:00",
          "2024-04-30T00:00:00",
          "2024-05-01T00:00:00",
          "2024-05-02T00:00:00",
          "2024-05-03T00:00:00",
          "2024-05-06T00:00:00",
          "2024-05-07T00:00:00",
          "2024-05-08T00:00:00",
          "2024-05-09T00:00:00",
          "2024-05-10T00:00:00",
          "2024-05-13T00:00:00",
          "2024-05-14T00:00:00",
          "2024-05-15T00:00:00",
          "2024-05-16T00:00:00",
          "2024-05-17T00:00:00",
          "2024-05-20T00:00:00",
          "2024-05-21T00:00:00",
          "2024-05-22T00:00:00",
          "2024-05-23T00:00:00",
          "2024-05-24T00:00:00",
          "2024-05-28T00:00:00",
          "2024-05-29T00:00:00",
          "2024-05-30T00:00:00",
          "2024-05-31T00:00:00",
          "2024-06-03T00:00:00",
          "2024-06-04T00:00:00",
          "2024-06-05T00:00:00",
          "2024-06-06T00:00:00",
          "2024-06-07T00:00:00",
          "2024-06-10T00:00:00",
          "2024-06-11T00:00:00",
          "2024-06-12T00:00:00",
          "2024-06-13T00:00:00",
          "2024-06-14T00:00:00",
          "2024-06-17T00:00:00",
          "2024-06-18T00:00:00",
          "2024-06-20T00:00:00",
          "2024-06-21T00:00:00",
          "2024-06-24T00:00:00",
          "2024-06-25T00:00:00",
          "2024-06-26T00:00:00",
          "2024-06-27T00:00:00",
          "2024-06-28T00:00:00",
          "2024-07-01T00:00:00",
          "2024-07-02T00:00:00",
          "2024-07-03T00:00:00",
          "2024-07-05T00:00:00",
          "2024-07-08T00:00:00",
          "2024-07-09T00:00:00",
          "2024-07-10T00:00:00",
          "2024-07-11T00:00:00",
          "2024-07-12T00:00:00",
          "2024-07-15T00:00:00",
          "2024-07-16T00:00:00",
          "2024-07-17T00:00:00",
          "2024-07-18T00:00:00",
          "2024-07-19T00:00:00",
          "2024-07-22T00:00:00",
          "2024-07-23T00:00:00",
          "2024-07-24T00:00:00",
          "2024-07-25T00:00:00",
          "2024-07-26T00:00:00",
          "2024-07-29T00:00:00",
          "2024-07-30T00:00:00",
          "2024-07-31T00:00:00",
          "2024-08-01T00:00:00",
          "2024-08-02T00:00:00",
          "2024-08-05T00:00:00",
          "2024-08-06T00:00:00",
          "2024-08-07T00:00:00",
          "2024-08-08T00:00:00",
          "2024-08-09T00:00:00",
          "2024-08-12T00:00:00",
          "2024-08-13T00:00:00",
          "2024-08-14T00:00:00",
          "2024-08-15T00:00:00",
          "2024-08-16T00:00:00",
          "2024-08-19T00:00:00",
          "2024-08-20T00:00:00",
          "2024-08-21T00:00:00",
          "2024-08-22T00:00:00",
          "2024-08-23T00:00:00",
          "2024-08-26T00:00:00",
          "2024-08-27T00:00:00",
          "2024-08-28T00:00:00",
          "2024-08-29T00:00:00",
          "2024-08-30T00:00:00",
          "2024-09-03T00:00:00",
          "2024-09-04T00:00:00",
          "2024-09-05T00:00:00",
          "2024-09-06T00:00:00",
          "2024-09-09T00:00:00",
          "2024-09-10T00:00:00",
          "2024-09-11T00:00:00",
          "2024-09-12T00:00:00",
          "2024-09-13T00:00:00",
          "2024-09-16T00:00:00",
          "2024-09-17T00:00:00",
          "2024-09-18T00:00:00",
          "2024-09-19T00:00:00",
          "2024-09-20T00:00:00",
          "2024-09-23T00:00:00",
          "2024-09-24T00:00:00",
          "2024-09-25T00:00:00",
          "2024-09-26T00:00:00",
          "2024-09-27T00:00:00",
          "2024-09-30T00:00:00",
          "2024-10-01T00:00:00",
          "2024-10-02T00:00:00",
          "2024-10-03T00:00:00",
          "2024-10-04T00:00:00",
          "2024-10-07T00:00:00",
          "2024-10-08T00:00:00",
          "2024-10-09T00:00:00",
          "2024-10-10T00:00:00",
          "2024-10-11T00:00:00",
          "2024-10-14T00:00:00",
          "2024-10-15T00:00:00",
          "2024-10-16T00:00:00",
          "2024-10-17T00:00:00",
          "2024-10-18T00:00:00",
          "2024-10-21T00:00:00",
          "2024-10-22T00:00:00",
          "2024-10-23T00:00:00",
          "2024-10-24T00:00:00",
          "2024-10-25T00:00:00",
          "2024-10-28T00:00:00",
          "2024-10-29T00:00:00",
          "2024-10-30T00:00:00",
          "2024-10-31T00:00:00",
          "2024-11-01T00:00:00",
          "2024-11-04T00:00:00",
          "2024-11-05T00:00:00",
          "2024-11-06T00:00:00",
          "2024-11-07T00:00:00",
          "2024-11-08T00:00:00",
          "2024-11-11T00:00:00",
          "2024-11-12T00:00:00",
          "2024-11-13T00:00:00",
          "2024-11-14T00:00:00",
          "2024-11-15T00:00:00",
          "2024-11-18T00:00:00",
          "2024-11-19T00:00:00",
          "2024-11-20T00:00:00",
          "2024-11-21T00:00:00",
          "2024-11-22T00:00:00",
          "2024-11-25T00:00:00",
          "2024-11-26T00:00:00",
          "2024-11-27T00:00:00",
          "2024-11-29T00:00:00",
          "2024-12-02T00:00:00",
          "2024-12-03T00:00:00",
          "2024-12-04T00:00:00",
          "2024-12-05T00:00:00",
          "2024-12-06T00:00:00",
          "2024-12-09T00:00:00",
          "2024-12-10T00:00:00",
          "2024-12-11T00:00:00",
          "2024-12-12T00:00:00",
          "2024-12-13T00:00:00",
          "2024-12-16T00:00:00",
          "2024-12-17T00:00:00",
          "2024-12-18T00:00:00",
          "2024-12-19T00:00:00",
          "2024-12-20T00:00:00",
          "2024-12-23T00:00:00",
          "2024-12-24T00:00:00",
          "2024-12-26T00:00:00",
          "2024-12-27T00:00:00",
          "2024-12-30T00:00:00",
          "2024-12-31T00:00:00",
          "2025-01-02T00:00:00",
          "2025-01-03T00:00:00",
          "2025-01-06T00:00:00",
          "2025-01-07T00:00:00",
          "2025-01-08T00:00:00",
          "2025-01-10T00:00:00",
          "2025-01-13T00:00:00",
          "2025-01-14T00:00:00",
          "2025-01-15T00:00:00",
          "2025-01-16T00:00:00",
          "2025-01-17T00:00:00",
          "2025-01-21T00:00:00",
          "2025-01-22T00:00:00",
          "2025-01-23T00:00:00",
          "2025-01-24T00:00:00",
          "2025-01-27T00:00:00",
          "2025-01-28T00:00:00",
          "2025-01-29T00:00:00",
          "2025-01-30T00:00:00",
          "2025-01-31T00:00:00",
          "2025-02-03T00:00:00",
          "2025-02-04T00:00:00",
          "2025-02-05T00:00:00",
          "2025-02-06T00:00:00",
          "2025-02-07T00:00:00",
          "2025-02-10T00:00:00",
          "2025-02-11T00:00:00",
          "2025-02-12T00:00:00",
          "2025-02-13T00:00:00",
          "2025-02-14T00:00:00",
          "2025-02-18T00:00:00",
          "2025-02-19T00:00:00",
          "2025-02-20T00:00:00",
          "2025-02-21T00:00:00",
          "2025-02-24T00:00:00",
          "2025-02-25T00:00:00",
          "2025-02-26T00:00:00",
          "2025-02-27T00:00:00",
          "2025-02-28T00:00:00",
          "2025-03-03T00:00:00",
          "2025-03-04T00:00:00",
          "2025-03-05T00:00:00",
          "2025-03-06T00:00:00",
          "2025-03-07T00:00:00",
          "2025-03-10T00:00:00",
          "2025-03-11T00:00:00",
          "2025-03-12T00:00:00",
          "2025-03-13T00:00:00",
          "2025-03-14T00:00:00",
          "2025-03-17T00:00:00",
          "2025-03-18T00:00:00",
          "2025-03-19T00:00:00",
          "2025-03-20T00:00:00",
          "2025-03-21T00:00:00",
          "2025-03-24T00:00:00",
          "2025-03-25T00:00:00",
          "2025-03-26T00:00:00",
          "2025-03-27T00:00:00",
          "2025-03-28T00:00:00",
          "2025-03-31T00:00:00",
          "2025-04-01T00:00:00",
          "2025-04-02T00:00:00",
          "2025-04-03T00:00:00",
          "2025-04-04T00:00:00",
          "2025-04-07T00:00:00",
          "2025-04-08T00:00:00",
          "2025-04-09T00:00:00",
          "2025-04-10T00:00:00",
          "2025-04-11T00:00:00",
          "2025-04-14T00:00:00",
          "2025-04-15T00:00:00",
          "2025-04-16T00:00:00",
          "2025-04-17T00:00:00",
          "2025-04-21T00:00:00",
          "2025-04-22T00:00:00",
          "2025-04-23T00:00:00",
          "2025-04-24T00:00:00",
          "2025-04-25T00:00:00",
          "2025-04-28T00:00:00",
          "2025-04-29T00:00:00",
          "2025-04-30T00:00:00",
          "2025-05-01T00:00:00",
          "2025-05-02T00:00:00",
          "2025-05-05T00:00:00",
          "2025-05-06T00:00:00",
          "2025-05-07T00:00:00",
          "2025-05-08T00:00:00",
          "2025-05-09T00:00:00",
          "2025-05-12T00:00:00",
          "2025-05-13T00:00:00",
          "2025-05-14T00:00:00",
          "2025-05-15T00:00:00",
          "2025-05-16T00:00:00",
          "2025-05-19T00:00:00",
          "2025-05-20T00:00:00",
          "2025-05-21T00:00:00",
          "2025-05-22T00:00:00",
          "2025-05-23T00:00:00",
          "2025-05-27T00:00:00",
          "2025-05-28T00:00:00",
          "2025-05-29T00:00:00",
          "2025-05-30T00:00:00",
          "2025-06-02T00:00:00",
          "2025-06-03T00:00:00",
          "2025-06-04T00:00:00",
          "2025-06-05T00:00:00",
          "2025-06-06T00:00:00",
          "2025-06-09T00:00:00",
          "2025-06-10T00:00:00",
          "2025-06-11T00:00:00",
          "2025-06-12T00:00:00",
          "2025-06-13T00:00:00",
          "2025-06-16T00:00:00",
          "2025-06-17T00:00:00",
          "2025-06-18T00:00:00",
          "2025-06-20T00:00:00",
          "2025-06-23T00:00:00",
          "2025-06-24T00:00:00",
          "2025-06-25T00:00:00",
          "2025-06-26T00:00:00",
          "2025-06-27T00:00:00",
          "2025-06-30T00:00:00",
          "2025-07-01T00:00:00",
          "2025-07-02T00:00:00",
          "2025-07-03T00:00:00",
          "2025-07-07T00:00:00",
          "2025-07-08T00:00:00",
          "2025-07-09T00:00:00",
          "2025-07-10T00:00:00",
          "2025-07-11T00:00:00",
          "2025-07-14T00:00:00",
          "2025-07-15T00:00:00",
          "2025-07-16T00:00:00",
          "2025-07-17T00:00:00",
          "2025-07-18T00:00:00",
          "2025-07-21T00:00:00",
          "2025-07-22T00:00:00",
          "2025-07-23T00:00:00",
          "2025-07-24T00:00:00",
          "2025-07-25T00:00:00",
          "2025-07-28T00:00:00",
          "2025-07-29T00:00:00",
          "2025-07-30T00:00:00",
          "2025-07-31T00:00:00",
          "2025-08-01T00:00:00",
          "2025-08-04T00:00:00",
          "2025-08-05T00:00:00",
          "2025-08-06T00:00:00",
          "2025-08-07T00:00:00",
          "2025-08-08T00:00:00",
          "2025-08-11T00:00:00",
          "2025-08-12T00:00:00",
          "2025-08-13T00:00:00",
          "2025-08-14T00:00:00",
          "2025-08-15T00:00:00"
         ],
         "y": {
          "bdata": "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",
          "dtype": "f8"
         }
        },
        {
         "customdata": {
          "bdata": "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",
          "dtype": "f8",
          "shape": "502, 4"
         },
         "hovertemplate": "<b>Date:</b> %{x}<br><b>Close Price:</b> %{customdata[0]}<br><b>MACD:</b> %{y}<br><b>MACD Signal:</b> %{customdata[1]}<br><b>MACD Histogram:</b> %{customdata[2]}",
         "marker": {
          "color": "rgba(0, 0, 255, 0.5)"
         },
         "name": "MACD Histogram",
         "opacity": 0.5,
         "type": "bar",
         "x": [
          "2023-08-16T00:00:00",
          "2023-08-17T00:00:00",
          "2023-08-18T00:00:00",
          "2023-08-21T00:00:00",
          "2023-08-22T00:00:00",
          "2023-08-23T00:00:00",
          "2023-08-24T00:00:00",
          "2023-08-25T00:00:00",
          "2023-08-28T00:00:00",
          "2023-08-29T00:00:00",
          "2023-08-30T00:00:00",
          "2023-08-31T00:00:00",
          "2023-09-01T00:00:00",
          "2023-09-05T00:00:00",
          "2023-09-06T00:00:00",
          "2023-09-07T00:00:00",
          "2023-09-08T00:00:00",
          "2023-09-11T00:00:00",
          "2023-09-12T00:00:00",
          "2023-09-13T00:00:00",
          "2023-09-14T00:00:00",
          "2023-09-15T00:00:00",
          "2023-09-18T00:00:00",
          "2023-09-19T00:00:00",
          "2023-09-20T00:00:00",
          "2023-09-21T00:00:00",
          "2023-09-22T00:00:00",
          "2023-09-25T00:00:00",
          "2023-09-26T00:00:00",
          "2023-09-27T00:00:00",
          "2023-09-28T00:00:00",
          "2023-09-29T00:00:00",
          "2023-10-02T00:00:00",
          "2023-10-03T00:00:00",
          "2023-10-04T00:00:00",
          "2023-10-05T00:00:00",
          "2023-10-06T00:00:00",
          "2023-10-09T00:00:00",
          "2023-10-10T00:00:00",
          "2023-10-11T00:00:00",
          "2023-10-12T00:00:00",
          "2023-10-13T00:00:00",
          "2023-10-16T00:00:00",
          "2023-10-17T00:00:00",
          "2023-10-18T00:00:00",
          "2023-10-19T00:00:00",
          "2023-10-20T00:00:00",
          "2023-10-23T00:00:00",
          "2023-10-24T00:00:00",
          "2023-10-25T00:00:00",
          "2023-10-26T00:00:00",
          "2023-10-27T00:00:00",
          "2023-10-30T00:00:00",
          "2023-10-31T00:00:00",
          "2023-11-01T00:00:00",
          "2023-11-02T00:00:00",
          "2023-11-03T00:00:00",
          "2023-11-06T00:00:00",
          "2023-11-07T00:00:00",
          "2023-11-08T00:00:00",
          "2023-11-09T00:00:00",
          "2023-11-10T00:00:00",
          "2023-11-13T00:00:00",
          "2023-11-14T00:00:00",
          "2023-11-15T00:00:00",
          "2023-11-16T00:00:00",
          "2023-11-17T00:00:00",
          "2023-11-20T00:00:00",
          "2023-11-21T00:00:00",
          "2023-11-22T00:00:00",
          "2023-11-24T00:00:00",
          "2023-11-27T00:00:00",
          "2023-11-28T00:00:00",
          "2023-11-29T00:00:00",
          "2023-11-30T00:00:00",
          "2023-12-01T00:00:00",
          "2023-12-04T00:00:00",
          "2023-12-05T00:00:00",
          "2023-12-06T00:00:00",
          "2023-12-07T00:00:00",
          "2023-12-08T00:00:00",
          "2023-12-11T00:00:00",
          "2023-12-12T00:00:00",
          "2023-12-13T00:00:00",
          "2023-12-14T00:00:00",
          "2023-12-15T00:00:00",
          "2023-12-18T00:00:00",
          "2023-12-19T00:00:00",
          "2023-12-20T00:00:00",
          "2023-12-21T00:00:00",
          "2023-12-22T00:00:00",
          "2023-12-26T00:00:00",
          "2023-12-27T00:00:00",
          "2023-12-28T00:00:00",
          "2023-12-29T00:00:00",
          "2024-01-02T00:00:00",
          "2024-01-03T00:00:00",
          "2024-01-04T00:00:00",
          "2024-01-05T00:00:00",
          "2024-01-08T00:00:00",
          "2024-01-09T00:00:00",
          "2024-01-10T00:00:00",
          "2024-01-11T00:00:00",
          "2024-01-12T00:00:00",
          "2024-01-16T00:00:00",
          "2024-01-17T00:00:00",
          "2024-01-18T00:00:00",
          "2024-01-19T00:00:00",
          "2024-01-22T00:00:00",
          "2024-01-23T00:00:00",
          "2024-01-24T00:00:00",
          "2024-01-25T00:00:00",
          "2024-01-26T00:00:00",
          "2024-01-29T00:00:00",
          "2024-01-30T00:00:00",
          "2024-01-31T00:00:00",
          "2024-02-01T00:00:00",
          "2024-02-02T00:00:00",
          "2024-02-05T00:00:00",
          "2024-02-06T00:00:00",
          "2024-02-07T00:00:00",
          "2024-02-08T00:00:00",
          "2024-02-09T00:00:00",
          "2024-02-12T00:00:00",
          "2024-02-13T00:00:00",
          "2024-02-14T00:00:00",
          "2024-02-15T00:00:00",
          "2024-02-16T00:00:00",
          "2024-02-20T00:00:00",
          "2024-02-21T00:00:00",
          "2024-02-22T00:00:00",
          "2024-02-23T00:00:00",
          "2024-02-26T00:00:00",
          "2024-02-27T00:00:00",
          "2024-02-28T00:00:00",
          "2024-02-29T00:00:00",
          "2024-03-01T00:00:00",
          "2024-03-04T00:00:00",
          "2024-03-05T00:00:00",
          "2024-03-06T00:00:00",
          "2024-03-07T00:00:00",
          "2024-03-08T00:00:00",
          "2024-03-11T00:00:00",
          "2024-03-12T00:00:00",
          "2024-03-13T00:00:00",
          "2024-03-14T00:00:00",
          "2024-03-15T00:00:00",
          "2024-03-18T00:00:00",
          "2024-03-19T00:00:00",
          "2024-03-20T00:00:00",
          "2024-03-21T00:00:00",
          "2024-03-22T00:00:00",
          "2024-03-25T00:00:00",
          "2024-03-26T00:00:00",
          "2024-03-27T00:00:00",
          "2024-03-28T00:00:00",
          "2024-04-01T00:00:00",
          "2024-04-02T00:00:00",
          "2024-04-03T00:00:00",
          "2024-04-04T00:00:00",
          "2024-04-05T00:00:00",
          "2024-04-08T00:00:00",
          "2024-04-09T00:00:00",
          "2024-04-10T00:00:00",
          "2024-04-11T00:00:00",
          "2024-04-12T00:00:00",
          "2024-04-15T00:00:00",
          "2024-04-16T00:00:00",
          "2024-04-17T00:00:00",
          "2024-04-18T00:00:00",
          "2024-04-19T00:00:00",
          "2024-04-22T00:00:00",
          "2024-04-23T00:00:00",
          "2024-04-24T00:00:00",
          "2024-04-25T00:00:00",
          "2024-04-26T00:00:00",
          "2024-04-29T00:00:00",
          "2024-04-30T00:00:00",
          "2024-05-01T00:00:00",
          "2024-05-02T00:00:00",
          "2024-05-03T00:00:00",
          "2024-05-06T00:00:00",
          "2024-05-07T00:00:00",
          "2024-05-08T00:00:00",
          "2024-05-09T00:00:00",
          "2024-05-10T00:00:00",
          "2024-05-13T00:00:00",
          "2024-05-14T00:00:00",
          "2024-05-15T00:00:00",
          "2024-05-16T00:00:00",
          "2024-05-17T00:00:00",
          "2024-05-20T00:00:00",
          "2024-05-21T00:00:00",
          "2024-05-22T00:00:00",
          "2024-05-23T00:00:00",
          "2024-05-24T00:00:00",
          "2024-05-28T00:00:00",
          "2024-05-29T00:00:00",
          "2024-05-30T00:00:00",
          "2024-05-31T00:00:00",
          "2024-06-03T00:00:00",
          "2024-06-04T00:00:00",
          "2024-06-05T00:00:00",
          "2024-06-06T00:00:00",
          "2024-06-07T00:00:00",
          "2024-06-10T00:00:00",
          "2024-06-11T00:00:00",
          "2024-06-12T00:00:00",
          "2024-06-13T00:00:00",
          "2024-06-14T00:00:00",
          "2024-06-17T00:00:00",
          "2024-06-18T00:00:00",
          "2024-06-20T00:00:00",
          "2024-06-21T00:00:00",
          "2024-06-24T00:00:00",
          "2024-06-25T00:00:00",
          "2024-06-26T00:00:00",
          "2024-06-27T00:00:00",
          "2024-06-28T00:00:00",
          "2024-07-01T00:00:00",
          "2024-07-02T00:00:00",
          "2024-07-03T00:00:00",
          "2024-07-05T00:00:00",
          "2024-07-08T00:00:00",
          "2024-07-09T00:00:00",
          "2024-07-10T00:00:00",
          "2024-07-11T00:00:00",
          "2024-07-12T00:00:00",
          "2024-07-15T00:00:00",
          "2024-07-16T00:00:00",
          "2024-07-17T00:00:00",
          "2024-07-18T00:00:00",
          "2024-07-19T00:00:00",
          "2024-07-22T00:00:00",
          "2024-07-23T00:00:00",
          "2024-07-24T00:00:00",
          "2024-07-25T00:00:00",
          "2024-07-26T00:00:00",
          "2024-07-29T00:00:00",
          "2024-07-30T00:00:00",
          "2024-07-31T00:00:00",
          "2024-08-01T00:00:00",
          "2024-08-02T00:00:00",
          "2024-08-05T00:00:00",
          "2024-08-06T00:00:00",
          "2024-08-07T00:00:00",
          "2024-08-08T00:00:00",
          "2024-08-09T00:00:00",
          "2024-08-12T00:00:00",
          "2024-08-13T00:00:00",
          "2024-08-14T00:00:00",
          "2024-08-15T00:00:00",
          "2024-08-16T00:00:00",
          "2024-08-19T00:00:00",
          "2024-08-20T00:00:00",
          "2024-08-21T00:00:00",
          "2024-08-22T00:00:00",
          "2024-08-23T00:00:00",
          "2024-08-26T00:00:00",
          "2024-08-27T00:00:00",
          "2024-08-28T00:00:00",
          "2024-08-29T00:00:00",
          "2024-08-30T00:00:00",
          "2024-09-03T00:00:00",
          "2024-09-04T00:00:00",
          "2024-09-05T00:00:00",
          "2024-09-06T00:00:00",
          "2024-09-09T00:00:00",
          "2024-09-10T00:00:00",
          "2024-09-11T00:00:00",
          "2024-09-12T00:00:00",
          "2024-09-13T00:00:00",
          "2024-09-16T00:00:00",
          "2024-09-17T00:00:00",
          "2024-09-18T00:00:00",
          "2024-09-19T00:00:00",
          "2024-09-20T00:00:00",
          "2024-09-23T00:00:00",
          "2024-09-24T00:00:00",
          "2024-09-25T00:00:00",
          "2024-09-26T00:00:00",
          "2024-09-27T00:00:00",
          "2024-09-30T00:00:00",
          "2024-10-01T00:00:00",
          "2024-10-02T00:00:00",
          "2024-10-03T00:00:00",
          "2024-10-04T00:00:00",
          "2024-10-07T00:00:00",
          "2024-10-08T00:00:00",
          "2024-10-09T00:00:00",
          "2024-10-10T00:00:00",
          "2024-10-11T00:00:00",
          "2024-10-14T00:00:00",
          "2024-10-15T00:00:00",
          "2024-10-16T00:00:00",
          "2024-10-17T00:00:00",
          "2024-10-18T00:00:00",
          "2024-10-21T00:00:00",
          "2024-10-22T00:00:00",
          "2024-10-23T00:00:00",
          "2024-10-24T00:00:00",
          "2024-10-25T00:00:00",
          "2024-10-28T00:00:00",
          "2024-10-29T00:00:00",
          "2024-10-30T00:00:00",
          "2024-10-31T00:00:00",
          "2024-11-01T00:00:00",
          "2024-11-04T00:00:00",
          "2024-11-05T00:00:00",
          "2024-11-06T00:00:00",
          "2024-11-07T00:00:00",
          "2024-11-08T00:00:00",
          "2024-11-11T00:00:00",
          "2024-11-12T00:00:00",
          "2024-11-13T00:00:00",
          "2024-11-14T00:00:00",
          "2024-11-15T00:00:00",
          "2024-11-18T00:00:00",
          "2024-11-19T00:00:00",
          "2024-11-20T00:00:00",
          "2024-11-21T00:00:00",
          "2024-11-22T00:00:00",
          "2024-11-25T00:00:00",
          "2024-11-26T00:00:00",
          "2024-11-27T00:00:00",
          "2024-11-29T00:00:00",
          "2024-12-02T00:00:00",
          "2024-12-03T00:00:00",
          "2024-12-04T00:00:00",
          "2024-12-05T00:00:00",
          "2024-12-06T00:00:00",
          "2024-12-09T00:00:00",
          "2024-12-10T00:00:00",
          "2024-12-11T00:00:00",
          "2024-12-12T00:00:00",
          "2024-12-13T00:00:00",
          "2024-12-16T00:00:00",
          "2024-12-17T00:00:00",
          "2024-12-18T00:00:00",
          "2024-12-19T00:00:00",
          "2024-12-20T00:00:00",
          "2024-12-23T00:00:00",
          "2024-12-24T00:00:00",
          "2024-12-26T00:00:00",
          "2024-12-27T00:00:00",
          "2024-12-30T00:00:00",
          "2024-12-31T00:00:00",
          "2025-01-02T00:00:00",
          "2025-01-03T00:00:00",
          "2025-01-06T00:00:00",
          "2025-01-07T00:00:00",
          "2025-01-08T00:00:00",
          "2025-01-10T00:00:00",
          "2025-01-13T00:00:00",
          "2025-01-14T00:00:00",
          "2025-01-15T00:00:00",
          "2025-01-16T00:00:00",
          "2025-01-17T00:00:00",
          "2025-01-21T00:00:00",
          "2025-01-22T00:00:00",
          "2025-01-23T00:00:00",
          "2025-01-24T00:00:00",
          "2025-01-27T00:00:00",
          "2025-01-28T00:00:00",
          "2025-01-29T00:00:00",
          "2025-01-30T00:00:00",
          "2025-01-31T00:00:00",
          "2025-02-03T00:00:00",
          "2025-02-04T00:00:00",
          "2025-02-05T00:00:00",
          "2025-02-06T00:00:00",
          "2025-02-07T00:00:00",
          "2025-02-10T00:00:00",
          "2025-02-11T00:00:00",
          "2025-02-12T00:00:00",
          "2025-02-13T00:00:00",
          "2025-02-14T00:00:00",
          "2025-02-18T00:00:00",
          "2025-02-19T00:00:00",
          "2025-02-20T00:00:00",
          "2025-02-21T00:00:00",
          "2025-02-24T00:00:00",
          "2025-02-25T00:00:00",
          "2025-02-26T00:00:00",
          "2025-02-27T00:00:00",
          "2025-02-28T00:00:00",
          "2025-03-03T00:00:00",
          "2025-03-04T00:00:00",
          "2025-03-05T00:00:00",
          "2025-03-06T00:00:00",
          "2025-03-07T00:00:00",
          "2025-03-10T00:00:00",
          "2025-03-11T00:00:00",
          "2025-03-12T00:00:00",
          "2025-03-13T00:00:00",
          "2025-03-14T00:00:00",
          "2025-03-17T00:00:00",
          "2025-03-18T00:00:00",
          "2025-03-19T00:00:00",
          "2025-03-20T00:00:00",
          "2025-03-21T00:00:00",
          "2025-03-24T00:00:00",
          "2025-03-25T00:00:00",
          "2025-03-26T00:00:00",
          "2025-03-27T00:00:00",
          "2025-03-28T00:00:00",
          "2025-03-31T00:00:00",
          "2025-04-01T00:00:00",
          "2025-04-02T00:00:00",
          "2025-04-03T00:00:00",
          "2025-04-04T00:00:00",
          "2025-04-07T00:00:00",
          "2025-04-08T00:00:00",
          "2025-04-09T00:00:00",
          "2025-04-10T00:00:00",
          "2025-04-11T00:00:00",
          "2025-04-14T00:00:00",
          "2025-04-15T00:00:00",
          "2025-04-16T00:00:00",
          "2025-04-17T00:00:00",
          "2025-04-21T00:00:00",
          "2025-04-22T00:00:00",
          "2025-04-23T00:00:00",
          "2025-04-24T00:00:00",
          "2025-04-25T00:00:00",
          "2025-04-28T00:00:00",
          "2025-04-29T00:00:00",
          "2025-04-30T00:00:00",
          "2025-05-01T00:00:00",
          "2025-05-02T00:00:00",
          "2025-05-05T00:00:00",
          "2025-05-06T00:00:00",
          "2025-05-07T00:00:00",
          "2025-05-08T00:00:00",
          "2025-05-09T00:00:00",
          "2025-05-12T00:00:00",
          "2025-05-13T00:00:00",
          "2025-05-14T00:00:00",
          "2025-05-15T00:00:00",
          "2025-05-16T00:00:00",
          "2025-05-19T00:00:00",
          "2025-05-20T00:00:00",
          "2025-05-21T00:00:00",
          "2025-05-22T00:00:00",
          "2025-05-23T00:00:00",
          "2025-05-27T00:00:00",
          "2025-05-28T00:00:00",
          "2025-05-29T00:00:00",
          "2025-05-30T00:00:00",
          "2025-06-02T00:00:00",
          "2025-06-03T00:00:00",
          "2025-06-04T00:00:00",
          "2025-06-05T00:00:00",
          "2025-06-06T00:00:00",
          "2025-06-09T00:00:00",
          "2025-06-10T00:00:00",
          "2025-06-11T00:00:00",
          "2025-06-12T00:00:00",
          "2025-06-13T00:00:00",
          "2025-06-16T00:00:00",
          "2025-06-17T00:00:00",
          "2025-06-18T00:00:00",
          "2025-06-20T00:00:00",
          "2025-06-23T00:00:00",
          "2025-06-24T00:00:00",
          "2025-06-25T00:00:00",
          "2025-06-26T00:00:00",
          "2025-06-27T00:00:00",
          "2025-06-30T00:00:00",
          "2025-07-01T00:00:00",
          "2025-07-02T00:00:00",
          "2025-07-03T00:00:00",
          "2025-07-07T00:00:00",
          "2025-07-08T00:00:00",
          "2025-07-09T00:00:00",
          "2025-07-10T00:00:00",
          "2025-07-11T00:00:00",
          "2025-07-14T00:00:00",
          "2025-07-15T00:00:00",
          "2025-07-16T00:00:00",
          "2025-07-17T00:00:00",
          "2025-07-18T00:00:00",
          "2025-07-21T00:00:00",
          "2025-07-22T00:00:00",
          "2025-07-23T00:00:00",
          "2025-07-24T00:00:00",
          "2025-07-25T00:00:00",
          "2025-07-28T00:00:00",
          "2025-07-29T00:00:00",
          "2025-07-30T00:00:00",
          "2025-07-31T00:00:00",
          "2025-08-01T00:00:00",
          "2025-08-04T00:00:00",
          "2025-08-05T00:00:00",
          "2025-08-06T00:00:00",
          "2025-08-07T00:00:00",
          "2025-08-08T00:00:00",
          "2025-08-11T00:00:00",
          "2025-08-12T00:00:00",
          "2025-08-13T00:00:00",
          "2025-08-14T00:00:00",
          "2025-08-15T00:00:00"
         ],
         "y": {
          "bdata": "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",
          "dtype": "f8"
         }
        }
       ],
       "layout": {
        "legend": {
         "bgcolor": "rgba(0,0,0,0)",
         "bordercolor": "rgba(0,0,0,0)",
         "orientation": "h",
         "title": {
          "text": "Legend"
         },
         "traceorder": "normal",
         "x": 0,
         "y": 1
        },
        "template": {
         "data": {
          "bar": [
           {
            "error_x": {
             "color": "#2a3f5f"
            },
            "error_y": {
             "color": "#2a3f5f"
            },
            "marker": {
             "line": {
              "color": "#E5ECF6",
              "width": 0.5
             },
             "pattern": {
              "fillmode": "overlay",
              "size": 10,
              "solidity": 0.2
             }
            },
            "type": "bar"
           }
          ],
          "barpolar": [
           {
            "marker": {
             "line": {
              "color": "#E5ECF6",
              "width": 0.5
             },
             "pattern": {
              "fillmode": "overlay",
              "size": 10,
              "solidity": 0.2
             }
            },
            "type": "barpolar"
           }
          ],
          "carpet": [
           {
            "aaxis": {
             "endlinecolor": "#2a3f5f",
             "gridcolor": "white",
             "linecolor": "white",
             "minorgridcolor": "white",
             "startlinecolor": "#2a3f5f"
            },
            "baxis": {
             "endlinecolor": "#2a3f5f",
             "gridcolor": "white",
             "linecolor": "white",
             "minorgridcolor": "white",
             "startlinecolor": "#2a3f5f"
            },
            "type": "carpet"
           }
          ],
          "choropleth": [
           {
            "colorbar": {
             "outlinewidth": 0,
             "ticks": ""
            },
            "type": "choropleth"
           }
          ],
          "contour": [
           {
            "colorbar": {
             "outlinewidth": 0,
             "ticks": ""
            },
            "colorscale": [
             [
              0,
              "#0d0887"
             ],
             [
              0.1111111111111111,
              "#46039f"
             ],
             [
              0.2222222222222222,
              "#7201a8"
             ],
             [
              0.3333333333333333,
              "#9c179e"
             ],
             [
              0.4444444444444444,
              "#bd3786"
             ],
             [
              0.5555555555555556,
              "#d8576b"
             ],
             [
              0.6666666666666666,
              "#ed7953"
             ],
             [
              0.7777777777777778,
              "#fb9f3a"
             ],
             [
              0.8888888888888888,
              "#fdca26"
             ],
             [
              1,
              "#f0f921"
             ]
            ],
            "type": "contour"
           }
          ],
          "contourcarpet": [
           {
            "colorbar": {
             "outlinewidth": 0,
             "ticks": ""
            },
            "type": "contourcarpet"
           }
          ],
          "heatmap": [
           {
            "colorbar": {
             "outlinewidth": 0,
             "ticks": ""
            },
            "colorscale": [
             [
              0,
              "#0d0887"
             ],
             [
              0.1111111111111111,
              "#46039f"
             ],
             [
              0.2222222222222222,
              "#7201a8"
             ],
             [
              0.3333333333333333,
              "#9c179e"
             ],
             [
              0.4444444444444444,
              "#bd3786"
             ],
             [
              0.5555555555555556,
              "#d8576b"
             ],
             [
              0.6666666666666666,
              "#ed7953"
             ],
             [
              0.7777777777777778,
              "#fb9f3a"
             ],
             [
              0.8888888888888888,
              "#fdca26"
             ],
             [
              1,
              "#f0f921"
             ]
            ],
            "type": "heatmap"
           }
          ],
          "histogram": [
           {
            "marker": {
             "pattern": {
              "fillmode": "overlay",
              "size": 10,
              "solidity": 0.2
             }
            },
            "type": "histogram"
           }
          ],
          "histogram2d": [
           {
            "colorbar": {
             "outlinewidth": 0,
             "ticks": ""
            },
            "colorscale": [
             [
              0,
              "#0d0887"
             ],
             [
              0.1111111111111111,
              "#46039f"
             ],
             [
              0.2222222222222222,
              "#7201a8"
             ],
             [
              0.3333333333333333,
              "#9c179e"
             ],
             [
              0.4444444444444444,
              "#bd3786"
             ],
             [
              0.5555555555555556,
              "#d8576b"
             ],
             [
              0.6666666666666666,
              "#ed7953"
             ],
             [
              0.7777777777777778,
              "#fb9f3a"
             ],
             [
              0.8888888888888888,
              "#fdca26"
             ],
             [
              1,
              "#f0f921"
             ]
            ],
            "type": "histogram2d"
           }
          ],
          "histogram2dcontour": [
           {
            "colorbar": {
             "outlinewidth": 0,
             "ticks": ""
            },
            "colorscale": [
             [
              0,
              "#0d0887"
             ],
             [
              0.1111111111111111,
              "#46039f"
             ],
             [
              0.2222222222222222,
              "#7201a8"
             ],
             [
              0.3333333333333333,
              "#9c179e"
             ],
             [
              0.4444444444444444,
              "#bd3786"
             ],
             [
              0.5555555555555556,
              "#d8576b"
             ],
             [
              0.6666666666666666,
              "#ed7953"
             ],
             [
              0.7777777777777778,
              "#fb9f3a"
             ],
             [
              0.8888888888888888,
              "#fdca26"
             ],
             [
              1,
              "#f0f921"
             ]
            ],
            "type": "histogram2dcontour"
           }
          ],
          "mesh3d": [
           {
            "colorbar": {
             "outlinewidth": 0,
             "ticks": ""
            },
            "type": "mesh3d"
           }
          ],
          "parcoords": [
           {
            "line": {
             "colorbar": {
              "outlinewidth": 0,
              "ticks": ""
             }
            },
            "type": "parcoords"
           }
          ],
          "pie": [
           {
            "automargin": true,
            "type": "pie"
           }
          ],
          "scatter": [
           {
            "fillpattern": {
             "fillmode": "overlay",
             "size": 10,
             "solidity": 0.2
            },
            "type": "scatter"
           }
          ],
          "scatter3d": [
           {
            "line": {
             "colorbar": {
              "outlinewidth": 0,
              "ticks": ""
             }
            },
            "marker": {
             "colorbar": {
              "outlinewidth": 0,
              "ticks": ""
             }
            },
            "type": "scatter3d"
           }
          ],
          "scattercarpet": [
           {
            "marker": {
             "colorbar": {
              "outlinewidth": 0,
              "ticks": ""
             }
            },
            "type": "scattercarpet"
           }
          ],
          "scattergeo": [
           {
            "marker": {
             "colorbar": {
              "outlinewidth": 0,
              "ticks": ""
             }
            },
            "type": "scattergeo"
           }
          ],
          "scattergl": [
           {
            "marker": {
             "colorbar": {
              "outlinewidth": 0,
              "ticks": ""
             }
            },
            "type": "scattergl"
           }
          ],
          "scattermap": [
           {
            "marker": {
             "colorbar": {
              "outlinewidth": 0,
              "ticks": ""
             }
            },
            "type": "scattermap"
           }
          ],
          "scattermapbox": [
           {
            "marker": {
             "colorbar": {
              "outlinewidth": 0,
              "ticks": ""
             }
            },
            "type": "scattermapbox"
           }
          ],
          "scatterpolar": [
           {
            "marker": {
             "colorbar": {
              "outlinewidth": 0,
              "ticks": ""
             }
            },
            "type": "scatterpolar"
           }
          ],
          "scatterpolargl": [
           {
            "marker": {
             "colorbar": {
              "outlinewidth": 0,
              "ticks": ""
             }
            },
            "type": "scatterpolargl"
           }
          ],
          "scatterternary": [
           {
            "marker": {
             "colorbar": {
              "outlinewidth": 0,
              "ticks": ""
             }
            },
            "type": "scatterternary"
           }
          ],
          "surface": [
           {
            "colorbar": {
             "outlinewidth": 0,
             "ticks": ""
            },
            "colorscale": [
             [
              0,
              "#0d0887"
             ],
             [
              0.1111111111111111,
              "#46039f"
             ],
             [
              0.2222222222222222,
              "#7201a8"
             ],
             [
              0.3333333333333333,
              "#9c179e"
             ],
             [
              0.4444444444444444,
              "#bd3786"
             ],
             [
              0.5555555555555556,
              "#d8576b"
             ],
             [
              0.6666666666666666,
              "#ed7953"
             ],
             [
              0.7777777777777778,
              "#fb9f3a"
             ],
             [
              0.8888888888888888,
              "#fdca26"
             ],
             [
              1,
              "#f0f921"
             ]
            ],
            "type": "surface"
           }
          ],
          "table": [
           {
            "cells": {
             "fill": {
              "color": "#EBF0F8"
             },
             "line": {
              "color": "white"
             }
            },
            "header": {
             "fill": {
              "color": "#C8D4E3"
             },
             "line": {
              "color": "white"
             }
            },
            "type": "table"
           }
          ]
         },
         "layout": {
          "annotationdefaults": {
           "arrowcolor": "#2a3f5f",
           "arrowhead": 0,
           "arrowwidth": 1
          },
          "autotypenumbers": "strict",
          "coloraxis": {
           "colorbar": {
            "outlinewidth": 0,
            "ticks": ""
           }
          },
          "colorscale": {
           "diverging": [
            [
             0,
             "#8e0152"
            ],
            [
             0.1,
             "#c51b7d"
            ],
            [
             0.2,
             "#de77ae"
            ],
            [
             0.3,
             "#f1b6da"
            ],
            [
             0.4,
             "#fde0ef"
            ],
            [
             0.5,
             "#f7f7f7"
            ],
            [
             0.6,
             "#e6f5d0"
            ],
            [
             0.7,
             "#b8e186"
            ],
            [
             0.8,
             "#7fbc41"
            ],
            [
             0.9,
             "#4d9221"
            ],
            [
             1,
             "#276419"
            ]
           ],
           "sequential": [
            [
             0,
             "#0d0887"
            ],
            [
             0.1111111111111111,
             "#46039f"
            ],
            [
             0.2222222222222222,
             "#7201a8"
            ],
            [
             0.3333333333333333,
             "#9c179e"
            ],
            [
             0.4444444444444444,
             "#bd3786"
            ],
            [
             0.5555555555555556,
             "#d8576b"
            ],
            [
             0.6666666666666666,
             "#ed7953"
            ],
            [
             0.7777777777777778,
             "#fb9f3a"
            ],
            [
             0.8888888888888888,
             "#fdca26"
            ],
            [
             1,
             "#f0f921"
            ]
           ],
           "sequentialminus": [
            [
             0,
             "#0d0887"
            ],
            [
             0.1111111111111111,
             "#46039f"
            ],
            [
             0.2222222222222222,
             "#7201a8"
            ],
            [
             0.3333333333333333,
             "#9c179e"
            ],
            [
             0.4444444444444444,
             "#bd3786"
            ],
            [
             0.5555555555555556,
             "#d8576b"
            ],
            [
             0.6666666666666666,
             "#ed7953"
            ],
            [
             0.7777777777777778,
             "#fb9f3a"
            ],
            [
             0.8888888888888888,
             "#fdca26"
            ],
            [
             1,
             "#f0f921"
            ]
           ]
          },
          "colorway": [
           "#636efa",
           "#EF553B",
           "#00cc96",
           "#ab63fa",
           "#FFA15A",
           "#19d3f3",
           "#FF6692",
           "#B6E880",
           "#FF97FF",
           "#FECB52"
          ],
          "font": {
           "color": "#2a3f5f"
          },
          "geo": {
           "bgcolor": "white",
           "lakecolor": "white",
           "landcolor": "#E5ECF6",
           "showlakes": true,
           "showland": true,
           "subunitcolor": "white"
          },
          "hoverlabel": {
           "align": "left"
          },
          "hovermode": "closest",
          "mapbox": {
           "style": "light"
          },
          "paper_bgcolor": "white",
          "plot_bgcolor": "#E5ECF6",
          "polar": {
           "angularaxis": {
            "gridcolor": "white",
            "linecolor": "white",
            "ticks": ""
           },
           "bgcolor": "#E5ECF6",
           "radialaxis": {
            "gridcolor": "white",
            "linecolor": "white",
            "ticks": ""
           }
          },
          "scene": {
           "xaxis": {
            "backgroundcolor": "#E5ECF6",
            "gridcolor": "white",
            "gridwidth": 2,
            "linecolor": "white",
            "showbackground": true,
            "ticks": "",
            "zerolinecolor": "white"
           },
           "yaxis": {
            "backgroundcolor": "#E5ECF6",
            "gridcolor": "white",
            "gridwidth": 2,
            "linecolor": "white",
            "showbackground": true,
            "ticks": "",
            "zerolinecolor": "white"
           },
           "zaxis": {
            "backgroundcolor": "#E5ECF6",
            "gridcolor": "white",
            "gridwidth": 2,
            "linecolor": "white",
            "showbackground": true,
            "ticks": "",
            "zerolinecolor": "white"
           }
          },
          "shapedefaults": {
           "line": {
            "color": "#2a3f5f"
           }
          },
          "ternary": {
           "aaxis": {
            "gridcolor": "white",
            "linecolor": "white",
            "ticks": ""
           },
           "baxis": {
            "gridcolor": "white",
            "linecolor": "white",
            "ticks": ""
           },
           "bgcolor": "#E5ECF6",
           "caxis": {
            "gridcolor": "white",
            "linecolor": "white",
            "ticks": ""
           }
          },
          "title": {
           "x": 0.05
          },
          "xaxis": {
           "automargin": true,
           "gridcolor": "white",
           "linecolor": "white",
           "ticks": "",
           "title": {
            "standoff": 15
           },
           "zerolinecolor": "white",
           "zerolinewidth": 2
          },
          "yaxis": {
           "automargin": true,
           "gridcolor": "white",
           "linecolor": "white",
           "ticks": "",
           "title": {
            "standoff": 15
           },
           "zerolinecolor": "white",
           "zerolinewidth": 2
          }
         }
        },
        "title": {
         "text": "AAPL MACD (Full History)"
        },
        "xaxis": {
         "rangeslider": {
          "visible": true
         },
         "title": {
          "text": "Date"
         }
        },
        "yaxis": {
         "title": {
          "text": "MACD"
         }
        }
       }
      }
     },
     "metadata": {},
     "output_type": "display_data"
    }
   ],
   "source": [
    "ma.plot_MACD(price_history, ticker)"
   ]
  },
  {
   "cell_type": "markdown",
   "id": "fdec6f25",
   "metadata": {},
   "source": [
    "![MACD Chart](MACD_chart.png)"
   ]
  },
  {
   "cell_type": "markdown",
   "id": "9ba42fa3",
   "metadata": {},
   "source": []
  }
 ],
 "metadata": {
  "kernelspec": {
   "display_name": ".venv",
   "language": "python",
   "name": "python3"
  },
  "language_info": {
   "codemirror_mode": {
    "name": "ipython",
    "version": 3
   },
   "file_extension": ".py",
   "mimetype": "text/x-python",
   "name": "python",
   "nbconvert_exporter": "python",
   "pygments_lexer": "ipython3",
   "version": "3.13.5"
  }
 },
 "nbformat": 4,
 "nbformat_minor": 5
}
